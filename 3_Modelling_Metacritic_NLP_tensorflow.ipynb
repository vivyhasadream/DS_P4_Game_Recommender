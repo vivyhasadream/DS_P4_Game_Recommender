{
 "cells": [
  {
   "cell_type": "code",
   "execution_count": 79,
   "metadata": {},
   "outputs": [],
   "source": [
    "import numpy as np\n",
    "import pandas as pd\n",
    "import matplotlib.pyplot as plt\n",
    "from sklearn.model_selection import train_test_split\n",
    "import nltk\n",
    "from nltk.tokenize import regexp_tokenize, word_tokenize, RegexpTokenizer\n",
    "from nltk.corpus import stopwords, wordnet\n",
    "from nltk import pos_tag\n",
    "from nltk.stem import WordNetLemmatizer\n",
    "from sklearn.ensemble import RandomForestClassifier\n",
    "from sklearn.naive_bayes import MultinomialNB\n",
    "from sklearn.metrics import accuracy_score, precision_score, confusion_matrix, plot_confusion_matrix, classification_report, plot_roc_curve, roc_auc_score\n",
    "from sklearn.pipeline import Pipeline\n",
    "from sklearn.base import BaseEstimator, TransformerMixin\n",
    "from sklearn.feature_extraction.text import TfidfVectorizer, CountVectorizer\n",
    "\n",
    "import tensorflow as tf\n",
    "from tensorflow import keras\n",
    "from tensorflow.keras import layers\n",
    "from tensorflow.keras.models import Sequential\n",
    "from tensorflow.keras.layers import Dense, Dropout\n",
    "from tensorflow.keras.callbacks import EarlyStopping\n",
    "from tensorflow.keras.utils import to_categorical\n",
    "from tensorflow.keras.optimizers import Adam\n",
    "from tensorflow.keras.regularizers import L2"
   ]
  },
  {
   "cell_type": "markdown",
   "metadata": {},
   "source": [
    "# Define Func"
   ]
  },
  {
   "cell_type": "code",
   "execution_count": 138,
   "metadata": {},
   "outputs": [],
   "source": [
    "# additional argument sets cut off minimum length for tokenized text at which function converts to null string.\n",
    "def process_text(text, min_length):\n",
    "\n",
    "    # drop non-english words\n",
    "    words = set(nltk.corpus.words.words())\n",
    "    # \" \".join(w for w in nltk.wordpunct_tokenize(text) if w.lower() in words or not w.isalpha())\n",
    "\n",
    "    # get common stop words that we'll remove during tokenization/text normalization\n",
    "    stop_words = stopwords.words('english')\n",
    "\n",
    "    #initialize lemmatizer\n",
    "    wnl = WordNetLemmatizer()\n",
    "\n",
    "    # helper function to change nltk's part of speech tagging to a wordnet format.\n",
    "    def pos_tagger(nltk_tag):\n",
    "        if nltk_tag.startswith('J'):\n",
    "            return wordnet.ADJ\n",
    "        elif nltk_tag.startswith('V'):\n",
    "            return wordnet.VERB\n",
    "        elif nltk_tag.startswith('N'):\n",
    "            return wordnet.NOUN\n",
    "        elif nltk_tag.startswith('R'):\n",
    "            return wordnet.ADV\n",
    "        else:         \n",
    "            return None\n",
    "   \n",
    "\n",
    "    # lower case everything\n",
    "    text_lower = text.lower()\n",
    "    \n",
    "    # remove stop words and punctuations \n",
    "    text_norm = [x for x in word_tokenize(text_lower) if ((x.isalpha()) & (x not in stop_words) & (x in words)) ]\n",
    "\n",
    "    #  POS detection on the result will be important in telling Wordnet's lemmatizer how to lemmatize\n",
    "    \n",
    "    # creates list of tuples with tokens and POS tags in wordnet format\n",
    "    wordnet_tagged = list(map(lambda x: (x[0], pos_tagger(x[1])), pos_tag(text_norm))) \n",
    "\n",
    "    # now we are going to have a cutoff here. any tokenized cocument with length < min length will be removed from corpus\n",
    "    if len(wordnet_tagged) <= min_length:\n",
    "        return ''\n",
    "    else:\n",
    "         # rejoins lemmatized sentence \n",
    "         text_norm = \" \".join([wnl.lemmatize(x[0], x[1]) for x in wordnet_tagged if x[1] is not None])\n",
    "         return text_norm"
   ]
  },
  {
   "cell_type": "code",
   "execution_count": 84,
   "metadata": {},
   "outputs": [],
   "source": [
    "def visualize_training_results(results):\n",
    "    history = results.history\n",
    "\n",
    "    fig, (ax1, ax2) = plt.subplots(1, 2, figsize=(10,4))\n",
    "    # fig.suptitle('Horizontally stacked subplots')\n",
    "\n",
    "    ax1.plot(history['accuracy'])\n",
    "    ax1.plot(history['loss'])\n",
    "    ax1.legend(['accuracy', 'loss'])\n",
    "    ax1.set_title('Loss')\n",
    "    ax1.set_xlabel('Epochs')\n",
    "    ax1.set_ylabel('Loss')\n",
    "\n",
    "    ax2.plot(history['val_accuracy'])\n",
    "    ax2.plot(history['accuracy'])\n",
    "    ax2.legend(['val_accuracy', 'accuracy'])\n",
    "    ax2.set_title('Accuracy')\n",
    "    ax2.set_xlabel('Epochs')\n",
    "    ax2.set_ylabel('Accuracy');"
   ]
  },
  {
   "cell_type": "code",
   "execution_count": 56,
   "metadata": {},
   "outputs": [],
   "source": [
    "def heatmap_predicted_results(X_test, y_test, model):\n",
    "    y_predicted = model.predict(X_test) > 0.5\n",
    "    mat = confusion_matrix(y_test, y_predicted)\n",
    "\n",
    "    fig, ax = plt.subplots(figsize=(6,4))\n",
    "    sns.heatmap(mat, square=True, annot=True, fmt='d', cbar=False, ax=ax)"
   ]
  },
  {
   "cell_type": "markdown",
   "metadata": {},
   "source": [
    "# Import Data"
   ]
  },
  {
   "cell_type": "code",
   "execution_count": 3,
   "metadata": {},
   "outputs": [
    {
     "data": {
      "text/html": [
       "<div>\n",
       "<style scoped>\n",
       "    .dataframe tbody tr th:only-of-type {\n",
       "        vertical-align: middle;\n",
       "    }\n",
       "\n",
       "    .dataframe tbody tr th {\n",
       "        vertical-align: top;\n",
       "    }\n",
       "\n",
       "    .dataframe thead th {\n",
       "        text-align: right;\n",
       "    }\n",
       "</style>\n",
       "<table border=\"1\" class=\"dataframe\">\n",
       "  <thead>\n",
       "    <tr style=\"text-align: right;\">\n",
       "      <th></th>\n",
       "      <th>Title</th>\n",
       "      <th>Userscore</th>\n",
       "      <th>Comment</th>\n",
       "    </tr>\n",
       "  </thead>\n",
       "  <tbody>\n",
       "    <tr>\n",
       "      <th>0</th>\n",
       "      <td>The Legend of Zelda: Ocarina of Time</td>\n",
       "      <td>10.0</td>\n",
       "      <td>Everything in OoT is so near at perfection, it...</td>\n",
       "    </tr>\n",
       "    <tr>\n",
       "      <th>1</th>\n",
       "      <td>The Legend of Zelda: Ocarina of Time</td>\n",
       "      <td>10.0</td>\n",
       "      <td>I won't bore you with what everyone is already...</td>\n",
       "    </tr>\n",
       "    <tr>\n",
       "      <th>2</th>\n",
       "      <td>The Legend of Zelda: Ocarina of Time</td>\n",
       "      <td>10.0</td>\n",
       "      <td>Anyone who gives the masterpiece below a 7 or ...</td>\n",
       "    </tr>\n",
       "    <tr>\n",
       "      <th>3</th>\n",
       "      <td>The Legend of Zelda: Ocarina of Time</td>\n",
       "      <td>10.0</td>\n",
       "      <td>I'm one of those people who think that this is...</td>\n",
       "    </tr>\n",
       "    <tr>\n",
       "      <th>4</th>\n",
       "      <td>The Legend of Zelda: Ocarina of Time</td>\n",
       "      <td>10.0</td>\n",
       "      <td>This game is the highest rated game on Metacr...</td>\n",
       "    </tr>\n",
       "  </tbody>\n",
       "</table>\n",
       "</div>"
      ],
      "text/plain": [
       "                                  Title  Userscore  \\\n",
       "0  The Legend of Zelda: Ocarina of Time       10.0   \n",
       "1  The Legend of Zelda: Ocarina of Time       10.0   \n",
       "2  The Legend of Zelda: Ocarina of Time       10.0   \n",
       "3  The Legend of Zelda: Ocarina of Time       10.0   \n",
       "4  The Legend of Zelda: Ocarina of Time       10.0   \n",
       "\n",
       "                                             Comment  \n",
       "0  Everything in OoT is so near at perfection, it...  \n",
       "1  I won't bore you with what everyone is already...  \n",
       "2  Anyone who gives the masterpiece below a 7 or ...  \n",
       "3  I'm one of those people who think that this is...  \n",
       "4   This game is the highest rated game on Metacr...  "
      ]
     },
     "execution_count": 3,
     "metadata": {},
     "output_type": "execute_result"
    }
   ],
   "source": [
    "df = pd.read_csv('processed_df\\metacritic_comments_nlp.csv')\n",
    "df.head()"
   ]
  },
  {
   "cell_type": "code",
   "execution_count": 4,
   "metadata": {},
   "outputs": [
    {
     "data": {
      "text/plain": [
       "(260269, 3)"
      ]
     },
     "execution_count": 4,
     "metadata": {},
     "output_type": "execute_result"
    }
   ],
   "source": [
    "df.shape"
   ]
  },
  {
   "cell_type": "code",
   "execution_count": 5,
   "metadata": {},
   "outputs": [],
   "source": [
    "df_sub = df.sample(n=2000, random_state=2333)"
   ]
  },
  {
   "cell_type": "code",
   "execution_count": 6,
   "metadata": {},
   "outputs": [
    {
     "data": {
      "text/plain": [
       "1.0     0.0295\n",
       "2.0     0.0210\n",
       "3.0     0.0265\n",
       "4.0     0.0350\n",
       "5.0     0.0355\n",
       "6.0     0.0560\n",
       "7.0     0.0695\n",
       "8.0     0.1090\n",
       "9.0     0.2045\n",
       "10.0    0.4135\n",
       "Name: Userscore, dtype: float64"
      ]
     },
     "execution_count": 6,
     "metadata": {},
     "output_type": "execute_result"
    }
   ],
   "source": [
    "df_sub.Userscore.value_counts(normalize=True).sort_index()"
   ]
  },
  {
   "cell_type": "markdown",
   "metadata": {},
   "source": [
    "# Train test split"
   ]
  },
  {
   "cell_type": "code",
   "execution_count": 136,
   "metadata": {},
   "outputs": [],
   "source": [
    "X = df_sub['Comment']\n",
    "y = df_sub['Userscore']\n",
    "\n",
    "X_train, X_test, y_train, y_test = train_test_split(X, y, test_size = 0.3)"
   ]
  },
  {
   "cell_type": "code",
   "execution_count": 139,
   "metadata": {},
   "outputs": [],
   "source": [
    "transformed_tr = X_train.apply(process_text, min_length = 10)\n",
    "\n",
    "# took 2m30s"
   ]
  },
  {
   "cell_type": "code",
   "execution_count": 36,
   "metadata": {},
   "outputs": [],
   "source": [
    "transformed_te = X_test.apply(process_text, min_length = 10)\n",
    "\n",
    "# took 1m5s"
   ]
  },
  {
   "cell_type": "markdown",
   "metadata": {},
   "source": [
    "# process text"
   ]
  },
  {
   "cell_type": "code",
   "execution_count": 67,
   "metadata": {},
   "outputs": [],
   "source": [
    "bow_vec = TfidfVectorizer(min_df=0.05, max_df=0.95)\n",
    "X_tr_proc = bow_vec.fit_transform(transformed_tr)\n",
    "X_te_proc = bow_vec.transform(transformed_te)"
   ]
  },
  {
   "cell_type": "code",
   "execution_count": 68,
   "metadata": {},
   "outputs": [
    {
     "name": "stderr",
     "output_type": "stream",
     "text": [
      "c:\\Users\\qwswe\\Anaconda3\\envs\\tf\\lib\\site-packages\\sklearn\\utils\\deprecation.py:87: FutureWarning: Function get_feature_names is deprecated; get_feature_names is deprecated in 1.0 and will be removed in 1.2. Please use get_feature_names_out instead.\n",
      "  warnings.warn(msg, category=FutureWarning)\n"
     ]
    }
   ],
   "source": [
    "feat_names = bow_vec.get_feature_names()"
   ]
  },
  {
   "cell_type": "code",
   "execution_count": 69,
   "metadata": {},
   "outputs": [],
   "source": [
    "bow_mat_tr = pd.DataFrame(X_tr_proc.toarray(), columns = feat_names)\n",
    "bow_mat_te = pd.DataFrame(X_te_proc.toarray(), columns = feat_names)"
   ]
  },
  {
   "cell_type": "markdown",
   "metadata": {},
   "source": [
    "# label encoder"
   ]
  },
  {
   "cell_type": "code",
   "execution_count": 70,
   "metadata": {},
   "outputs": [],
   "source": [
    "y_tr_cat = to_categorical(y_train)\n",
    "y_te_cat = to_categorical(y_test)"
   ]
  },
  {
   "cell_type": "code",
   "execution_count": 71,
   "metadata": {},
   "outputs": [
    {
     "data": {
      "text/plain": [
       "(600, 11)"
      ]
     },
     "execution_count": 71,
     "metadata": {},
     "output_type": "execute_result"
    }
   ],
   "source": [
    "y_te_cat.shape"
   ]
  },
  {
   "cell_type": "markdown",
   "metadata": {},
   "source": [
    "# MODEL"
   ]
  },
  {
   "cell_type": "code",
   "execution_count": 128,
   "metadata": {},
   "outputs": [],
   "source": [
    "model_1 = Sequential()\n",
    "model_1.add(Dense(64, activation='relu', input_shape=(154,)))\n",
    "model_1.add(Dense(32, activation='relu'))\n",
    "model_1.add(Dense(32, activation='relu'))\n",
    "model_1.add(Dense(16, activation='relu'))\n",
    "model_1.add(Dense(11, activation='softmax'))\n",
    "\n",
    "opt = Adam(learning_rate=0.003, beta_1=0.9, beta_2=0.999, epsilon=1e-07)\n",
    "\n",
    "model_1.compile(loss='binary_crossentropy', optimizer=opt, metrics=['accuracy'])"
   ]
  },
  {
   "cell_type": "code",
   "execution_count": 129,
   "metadata": {},
   "outputs": [
    {
     "name": "stdout",
     "output_type": "stream",
     "text": [
      "Epoch 1/150\n",
      "6/6 [==============================] - 0s 4ms/step - loss: 0.6829 - accuracy: 0.0393\n",
      "Epoch 2/150\n",
      "6/6 [==============================] - 0s 5ms/step - loss: 0.6350 - accuracy: 0.0386\n",
      "Epoch 3/150\n",
      "6/6 [==============================] - 0s 1ms/step - loss: 0.5478 - accuracy: 0.0386\n",
      "Epoch 4/150\n",
      "6/6 [==============================] - 0s 5ms/step - loss: 0.4499 - accuracy: 0.0371\n",
      "Epoch 5/150\n",
      "6/6 [==============================] - 0s 4ms/step - loss: 0.3704 - accuracy: 0.0136\n",
      "Epoch 6/150\n",
      "6/6 [==============================] - 0s 5ms/step - loss: 0.3302 - accuracy: 0.0079\n",
      "Epoch 7/150\n",
      "6/6 [==============================] - 0s 5ms/step - loss: 0.3011 - accuracy: 0.3829\n",
      "Epoch 8/150\n",
      "6/6 [==============================] - 0s 5ms/step - loss: 0.2785 - accuracy: 0.4207\n",
      "Epoch 9/150\n",
      "6/6 [==============================] - 0s 4ms/step - loss: 0.2627 - accuracy: 0.4207\n",
      "Epoch 10/150\n",
      "6/6 [==============================] - 0s 4ms/step - loss: 0.2510 - accuracy: 0.4207\n",
      "Epoch 11/150\n",
      "6/6 [==============================] - 0s 5ms/step - loss: 0.2423 - accuracy: 0.4207\n",
      "Epoch 12/150\n",
      "6/6 [==============================] - 0s 5ms/step - loss: 0.2359 - accuracy: 0.4207\n",
      "Epoch 13/150\n",
      "6/6 [==============================] - 0s 4ms/step - loss: 0.2311 - accuracy: 0.4207\n",
      "Epoch 14/150\n",
      "6/6 [==============================] - 0s 5ms/step - loss: 0.2270 - accuracy: 0.4207\n",
      "Epoch 15/150\n",
      "6/6 [==============================] - 0s 5ms/step - loss: 0.2241 - accuracy: 0.4207\n",
      "Epoch 16/150\n",
      "6/6 [==============================] - 0s 4ms/step - loss: 0.2213 - accuracy: 0.4229\n",
      "Epoch 17/150\n",
      "6/6 [==============================] - 0s 4ms/step - loss: 0.2185 - accuracy: 0.4364\n",
      "Epoch 18/150\n",
      "6/6 [==============================] - 0s 4ms/step - loss: 0.2159 - accuracy: 0.4386\n",
      "Epoch 19/150\n",
      "6/6 [==============================] - 0s 4ms/step - loss: 0.2139 - accuracy: 0.4607\n",
      "Epoch 20/150\n",
      "6/6 [==============================] - 0s 4ms/step - loss: 0.2118 - accuracy: 0.4650\n",
      "Epoch 21/150\n",
      "6/6 [==============================] - 0s 5ms/step - loss: 0.2097 - accuracy: 0.4686\n",
      "Epoch 22/150\n",
      "6/6 [==============================] - 0s 5ms/step - loss: 0.2076 - accuracy: 0.4729\n",
      "Epoch 23/150\n",
      "6/6 [==============================] - 0s 4ms/step - loss: 0.2057 - accuracy: 0.4843\n",
      "Epoch 24/150\n",
      "6/6 [==============================] - 0s 4ms/step - loss: 0.2039 - accuracy: 0.5050\n",
      "Epoch 25/150\n",
      "6/6 [==============================] - 0s 5ms/step - loss: 0.2007 - accuracy: 0.5000\n",
      "Epoch 26/150\n",
      "6/6 [==============================] - 0s 4ms/step - loss: 0.1979 - accuracy: 0.5100\n",
      "Epoch 27/150\n",
      "6/6 [==============================] - 0s 5ms/step - loss: 0.1953 - accuracy: 0.5221\n",
      "Epoch 28/150\n",
      "6/6 [==============================] - 0s 5ms/step - loss: 0.1922 - accuracy: 0.5229\n",
      "Epoch 29/150\n",
      "6/6 [==============================] - 0s 4ms/step - loss: 0.1898 - accuracy: 0.5407\n",
      "Epoch 30/150\n",
      "6/6 [==============================] - 0s 4ms/step - loss: 0.1853 - accuracy: 0.5664\n",
      "Epoch 31/150\n",
      "6/6 [==============================] - 0s 5ms/step - loss: 0.1808 - accuracy: 0.5650\n",
      "Epoch 32/150\n",
      "6/6 [==============================] - 0s 5ms/step - loss: 0.1776 - accuracy: 0.5771\n",
      "Epoch 33/150\n",
      "6/6 [==============================] - 0s 4ms/step - loss: 0.1733 - accuracy: 0.5879\n",
      "Epoch 34/150\n",
      "6/6 [==============================] - 0s 5ms/step - loss: 0.1699 - accuracy: 0.6079\n",
      "Epoch 35/150\n",
      "6/6 [==============================] - 0s 4ms/step - loss: 0.1657 - accuracy: 0.6136\n",
      "Epoch 36/150\n",
      "6/6 [==============================] - 0s 4ms/step - loss: 0.1617 - accuracy: 0.6329\n",
      "Epoch 37/150\n",
      "6/6 [==============================] - 0s 4ms/step - loss: 0.1579 - accuracy: 0.6421\n",
      "Epoch 38/150\n",
      "6/6 [==============================] - 0s 4ms/step - loss: 0.1544 - accuracy: 0.6450\n",
      "Epoch 39/150\n",
      "6/6 [==============================] - 0s 5ms/step - loss: 0.1509 - accuracy: 0.6557\n",
      "Epoch 40/150\n",
      "6/6 [==============================] - 0s 4ms/step - loss: 0.1470 - accuracy: 0.6643\n",
      "Epoch 41/150\n",
      "6/6 [==============================] - 0s 5ms/step - loss: 0.1431 - accuracy: 0.6686\n",
      "Epoch 42/150\n",
      "6/6 [==============================] - 0s 4ms/step - loss: 0.1398 - accuracy: 0.6850\n",
      "Epoch 43/150\n",
      "6/6 [==============================] - 0s 5ms/step - loss: 0.1370 - accuracy: 0.6879\n",
      "Epoch 44/150\n",
      "6/6 [==============================] - 0s 4ms/step - loss: 0.1342 - accuracy: 0.6979\n",
      "Epoch 45/150\n",
      "6/6 [==============================] - 0s 5ms/step - loss: 0.1312 - accuracy: 0.6993\n",
      "Epoch 46/150\n",
      "6/6 [==============================] - 0s 5ms/step - loss: 0.1296 - accuracy: 0.7064\n",
      "Epoch 47/150\n",
      "6/6 [==============================] - 0s 4ms/step - loss: 0.1260 - accuracy: 0.7136\n",
      "Epoch 48/150\n",
      "6/6 [==============================] - 0s 5ms/step - loss: 0.1225 - accuracy: 0.7250\n",
      "Epoch 49/150\n",
      "6/6 [==============================] - 0s 4ms/step - loss: 0.1215 - accuracy: 0.7393\n",
      "Epoch 50/150\n",
      "6/6 [==============================] - 0s 5ms/step - loss: 0.1188 - accuracy: 0.7293\n",
      "Epoch 51/150\n",
      "6/6 [==============================] - 0s 4ms/step - loss: 0.1155 - accuracy: 0.7486\n",
      "Epoch 52/150\n",
      "6/6 [==============================] - 0s 5ms/step - loss: 0.1123 - accuracy: 0.7521\n",
      "Epoch 53/150\n",
      "6/6 [==============================] - 0s 4ms/step - loss: 0.1105 - accuracy: 0.7536\n",
      "Epoch 54/150\n",
      "6/6 [==============================] - 0s 4ms/step - loss: 0.1089 - accuracy: 0.7593\n",
      "Epoch 55/150\n",
      "6/6 [==============================] - 0s 4ms/step - loss: 0.1065 - accuracy: 0.7643\n",
      "Epoch 56/150\n",
      "6/6 [==============================] - 0s 4ms/step - loss: 0.1046 - accuracy: 0.7771\n",
      "Epoch 57/150\n",
      "6/6 [==============================] - 0s 4ms/step - loss: 0.1032 - accuracy: 0.7714\n",
      "Epoch 58/150\n",
      "6/6 [==============================] - 0s 4ms/step - loss: 0.1011 - accuracy: 0.7829\n",
      "Epoch 59/150\n",
      "6/6 [==============================] - 0s 4ms/step - loss: 0.0998 - accuracy: 0.7843\n",
      "Epoch 60/150\n",
      "6/6 [==============================] - 0s 4ms/step - loss: 0.0983 - accuracy: 0.7950\n",
      "Epoch 61/150\n",
      "6/6 [==============================] - 0s 4ms/step - loss: 0.0967 - accuracy: 0.7986\n",
      "Epoch 62/150\n",
      "6/6 [==============================] - 0s 4ms/step - loss: 0.0944 - accuracy: 0.8057\n",
      "Epoch 63/150\n",
      "6/6 [==============================] - 0s 4ms/step - loss: 0.0931 - accuracy: 0.8136\n",
      "Epoch 64/150\n",
      "6/6 [==============================] - 0s 4ms/step - loss: 0.0914 - accuracy: 0.8229\n",
      "Epoch 65/150\n",
      "6/6 [==============================] - 0s 4ms/step - loss: 0.0895 - accuracy: 0.8229\n",
      "Epoch 66/150\n",
      "6/6 [==============================] - 0s 4ms/step - loss: 0.0877 - accuracy: 0.8271\n",
      "Epoch 67/150\n",
      "6/6 [==============================] - 0s 4ms/step - loss: 0.0860 - accuracy: 0.8343\n",
      "Epoch 68/150\n",
      "6/6 [==============================] - 0s 4ms/step - loss: 0.0853 - accuracy: 0.8364\n",
      "Epoch 69/150\n",
      "6/6 [==============================] - 0s 5ms/step - loss: 0.0849 - accuracy: 0.8371\n",
      "Epoch 70/150\n",
      "6/6 [==============================] - 0s 5ms/step - loss: 0.0819 - accuracy: 0.8493\n",
      "Epoch 71/150\n",
      "6/6 [==============================] - 0s 4ms/step - loss: 0.0803 - accuracy: 0.8429\n",
      "Epoch 72/150\n",
      "6/6 [==============================] - 0s 5ms/step - loss: 0.0786 - accuracy: 0.8629\n",
      "Epoch 73/150\n",
      "6/6 [==============================] - 0s 4ms/step - loss: 0.0776 - accuracy: 0.8579\n",
      "Epoch 74/150\n",
      "6/6 [==============================] - 0s 5ms/step - loss: 0.0757 - accuracy: 0.8614\n",
      "Epoch 75/150\n",
      "6/6 [==============================] - 0s 5ms/step - loss: 0.0753 - accuracy: 0.8650\n",
      "Epoch 76/150\n",
      "6/6 [==============================] - 0s 4ms/step - loss: 0.0736 - accuracy: 0.8643\n",
      "Epoch 77/150\n",
      "6/6 [==============================] - 0s 5ms/step - loss: 0.0712 - accuracy: 0.8814\n",
      "Epoch 78/150\n",
      "6/6 [==============================] - 0s 5ms/step - loss: 0.0698 - accuracy: 0.8814\n",
      "Epoch 79/150\n",
      "6/6 [==============================] - 0s 5ms/step - loss: 0.0697 - accuracy: 0.8800\n",
      "Epoch 80/150\n",
      "6/6 [==============================] - 0s 5ms/step - loss: 0.0680 - accuracy: 0.8879\n",
      "Epoch 81/150\n",
      "6/6 [==============================] - 0s 4ms/step - loss: 0.0666 - accuracy: 0.8871\n",
      "Epoch 82/150\n",
      "6/6 [==============================] - 0s 5ms/step - loss: 0.0657 - accuracy: 0.8943\n",
      "Epoch 83/150\n",
      "6/6 [==============================] - 0s 4ms/step - loss: 0.0642 - accuracy: 0.8821\n",
      "Epoch 84/150\n",
      "6/6 [==============================] - 0s 5ms/step - loss: 0.0633 - accuracy: 0.8914\n",
      "Epoch 85/150\n",
      "6/6 [==============================] - 0s 4ms/step - loss: 0.0641 - accuracy: 0.8914\n",
      "Epoch 86/150\n",
      "6/6 [==============================] - 0s 4ms/step - loss: 0.0636 - accuracy: 0.8807\n",
      "Epoch 87/150\n",
      "6/6 [==============================] - 0s 4ms/step - loss: 0.0602 - accuracy: 0.9007\n",
      "Epoch 88/150\n",
      "6/6 [==============================] - 0s 4ms/step - loss: 0.0585 - accuracy: 0.9057\n",
      "Epoch 89/150\n",
      "6/6 [==============================] - 0s 4ms/step - loss: 0.0578 - accuracy: 0.9100\n",
      "Epoch 90/150\n",
      "6/6 [==============================] - 0s 5ms/step - loss: 0.0574 - accuracy: 0.9079\n",
      "Epoch 91/150\n",
      "6/6 [==============================] - 0s 4ms/step - loss: 0.0572 - accuracy: 0.9029\n",
      "Epoch 92/150\n",
      "6/6 [==============================] - 0s 5ms/step - loss: 0.0562 - accuracy: 0.9164\n",
      "Epoch 93/150\n",
      "6/6 [==============================] - 0s 4ms/step - loss: 0.0546 - accuracy: 0.9064\n",
      "Epoch 94/150\n",
      "6/6 [==============================] - 0s 5ms/step - loss: 0.0525 - accuracy: 0.9236\n",
      "Epoch 95/150\n",
      "6/6 [==============================] - 0s 5ms/step - loss: 0.0510 - accuracy: 0.9200\n",
      "Epoch 96/150\n",
      "6/6 [==============================] - 0s 5ms/step - loss: 0.0507 - accuracy: 0.9307\n",
      "Epoch 97/150\n",
      "6/6 [==============================] - 0s 4ms/step - loss: 0.0493 - accuracy: 0.9300\n",
      "Epoch 98/150\n",
      "6/6 [==============================] - 0s 4ms/step - loss: 0.0481 - accuracy: 0.9293\n",
      "Epoch 99/150\n",
      "6/6 [==============================] - 0s 4ms/step - loss: 0.0463 - accuracy: 0.9350\n",
      "Epoch 100/150\n",
      "6/6 [==============================] - 0s 4ms/step - loss: 0.0453 - accuracy: 0.9386\n",
      "Epoch 101/150\n",
      "6/6 [==============================] - 0s 4ms/step - loss: 0.0441 - accuracy: 0.9400\n",
      "Epoch 102/150\n",
      "6/6 [==============================] - 0s 4ms/step - loss: 0.0433 - accuracy: 0.9414\n",
      "Epoch 103/150\n",
      "6/6 [==============================] - 0s 4ms/step - loss: 0.0424 - accuracy: 0.9421\n",
      "Epoch 104/150\n",
      "6/6 [==============================] - 0s 4ms/step - loss: 0.0426 - accuracy: 0.9471\n",
      "Epoch 105/150\n",
      "6/6 [==============================] - 0s 4ms/step - loss: 0.0416 - accuracy: 0.9429\n",
      "Epoch 106/150\n",
      "6/6 [==============================] - 0s 4ms/step - loss: 0.0430 - accuracy: 0.9436\n",
      "Epoch 107/150\n",
      "6/6 [==============================] - 0s 4ms/step - loss: 0.0427 - accuracy: 0.9436\n",
      "Epoch 108/150\n",
      "6/6 [==============================] - 0s 4ms/step - loss: 0.0399 - accuracy: 0.9429\n",
      "Epoch 109/150\n",
      "6/6 [==============================] - 0s 4ms/step - loss: 0.0391 - accuracy: 0.9457\n",
      "Epoch 110/150\n",
      "6/6 [==============================] - 0s 4ms/step - loss: 0.0380 - accuracy: 0.9343\n",
      "Epoch 111/150\n",
      "6/6 [==============================] - 0s 4ms/step - loss: 0.0399 - accuracy: 0.9450\n",
      "Epoch 112/150\n",
      "6/6 [==============================] - 0s 4ms/step - loss: 0.0378 - accuracy: 0.9400\n",
      "Epoch 113/150\n",
      "6/6 [==============================] - 0s 4ms/step - loss: 0.0367 - accuracy: 0.9493\n",
      "Epoch 114/150\n",
      "6/6 [==============================] - 0s 5ms/step - loss: 0.0355 - accuracy: 0.9493\n",
      "Epoch 115/150\n",
      "6/6 [==============================] - 0s 5ms/step - loss: 0.0337 - accuracy: 0.9514\n",
      "Epoch 116/150\n",
      "6/6 [==============================] - 0s 4ms/step - loss: 0.0339 - accuracy: 0.9429\n",
      "Epoch 117/150\n",
      "6/6 [==============================] - 0s 4ms/step - loss: 0.0324 - accuracy: 0.9507\n",
      "Epoch 118/150\n",
      "6/6 [==============================] - 0s 5ms/step - loss: 0.0320 - accuracy: 0.9536\n",
      "Epoch 119/150\n",
      "6/6 [==============================] - 0s 4ms/step - loss: 0.0304 - accuracy: 0.9536\n",
      "Epoch 120/150\n",
      "6/6 [==============================] - 0s 4ms/step - loss: 0.0295 - accuracy: 0.9529\n",
      "Epoch 121/150\n",
      "6/6 [==============================] - 0s 4ms/step - loss: 0.0290 - accuracy: 0.9550\n",
      "Epoch 122/150\n",
      "6/6 [==============================] - 0s 4ms/step - loss: 0.0286 - accuracy: 0.9550\n",
      "Epoch 123/150\n",
      "6/6 [==============================] - 0s 5ms/step - loss: 0.0278 - accuracy: 0.9564\n",
      "Epoch 124/150\n",
      "6/6 [==============================] - 0s 4ms/step - loss: 0.0270 - accuracy: 0.9564\n",
      "Epoch 125/150\n",
      "6/6 [==============================] - 0s 4ms/step - loss: 0.0268 - accuracy: 0.9564\n",
      "Epoch 126/150\n",
      "6/6 [==============================] - 0s 4ms/step - loss: 0.0260 - accuracy: 0.9564\n",
      "Epoch 127/150\n",
      "6/6 [==============================] - 0s 4ms/step - loss: 0.0258 - accuracy: 0.9564\n",
      "Epoch 128/150\n",
      "6/6 [==============================] - 0s 5ms/step - loss: 0.0258 - accuracy: 0.9564\n",
      "Epoch 129/150\n",
      "6/6 [==============================] - 0s 4ms/step - loss: 0.0256 - accuracy: 0.9564\n",
      "Epoch 130/150\n",
      "6/6 [==============================] - 0s 4ms/step - loss: 0.0250 - accuracy: 0.9564\n",
      "Epoch 131/150\n",
      "6/6 [==============================] - 0s 4ms/step - loss: 0.0248 - accuracy: 0.9564\n",
      "Epoch 132/150\n",
      "6/6 [==============================] - 0s 4ms/step - loss: 0.0253 - accuracy: 0.9564\n",
      "Epoch 133/150\n",
      "6/6 [==============================] - 0s 5ms/step - loss: 0.0245 - accuracy: 0.9564\n",
      "Epoch 134/150\n",
      "6/6 [==============================] - 0s 4ms/step - loss: 0.0246 - accuracy: 0.9564\n",
      "Epoch 135/150\n",
      "6/6 [==============================] - 0s 5ms/step - loss: 0.0240 - accuracy: 0.9564\n",
      "Epoch 136/150\n",
      "6/6 [==============================] - 0s 4ms/step - loss: 0.0240 - accuracy: 0.9564\n",
      "Epoch 137/150\n",
      "6/6 [==============================] - 0s 4ms/step - loss: 0.0241 - accuracy: 0.9564\n",
      "Epoch 138/150\n",
      "6/6 [==============================] - 0s 5ms/step - loss: 0.0244 - accuracy: 0.9564\n",
      "Epoch 139/150\n",
      "6/6 [==============================] - 0s 5ms/step - loss: 0.0233 - accuracy: 0.9571\n",
      "Epoch 140/150\n",
      "6/6 [==============================] - 0s 4ms/step - loss: 0.0232 - accuracy: 0.9571\n",
      "Epoch 141/150\n",
      "6/6 [==============================] - 0s 4ms/step - loss: 0.0229 - accuracy: 0.9579\n",
      "Epoch 142/150\n",
      "6/6 [==============================] - 0s 4ms/step - loss: 0.0227 - accuracy: 0.9579\n",
      "Epoch 143/150\n",
      "6/6 [==============================] - 0s 4ms/step - loss: 0.0223 - accuracy: 0.9579\n",
      "Epoch 144/150\n",
      "6/6 [==============================] - 0s 4ms/step - loss: 0.0220 - accuracy: 0.9579\n",
      "Epoch 145/150\n",
      "6/6 [==============================] - 0s 5ms/step - loss: 0.0217 - accuracy: 0.9579\n",
      "Epoch 146/150\n",
      "6/6 [==============================] - 0s 4ms/step - loss: 0.0219 - accuracy: 0.9579\n",
      "Epoch 147/150\n",
      "6/6 [==============================] - 0s 4ms/step - loss: 0.0215 - accuracy: 0.9586\n",
      "Epoch 148/150\n",
      "6/6 [==============================] - 0s 4ms/step - loss: 0.0213 - accuracy: 0.9586\n",
      "Epoch 149/150\n",
      "6/6 [==============================] - 0s 4ms/step - loss: 0.0213 - accuracy: 0.9586\n",
      "Epoch 150/150\n",
      "6/6 [==============================] - 0s 5ms/step - loss: 0.0212 - accuracy: 0.9586\n"
     ]
    }
   ],
   "source": [
    "results_1 = model_1.fit(bow_mat_tr, y_tr_cat, epochs=150, batch_size=256)"
   ]
  },
  {
   "cell_type": "code",
   "execution_count": 130,
   "metadata": {},
   "outputs": [
    {
     "data": {
      "text/plain": [
       "dict_keys(['loss', 'accuracy'])"
      ]
     },
     "execution_count": 130,
     "metadata": {},
     "output_type": "execute_result"
    }
   ],
   "source": [
    "history_dict = results_1.history\n",
    "history_dict.keys()"
   ]
  },
  {
   "cell_type": "code",
   "execution_count": 131,
   "metadata": {},
   "outputs": [
    {
     "data": {
      "image/png": "[encoded data removed]",
      "text/plain": [
       "<Figure size 640x480 with 1 Axes>"
      ]
     },
     "metadata": {},
     "output_type": "display_data"
    }
   ],
   "source": [
    "loss_values = history_dict['loss']\n",
    "\n",
    "epochs = range(1, len(loss_values) + 1)\n",
    "plt.plot(epochs, loss_values, 'g', label='Training loss')\n",
    "\n",
    "plt.title('Training loss')\n",
    "plt.xlabel('Epochs')\n",
    "plt.ylabel('Loss')\n",
    "plt.legend()\n",
    "plt.show()"
   ]
  },
  {
   "cell_type": "code",
   "execution_count": 132,
   "metadata": {},
   "outputs": [
    {
     "data": {
      "image/png": "[encoded data removed]",
      "text/plain": [
       "<Figure size 640x480 with 1 Axes>"
      ]
     },
     "metadata": {},
     "output_type": "display_data"
    }
   ],
   "source": [
    "# Plot the training accuracy vs the number of epochs\n",
    "\n",
    "acc_values = history_dict['accuracy'] \n",
    "\n",
    "plt.plot(epochs, acc_values, 'r', label='Training acc')\n",
    "plt.title('Training accuracy')\n",
    "plt.xlabel('Epochs')\n",
    "plt.ylabel('Accuracy')\n",
    "plt.legend()\n",
    "plt.show()"
   ]
  },
  {
   "cell_type": "code",
   "execution_count": 133,
   "metadata": {},
   "outputs": [
    {
     "name": "stdout",
     "output_type": "stream",
     "text": [
      "19/19 [==============================] - 0s 3ms/step - loss: 1.0158 - accuracy: 0.3467\n"
     ]
    },
    {
     "data": {
      "text/plain": [
       "[1.015804648399353, 0.3466666638851166]"
      ]
     },
     "execution_count": 133,
     "metadata": {},
     "output_type": "execute_result"
    }
   ],
   "source": [
    "model_1.evaluate(bow_mat_te, y_te_cat)"
   ]
  },
  {
   "cell_type": "code",
   "execution_count": null,
   "metadata": {},
   "outputs": [],
   "source": []
  }
 ],
 "metadata": {
  "kernelspec": {
   "display_name": "Python 3.9.13 ('tf')",
   "language": "python",
   "name": "python3"
  },
  "language_info": {
   "codemirror_mode": {
    "name": "ipython",
    "version": 3
   },
   "file_extension": ".py",
   "mimetype": "text/x-python",
   "name": "python",
   "nbconvert_exporter": "python",
   "pygments_lexer": "ipython3",
   "version": "3.9.13"
  },
  "orig_nbformat": 4,
  "vscode": {
   "interpreter": {
    "hash": "8d941500329789df683ebdc0e17676b710c54bb4cabcc0a3e1a6bd8b40cdaff6"
   }
  }
 },
 "nbformat": 4,
 "nbformat_minor": 2
}
