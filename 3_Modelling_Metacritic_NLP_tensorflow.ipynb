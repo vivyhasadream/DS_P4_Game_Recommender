{
 "cells": [
  {
   "cell_type": "code",
   "execution_count": 47,
   "metadata": {},
   "outputs": [],
   "source": [
    "import numpy as np\n",
    "import pandas as pd\n",
    "import matplotlib.pyplot as plt\n",
    "from sklearn.model_selection import train_test_split\n",
    "import nltk\n",
    "from nltk.tokenize import regexp_tokenize, word_tokenize, RegexpTokenizer\n",
    "from nltk.corpus import stopwords, wordnet\n",
    "from nltk import pos_tag\n",
    "from nltk.stem import WordNetLemmatizer\n",
    "from sklearn.ensemble import RandomForestClassifier\n",
    "from sklearn.naive_bayes import MultinomialNB\n",
    "from sklearn.metrics import mean_absolute_error, mean_squared_error\n",
    "from sklearn.pipeline import Pipeline\n",
    "from sklearn.base import BaseEstimator, TransformerMixin\n",
    "from sklearn.feature_extraction.text import TfidfVectorizer, CountVectorizer\n",
    "\n",
    "import tensorflow as tf\n",
    "from tensorflow import keras\n",
    "from tensorflow.keras import layers\n",
    "from tensorflow.keras.models import Sequential\n",
    "from tensorflow.keras.layers import Dense, Dropout\n",
    "from tensorflow.keras.callbacks import EarlyStopping\n",
    "from tensorflow.keras.utils import to_categorical\n",
    "from tensorflow.keras.optimizers import Adam\n",
    "from tensorflow.keras.regularizers import L2\n",
    "\n",
    "import pickle\n",
    "import time"
   ]
  },
  {
   "cell_type": "markdown",
   "metadata": {},
   "source": [
    "# Define Func"
   ]
  },
  {
   "cell_type": "code",
   "execution_count": 6,
   "metadata": {},
   "outputs": [],
   "source": [
    "def visualize_training_results(results):\n",
    "    history = results.history\n",
    "\n",
    "    fig, (ax1, ax2) = plt.subplots(1, 2, figsize=(10,4))\n",
    "    # fig.suptitle('Horizontally stacked subplots')\n",
    "\n",
    "    ax1.plot(history['accuracy'])\n",
    "    ax1.plot(history['loss'])\n",
    "    ax1.legend(['accuracy', 'loss'])\n",
    "    ax1.set_title('Loss')\n",
    "    ax1.set_xlabel('Epochs')\n",
    "    ax1.set_ylabel('Loss')\n",
    "\n",
    "    ax2.plot(history['val_accuracy'])\n",
    "    ax2.plot(history['accuracy'])\n",
    "    ax2.legend(['val_accuracy', 'accuracy'])\n",
    "    ax2.set_title('Accuracy')\n",
    "    ax2.set_xlabel('Epochs')\n",
    "    ax2.set_ylabel('Accuracy');"
   ]
  },
  {
   "cell_type": "code",
   "execution_count": 7,
   "metadata": {},
   "outputs": [],
   "source": [
    "def heatmap_predicted_results(X_test, y_test, model):\n",
    "    y_predicted = model.predict(X_test) > 0.5\n",
    "    mat = confusion_matrix(y_test, y_predicted)\n",
    "\n",
    "    fig, ax = plt.subplots(figsize=(6,4))\n",
    "    sns.heatmap(mat, square=True, annot=True, fmt='d', cbar=False, ax=ax)"
   ]
  },
  {
   "cell_type": "markdown",
   "metadata": {},
   "source": [
    "# Import Data"
   ]
  },
  {
   "cell_type": "code",
   "execution_count": 8,
   "metadata": {},
   "outputs": [
    {
     "data": {
      "text/html": [
       "<div>\n",
       "<style scoped>\n",
       "    .dataframe tbody tr th:only-of-type {\n",
       "        vertical-align: middle;\n",
       "    }\n",
       "\n",
       "    .dataframe tbody tr th {\n",
       "        vertical-align: top;\n",
       "    }\n",
       "\n",
       "    .dataframe thead th {\n",
       "        text-align: right;\n",
       "    }\n",
       "</style>\n",
       "<table border=\"1\" class=\"dataframe\">\n",
       "  <thead>\n",
       "    <tr style=\"text-align: right;\">\n",
       "      <th></th>\n",
       "      <th>Title</th>\n",
       "      <th>Userscore</th>\n",
       "      <th>Comment</th>\n",
       "      <th>lang</th>\n",
       "    </tr>\n",
       "  </thead>\n",
       "  <tbody>\n",
       "    <tr>\n",
       "      <th>211190</th>\n",
       "      <td>Star Wars: Battlefront II</td>\n",
       "      <td>2.0</td>\n",
       "      <td>there nothing quite gun entire platoon clone d...</td>\n",
       "      <td>en</td>\n",
       "    </tr>\n",
       "    <tr>\n",
       "      <th>39249</th>\n",
       "      <td>The Witcher 3: Wild Hunt</td>\n",
       "      <td>10.0</td>\n",
       "      <td>game absolutely gorgeous run steady gtx hairwo...</td>\n",
       "      <td>en</td>\n",
       "    </tr>\n",
       "    <tr>\n",
       "      <th>204931</th>\n",
       "      <td>This War of Mine</td>\n",
       "      <td>10.0</td>\n",
       "      <td>really good game didnt expect first survival g...</td>\n",
       "      <td>en</td>\n",
       "    </tr>\n",
       "    <tr>\n",
       "      <th>75752</th>\n",
       "      <td>Golden Sun</td>\n",
       "      <td>10.0</td>\n",
       "      <td>people eagerly anticipate initial release game...</td>\n",
       "      <td>en</td>\n",
       "    </tr>\n",
       "    <tr>\n",
       "      <th>199503</th>\n",
       "      <td>Assassin's Creed IV: Black Flag</td>\n",
       "      <td>8.0</td>\n",
       "      <td>best assassin creed far open world fresh missi...</td>\n",
       "      <td>en</td>\n",
       "    </tr>\n",
       "  </tbody>\n",
       "</table>\n",
       "</div>"
      ],
      "text/plain": [
       "                                  Title  Userscore  \\\n",
       "211190        Star Wars: Battlefront II        2.0   \n",
       "39249          The Witcher 3: Wild Hunt       10.0   \n",
       "204931                 This War of Mine       10.0   \n",
       "75752                        Golden Sun       10.0   \n",
       "199503  Assassin's Creed IV: Black Flag        8.0   \n",
       "\n",
       "                                                  Comment lang  \n",
       "211190  there nothing quite gun entire platoon clone d...   en  \n",
       "39249   game absolutely gorgeous run steady gtx hairwo...   en  \n",
       "204931  really good game didnt expect first survival g...   en  \n",
       "75752   people eagerly anticipate initial release game...   en  \n",
       "199503  best assassin creed far open world fresh missi...   en  "
      ]
     },
     "execution_count": 8,
     "metadata": {},
     "output_type": "execute_result"
    }
   ],
   "source": [
    "# df = pd.read_csv('processed_df\\metacritic_comments_nlp.csv')\n",
    "# df.head()\n",
    "\n",
    "df = pickle.load(open('processed_df\\preprocessed_nlp_30p.pkl','rb'))\n",
    "df.head()"
   ]
  },
  {
   "cell_type": "code",
   "execution_count": 9,
   "metadata": {},
   "outputs": [
    {
     "data": {
      "text/plain": [
       "(74709, 4)"
      ]
     },
     "execution_count": 9,
     "metadata": {},
     "output_type": "execute_result"
    }
   ],
   "source": [
    "df.shape"
   ]
  },
  {
   "cell_type": "code",
   "execution_count": 11,
   "metadata": {},
   "outputs": [
    {
     "name": "stdout",
     "output_type": "stream",
     "text": [
      "shape before: (72477, 4)\n",
      "shape after: (70569, 4)\n"
     ]
    }
   ],
   "source": [
    "print(f'shape before: {df.shape}')\n",
    "df = df[df['Comment'] != '']\n",
    "df.drop_duplicates(inplace=True)\n",
    "df.dropna(inplace=True)\n",
    "print(f'shape after: {df.shape}')\n"
   ]
  },
  {
   "cell_type": "markdown",
   "metadata": {},
   "source": [
    "# Train test split"
   ]
  },
  {
   "cell_type": "code",
   "execution_count": 12,
   "metadata": {},
   "outputs": [],
   "source": [
    "X = df['Comment']\n",
    "y = df['Userscore']\n",
    "\n",
    "X_train, X_test, y_train, y_test = train_test_split(X, y, test_size = 0.3)"
   ]
  },
  {
   "cell_type": "markdown",
   "metadata": {},
   "source": [
    "# TFIDF text"
   ]
  },
  {
   "cell_type": "code",
   "execution_count": 13,
   "metadata": {},
   "outputs": [
    {
     "name": "stdout",
     "output_type": "stream",
     "text": [
      "3.041321039199829 secs slipped..\n"
     ]
    }
   ],
   "source": [
    "start = time.time()\n",
    "\n",
    "bow_vec = TfidfVectorizer(min_df=0.05, max_df=0.95)\n",
    "X_tr_proc = bow_vec.fit_transform(X_train)\n",
    "X_te_proc = bow_vec.transform(X_test)\n",
    "\n",
    "end = time.time()\n",
    "print(f'{end-start} secs slipped..')"
   ]
  },
  {
   "cell_type": "code",
   "execution_count": 15,
   "metadata": {},
   "outputs": [
    {
     "name": "stderr",
     "output_type": "stream",
     "text": [
      "c:\\Users\\qwswe\\Anaconda3\\envs\\tf\\lib\\site-packages\\sklearn\\utils\\deprecation.py:87: FutureWarning: Function get_feature_names is deprecated; get_feature_names is deprecated in 1.0 and will be removed in 1.2. Please use get_feature_names_out instead.\n",
      "  warnings.warn(msg, category=FutureWarning)\n"
     ]
    }
   ],
   "source": [
    "feat_names = bow_vec.get_feature_names()"
   ]
  },
  {
   "cell_type": "code",
   "execution_count": 16,
   "metadata": {},
   "outputs": [],
   "source": [
    "bow_mat_tr = pd.DataFrame(X_tr_proc.toarray(), columns = feat_names)\n",
    "bow_mat_te = pd.DataFrame(X_te_proc.toarray(), columns = feat_names)"
   ]
  },
  {
   "cell_type": "code",
   "execution_count": 43,
   "metadata": {},
   "outputs": [
    {
     "data": {
      "text/html": [
       "<div>\n",
       "<style scoped>\n",
       "    .dataframe tbody tr th:only-of-type {\n",
       "        vertical-align: middle;\n",
       "    }\n",
       "\n",
       "    .dataframe tbody tr th {\n",
       "        vertical-align: top;\n",
       "    }\n",
       "\n",
       "    .dataframe thead th {\n",
       "        text-align: right;\n",
       "    }\n",
       "</style>\n",
       "<table border=\"1\" class=\"dataframe\">\n",
       "  <thead>\n",
       "    <tr style=\"text-align: right;\">\n",
       "      <th></th>\n",
       "      <th>action</th>\n",
       "      <th>actually</th>\n",
       "      <th>add</th>\n",
       "      <th>almost</th>\n",
       "      <th>also</th>\n",
       "      <th>always</th>\n",
       "      <th>amaze</th>\n",
       "      <th>amazing</th>\n",
       "      <th>anything</th>\n",
       "      <th>awesome</th>\n",
       "      <th>...</th>\n",
       "      <th>want</th>\n",
       "      <th>way</th>\n",
       "      <th>weapon</th>\n",
       "      <th>well</th>\n",
       "      <th>whole</th>\n",
       "      <th>work</th>\n",
       "      <th>world</th>\n",
       "      <th>worth</th>\n",
       "      <th>year</th>\n",
       "      <th>yet</th>\n",
       "    </tr>\n",
       "  </thead>\n",
       "  <tbody>\n",
       "    <tr>\n",
       "      <th>0</th>\n",
       "      <td>0.000000</td>\n",
       "      <td>0.0</td>\n",
       "      <td>0.0</td>\n",
       "      <td>0.000000</td>\n",
       "      <td>0.0</td>\n",
       "      <td>0.0</td>\n",
       "      <td>0.000000</td>\n",
       "      <td>0.000000</td>\n",
       "      <td>0.000000</td>\n",
       "      <td>0.0</td>\n",
       "      <td>...</td>\n",
       "      <td>0.250395</td>\n",
       "      <td>0.000000</td>\n",
       "      <td>0.000000</td>\n",
       "      <td>0.197517</td>\n",
       "      <td>0.0</td>\n",
       "      <td>0.291919</td>\n",
       "      <td>0.000000</td>\n",
       "      <td>0.000000</td>\n",
       "      <td>0.0</td>\n",
       "      <td>0.0</td>\n",
       "    </tr>\n",
       "    <tr>\n",
       "      <th>1</th>\n",
       "      <td>0.000000</td>\n",
       "      <td>0.0</td>\n",
       "      <td>0.0</td>\n",
       "      <td>0.000000</td>\n",
       "      <td>0.0</td>\n",
       "      <td>0.0</td>\n",
       "      <td>0.000000</td>\n",
       "      <td>0.000000</td>\n",
       "      <td>0.000000</td>\n",
       "      <td>0.0</td>\n",
       "      <td>...</td>\n",
       "      <td>0.153453</td>\n",
       "      <td>0.000000</td>\n",
       "      <td>0.000000</td>\n",
       "      <td>0.000000</td>\n",
       "      <td>0.0</td>\n",
       "      <td>0.000000</td>\n",
       "      <td>0.000000</td>\n",
       "      <td>0.000000</td>\n",
       "      <td>0.0</td>\n",
       "      <td>0.0</td>\n",
       "    </tr>\n",
       "    <tr>\n",
       "      <th>2</th>\n",
       "      <td>0.000000</td>\n",
       "      <td>0.0</td>\n",
       "      <td>0.0</td>\n",
       "      <td>0.000000</td>\n",
       "      <td>0.0</td>\n",
       "      <td>0.0</td>\n",
       "      <td>0.000000</td>\n",
       "      <td>0.335059</td>\n",
       "      <td>0.000000</td>\n",
       "      <td>0.0</td>\n",
       "      <td>...</td>\n",
       "      <td>0.000000</td>\n",
       "      <td>0.000000</td>\n",
       "      <td>0.000000</td>\n",
       "      <td>0.000000</td>\n",
       "      <td>0.0</td>\n",
       "      <td>0.000000</td>\n",
       "      <td>0.000000</td>\n",
       "      <td>0.000000</td>\n",
       "      <td>0.0</td>\n",
       "      <td>0.0</td>\n",
       "    </tr>\n",
       "    <tr>\n",
       "      <th>3</th>\n",
       "      <td>0.000000</td>\n",
       "      <td>0.0</td>\n",
       "      <td>0.0</td>\n",
       "      <td>0.000000</td>\n",
       "      <td>0.0</td>\n",
       "      <td>0.0</td>\n",
       "      <td>0.000000</td>\n",
       "      <td>0.000000</td>\n",
       "      <td>0.000000</td>\n",
       "      <td>0.0</td>\n",
       "      <td>...</td>\n",
       "      <td>0.000000</td>\n",
       "      <td>0.000000</td>\n",
       "      <td>0.000000</td>\n",
       "      <td>0.000000</td>\n",
       "      <td>0.0</td>\n",
       "      <td>0.000000</td>\n",
       "      <td>0.000000</td>\n",
       "      <td>0.000000</td>\n",
       "      <td>0.0</td>\n",
       "      <td>0.0</td>\n",
       "    </tr>\n",
       "    <tr>\n",
       "      <th>4</th>\n",
       "      <td>0.000000</td>\n",
       "      <td>0.0</td>\n",
       "      <td>0.0</td>\n",
       "      <td>0.000000</td>\n",
       "      <td>0.0</td>\n",
       "      <td>0.0</td>\n",
       "      <td>0.000000</td>\n",
       "      <td>0.000000</td>\n",
       "      <td>0.000000</td>\n",
       "      <td>0.0</td>\n",
       "      <td>...</td>\n",
       "      <td>0.000000</td>\n",
       "      <td>0.000000</td>\n",
       "      <td>0.000000</td>\n",
       "      <td>0.000000</td>\n",
       "      <td>0.0</td>\n",
       "      <td>0.000000</td>\n",
       "      <td>0.000000</td>\n",
       "      <td>0.000000</td>\n",
       "      <td>0.0</td>\n",
       "      <td>0.0</td>\n",
       "    </tr>\n",
       "    <tr>\n",
       "      <th>...</th>\n",
       "      <td>...</td>\n",
       "      <td>...</td>\n",
       "      <td>...</td>\n",
       "      <td>...</td>\n",
       "      <td>...</td>\n",
       "      <td>...</td>\n",
       "      <td>...</td>\n",
       "      <td>...</td>\n",
       "      <td>...</td>\n",
       "      <td>...</td>\n",
       "      <td>...</td>\n",
       "      <td>...</td>\n",
       "      <td>...</td>\n",
       "      <td>...</td>\n",
       "      <td>...</td>\n",
       "      <td>...</td>\n",
       "      <td>...</td>\n",
       "      <td>...</td>\n",
       "      <td>...</td>\n",
       "      <td>...</td>\n",
       "      <td>...</td>\n",
       "    </tr>\n",
       "    <tr>\n",
       "      <th>49393</th>\n",
       "      <td>0.000000</td>\n",
       "      <td>0.0</td>\n",
       "      <td>0.0</td>\n",
       "      <td>0.000000</td>\n",
       "      <td>0.0</td>\n",
       "      <td>0.0</td>\n",
       "      <td>0.000000</td>\n",
       "      <td>0.000000</td>\n",
       "      <td>0.091765</td>\n",
       "      <td>0.0</td>\n",
       "      <td>...</td>\n",
       "      <td>0.000000</td>\n",
       "      <td>0.066300</td>\n",
       "      <td>0.000000</td>\n",
       "      <td>0.000000</td>\n",
       "      <td>0.0</td>\n",
       "      <td>0.000000</td>\n",
       "      <td>0.000000</td>\n",
       "      <td>0.086383</td>\n",
       "      <td>0.0</td>\n",
       "      <td>0.0</td>\n",
       "    </tr>\n",
       "    <tr>\n",
       "      <th>49394</th>\n",
       "      <td>0.000000</td>\n",
       "      <td>0.0</td>\n",
       "      <td>0.0</td>\n",
       "      <td>0.000000</td>\n",
       "      <td>0.0</td>\n",
       "      <td>0.0</td>\n",
       "      <td>0.326874</td>\n",
       "      <td>0.000000</td>\n",
       "      <td>0.000000</td>\n",
       "      <td>0.0</td>\n",
       "      <td>...</td>\n",
       "      <td>0.000000</td>\n",
       "      <td>0.000000</td>\n",
       "      <td>0.000000</td>\n",
       "      <td>0.000000</td>\n",
       "      <td>0.0</td>\n",
       "      <td>0.000000</td>\n",
       "      <td>0.000000</td>\n",
       "      <td>0.000000</td>\n",
       "      <td>0.0</td>\n",
       "      <td>0.0</td>\n",
       "    </tr>\n",
       "    <tr>\n",
       "      <th>49395</th>\n",
       "      <td>0.000000</td>\n",
       "      <td>0.0</td>\n",
       "      <td>0.0</td>\n",
       "      <td>0.137617</td>\n",
       "      <td>0.0</td>\n",
       "      <td>0.0</td>\n",
       "      <td>0.000000</td>\n",
       "      <td>0.000000</td>\n",
       "      <td>0.000000</td>\n",
       "      <td>0.0</td>\n",
       "      <td>...</td>\n",
       "      <td>0.000000</td>\n",
       "      <td>0.000000</td>\n",
       "      <td>0.264003</td>\n",
       "      <td>0.000000</td>\n",
       "      <td>0.0</td>\n",
       "      <td>0.000000</td>\n",
       "      <td>0.000000</td>\n",
       "      <td>0.000000</td>\n",
       "      <td>0.0</td>\n",
       "      <td>0.0</td>\n",
       "    </tr>\n",
       "    <tr>\n",
       "      <th>49396</th>\n",
       "      <td>0.000000</td>\n",
       "      <td>0.0</td>\n",
       "      <td>0.0</td>\n",
       "      <td>0.000000</td>\n",
       "      <td>0.0</td>\n",
       "      <td>0.0</td>\n",
       "      <td>0.000000</td>\n",
       "      <td>0.000000</td>\n",
       "      <td>0.000000</td>\n",
       "      <td>0.0</td>\n",
       "      <td>...</td>\n",
       "      <td>0.000000</td>\n",
       "      <td>0.081744</td>\n",
       "      <td>0.000000</td>\n",
       "      <td>0.000000</td>\n",
       "      <td>0.0</td>\n",
       "      <td>0.000000</td>\n",
       "      <td>0.624259</td>\n",
       "      <td>0.106504</td>\n",
       "      <td>0.0</td>\n",
       "      <td>0.0</td>\n",
       "    </tr>\n",
       "    <tr>\n",
       "      <th>49397</th>\n",
       "      <td>0.430122</td>\n",
       "      <td>0.0</td>\n",
       "      <td>0.0</td>\n",
       "      <td>0.000000</td>\n",
       "      <td>0.0</td>\n",
       "      <td>0.0</td>\n",
       "      <td>0.000000</td>\n",
       "      <td>0.000000</td>\n",
       "      <td>0.000000</td>\n",
       "      <td>0.0</td>\n",
       "      <td>...</td>\n",
       "      <td>0.000000</td>\n",
       "      <td>0.000000</td>\n",
       "      <td>0.000000</td>\n",
       "      <td>0.000000</td>\n",
       "      <td>0.0</td>\n",
       "      <td>0.000000</td>\n",
       "      <td>0.000000</td>\n",
       "      <td>0.000000</td>\n",
       "      <td>0.0</td>\n",
       "      <td>0.0</td>\n",
       "    </tr>\n",
       "  </tbody>\n",
       "</table>\n",
       "<p>49398 rows × 167 columns</p>\n",
       "</div>"
      ],
      "text/plain": [
       "         action  actually  add    almost  also  always     amaze   amazing  \\\n",
       "0      0.000000       0.0  0.0  0.000000   0.0     0.0  0.000000  0.000000   \n",
       "1      0.000000       0.0  0.0  0.000000   0.0     0.0  0.000000  0.000000   \n",
       "2      0.000000       0.0  0.0  0.000000   0.0     0.0  0.000000  0.335059   \n",
       "3      0.000000       0.0  0.0  0.000000   0.0     0.0  0.000000  0.000000   \n",
       "4      0.000000       0.0  0.0  0.000000   0.0     0.0  0.000000  0.000000   \n",
       "...         ...       ...  ...       ...   ...     ...       ...       ...   \n",
       "49393  0.000000       0.0  0.0  0.000000   0.0     0.0  0.000000  0.000000   \n",
       "49394  0.000000       0.0  0.0  0.000000   0.0     0.0  0.326874  0.000000   \n",
       "49395  0.000000       0.0  0.0  0.137617   0.0     0.0  0.000000  0.000000   \n",
       "49396  0.000000       0.0  0.0  0.000000   0.0     0.0  0.000000  0.000000   \n",
       "49397  0.430122       0.0  0.0  0.000000   0.0     0.0  0.000000  0.000000   \n",
       "\n",
       "       anything  awesome  ...      want       way    weapon      well  whole  \\\n",
       "0      0.000000      0.0  ...  0.250395  0.000000  0.000000  0.197517    0.0   \n",
       "1      0.000000      0.0  ...  0.153453  0.000000  0.000000  0.000000    0.0   \n",
       "2      0.000000      0.0  ...  0.000000  0.000000  0.000000  0.000000    0.0   \n",
       "3      0.000000      0.0  ...  0.000000  0.000000  0.000000  0.000000    0.0   \n",
       "4      0.000000      0.0  ...  0.000000  0.000000  0.000000  0.000000    0.0   \n",
       "...         ...      ...  ...       ...       ...       ...       ...    ...   \n",
       "49393  0.091765      0.0  ...  0.000000  0.066300  0.000000  0.000000    0.0   \n",
       "49394  0.000000      0.0  ...  0.000000  0.000000  0.000000  0.000000    0.0   \n",
       "49395  0.000000      0.0  ...  0.000000  0.000000  0.264003  0.000000    0.0   \n",
       "49396  0.000000      0.0  ...  0.000000  0.081744  0.000000  0.000000    0.0   \n",
       "49397  0.000000      0.0  ...  0.000000  0.000000  0.000000  0.000000    0.0   \n",
       "\n",
       "           work     world     worth  year  yet  \n",
       "0      0.291919  0.000000  0.000000   0.0  0.0  \n",
       "1      0.000000  0.000000  0.000000   0.0  0.0  \n",
       "2      0.000000  0.000000  0.000000   0.0  0.0  \n",
       "3      0.000000  0.000000  0.000000   0.0  0.0  \n",
       "4      0.000000  0.000000  0.000000   0.0  0.0  \n",
       "...         ...       ...       ...   ...  ...  \n",
       "49393  0.000000  0.000000  0.086383   0.0  0.0  \n",
       "49394  0.000000  0.000000  0.000000   0.0  0.0  \n",
       "49395  0.000000  0.000000  0.000000   0.0  0.0  \n",
       "49396  0.000000  0.624259  0.106504   0.0  0.0  \n",
       "49397  0.000000  0.000000  0.000000   0.0  0.0  \n",
       "\n",
       "[49398 rows x 167 columns]"
      ]
     },
     "execution_count": 43,
     "metadata": {},
     "output_type": "execute_result"
    }
   ],
   "source": [
    "bow_mat_tr"
   ]
  },
  {
   "cell_type": "markdown",
   "metadata": {},
   "source": [
    "# MODEL"
   ]
  },
  {
   "cell_type": "markdown",
   "metadata": {},
   "source": [
    "- baseline"
   ]
  },
  {
   "cell_type": "code",
   "execution_count": 18,
   "metadata": {},
   "outputs": [],
   "source": [
    "model_1 = Sequential()\n",
    "model_1.add(Dense(64, activation='relu', input_shape=(167,)))\n",
    "model_1.add(Dense(30, activation='relu'))\n",
    "model_1.add(Dense(1, activation='linear'))\n",
    "\n",
    "opt = Adam(learning_rate=0.0003, beta_1=0.9, beta_2=0.999, epsilon=1e-07)\n",
    "\n",
    "model_1.compile(loss = \"mean_squared_error\", optimizer=opt, metrics=['mean_absolute_error'])"
   ]
  },
  {
   "cell_type": "code",
   "execution_count": 19,
   "metadata": {},
   "outputs": [
    {
     "name": "stdout",
     "output_type": "stream",
     "text": [
      "Epoch 1/50\n",
      "155/155 [==============================] - 2s 4ms/step - loss: 52.6714 - mean_absolute_error: 6.7782 - val_loss: 23.0589 - val_mean_absolute_error: 4.3755\n",
      "Epoch 2/50\n",
      "155/155 [==============================] - 0s 3ms/step - loss: 11.7657 - mean_absolute_error: 2.9267 - val_loss: 8.9016 - val_mean_absolute_error: 2.4537\n",
      "Epoch 3/50\n",
      "155/155 [==============================] - 0s 3ms/step - loss: 8.0454 - mean_absolute_error: 2.3212 - val_loss: 7.3077 - val_mean_absolute_error: 2.1830\n",
      "Epoch 4/50\n",
      "155/155 [==============================] - 0s 3ms/step - loss: 6.6876 - mean_absolute_error: 2.0681 - val_loss: 6.1793 - val_mean_absolute_error: 1.9586\n",
      "Epoch 5/50\n",
      "155/155 [==============================] - 0s 3ms/step - loss: 5.8376 - mean_absolute_error: 1.8956 - val_loss: 5.5467 - val_mean_absolute_error: 1.8337\n",
      "Epoch 6/50\n",
      "155/155 [==============================] - 0s 3ms/step - loss: 5.3832 - mean_absolute_error: 1.8048 - val_loss: 5.2016 - val_mean_absolute_error: 1.7659\n",
      "Epoch 7/50\n",
      "155/155 [==============================] - 0s 3ms/step - loss: 5.0999 - mean_absolute_error: 1.7503 - val_loss: 4.9615 - val_mean_absolute_error: 1.7112\n",
      "Epoch 8/50\n",
      "155/155 [==============================] - 0s 3ms/step - loss: 4.8781 - mean_absolute_error: 1.7043 - val_loss: 4.7725 - val_mean_absolute_error: 1.6732\n",
      "Epoch 9/50\n",
      "155/155 [==============================] - 0s 3ms/step - loss: 4.7027 - mean_absolute_error: 1.6671 - val_loss: 4.6402 - val_mean_absolute_error: 1.6303\n",
      "Epoch 10/50\n",
      "155/155 [==============================] - 0s 3ms/step - loss: 4.5744 - mean_absolute_error: 1.6353 - val_loss: 4.5428 - val_mean_absolute_error: 1.6113\n",
      "Epoch 11/50\n",
      "155/155 [==============================] - 1s 3ms/step - loss: 4.4871 - mean_absolute_error: 1.6121 - val_loss: 4.4815 - val_mean_absolute_error: 1.6009\n",
      "Epoch 12/50\n",
      "155/155 [==============================] - 0s 3ms/step - loss: 4.4349 - mean_absolute_error: 1.5977 - val_loss: 4.4482 - val_mean_absolute_error: 1.5933\n",
      "Epoch 13/50\n",
      "155/155 [==============================] - 1s 3ms/step - loss: 4.4049 - mean_absolute_error: 1.5890 - val_loss: 4.4312 - val_mean_absolute_error: 1.5926\n",
      "Epoch 14/50\n",
      "155/155 [==============================] - 1s 3ms/step - loss: 4.3839 - mean_absolute_error: 1.5814 - val_loss: 4.4246 - val_mean_absolute_error: 1.5752\n",
      "Epoch 15/50\n",
      "155/155 [==============================] - 0s 3ms/step - loss: 4.3736 - mean_absolute_error: 1.5781 - val_loss: 4.4165 - val_mean_absolute_error: 1.5772\n",
      "Epoch 16/50\n",
      "155/155 [==============================] - 0s 3ms/step - loss: 4.3671 - mean_absolute_error: 1.5751 - val_loss: 4.4178 - val_mean_absolute_error: 1.5905\n",
      "Epoch 17/50\n",
      "155/155 [==============================] - 0s 3ms/step - loss: 4.3593 - mean_absolute_error: 1.5725 - val_loss: 4.4144 - val_mean_absolute_error: 1.5826\n",
      "Epoch 18/50\n",
      "155/155 [==============================] - 0s 3ms/step - loss: 4.3531 - mean_absolute_error: 1.5715 - val_loss: 4.4177 - val_mean_absolute_error: 1.5664\n",
      "Epoch 19/50\n",
      "155/155 [==============================] - 0s 3ms/step - loss: 4.3475 - mean_absolute_error: 1.5699 - val_loss: 4.4125 - val_mean_absolute_error: 1.5721\n",
      "Epoch 20/50\n",
      "155/155 [==============================] - 1s 3ms/step - loss: 4.3425 - mean_absolute_error: 1.5677 - val_loss: 4.4160 - val_mean_absolute_error: 1.5659\n",
      "Epoch 21/50\n",
      "155/155 [==============================] - 0s 3ms/step - loss: 4.3359 - mean_absolute_error: 1.5661 - val_loss: 4.4102 - val_mean_absolute_error: 1.5739\n",
      "Epoch 22/50\n",
      "155/155 [==============================] - 0s 3ms/step - loss: 4.3305 - mean_absolute_error: 1.5658 - val_loss: 4.4085 - val_mean_absolute_error: 1.5816\n",
      "Epoch 23/50\n",
      "155/155 [==============================] - 0s 3ms/step - loss: 4.3227 - mean_absolute_error: 1.5645 - val_loss: 4.4133 - val_mean_absolute_error: 1.5612\n",
      "Epoch 24/50\n",
      "155/155 [==============================] - 0s 3ms/step - loss: 4.3171 - mean_absolute_error: 1.5618 - val_loss: 4.4106 - val_mean_absolute_error: 1.5915\n",
      "Epoch 25/50\n",
      "155/155 [==============================] - 0s 3ms/step - loss: 4.3117 - mean_absolute_error: 1.5621 - val_loss: 4.4092 - val_mean_absolute_error: 1.5636\n",
      "Epoch 26/50\n",
      "155/155 [==============================] - 0s 3ms/step - loss: 4.3030 - mean_absolute_error: 1.5609 - val_loss: 4.4060 - val_mean_absolute_error: 1.5628\n",
      "Epoch 27/50\n",
      "155/155 [==============================] - 0s 3ms/step - loss: 4.2968 - mean_absolute_error: 1.5577 - val_loss: 4.4016 - val_mean_absolute_error: 1.5845\n",
      "Epoch 28/50\n",
      "155/155 [==============================] - 0s 3ms/step - loss: 4.2842 - mean_absolute_error: 1.5572 - val_loss: 4.3991 - val_mean_absolute_error: 1.5655\n",
      "Epoch 29/50\n",
      "155/155 [==============================] - 0s 3ms/step - loss: 4.2782 - mean_absolute_error: 1.5538 - val_loss: 4.3946 - val_mean_absolute_error: 1.5688\n",
      "Epoch 30/50\n",
      "155/155 [==============================] - 0s 3ms/step - loss: 4.2642 - mean_absolute_error: 1.5526 - val_loss: 4.3925 - val_mean_absolute_error: 1.5629\n",
      "Epoch 31/50\n",
      "155/155 [==============================] - 0s 3ms/step - loss: 4.2522 - mean_absolute_error: 1.5490 - val_loss: 4.3822 - val_mean_absolute_error: 1.5591\n",
      "Epoch 32/50\n",
      "155/155 [==============================] - 0s 3ms/step - loss: 4.2309 - mean_absolute_error: 1.5439 - val_loss: 4.3688 - val_mean_absolute_error: 1.5605\n",
      "Epoch 33/50\n",
      "155/155 [==============================] - 1s 3ms/step - loss: 4.2096 - mean_absolute_error: 1.5385 - val_loss: 4.3542 - val_mean_absolute_error: 1.5681\n",
      "Epoch 34/50\n",
      "155/155 [==============================] - 1s 3ms/step - loss: 4.1843 - mean_absolute_error: 1.5319 - val_loss: 4.3391 - val_mean_absolute_error: 1.5531\n",
      "Epoch 35/50\n",
      "155/155 [==============================] - 1s 3ms/step - loss: 4.1548 - mean_absolute_error: 1.5232 - val_loss: 4.3222 - val_mean_absolute_error: 1.5341\n",
      "Epoch 36/50\n",
      "155/155 [==============================] - 0s 3ms/step - loss: 4.1233 - mean_absolute_error: 1.5131 - val_loss: 4.2979 - val_mean_absolute_error: 1.5405\n",
      "Epoch 37/50\n",
      "155/155 [==============================] - 0s 3ms/step - loss: 4.0878 - mean_absolute_error: 1.5026 - val_loss: 4.2782 - val_mean_absolute_error: 1.5263\n",
      "Epoch 38/50\n",
      "155/155 [==============================] - 0s 3ms/step - loss: 4.0575 - mean_absolute_error: 1.4934 - val_loss: 4.2695 - val_mean_absolute_error: 1.5068\n",
      "Epoch 39/50\n",
      "155/155 [==============================] - 0s 3ms/step - loss: 4.0228 - mean_absolute_error: 1.4811 - val_loss: 4.2390 - val_mean_absolute_error: 1.5197\n",
      "Epoch 40/50\n",
      "155/155 [==============================] - 0s 3ms/step - loss: 3.9922 - mean_absolute_error: 1.4727 - val_loss: 4.2307 - val_mean_absolute_error: 1.5258\n",
      "Epoch 41/50\n",
      "155/155 [==============================] - 0s 3ms/step - loss: 3.9651 - mean_absolute_error: 1.4656 - val_loss: 4.2259 - val_mean_absolute_error: 1.4902\n",
      "Epoch 42/50\n",
      "155/155 [==============================] - 1s 3ms/step - loss: 3.9410 - mean_absolute_error: 1.4574 - val_loss: 4.2115 - val_mean_absolute_error: 1.4961\n",
      "Epoch 43/50\n",
      "155/155 [==============================] - 0s 3ms/step - loss: 3.9203 - mean_absolute_error: 1.4507 - val_loss: 4.2094 - val_mean_absolute_error: 1.4867\n",
      "Epoch 44/50\n",
      "155/155 [==============================] - 1s 3ms/step - loss: 3.8998 - mean_absolute_error: 1.4450 - val_loss: 4.2118 - val_mean_absolute_error: 1.4835\n",
      "Epoch 45/50\n",
      "155/155 [==============================] - 1s 3ms/step - loss: 3.8818 - mean_absolute_error: 1.4401 - val_loss: 4.2054 - val_mean_absolute_error: 1.4936\n",
      "Epoch 46/50\n",
      "155/155 [==============================] - 0s 3ms/step - loss: 3.8688 - mean_absolute_error: 1.4359 - val_loss: 4.2040 - val_mean_absolute_error: 1.4859\n",
      "Epoch 47/50\n",
      "155/155 [==============================] - 0s 3ms/step - loss: 3.8527 - mean_absolute_error: 1.4333 - val_loss: 4.2069 - val_mean_absolute_error: 1.4839\n",
      "Epoch 48/50\n",
      "155/155 [==============================] - 0s 3ms/step - loss: 3.8391 - mean_absolute_error: 1.4284 - val_loss: 4.2073 - val_mean_absolute_error: 1.4888\n",
      "Epoch 49/50\n",
      "155/155 [==============================] - 0s 3ms/step - loss: 3.8278 - mean_absolute_error: 1.4264 - val_loss: 4.2093 - val_mean_absolute_error: 1.4947\n",
      "Epoch 50/50\n",
      "155/155 [==============================] - 0s 3ms/step - loss: 3.8108 - mean_absolute_error: 1.4226 - val_loss: 4.2181 - val_mean_absolute_error: 1.4816\n"
     ]
    }
   ],
   "source": [
    "results_1 = model_1.fit(bow_mat_tr, y_train, validation_split = 0.2, epochs=50, batch_size=256)"
   ]
  },
  {
   "cell_type": "code",
   "execution_count": 20,
   "metadata": {},
   "outputs": [
    {
     "data": {
      "text/plain": [
       "dict_keys(['loss', 'mean_absolute_error', 'val_loss', 'val_mean_absolute_error'])"
      ]
     },
     "execution_count": 20,
     "metadata": {},
     "output_type": "execute_result"
    }
   ],
   "source": [
    "history_dict = results_1.history\n",
    "history_dict.keys()"
   ]
  },
  {
   "cell_type": "code",
   "execution_count": 21,
   "metadata": {},
   "outputs": [
    {
     "data": {
      "image/png": "[encoded data removed]",
      "text/plain": [
       "<Figure size 640x480 with 1 Axes>"
      ]
     },
     "metadata": {},
     "output_type": "display_data"
    }
   ],
   "source": [
    "plt.plot(results_1.history['val_loss'])\n",
    "plt.plot(results_1.history['loss'])\n",
    "plt.title('model mse')\n",
    "plt.ylabel('val loss')\n",
    "plt.xlabel('epoch')\n",
    "plt.legend(['train', 'val'], loc='upper left')\n",
    "plt.show()"
   ]
  },
  {
   "cell_type": "code",
   "execution_count": 22,
   "metadata": {},
   "outputs": [
    {
     "data": {
      "image/png": "[encoded data removed]",
      "text/plain": [
       "<Figure size 640x480 with 1 Axes>"
      ]
     },
     "metadata": {},
     "output_type": "display_data"
    }
   ],
   "source": [
    "plt.plot(results_1.history['val_mean_absolute_error'])\n",
    "plt.plot(results_1.history['mean_absolute_error'])\n",
    "plt.title('model mae')\n",
    "plt.ylabel('val_mean_absolute_error')\n",
    "plt.xlabel('epoch')\n",
    "plt.legend(['train', 'val'], loc='upper left')\n",
    "plt.show()"
   ]
  },
  {
   "cell_type": "code",
   "execution_count": 23,
   "metadata": {},
   "outputs": [
    {
     "name": "stdout",
     "output_type": "stream",
     "text": [
      "662/662 [==============================] - 1s 2ms/step - loss: 4.3531 - mean_absolute_error: 1.4965\n"
     ]
    },
    {
     "data": {
      "text/plain": [
       "[4.353050708770752, 1.4964686632156372]"
      ]
     },
     "execution_count": 23,
     "metadata": {},
     "output_type": "execute_result"
    }
   ],
   "source": [
    "model_1.evaluate(bow_mat_te, y_test)"
   ]
  },
  {
   "cell_type": "code",
   "execution_count": 48,
   "metadata": {},
   "outputs": [
    {
     "name": "stdout",
     "output_type": "stream",
     "text": [
      "662/662 [==============================] - 1s 1ms/step\n",
      "test MSE 4.353051771814116\n",
      "test MAE 1.4964686763916675\n",
      "1544/1544 [==============================] - 2s 967us/step\n",
      "train MSE 3.8706399118463906\n",
      "train MAE 1.4229598887642703\n"
     ]
    }
   ],
   "source": [
    "y_pred = model_1.predict(bow_mat_te)\n",
    "print(f'test MSE {mean_squared_error(y_test, y_pred)}')\n",
    "print(f'test MAE {mean_absolute_error(y_test, y_pred)}')\n",
    "\n",
    "y_pred = model_1.predict(bow_mat_tr)\n",
    "print(f'train MSE {mean_squared_error(y_train, y_pred)}')\n",
    "print(f'train MAE {mean_absolute_error(y_train, y_pred)}')"
   ]
  },
  {
   "cell_type": "markdown",
   "metadata": {},
   "source": [
    "- man tuning"
   ]
  },
  {
   "cell_type": "code",
   "execution_count": 38,
   "metadata": {},
   "outputs": [],
   "source": [
    "model_2 = Sequential()\n",
    "model_2.add(Dense(32, activation='relu', input_shape=(167,)))\n",
    "model_2.add(Dropout(0.2))\n",
    "model_2.add(Dense(16, activation='relu'))\n",
    "model_2.add(Dropout(0.1))\n",
    "model_2.add(Dense(8, activation='relu'))\n",
    "model_2.add(Dense(8, activation='relu'))\n",
    "model_2.add(Dense(1, activation='linear'))\n",
    "\n",
    "opt = Adam(learning_rate=0.0001, beta_1=0.9, beta_2=0.999, epsilon=1e-07)\n",
    "\n",
    "model_2.compile(loss = \"mean_squared_error\", optimizer=opt, metrics=['mean_absolute_error'])"
   ]
  },
  {
   "cell_type": "code",
   "execution_count": 39,
   "metadata": {},
   "outputs": [
    {
     "name": "stdout",
     "output_type": "stream",
     "text": [
      "Epoch 1/50\n",
      "155/155 [==============================] - 1s 5ms/step - loss: 70.4130 - mean_absolute_error: 8.0318 - val_loss: 68.1437 - val_mean_absolute_error: 7.8833\n",
      "Epoch 2/50\n",
      "155/155 [==============================] - 1s 4ms/step - loss: 64.4407 - mean_absolute_error: 7.6459 - val_loss: 58.4009 - val_mean_absolute_error: 7.2343\n",
      "Epoch 3/50\n",
      "155/155 [==============================] - 1s 4ms/step - loss: 49.4364 - mean_absolute_error: 6.5950 - val_loss: 37.6234 - val_mean_absolute_error: 5.6940\n",
      "Epoch 4/50\n",
      "155/155 [==============================] - 1s 4ms/step - loss: 26.7214 - mean_absolute_error: 4.6920 - val_loss: 16.1360 - val_mean_absolute_error: 3.6235\n",
      "Epoch 5/50\n",
      "155/155 [==============================] - 1s 4ms/step - loss: 13.0855 - mean_absolute_error: 3.1389 - val_loss: 9.7706 - val_mean_absolute_error: 2.6720\n",
      "Epoch 6/50\n",
      "155/155 [==============================] - 1s 4ms/step - loss: 10.6019 - mean_absolute_error: 2.7120 - val_loss: 8.9779 - val_mean_absolute_error: 2.4943\n",
      "Epoch 7/50\n",
      "155/155 [==============================] - 1s 4ms/step - loss: 10.0557 - mean_absolute_error: 2.6150 - val_loss: 8.5136 - val_mean_absolute_error: 2.4167\n",
      "Epoch 8/50\n",
      "155/155 [==============================] - 1s 4ms/step - loss: 9.5953 - mean_absolute_error: 2.5425 - val_loss: 8.0792 - val_mean_absolute_error: 2.3432\n",
      "Epoch 9/50\n",
      "155/155 [==============================] - 1s 4ms/step - loss: 9.2122 - mean_absolute_error: 2.4799 - val_loss: 7.6671 - val_mean_absolute_error: 2.2707\n",
      "Epoch 10/50\n",
      "155/155 [==============================] - 1s 4ms/step - loss: 8.9029 - mean_absolute_error: 2.4336 - val_loss: 7.2687 - val_mean_absolute_error: 2.1984\n",
      "Epoch 11/50\n",
      "155/155 [==============================] - 1s 4ms/step - loss: 8.3711 - mean_absolute_error: 2.3468 - val_loss: 6.8833 - val_mean_absolute_error: 2.1248\n",
      "Epoch 12/50\n",
      "155/155 [==============================] - 1s 4ms/step - loss: 8.0371 - mean_absolute_error: 2.2910 - val_loss: 6.5259 - val_mean_absolute_error: 2.0574\n",
      "Epoch 13/50\n",
      "155/155 [==============================] - 1s 4ms/step - loss: 7.6762 - mean_absolute_error: 2.2324 - val_loss: 6.1954 - val_mean_absolute_error: 1.9839\n",
      "Epoch 14/50\n",
      "155/155 [==============================] - 1s 4ms/step - loss: 7.3602 - mean_absolute_error: 2.1758 - val_loss: 5.9135 - val_mean_absolute_error: 1.9233\n",
      "Epoch 15/50\n",
      "155/155 [==============================] - 1s 4ms/step - loss: 7.1106 - mean_absolute_error: 2.1345 - val_loss: 5.7014 - val_mean_absolute_error: 1.8898\n",
      "Epoch 16/50\n",
      "155/155 [==============================] - 1s 4ms/step - loss: 6.8949 - mean_absolute_error: 2.0990 - val_loss: 5.5017 - val_mean_absolute_error: 1.8429\n",
      "Epoch 17/50\n",
      "155/155 [==============================] - 1s 4ms/step - loss: 6.7087 - mean_absolute_error: 2.0685 - val_loss: 5.3422 - val_mean_absolute_error: 1.8056\n",
      "Epoch 18/50\n",
      "155/155 [==============================] - 1s 4ms/step - loss: 6.4981 - mean_absolute_error: 2.0336 - val_loss: 5.2221 - val_mean_absolute_error: 1.7848\n",
      "Epoch 19/50\n",
      "155/155 [==============================] - 1s 4ms/step - loss: 6.3661 - mean_absolute_error: 2.0095 - val_loss: 5.1151 - val_mean_absolute_error: 1.7628\n",
      "Epoch 20/50\n",
      "155/155 [==============================] - 1s 4ms/step - loss: 6.2806 - mean_absolute_error: 1.9917 - val_loss: 5.0238 - val_mean_absolute_error: 1.7435\n",
      "Epoch 21/50\n",
      "155/155 [==============================] - 1s 4ms/step - loss: 6.1726 - mean_absolute_error: 1.9745 - val_loss: 4.9477 - val_mean_absolute_error: 1.7291\n",
      "Epoch 22/50\n",
      "155/155 [==============================] - 1s 4ms/step - loss: 6.0794 - mean_absolute_error: 1.9603 - val_loss: 4.8784 - val_mean_absolute_error: 1.7150\n",
      "Epoch 23/50\n",
      "155/155 [==============================] - 1s 4ms/step - loss: 6.0080 - mean_absolute_error: 1.9435 - val_loss: 4.8187 - val_mean_absolute_error: 1.7029\n",
      "Epoch 24/50\n",
      "155/155 [==============================] - 1s 4ms/step - loss: 5.9370 - mean_absolute_error: 1.9320 - val_loss: 4.7759 - val_mean_absolute_error: 1.6997\n",
      "Epoch 25/50\n",
      "155/155 [==============================] - 1s 5ms/step - loss: 5.8376 - mean_absolute_error: 1.9148 - val_loss: 4.7226 - val_mean_absolute_error: 1.6860\n",
      "Epoch 26/50\n",
      "155/155 [==============================] - 1s 5ms/step - loss: 5.7600 - mean_absolute_error: 1.8976 - val_loss: 4.6867 - val_mean_absolute_error: 1.6825\n",
      "Epoch 27/50\n",
      "155/155 [==============================] - 1s 4ms/step - loss: 5.6891 - mean_absolute_error: 1.8826 - val_loss: 4.6473 - val_mean_absolute_error: 1.6729\n",
      "Epoch 28/50\n",
      "155/155 [==============================] - 1s 4ms/step - loss: 5.5948 - mean_absolute_error: 1.8695 - val_loss: 4.6175 - val_mean_absolute_error: 1.6663\n",
      "Epoch 29/50\n",
      "155/155 [==============================] - 1s 4ms/step - loss: 5.6167 - mean_absolute_error: 1.8708 - val_loss: 4.5813 - val_mean_absolute_error: 1.6526\n",
      "Epoch 30/50\n",
      "155/155 [==============================] - 1s 4ms/step - loss: 5.5571 - mean_absolute_error: 1.8571 - val_loss: 4.5580 - val_mean_absolute_error: 1.6469\n",
      "Epoch 31/50\n",
      "155/155 [==============================] - 1s 4ms/step - loss: 5.4914 - mean_absolute_error: 1.8456 - val_loss: 4.5340 - val_mean_absolute_error: 1.6369\n",
      "Epoch 32/50\n",
      "155/155 [==============================] - 1s 4ms/step - loss: 5.4962 - mean_absolute_error: 1.8447 - val_loss: 4.5212 - val_mean_absolute_error: 1.6364\n",
      "Epoch 33/50\n",
      "155/155 [==============================] - 1s 4ms/step - loss: 5.4292 - mean_absolute_error: 1.8298 - val_loss: 4.5362 - val_mean_absolute_error: 1.6557\n",
      "Epoch 34/50\n",
      "155/155 [==============================] - 1s 4ms/step - loss: 5.4297 - mean_absolute_error: 1.8269 - val_loss: 4.5272 - val_mean_absolute_error: 1.6549\n",
      "Epoch 35/50\n",
      "155/155 [==============================] - 1s 4ms/step - loss: 5.3908 - mean_absolute_error: 1.8189 - val_loss: 4.4930 - val_mean_absolute_error: 1.6339\n",
      "Epoch 36/50\n",
      "155/155 [==============================] - 1s 4ms/step - loss: 5.3199 - mean_absolute_error: 1.8066 - val_loss: 4.4845 - val_mean_absolute_error: 1.6310\n",
      "Epoch 37/50\n",
      "155/155 [==============================] - 1s 4ms/step - loss: 5.2930 - mean_absolute_error: 1.7993 - val_loss: 4.4744 - val_mean_absolute_error: 1.6255\n",
      "Epoch 38/50\n",
      "155/155 [==============================] - 1s 4ms/step - loss: 5.2836 - mean_absolute_error: 1.7949 - val_loss: 4.4601 - val_mean_absolute_error: 1.6144\n",
      "Epoch 39/50\n",
      "155/155 [==============================] - 1s 4ms/step - loss: 5.2591 - mean_absolute_error: 1.7893 - val_loss: 4.4638 - val_mean_absolute_error: 1.6210\n",
      "Epoch 40/50\n",
      "155/155 [==============================] - 1s 4ms/step - loss: 5.2218 - mean_absolute_error: 1.7831 - val_loss: 4.4760 - val_mean_absolute_error: 1.6328\n",
      "Epoch 41/50\n",
      "155/155 [==============================] - 1s 4ms/step - loss: 5.2347 - mean_absolute_error: 1.7841 - val_loss: 4.4713 - val_mean_absolute_error: 1.6296\n",
      "Epoch 42/50\n",
      "155/155 [==============================] - 1s 4ms/step - loss: 5.1800 - mean_absolute_error: 1.7727 - val_loss: 4.4906 - val_mean_absolute_error: 1.6446\n",
      "Epoch 43/50\n",
      "155/155 [==============================] - 1s 5ms/step - loss: 5.1504 - mean_absolute_error: 1.7676 - val_loss: 4.4666 - val_mean_absolute_error: 1.6266\n",
      "Epoch 44/50\n",
      "155/155 [==============================] - 1s 4ms/step - loss: 5.1615 - mean_absolute_error: 1.7679 - val_loss: 4.4516 - val_mean_absolute_error: 1.6122\n",
      "Epoch 45/50\n",
      "155/155 [==============================] - 1s 4ms/step - loss: 5.1655 - mean_absolute_error: 1.7665 - val_loss: 4.4639 - val_mean_absolute_error: 1.6244\n",
      "Epoch 46/50\n",
      "155/155 [==============================] - 1s 4ms/step - loss: 5.0918 - mean_absolute_error: 1.7535 - val_loss: 4.4693 - val_mean_absolute_error: 1.6285\n",
      "Epoch 47/50\n",
      "155/155 [==============================] - 1s 4ms/step - loss: 5.1359 - mean_absolute_error: 1.7582 - val_loss: 4.5001 - val_mean_absolute_error: 1.6508\n",
      "Epoch 48/50\n",
      "155/155 [==============================] - 1s 4ms/step - loss: 5.1230 - mean_absolute_error: 1.7560 - val_loss: 4.4831 - val_mean_absolute_error: 1.6381\n",
      "Epoch 49/50\n",
      "155/155 [==============================] - 1s 4ms/step - loss: 5.0458 - mean_absolute_error: 1.7452 - val_loss: 4.4674 - val_mean_absolute_error: 1.6254\n",
      "Epoch 50/50\n",
      "155/155 [==============================] - 1s 4ms/step - loss: 5.0973 - mean_absolute_error: 1.7516 - val_loss: 4.4774 - val_mean_absolute_error: 1.6326\n"
     ]
    }
   ],
   "source": [
    "results_2 = model_2.fit(bow_mat_tr, y_train, validation_split = 0.2, epochs=50, batch_size=256)"
   ]
  },
  {
   "cell_type": "code",
   "execution_count": 40,
   "metadata": {},
   "outputs": [
    {
     "data": {
      "text/plain": [
       "dict_keys(['loss', 'mean_absolute_error', 'val_loss', 'val_mean_absolute_error'])"
      ]
     },
     "execution_count": 40,
     "metadata": {},
     "output_type": "execute_result"
    }
   ],
   "source": [
    "history_dict = results_2.history\n",
    "history_dict.keys()"
   ]
  },
  {
   "cell_type": "code",
   "execution_count": 41,
   "metadata": {},
   "outputs": [
    {
     "data": {
      "image/png": "[encoded data removed]",
      "text/plain": [
       "<Figure size 640x480 with 1 Axes>"
      ]
     },
     "metadata": {},
     "output_type": "display_data"
    }
   ],
   "source": [
    "plt.plot(results_2.history['val_loss'])\n",
    "plt.plot(results_2.history['loss'])\n",
    "plt.title('model mse')\n",
    "plt.ylabel('val loss')\n",
    "plt.xlabel('epoch')\n",
    "plt.legend(['train', 'val'], loc='upper left')\n",
    "plt.show()"
   ]
  },
  {
   "cell_type": "code",
   "execution_count": 42,
   "metadata": {},
   "outputs": [
    {
     "name": "stdout",
     "output_type": "stream",
     "text": [
      "662/662 [==============================] - 1s 2ms/step - loss: 4.6183 - mean_absolute_error: 1.6565\n"
     ]
    },
    {
     "data": {
      "text/plain": [
       "[4.618277072906494, 1.6564968824386597]"
      ]
     },
     "execution_count": 42,
     "metadata": {},
     "output_type": "execute_result"
    }
   ],
   "source": [
    "model_2.evaluate(bow_mat_te, y_test)"
   ]
  },
  {
   "cell_type": "code",
   "execution_count": 49,
   "metadata": {},
   "outputs": [
    {
     "name": "stdout",
     "output_type": "stream",
     "text": [
      "662/662 [==============================] - 1s 1ms/step\n",
      "test MSE 4.618279038637183\n",
      "test MAE 1.6564970497010443\n",
      "1544/1544 [==============================] - 2s 1ms/step\n",
      "train MSE 4.442326709816271\n",
      "train MAE 1.629030653656125\n"
     ]
    }
   ],
   "source": [
    "y_pred = model_2.predict(bow_mat_te)\n",
    "print(f'test MSE {mean_squared_error(y_test, y_pred)}')\n",
    "print(f'test MAE {mean_absolute_error(y_test, y_pred)}')\n",
    "\n",
    "y_pred = model_2.predict(bow_mat_tr)\n",
    "print(f'train MSE {mean_squared_error(y_train, y_pred)}')\n",
    "print(f'train MAE {mean_absolute_error(y_train, y_pred)}')"
   ]
  },
  {
   "cell_type": "code",
   "execution_count": null,
   "metadata": {},
   "outputs": [],
   "source": []
  },
  {
   "cell_type": "markdown",
   "metadata": {},
   "source": [
    "# IMPUTE USERSCORE FOR STEAM REVIEWS"
   ]
  },
  {
   "cell_type": "code",
   "execution_count": 50,
   "metadata": {},
   "outputs": [
    {
     "data": {
      "text/html": [
       "<div>\n",
       "<style scoped>\n",
       "    .dataframe tbody tr th:only-of-type {\n",
       "        vertical-align: middle;\n",
       "    }\n",
       "\n",
       "    .dataframe tbody tr th {\n",
       "        vertical-align: top;\n",
       "    }\n",
       "\n",
       "    .dataframe thead th {\n",
       "        text-align: right;\n",
       "    }\n",
       "</style>\n",
       "<table border=\"1\" class=\"dataframe\">\n",
       "  <thead>\n",
       "    <tr style=\"text-align: right;\">\n",
       "      <th></th>\n",
       "      <th>title</th>\n",
       "      <th>user_review</th>\n",
       "      <th>user_suggestion</th>\n",
       "    </tr>\n",
       "  </thead>\n",
       "  <tbody>\n",
       "    <tr>\n",
       "      <th>0</th>\n",
       "      <td>Spooky's Jump Scare Mansion</td>\n",
       "      <td>I'm scared and hearing creepy voices.  So I'll...</td>\n",
       "      <td>1</td>\n",
       "    </tr>\n",
       "    <tr>\n",
       "      <th>1</th>\n",
       "      <td>Spooky's Jump Scare Mansion</td>\n",
       "      <td>Best game, more better than Sam Pepper's YouTu...</td>\n",
       "      <td>1</td>\n",
       "    </tr>\n",
       "    <tr>\n",
       "      <th>2</th>\n",
       "      <td>Spooky's Jump Scare Mansion</td>\n",
       "      <td>A littly iffy on the controls, but once you kn...</td>\n",
       "      <td>1</td>\n",
       "    </tr>\n",
       "    <tr>\n",
       "      <th>3</th>\n",
       "      <td>Spooky's Jump Scare Mansion</td>\n",
       "      <td>Great game, fun and colorful and all that.A si...</td>\n",
       "      <td>1</td>\n",
       "    </tr>\n",
       "    <tr>\n",
       "      <th>4</th>\n",
       "      <td>Spooky's Jump Scare Mansion</td>\n",
       "      <td>Not many games have the cute tag right next to...</td>\n",
       "      <td>1</td>\n",
       "    </tr>\n",
       "  </tbody>\n",
       "</table>\n",
       "</div>"
      ],
      "text/plain": [
       "                         title  \\\n",
       "0  Spooky's Jump Scare Mansion   \n",
       "1  Spooky's Jump Scare Mansion   \n",
       "2  Spooky's Jump Scare Mansion   \n",
       "3  Spooky's Jump Scare Mansion   \n",
       "4  Spooky's Jump Scare Mansion   \n",
       "\n",
       "                                         user_review  user_suggestion  \n",
       "0  I'm scared and hearing creepy voices.  So I'll...                1  \n",
       "1  Best game, more better than Sam Pepper's YouTu...                1  \n",
       "2  A littly iffy on the controls, but once you kn...                1  \n",
       "3  Great game, fun and colorful and all that.A si...                1  \n",
       "4  Not many games have the cute tag right next to...                1  "
      ]
     },
     "execution_count": 50,
     "metadata": {},
     "output_type": "execute_result"
    }
   ],
   "source": [
    "df_steam = pd.read_csv('processed_df\\steam_review_nlp.csv')\n",
    "df_steam.head()"
   ]
  },
  {
   "cell_type": "code",
   "execution_count": 51,
   "metadata": {},
   "outputs": [],
   "source": [
    "df_steam = df_steam['user_review']"
   ]
  },
  {
   "cell_type": "code",
   "execution_count": 58,
   "metadata": {},
   "outputs": [],
   "source": [
    "X_imp = bow_vec.transform(df_steam)"
   ]
  },
  {
   "cell_type": "code",
   "execution_count": 59,
   "metadata": {},
   "outputs": [
    {
     "ename": "InvalidArgumentError",
     "evalue": "{{function_node __wrapped__SerializeManySparse_device_/job:localhost/replica:0/task:0/device:CPU:0}} indices[1] = [0,153] is out of order. Many sparse ops require sorted indices.\n    Use `tf.sparse.reorder` to create a correctly ordered copy.\n\n [Op:SerializeManySparse]",
     "output_type": "error",
     "traceback": [
      "\u001b[1;31m---------------------------------------------------------------------------\u001b[0m",
      "\u001b[1;31mInvalidArgumentError\u001b[0m                      Traceback (most recent call last)",
      "\u001b[1;32md:\\Flatiron\\DS_P4\\3_Modelling_Metacritic_NLP_tensorflow.ipynb Cell 37\u001b[0m in \u001b[0;36m<cell line: 1>\u001b[1;34m()\u001b[0m\n\u001b[1;32m----> <a href='vscode-notebook-cell:/d%3A/Flatiron/DS_P4/3_Modelling_Metacritic_NLP_tensorflow.ipynb#X55sZmlsZQ%3D%3D?line=0'>1</a>\u001b[0m y_pred \u001b[39m=\u001b[39m model_1\u001b[39m.\u001b[39;49mpredict(X_imp)\n",
      "File \u001b[1;32mc:\\Users\\qwswe\\Anaconda3\\envs\\tf\\lib\\site-packages\\keras\\utils\\traceback_utils.py:70\u001b[0m, in \u001b[0;36mfilter_traceback.<locals>.error_handler\u001b[1;34m(*args, **kwargs)\u001b[0m\n\u001b[0;32m     67\u001b[0m     filtered_tb \u001b[39m=\u001b[39m _process_traceback_frames(e\u001b[39m.\u001b[39m__traceback__)\n\u001b[0;32m     68\u001b[0m     \u001b[39m# To get the full stack trace, call:\u001b[39;00m\n\u001b[0;32m     69\u001b[0m     \u001b[39m# `tf.debugging.disable_traceback_filtering()`\u001b[39;00m\n\u001b[1;32m---> 70\u001b[0m     \u001b[39mraise\u001b[39;00m e\u001b[39m.\u001b[39mwith_traceback(filtered_tb) \u001b[39mfrom\u001b[39;00m \u001b[39mNone\u001b[39m\n\u001b[0;32m     71\u001b[0m \u001b[39mfinally\u001b[39;00m:\n\u001b[0;32m     72\u001b[0m     \u001b[39mdel\u001b[39;00m filtered_tb\n",
      "File \u001b[1;32mc:\\Users\\qwswe\\Anaconda3\\envs\\tf\\lib\\site-packages\\tensorflow\\python\\framework\\ops.py:7209\u001b[0m, in \u001b[0;36mraise_from_not_ok_status\u001b[1;34m(e, name)\u001b[0m\n\u001b[0;32m   7207\u001b[0m \u001b[39mdef\u001b[39;00m \u001b[39mraise_from_not_ok_status\u001b[39m(e, name):\n\u001b[0;32m   7208\u001b[0m   e\u001b[39m.\u001b[39mmessage \u001b[39m+\u001b[39m\u001b[39m=\u001b[39m (\u001b[39m\"\u001b[39m\u001b[39m name: \u001b[39m\u001b[39m\"\u001b[39m \u001b[39m+\u001b[39m name \u001b[39mif\u001b[39;00m name \u001b[39mis\u001b[39;00m \u001b[39mnot\u001b[39;00m \u001b[39mNone\u001b[39;00m \u001b[39melse\u001b[39;00m \u001b[39m\"\u001b[39m\u001b[39m\"\u001b[39m)\n\u001b[1;32m-> 7209\u001b[0m   \u001b[39mraise\u001b[39;00m core\u001b[39m.\u001b[39m_status_to_exception(e) \u001b[39mfrom\u001b[39;00m \u001b[39mNone\u001b[39m\n",
      "\u001b[1;31mInvalidArgumentError\u001b[0m: {{function_node __wrapped__SerializeManySparse_device_/job:localhost/replica:0/task:0/device:CPU:0}} indices[1] = [0,153] is out of order. Many sparse ops require sorted indices.\n    Use `tf.sparse.reorder` to create a correctly ordered copy.\n\n [Op:SerializeManySparse]"
     ]
    }
   ],
   "source": [
    "y_pred = model_1.predict(X_imp)"
   ]
  },
  {
   "cell_type": "code",
   "execution_count": null,
   "metadata": {},
   "outputs": [],
   "source": []
  },
  {
   "cell_type": "markdown",
   "metadata": {},
   "source": []
  }
 ],
 "metadata": {
  "kernelspec": {
   "display_name": "Python 3.9.13 ('tf')",
   "language": "python",
   "name": "python3"
  },
  "language_info": {
   "codemirror_mode": {
    "name": "ipython",
    "version": 3
   },
   "file_extension": ".py",
   "mimetype": "text/x-python",
   "name": "python",
   "nbconvert_exporter": "python",
   "pygments_lexer": "ipython3",
   "version": "3.9.13"
  },
  "orig_nbformat": 4,
  "vscode": {
   "interpreter": {
    "hash": "8d941500329789df683ebdc0e17676b710c54bb4cabcc0a3e1a6bd8b40cdaff6"
   }
  }
 },
 "nbformat": 4,
 "nbformat_minor": 2
}
