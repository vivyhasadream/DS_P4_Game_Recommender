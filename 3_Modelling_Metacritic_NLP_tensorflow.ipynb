{
 "cells": [
  {
   "cell_type": "code",
   "execution_count": 42,
   "metadata": {},
   "outputs": [],
   "source": [
    "import numpy as np\n",
    "import pandas as pd\n",
    "import matplotlib.pyplot as plt\n",
    "from sklearn.model_selection import train_test_split\n",
    "import nltk\n",
    "from nltk.tokenize import regexp_tokenize, word_tokenize, RegexpTokenizer\n",
    "from nltk.corpus import stopwords, wordnet\n",
    "from nltk import pos_tag\n",
    "from nltk.stem import WordNetLemmatizer\n",
    "from sklearn.ensemble import RandomForestClassifier\n",
    "from sklearn.naive_bayes import MultinomialNB\n",
    "from sklearn.metrics import mean_absolute_error, mean_squared_error, r2_score\n",
    "from sklearn.pipeline import Pipeline\n",
    "from sklearn.base import BaseEstimator, TransformerMixin\n",
    "from sklearn.feature_extraction.text import TfidfVectorizer, CountVectorizer\n",
    "\n",
    "import tensorflow as tf\n",
    "from tensorflow import keras\n",
    "from tensorflow.keras import layers\n",
    "from tensorflow.keras.models import Sequential\n",
    "from tensorflow.keras.layers import Dense, Dropout\n",
    "from tensorflow.keras.callbacks import EarlyStopping\n",
    "from tensorflow.keras.utils import to_categorical\n",
    "from tensorflow.keras.optimizers import Adam\n",
    "from tensorflow.keras.regularizers import L2\n",
    "\n",
    "import pickle\n",
    "import time"
   ]
  },
  {
   "cell_type": "markdown",
   "metadata": {},
   "source": [
    "# Import Data"
   ]
  },
  {
   "cell_type": "code",
   "execution_count": 4,
   "metadata": {},
   "outputs": [
    {
     "data": {
      "text/html": [
       "<div>\n",
       "<style scoped>\n",
       "    .dataframe tbody tr th:only-of-type {\n",
       "        vertical-align: middle;\n",
       "    }\n",
       "\n",
       "    .dataframe tbody tr th {\n",
       "        vertical-align: top;\n",
       "    }\n",
       "\n",
       "    .dataframe thead th {\n",
       "        text-align: right;\n",
       "    }\n",
       "</style>\n",
       "<table border=\"1\" class=\"dataframe\">\n",
       "  <thead>\n",
       "    <tr style=\"text-align: right;\">\n",
       "      <th></th>\n",
       "      <th>Title</th>\n",
       "      <th>Userscore</th>\n",
       "      <th>Comment</th>\n",
       "      <th>lang</th>\n",
       "    </tr>\n",
       "  </thead>\n",
       "  <tbody>\n",
       "    <tr>\n",
       "      <th>211190</th>\n",
       "      <td>Star Wars: Battlefront II</td>\n",
       "      <td>2.0</td>\n",
       "      <td>there nothing quite gun entire platoon clone d...</td>\n",
       "      <td>en</td>\n",
       "    </tr>\n",
       "    <tr>\n",
       "      <th>39249</th>\n",
       "      <td>The Witcher 3: Wild Hunt</td>\n",
       "      <td>10.0</td>\n",
       "      <td>game absolutely gorgeous run steady gtx hairwo...</td>\n",
       "      <td>en</td>\n",
       "    </tr>\n",
       "    <tr>\n",
       "      <th>204931</th>\n",
       "      <td>This War of Mine</td>\n",
       "      <td>10.0</td>\n",
       "      <td>really good game didnt expect first survival g...</td>\n",
       "      <td>en</td>\n",
       "    </tr>\n",
       "    <tr>\n",
       "      <th>75752</th>\n",
       "      <td>Golden Sun</td>\n",
       "      <td>10.0</td>\n",
       "      <td>people eagerly anticipate initial release game...</td>\n",
       "      <td>en</td>\n",
       "    </tr>\n",
       "    <tr>\n",
       "      <th>199503</th>\n",
       "      <td>Assassin's Creed IV: Black Flag</td>\n",
       "      <td>8.0</td>\n",
       "      <td>best assassin creed far open world fresh missi...</td>\n",
       "      <td>en</td>\n",
       "    </tr>\n",
       "  </tbody>\n",
       "</table>\n",
       "</div>"
      ],
      "text/plain": [
       "                                  Title  Userscore  \\\n",
       "211190        Star Wars: Battlefront II        2.0   \n",
       "39249          The Witcher 3: Wild Hunt       10.0   \n",
       "204931                 This War of Mine       10.0   \n",
       "75752                        Golden Sun       10.0   \n",
       "199503  Assassin's Creed IV: Black Flag        8.0   \n",
       "\n",
       "                                                  Comment lang  \n",
       "211190  there nothing quite gun entire platoon clone d...   en  \n",
       "39249   game absolutely gorgeous run steady gtx hairwo...   en  \n",
       "204931  really good game didnt expect first survival g...   en  \n",
       "75752   people eagerly anticipate initial release game...   en  \n",
       "199503  best assassin creed far open world fresh missi...   en  "
      ]
     },
     "execution_count": 4,
     "metadata": {},
     "output_type": "execute_result"
    }
   ],
   "source": [
    "# df = pd.read_csv('processed_df\\metacritic_comments_nlp.csv')\n",
    "# df.head()\n",
    "\n",
    "df = pickle.load(open('processed_df\\preprocessed_nlp_100p.pkl','rb'))\n",
    "df.head()"
   ]
  },
  {
   "cell_type": "code",
   "execution_count": 149,
   "metadata": {},
   "outputs": [
    {
     "data": {
      "text/plain": [
       "(249031, 4)"
      ]
     },
     "execution_count": 149,
     "metadata": {},
     "output_type": "execute_result"
    }
   ],
   "source": [
    "df.shape"
   ]
  },
  {
   "cell_type": "code",
   "execution_count": 5,
   "metadata": {},
   "outputs": [
    {
     "name": "stdout",
     "output_type": "stream",
     "text": [
      "shape before: (249031, 4)\n",
      "shape after: (235301, 4)\n"
     ]
    }
   ],
   "source": [
    "print(f'shape before: {df.shape}')\n",
    "df = df[df['Comment'] != '']\n",
    "df.drop_duplicates(inplace=True)\n",
    "df.dropna(inplace=True)\n",
    "print(f'shape after: {df.shape}')\n"
   ]
  },
  {
   "cell_type": "markdown",
   "metadata": {},
   "source": [
    "# Train test split"
   ]
  },
  {
   "cell_type": "code",
   "execution_count": 6,
   "metadata": {},
   "outputs": [],
   "source": [
    "X = df['Comment']\n",
    "y = df['Userscore']\n",
    "\n",
    "X_train, X_test, y_train, y_test = train_test_split(X, y, test_size = 0.3)"
   ]
  },
  {
   "cell_type": "markdown",
   "metadata": {},
   "source": [
    "# TFIDF text"
   ]
  },
  {
   "cell_type": "code",
   "execution_count": 8,
   "metadata": {},
   "outputs": [],
   "source": [
    "# do TFIDF for X_train and X_test\n",
    "\n",
    "def TFvec(n, X_train, X_test):\n",
    "    start = time.time()\n",
    "\n",
    "    bow_vec = TfidfVectorizer(max_features=n)\n",
    "    X_tr_proc = bow_vec.fit_transform(X_train)\n",
    "    X_te_proc = bow_vec.transform(X_test)\n",
    "\n",
    "    end = time.time()\n",
    "    print(f'{end-start} secs slipped..')    \n",
    "\n",
    "    feat_names = bow_vec.get_feature_names_out()\n",
    "\n",
    "    bow_mat_tr = pd.DataFrame(X_tr_proc.toarray(), columns = feat_names)\n",
    "    bow_mat_te = pd.DataFrame(X_te_proc.toarray(), columns = feat_names)\n",
    "\n",
    "    return bow_mat_tr, bow_mat_te"
   ]
  },
  {
   "cell_type": "code",
   "execution_count": 82,
   "metadata": {},
   "outputs": [
    {
     "name": "stdout",
     "output_type": "stream",
     "text": [
      "8.312945365905762 secs slipped..\n"
     ]
    }
   ],
   "source": [
    "bow_1000_tr, bow_1000_te = TFvec(1000,X_train, X_test)"
   ]
  },
  {
   "cell_type": "code",
   "execution_count": 50,
   "metadata": {},
   "outputs": [
    {
     "name": "stdout",
     "output_type": "stream",
     "text": [
      "8.376627206802368 secs slipped..\n"
     ]
    }
   ],
   "source": [
    "bow_2000_tr, bow_2000_te = TFvec(2000,X_train, X_test)"
   ]
  },
  {
   "cell_type": "code",
   "execution_count": 152,
   "metadata": {},
   "outputs": [
    {
     "name": "stdout",
     "output_type": "stream",
     "text": [
      "7.789936065673828 secs slipped..\n"
     ]
    }
   ],
   "source": [
    "start = time.time()\n",
    "\n",
    "bow_vec = TfidfVectorizer(min_df=0.05, max_df=0.95)\n",
    "X_tr_proc = bow_vec.fit_transform(X_train)\n",
    "X_te_proc = bow_vec.transform(X_test)\n",
    "\n",
    "end = time.time()\n",
    "print(f'{end-start} secs slipped..')"
   ]
  },
  {
   "cell_type": "code",
   "execution_count": 153,
   "metadata": {},
   "outputs": [],
   "source": [
    "feat_names = bow_vec.get_feature_names_out()"
   ]
  },
  {
   "cell_type": "code",
   "execution_count": 154,
   "metadata": {},
   "outputs": [],
   "source": [
    "bow_mat_tr = pd.DataFrame(X_tr_proc.toarray(), columns = feat_names)\n",
    "bow_mat_te = pd.DataFrame(X_te_proc.toarray(), columns = feat_names)"
   ]
  },
  {
   "cell_type": "code",
   "execution_count": 155,
   "metadata": {},
   "outputs": [
    {
     "data": {
      "text/plain": [
       "(164710, 169)"
      ]
     },
     "execution_count": 155,
     "metadata": {},
     "output_type": "execute_result"
    }
   ],
   "source": [
    "bow_mat_tr.shape"
   ]
  },
  {
   "cell_type": "markdown",
   "metadata": {},
   "source": [
    "# MODEL"
   ]
  },
  {
   "cell_type": "markdown",
   "metadata": {},
   "source": [
    "- BASELINE, 165 VOL"
   ]
  },
  {
   "cell_type": "code",
   "execution_count": 43,
   "metadata": {},
   "outputs": [
    {
     "name": "stdout",
     "output_type": "stream",
     "text": [
      "11.083112716674805 secs slipped..\n"
     ]
    }
   ],
   "source": [
    "bow_100_tr, bow_100_te = TFvec(100,X_train, X_test)"
   ]
  },
  {
   "cell_type": "code",
   "execution_count": 56,
   "metadata": {},
   "outputs": [],
   "source": [
    "callback = tf.keras.callbacks.EarlyStopping(monitor='loss', min_delta = 1e-6, verbose = 1, patience=5)\n",
    "\n",
    "model_1 = Sequential()\n",
    "model_1.add(Dense(64, activation='relu', input_shape=(100,)))\n",
    "model_1.add(Dense(30, activation='relu'))\n",
    "model_1.add(Dense(1, activation='linear'))\n",
    "\n",
    "opt = Adam(learning_rate=0.0003, beta_1=0.9, beta_2=0.999, epsilon=1e-07)\n",
    "\n",
    "model_1.compile(loss = \"mean_squared_error\", optimizer=opt, metrics=['mean_absolute_error'])"
   ]
  },
  {
   "cell_type": "code",
   "execution_count": 57,
   "metadata": {},
   "outputs": [
    {
     "name": "stdout",
     "output_type": "stream",
     "text": [
      "Epoch 1/50\n",
      "515/515 [==============================] - 1s 2ms/step - loss: 21.9749 - mean_absolute_error: 3.7392 - val_loss: 6.3606 - val_mean_absolute_error: 1.9907\n",
      "Epoch 2/50\n",
      "515/515 [==============================] - 1s 1ms/step - loss: 5.5810 - mean_absolute_error: 1.8330 - val_loss: 5.0616 - val_mean_absolute_error: 1.7308\n",
      "Epoch 3/50\n",
      "515/515 [==============================] - 1s 1ms/step - loss: 4.9144 - mean_absolute_error: 1.6915 - val_loss: 4.7142 - val_mean_absolute_error: 1.6507\n",
      "Epoch 4/50\n",
      "515/515 [==============================] - 1s 1ms/step - loss: 4.7531 - mean_absolute_error: 1.6489 - val_loss: 4.6530 - val_mean_absolute_error: 1.6281\n",
      "Epoch 5/50\n",
      "515/515 [==============================] - 1s 2ms/step - loss: 4.7281 - mean_absolute_error: 1.6397 - val_loss: 4.6506 - val_mean_absolute_error: 1.6437\n",
      "Epoch 6/50\n",
      "515/515 [==============================] - 1s 2ms/step - loss: 4.7168 - mean_absolute_error: 1.6367 - val_loss: 4.6361 - val_mean_absolute_error: 1.6070\n",
      "Epoch 7/50\n",
      "515/515 [==============================] - 1s 1ms/step - loss: 4.7085 - mean_absolute_error: 1.6345 - val_loss: 4.6264 - val_mean_absolute_error: 1.6121\n",
      "Epoch 8/50\n",
      "515/515 [==============================] - 1s 1ms/step - loss: 4.6964 - mean_absolute_error: 1.6307 - val_loss: 4.6214 - val_mean_absolute_error: 1.6266\n",
      "Epoch 9/50\n",
      "515/515 [==============================] - 1s 1ms/step - loss: 4.6821 - mean_absolute_error: 1.6277 - val_loss: 4.6179 - val_mean_absolute_error: 1.6348\n",
      "Epoch 10/50\n",
      "515/515 [==============================] - 1s 1ms/step - loss: 4.6669 - mean_absolute_error: 1.6239 - val_loss: 4.5831 - val_mean_absolute_error: 1.5986\n",
      "Epoch 11/50\n",
      "515/515 [==============================] - 1s 1ms/step - loss: 4.6441 - mean_absolute_error: 1.6174 - val_loss: 4.5708 - val_mean_absolute_error: 1.5874\n",
      "Epoch 12/50\n",
      "515/515 [==============================] - 1s 1ms/step - loss: 4.6184 - mean_absolute_error: 1.6108 - val_loss: 4.5438 - val_mean_absolute_error: 1.5933\n",
      "Epoch 13/50\n",
      "515/515 [==============================] - 1s 1ms/step - loss: 4.5801 - mean_absolute_error: 1.5976 - val_loss: 4.5149 - val_mean_absolute_error: 1.5991\n",
      "Epoch 14/50\n",
      "515/515 [==============================] - 1s 1ms/step - loss: 4.5408 - mean_absolute_error: 1.5850 - val_loss: 4.4720 - val_mean_absolute_error: 1.5751\n",
      "Epoch 15/50\n",
      "515/515 [==============================] - 1s 1ms/step - loss: 4.5012 - mean_absolute_error: 1.5705 - val_loss: 4.4411 - val_mean_absolute_error: 1.5444\n",
      "Epoch 16/50\n",
      "515/515 [==============================] - 1s 1ms/step - loss: 4.4733 - mean_absolute_error: 1.5603 - val_loss: 4.4218 - val_mean_absolute_error: 1.5427\n",
      "Epoch 17/50\n",
      "515/515 [==============================] - 1s 1ms/step - loss: 4.4525 - mean_absolute_error: 1.5522 - val_loss: 4.4121 - val_mean_absolute_error: 1.5288\n",
      "Epoch 18/50\n",
      "515/515 [==============================] - 1s 1ms/step - loss: 4.4384 - mean_absolute_error: 1.5478 - val_loss: 4.4084 - val_mean_absolute_error: 1.5525\n",
      "Epoch 19/50\n",
      "515/515 [==============================] - 1s 1ms/step - loss: 4.4258 - mean_absolute_error: 1.5438 - val_loss: 4.3935 - val_mean_absolute_error: 1.5407\n",
      "Epoch 20/50\n",
      "515/515 [==============================] - 1s 1ms/step - loss: 4.4168 - mean_absolute_error: 1.5406 - val_loss: 4.3892 - val_mean_absolute_error: 1.5270\n",
      "Epoch 21/50\n",
      "515/515 [==============================] - 1s 1ms/step - loss: 4.4069 - mean_absolute_error: 1.5381 - val_loss: 4.3953 - val_mean_absolute_error: 1.5546\n",
      "Epoch 22/50\n",
      "515/515 [==============================] - 1s 1ms/step - loss: 4.3992 - mean_absolute_error: 1.5366 - val_loss: 4.3851 - val_mean_absolute_error: 1.5435\n",
      "Epoch 23/50\n",
      "515/515 [==============================] - 1s 1ms/step - loss: 4.3917 - mean_absolute_error: 1.5339 - val_loss: 4.4026 - val_mean_absolute_error: 1.5703\n",
      "Epoch 24/50\n",
      "515/515 [==============================] - 1s 1ms/step - loss: 4.3849 - mean_absolute_error: 1.5323 - val_loss: 4.3807 - val_mean_absolute_error: 1.5370\n",
      "Epoch 25/50\n",
      "515/515 [==============================] - 1s 1ms/step - loss: 4.3784 - mean_absolute_error: 1.5313 - val_loss: 4.3847 - val_mean_absolute_error: 1.5021\n",
      "Epoch 26/50\n",
      "515/515 [==============================] - 1s 1ms/step - loss: 4.3716 - mean_absolute_error: 1.5287 - val_loss: 4.3760 - val_mean_absolute_error: 1.5186\n",
      "Epoch 27/50\n",
      "515/515 [==============================] - 1s 1ms/step - loss: 4.3661 - mean_absolute_error: 1.5273 - val_loss: 4.3770 - val_mean_absolute_error: 1.5468\n",
      "Epoch 28/50\n",
      "515/515 [==============================] - 1s 1ms/step - loss: 4.3587 - mean_absolute_error: 1.5262 - val_loss: 4.3713 - val_mean_absolute_error: 1.5149\n",
      "Epoch 29/50\n",
      "515/515 [==============================] - 1s 1ms/step - loss: 4.3545 - mean_absolute_error: 1.5249 - val_loss: 4.3660 - val_mean_absolute_error: 1.5265\n",
      "Epoch 30/50\n",
      "515/515 [==============================] - 1s 1ms/step - loss: 4.3476 - mean_absolute_error: 1.5230 - val_loss: 4.3663 - val_mean_absolute_error: 1.5347\n",
      "Epoch 31/50\n",
      "515/515 [==============================] - 1s 1ms/step - loss: 4.3416 - mean_absolute_error: 1.5222 - val_loss: 4.3679 - val_mean_absolute_error: 1.5362\n",
      "Epoch 32/50\n",
      "515/515 [==============================] - 1s 1ms/step - loss: 4.3369 - mean_absolute_error: 1.5201 - val_loss: 4.3636 - val_mean_absolute_error: 1.5349\n",
      "Epoch 33/50\n",
      "515/515 [==============================] - 1s 1ms/step - loss: 4.3316 - mean_absolute_error: 1.5194 - val_loss: 4.3650 - val_mean_absolute_error: 1.5327\n",
      "Epoch 34/50\n",
      "515/515 [==============================] - 1s 1ms/step - loss: 4.3265 - mean_absolute_error: 1.5181 - val_loss: 4.3634 - val_mean_absolute_error: 1.5125\n",
      "Epoch 35/50\n",
      "515/515 [==============================] - 1s 1ms/step - loss: 4.3214 - mean_absolute_error: 1.5169 - val_loss: 4.3584 - val_mean_absolute_error: 1.5122\n",
      "Epoch 36/50\n",
      "515/515 [==============================] - 1s 1ms/step - loss: 4.3174 - mean_absolute_error: 1.5160 - val_loss: 4.3604 - val_mean_absolute_error: 1.5172\n",
      "Epoch 37/50\n",
      "515/515 [==============================] - 1s 1ms/step - loss: 4.3126 - mean_absolute_error: 1.5142 - val_loss: 4.3579 - val_mean_absolute_error: 1.5181\n",
      "Epoch 38/50\n",
      "515/515 [==============================] - 1s 1ms/step - loss: 4.3075 - mean_absolute_error: 1.5129 - val_loss: 4.3540 - val_mean_absolute_error: 1.5246\n",
      "Epoch 39/50\n",
      "515/515 [==============================] - 1s 1ms/step - loss: 4.3037 - mean_absolute_error: 1.5121 - val_loss: 4.3604 - val_mean_absolute_error: 1.5244\n",
      "Epoch 40/50\n",
      "515/515 [==============================] - 1s 1ms/step - loss: 4.2992 - mean_absolute_error: 1.5115 - val_loss: 4.3565 - val_mean_absolute_error: 1.5260\n",
      "Epoch 41/50\n",
      "515/515 [==============================] - 1s 1ms/step - loss: 4.2944 - mean_absolute_error: 1.5100 - val_loss: 4.3648 - val_mean_absolute_error: 1.5130\n",
      "Epoch 42/50\n",
      "515/515 [==============================] - 1s 1ms/step - loss: 4.2897 - mean_absolute_error: 1.5090 - val_loss: 4.3683 - val_mean_absolute_error: 1.4907\n",
      "Epoch 43/50\n",
      "515/515 [==============================] - 1s 1ms/step - loss: 4.2864 - mean_absolute_error: 1.5078 - val_loss: 4.3531 - val_mean_absolute_error: 1.5238\n",
      "Epoch 44/50\n",
      "515/515 [==============================] - 1s 1ms/step - loss: 4.2823 - mean_absolute_error: 1.5074 - val_loss: 4.3530 - val_mean_absolute_error: 1.5183\n",
      "Epoch 45/50\n",
      "515/515 [==============================] - 1s 1ms/step - loss: 4.2773 - mean_absolute_error: 1.5061 - val_loss: 4.3568 - val_mean_absolute_error: 1.5227\n",
      "Epoch 46/50\n",
      "515/515 [==============================] - 1s 1ms/step - loss: 4.2721 - mean_absolute_error: 1.5045 - val_loss: 4.3587 - val_mean_absolute_error: 1.5048\n",
      "Epoch 47/50\n",
      "515/515 [==============================] - 1s 1ms/step - loss: 4.2700 - mean_absolute_error: 1.5040 - val_loss: 4.3739 - val_mean_absolute_error: 1.5376\n",
      "Epoch 48/50\n",
      "515/515 [==============================] - 1s 1ms/step - loss: 4.2669 - mean_absolute_error: 1.5029 - val_loss: 4.3569 - val_mean_absolute_error: 1.5070\n",
      "Epoch 49/50\n",
      "515/515 [==============================] - 1s 1ms/step - loss: 4.2620 - mean_absolute_error: 1.5024 - val_loss: 4.3508 - val_mean_absolute_error: 1.5102\n",
      "Epoch 50/50\n",
      "515/515 [==============================] - 1s 1ms/step - loss: 4.2572 - mean_absolute_error: 1.5012 - val_loss: 4.3532 - val_mean_absolute_error: 1.5164\n",
      "35.693599224090576 secs slipped...\n"
     ]
    }
   ],
   "source": [
    "start = time.time()\n",
    "\n",
    "results_1 = model_1.fit(bow_100_tr, y_train, validation_split = 0.2, epochs=50, batch_size=256, callbacks=[callback])\n",
    "\n",
    "end = time.time()\n",
    "print(f'{end-start} secs slipped...')"
   ]
  },
  {
   "cell_type": "code",
   "execution_count": 58,
   "metadata": {},
   "outputs": [
    {
     "data": {
      "text/plain": [
       "dict_keys(['loss', 'mean_absolute_error', 'val_loss', 'val_mean_absolute_error'])"
      ]
     },
     "execution_count": 58,
     "metadata": {},
     "output_type": "execute_result"
    }
   ],
   "source": [
    "history_dict = results_1.history\n",
    "history_dict.keys()"
   ]
  },
  {
   "cell_type": "code",
   "execution_count": 59,
   "metadata": {},
   "outputs": [
    {
     "data": {
      "image/png": "[encoded data removed]",
      "text/plain": [
       "<Figure size 640x480 with 1 Axes>"
      ]
     },
     "metadata": {},
     "output_type": "display_data"
    }
   ],
   "source": [
    "plt.plot(results_1.history['loss'])\n",
    "plt.plot(results_1.history['val_loss'])\n",
    "plt.title('model mse')\n",
    "plt.ylabel('val loss')\n",
    "plt.xlabel('epoch')\n",
    "plt.legend(['train', 'val'], loc='upper left')\n",
    "plt.show()"
   ]
  },
  {
   "cell_type": "code",
   "execution_count": 62,
   "metadata": {},
   "outputs": [
    {
     "data": {
      "image/png": "[encoded data removed]",
      "text/plain": [
       "<Figure size 640x480 with 1 Axes>"
      ]
     },
     "metadata": {},
     "output_type": "display_data"
    }
   ],
   "source": [
    "plt.plot(results_1.history['mean_absolute_error'])\n",
    "plt.plot(results_1.history['val_mean_absolute_error'])\n",
    "plt.title('model mae')\n",
    "plt.ylabel('val_mean_absolute_error')\n",
    "plt.xlabel('epoch')\n",
    "plt.legend(['train', 'val'], loc='upper left')\n",
    "plt.show()"
   ]
  },
  {
   "cell_type": "code",
   "execution_count": 60,
   "metadata": {},
   "outputs": [
    {
     "name": "stdout",
     "output_type": "stream",
     "text": [
      "2206/2206 [==============================] - 2s 682us/step - loss: 4.4784 - mean_absolute_error: 1.5349\n"
     ]
    },
    {
     "data": {
      "text/plain": [
       "[4.478437900543213, 1.5348979234695435]"
      ]
     },
     "execution_count": 60,
     "metadata": {},
     "output_type": "execute_result"
    }
   ],
   "source": [
    "model_1.evaluate(bow_100_te, y_test)"
   ]
  },
  {
   "cell_type": "code",
   "execution_count": 63,
   "metadata": {},
   "outputs": [
    {
     "name": "stdout",
     "output_type": "stream",
     "text": [
      "2206/2206 [==============================] - 1s 613us/step\n",
      "test MSE 4.478441835324473\n",
      "test MAE 1.5348990701828293\n",
      "test r2 0.24799797349748676\n",
      "5148/5148 [==============================] - 3s 608us/step\n",
      "train MSE 4.259982962356841\n",
      "train MAE 1.500533491850377\n",
      "train r2 0.28335012153577654\n"
     ]
    }
   ],
   "source": [
    "y_pred = model_1.predict(bow_100_te)\n",
    "print(f'test MSE {mean_squared_error(y_test, y_pred)}')\n",
    "print(f'test MAE {mean_absolute_error(y_test, y_pred)}')\n",
    "print(f'test r2 {r2_score(y_test, y_pred)}')\n",
    "\n",
    "y_pred = model_1.predict(bow_100_tr)\n",
    "print(f'train MSE {mean_squared_error(y_train, y_pred)}')\n",
    "print(f'train MAE {mean_absolute_error(y_train, y_pred)}')\n",
    "print(f'train r2 {r2_score(y_train, y_pred)}')\n"
   ]
  },
  {
   "cell_type": "markdown",
   "metadata": {},
   "source": [
    "run on full dataset, 164,710<br>\n",
    "165 vocabulary"
   ]
  },
  {
   "cell_type": "markdown",
   "metadata": {},
   "source": [
    "- BASELINE, 200 VOL"
   ]
  },
  {
   "cell_type": "code",
   "execution_count": 9,
   "metadata": {},
   "outputs": [
    {
     "name": "stdout",
     "output_type": "stream",
     "text": [
      "10.535192489624023 secs slipped..\n"
     ]
    }
   ],
   "source": [
    "bow_200_tr, bow_200_te = TFvec(200,X_train, X_test)"
   ]
  },
  {
   "cell_type": "code",
   "execution_count": 29,
   "metadata": {},
   "outputs": [
    {
     "name": "stdout",
     "output_type": "stream",
     "text": [
      "10.726866722106934 secs slipped..\n"
     ]
    }
   ],
   "source": [
    "bow_300_tr, bow_300_te = TFvec(300,X_train, X_test)"
   ]
  },
  {
   "cell_type": "code",
   "execution_count": 12,
   "metadata": {},
   "outputs": [
    {
     "name": "stdout",
     "output_type": "stream",
     "text": [
      "11.001920700073242 secs slipped..\n"
     ]
    },
    {
     "data": {
      "text/plain": [
       "((164710, 400), (70591, 400))"
      ]
     },
     "execution_count": 12,
     "metadata": {},
     "output_type": "execute_result"
    }
   ],
   "source": [
    "start = time.time()\n",
    "\n",
    "bow_vec = TfidfVectorizer(max_features=400)\n",
    "X_tr_proc = bow_vec.fit_transform(X_train)\n",
    "X_te_proc = bow_vec.transform(X_test)\n",
    "\n",
    "end = time.time()\n",
    "print(f'{end-start} secs slipped..')\n",
    "\n",
    "feat_names = bow_vec.get_feature_names_out()\n",
    "\n",
    "bow_400_tr = pd.DataFrame(X_tr_proc.toarray(), columns = feat_names)\n",
    "bow_400_te = pd.DataFrame(X_te_proc.toarray(), columns = feat_names)\n",
    "\n",
    "bow_400_tr.shape, bow_400_te.shape"
   ]
  },
  {
   "cell_type": "code",
   "execution_count": 69,
   "metadata": {},
   "outputs": [],
   "source": [
    "callback = tf.keras.callbacks.EarlyStopping(monitor='loss', min_delta = 1e-6, verbose = 1, patience=5)\n",
    "\n",
    "model_3 = Sequential()\n",
    "model_3.add(Dense(64, activation='relu', input_shape=(200,)))\n",
    "model_3.add(Dense(30, activation='relu'))\n",
    "model_3.add(Dense(1, activation='linear'))\n",
    "\n",
    "opt = Adam(learning_rate=0.0003, beta_1=0.9, beta_2=0.999, epsilon=1e-07)\n",
    "\n",
    "model_3.compile(loss = \"mean_squared_error\", optimizer=opt, metrics=['mean_absolute_error'])"
   ]
  },
  {
   "cell_type": "code",
   "execution_count": 70,
   "metadata": {},
   "outputs": [
    {
     "name": "stdout",
     "output_type": "stream",
     "text": [
      "Epoch 1/50\n",
      "258/258 [==============================] - 1s 2ms/step - loss: 36.8605 - mean_absolute_error: 5.2765 - val_loss: 9.0871 - val_mean_absolute_error: 2.5015\n",
      "Epoch 2/50\n",
      "258/258 [==============================] - 1s 2ms/step - loss: 7.4632 - mean_absolute_error: 2.2104 - val_loss: 6.0462 - val_mean_absolute_error: 1.9320\n",
      "Epoch 3/50\n",
      "258/258 [==============================] - 0s 2ms/step - loss: 5.4622 - mean_absolute_error: 1.8183 - val_loss: 5.0598 - val_mean_absolute_error: 1.7474\n",
      "Epoch 4/50\n",
      "258/258 [==============================] - 0s 2ms/step - loss: 4.8643 - mean_absolute_error: 1.7004 - val_loss: 4.6584 - val_mean_absolute_error: 1.6560\n",
      "Epoch 5/50\n",
      "258/258 [==============================] - 0s 2ms/step - loss: 4.5866 - mean_absolute_error: 1.6373 - val_loss: 4.4580 - val_mean_absolute_error: 1.6108\n",
      "Epoch 6/50\n",
      "258/258 [==============================] - 0s 2ms/step - loss: 4.4624 - mean_absolute_error: 1.6039 - val_loss: 4.3760 - val_mean_absolute_error: 1.5742\n",
      "Epoch 7/50\n",
      "258/258 [==============================] - 0s 2ms/step - loss: 4.4189 - mean_absolute_error: 1.5882 - val_loss: 4.3506 - val_mean_absolute_error: 1.5650\n",
      "Epoch 8/50\n",
      "258/258 [==============================] - 0s 2ms/step - loss: 4.4053 - mean_absolute_error: 1.5818 - val_loss: 4.3443 - val_mean_absolute_error: 1.5771\n",
      "Epoch 9/50\n",
      "258/258 [==============================] - 0s 2ms/step - loss: 4.3987 - mean_absolute_error: 1.5807 - val_loss: 4.3367 - val_mean_absolute_error: 1.5626\n",
      "Epoch 10/50\n",
      "258/258 [==============================] - 0s 2ms/step - loss: 4.3939 - mean_absolute_error: 1.5783 - val_loss: 4.3341 - val_mean_absolute_error: 1.5713\n",
      "Epoch 11/50\n",
      "258/258 [==============================] - 1s 2ms/step - loss: 4.3889 - mean_absolute_error: 1.5773 - val_loss: 4.3310 - val_mean_absolute_error: 1.5659\n",
      "Epoch 12/50\n",
      "258/258 [==============================] - 1s 2ms/step - loss: 4.3847 - mean_absolute_error: 1.5768 - val_loss: 4.3270 - val_mean_absolute_error: 1.5608\n",
      "Epoch 13/50\n",
      "258/258 [==============================] - 1s 2ms/step - loss: 4.3770 - mean_absolute_error: 1.5751 - val_loss: 4.3219 - val_mean_absolute_error: 1.5554\n",
      "Epoch 14/50\n",
      "258/258 [==============================] - 0s 2ms/step - loss: 4.3703 - mean_absolute_error: 1.5726 - val_loss: 4.3219 - val_mean_absolute_error: 1.5737\n",
      "Epoch 15/50\n",
      "258/258 [==============================] - 0s 2ms/step - loss: 4.3598 - mean_absolute_error: 1.5716 - val_loss: 4.3099 - val_mean_absolute_error: 1.5459\n",
      "Epoch 16/50\n",
      "258/258 [==============================] - 0s 2ms/step - loss: 4.3451 - mean_absolute_error: 1.5664 - val_loss: 4.2941 - val_mean_absolute_error: 1.5585\n",
      "Epoch 17/50\n",
      "258/258 [==============================] - 0s 2ms/step - loss: 4.3133 - mean_absolute_error: 1.5552 - val_loss: 4.2684 - val_mean_absolute_error: 1.5611\n",
      "Epoch 18/50\n",
      "258/258 [==============================] - 0s 2ms/step - loss: 4.2667 - mean_absolute_error: 1.5413 - val_loss: 4.2097 - val_mean_absolute_error: 1.5304\n",
      "Epoch 19/50\n",
      "258/258 [==============================] - 0s 2ms/step - loss: 4.2154 - mean_absolute_error: 1.5236 - val_loss: 4.1644 - val_mean_absolute_error: 1.5089\n",
      "Epoch 20/50\n",
      "258/258 [==============================] - 0s 2ms/step - loss: 4.1727 - mean_absolute_error: 1.5089 - val_loss: 4.1330 - val_mean_absolute_error: 1.4894\n",
      "Epoch 21/50\n",
      "258/258 [==============================] - 0s 2ms/step - loss: 4.1303 - mean_absolute_error: 1.4954 - val_loss: 4.1001 - val_mean_absolute_error: 1.4850\n",
      "Epoch 22/50\n",
      "258/258 [==============================] - 0s 2ms/step - loss: 4.0950 - mean_absolute_error: 1.4831 - val_loss: 4.0737 - val_mean_absolute_error: 1.4717\n",
      "Epoch 23/50\n",
      "258/258 [==============================] - 0s 2ms/step - loss: 4.0672 - mean_absolute_error: 1.4732 - val_loss: 4.0682 - val_mean_absolute_error: 1.4901\n",
      "Epoch 24/50\n",
      "258/258 [==============================] - 0s 2ms/step - loss: 4.0415 - mean_absolute_error: 1.4652 - val_loss: 4.0453 - val_mean_absolute_error: 1.4503\n",
      "Epoch 25/50\n",
      "258/258 [==============================] - 0s 2ms/step - loss: 4.0211 - mean_absolute_error: 1.4574 - val_loss: 4.0373 - val_mean_absolute_error: 1.4708\n",
      "Epoch 26/50\n",
      "258/258 [==============================] - 1s 2ms/step - loss: 4.0029 - mean_absolute_error: 1.4531 - val_loss: 4.0266 - val_mean_absolute_error: 1.4485\n",
      "Epoch 27/50\n",
      "258/258 [==============================] - 0s 2ms/step - loss: 3.9874 - mean_absolute_error: 1.4480 - val_loss: 4.0174 - val_mean_absolute_error: 1.4548\n",
      "Epoch 28/50\n",
      "258/258 [==============================] - 0s 2ms/step - loss: 3.9742 - mean_absolute_error: 1.4447 - val_loss: 4.0115 - val_mean_absolute_error: 1.4370\n",
      "Epoch 29/50\n",
      "258/258 [==============================] - 0s 2ms/step - loss: 3.9586 - mean_absolute_error: 1.4391 - val_loss: 4.0108 - val_mean_absolute_error: 1.4608\n",
      "Epoch 30/50\n",
      "258/258 [==============================] - 0s 2ms/step - loss: 3.9464 - mean_absolute_error: 1.4366 - val_loss: 4.0017 - val_mean_absolute_error: 1.4452\n",
      "Epoch 31/50\n",
      "258/258 [==============================] - 0s 2ms/step - loss: 3.9353 - mean_absolute_error: 1.4326 - val_loss: 3.9991 - val_mean_absolute_error: 1.4459\n",
      "Epoch 32/50\n",
      "258/258 [==============================] - 1s 2ms/step - loss: 3.9253 - mean_absolute_error: 1.4311 - val_loss: 3.9968 - val_mean_absolute_error: 1.4421\n",
      "Epoch 33/50\n",
      "258/258 [==============================] - 1s 2ms/step - loss: 3.9134 - mean_absolute_error: 1.4279 - val_loss: 3.9957 - val_mean_absolute_error: 1.4328\n",
      "Epoch 34/50\n",
      "258/258 [==============================] - 1s 2ms/step - loss: 3.9030 - mean_absolute_error: 1.4251 - val_loss: 3.9918 - val_mean_absolute_error: 1.4284\n",
      "Epoch 35/50\n",
      "258/258 [==============================] - 1s 2ms/step - loss: 3.8927 - mean_absolute_error: 1.4219 - val_loss: 3.9890 - val_mean_absolute_error: 1.4402\n",
      "Epoch 36/50\n",
      "258/258 [==============================] - 0s 2ms/step - loss: 3.8843 - mean_absolute_error: 1.4210 - val_loss: 3.9877 - val_mean_absolute_error: 1.4246\n",
      "Epoch 37/50\n",
      "258/258 [==============================] - 0s 2ms/step - loss: 3.8742 - mean_absolute_error: 1.4184 - val_loss: 3.9894 - val_mean_absolute_error: 1.4441\n",
      "Epoch 38/50\n",
      "258/258 [==============================] - 0s 2ms/step - loss: 3.8668 - mean_absolute_error: 1.4162 - val_loss: 3.9861 - val_mean_absolute_error: 1.4318\n",
      "Epoch 39/50\n",
      "258/258 [==============================] - 0s 2ms/step - loss: 3.8582 - mean_absolute_error: 1.4143 - val_loss: 3.9833 - val_mean_absolute_error: 1.4387\n",
      "Epoch 40/50\n",
      "258/258 [==============================] - 1s 2ms/step - loss: 3.8501 - mean_absolute_error: 1.4128 - val_loss: 3.9870 - val_mean_absolute_error: 1.4426\n",
      "Epoch 41/50\n",
      "258/258 [==============================] - 1s 2ms/step - loss: 3.8430 - mean_absolute_error: 1.4126 - val_loss: 3.9940 - val_mean_absolute_error: 1.4176\n",
      "Epoch 42/50\n",
      "258/258 [==============================] - 0s 2ms/step - loss: 3.8352 - mean_absolute_error: 1.4086 - val_loss: 3.9964 - val_mean_absolute_error: 1.4597\n",
      "Epoch 43/50\n",
      "258/258 [==============================] - 0s 2ms/step - loss: 3.8278 - mean_absolute_error: 1.4084 - val_loss: 3.9824 - val_mean_absolute_error: 1.4375\n",
      "Epoch 44/50\n",
      "258/258 [==============================] - 0s 2ms/step - loss: 3.8206 - mean_absolute_error: 1.4062 - val_loss: 3.9891 - val_mean_absolute_error: 1.4507\n",
      "Epoch 45/50\n",
      "258/258 [==============================] - 0s 2ms/step - loss: 3.8133 - mean_absolute_error: 1.4049 - val_loss: 3.9818 - val_mean_absolute_error: 1.4291\n",
      "Epoch 46/50\n",
      "258/258 [==============================] - 0s 2ms/step - loss: 3.8055 - mean_absolute_error: 1.4031 - val_loss: 3.9824 - val_mean_absolute_error: 1.4274\n",
      "Epoch 47/50\n",
      "258/258 [==============================] - 0s 2ms/step - loss: 3.7985 - mean_absolute_error: 1.4015 - val_loss: 3.9849 - val_mean_absolute_error: 1.4294\n",
      "Epoch 48/50\n",
      "258/258 [==============================] - 0s 2ms/step - loss: 3.7926 - mean_absolute_error: 1.4007 - val_loss: 3.9851 - val_mean_absolute_error: 1.4291\n",
      "Epoch 49/50\n",
      "258/258 [==============================] - 0s 2ms/step - loss: 3.7857 - mean_absolute_error: 1.3990 - val_loss: 3.9833 - val_mean_absolute_error: 1.4313\n",
      "Epoch 50/50\n",
      "258/258 [==============================] - 0s 2ms/step - loss: 3.7785 - mean_absolute_error: 1.3973 - val_loss: 3.9875 - val_mean_absolute_error: 1.4309\n",
      "25.512054443359375 secs slipped...\n"
     ]
    }
   ],
   "source": [
    "start = time.time()\n",
    "\n",
    "results_3 = model_3.fit(bow_200_tr, y_train, validation_split = 0.2, epochs=50, batch_size=512, callbacks=[callback])\n",
    "\n",
    "end = time.time()\n",
    "print(f'{end-start} secs slipped...')"
   ]
  },
  {
   "cell_type": "code",
   "execution_count": 71,
   "metadata": {},
   "outputs": [
    {
     "data": {
      "image/png": "[encoded data removed]",
      "text/plain": [
       "<Figure size 640x480 with 1 Axes>"
      ]
     },
     "metadata": {},
     "output_type": "display_data"
    }
   ],
   "source": [
    "plt.plot(results_3.history['loss'])\n",
    "plt.plot(results_3.history['val_loss'])\n",
    "plt.title('model mse')\n",
    "plt.ylabel('val loss')\n",
    "plt.xlabel('epoch')\n",
    "plt.legend(['train', 'val'], loc='upper left')\n",
    "plt.show()"
   ]
  },
  {
   "cell_type": "code",
   "execution_count": 72,
   "metadata": {},
   "outputs": [
    {
     "data": {
      "image/png": "[encoded data removed]",
      "text/plain": [
       "<Figure size 640x480 with 1 Axes>"
      ]
     },
     "metadata": {},
     "output_type": "display_data"
    }
   ],
   "source": [
    "plt.plot(results_3.history['mean_absolute_error'])\n",
    "plt.plot(results_3.history['val_mean_absolute_error'])\n",
    "plt.title('model mae')\n",
    "plt.ylabel('val_mean_absolute_error')\n",
    "plt.xlabel('epoch')\n",
    "plt.legend(['train', 'val'], loc='upper left')\n",
    "plt.show()"
   ]
  },
  {
   "cell_type": "code",
   "execution_count": 73,
   "metadata": {},
   "outputs": [
    {
     "name": "stdout",
     "output_type": "stream",
     "text": [
      "2206/2206 [==============================] - 1s 629us/step\n",
      "test MSE 4.0726863334929835\n",
      "test MAE 1.4462170184112024\n",
      "test r2 0.3161308131907631\n",
      "5148/5148 [==============================] - 3s 625us/step\n",
      "train MSE 3.799707396632754\n",
      "train MAE 1.3977181451350034\n",
      "train r2 0.36078151765894906\n"
     ]
    }
   ],
   "source": [
    "y_pred = model_3.predict(bow_200_te)\n",
    "print(f'test MSE {mean_squared_error(y_test, y_pred)}')\n",
    "print(f'test MAE {mean_absolute_error(y_test, y_pred)}')\n",
    "print(f'test r2 {r2_score(y_test, y_pred)}')\n",
    "\n",
    "y_pred = model_3.predict(bow_200_tr)\n",
    "print(f'train MSE {mean_squared_error(y_train, y_pred)}')\n",
    "print(f'train MAE {mean_absolute_error(y_train, y_pred)}')\n",
    "print(f'train r2 {r2_score(y_train, y_pred)}')\n"
   ]
  },
  {
   "cell_type": "code",
   "execution_count": 92,
   "metadata": {},
   "outputs": [],
   "source": [
    "df100 = pickle.load(open('processed_df\\preprocessed_nlp_100p.pkl','rb'))\n",
    "\n",
    "df100.to_csv(r'processed_df\\preprocessed_nlp_100p.csv', index = False)\n",
    "\n"
   ]
  },
  {
   "cell_type": "code",
   "execution_count": null,
   "metadata": {},
   "outputs": [],
   "source": []
  },
  {
   "cell_type": "markdown",
   "metadata": {},
   "source": [
    "# IMPUTE USERSCORE FOR STEAM REVIEWS"
   ]
  },
  {
   "cell_type": "code",
   "execution_count": 83,
   "metadata": {},
   "outputs": [
    {
     "data": {
      "text/html": [
       "<div>\n",
       "<style scoped>\n",
       "    .dataframe tbody tr th:only-of-type {\n",
       "        vertical-align: middle;\n",
       "    }\n",
       "\n",
       "    .dataframe tbody tr th {\n",
       "        vertical-align: top;\n",
       "    }\n",
       "\n",
       "    .dataframe thead th {\n",
       "        text-align: right;\n",
       "    }\n",
       "</style>\n",
       "<table border=\"1\" class=\"dataframe\">\n",
       "  <thead>\n",
       "    <tr style=\"text-align: right;\">\n",
       "      <th></th>\n",
       "      <th>review_id</th>\n",
       "      <th>title</th>\n",
       "      <th>year</th>\n",
       "      <th>user_review</th>\n",
       "      <th>user_suggestion</th>\n",
       "      <th>lang</th>\n",
       "      <th>Comment_len</th>\n",
       "    </tr>\n",
       "  </thead>\n",
       "  <tbody>\n",
       "    <tr>\n",
       "      <th>0</th>\n",
       "      <td>5674</td>\n",
       "      <td>Yu-Gi-Oh! Duel Links</td>\n",
       "      <td>2018.0</td>\n",
       "      <td>worth new player take time get new card pay an...</td>\n",
       "      <td>1</td>\n",
       "      <td>en</td>\n",
       "      <td>193</td>\n",
       "    </tr>\n",
       "    <tr>\n",
       "      <th>1</th>\n",
       "      <td>23155</td>\n",
       "      <td>AdventureQuest 3D</td>\n",
       "      <td>2016.0</td>\n",
       "      <td>early access reviewrereview wogloween update u...</td>\n",
       "      <td>1</td>\n",
       "      <td>en</td>\n",
       "      <td>282</td>\n",
       "    </tr>\n",
       "    <tr>\n",
       "      <th>2</th>\n",
       "      <td>19390</td>\n",
       "      <td>Creativerse</td>\n",
       "      <td>2015.0</td>\n",
       "      <td>early access reviewhonestly start well tried f...</td>\n",
       "      <td>1</td>\n",
       "      <td>en</td>\n",
       "      <td>4646</td>\n",
       "    </tr>\n",
       "    <tr>\n",
       "      <th>3</th>\n",
       "      <td>10559</td>\n",
       "      <td>Trove</td>\n",
       "      <td>2016.0</td>\n",
       "      <td>trion world awful really pay win go backwards ...</td>\n",
       "      <td>0</td>\n",
       "      <td>en</td>\n",
       "      <td>1181</td>\n",
       "    </tr>\n",
       "    <tr>\n",
       "      <th>4</th>\n",
       "      <td>18948</td>\n",
       "      <td>Fallout Shelter</td>\n",
       "      <td>2017.0</td>\n",
       "      <td>mean fun game bore hit play fun time go repeti...</td>\n",
       "      <td>1</td>\n",
       "      <td>en</td>\n",
       "      <td>233</td>\n",
       "    </tr>\n",
       "  </tbody>\n",
       "</table>\n",
       "</div>"
      ],
      "text/plain": [
       "   review_id                 title    year  \\\n",
       "0       5674  Yu-Gi-Oh! Duel Links  2018.0   \n",
       "1      23155     AdventureQuest 3D  2016.0   \n",
       "2      19390           Creativerse  2015.0   \n",
       "3      10559                 Trove  2016.0   \n",
       "4      18948       Fallout Shelter  2017.0   \n",
       "\n",
       "                                         user_review  user_suggestion lang  \\\n",
       "0  worth new player take time get new card pay an...                1   en   \n",
       "1  early access reviewrereview wogloween update u...                1   en   \n",
       "2  early access reviewhonestly start well tried f...                1   en   \n",
       "3  trion world awful really pay win go backwards ...                0   en   \n",
       "4  mean fun game bore hit play fun time go repeti...                1   en   \n",
       "\n",
       "   Comment_len  \n",
       "0          193  \n",
       "1          282  \n",
       "2         4646  \n",
       "3         1181  \n",
       "4          233  "
      ]
     },
     "execution_count": 83,
     "metadata": {},
     "output_type": "execute_result"
    }
   ],
   "source": [
    "df_steam = pd.read_csv('processed_df\\preprocessed_nlp_steam_full.csv')\n",
    "df_steam.head()"
   ]
  },
  {
   "cell_type": "code",
   "execution_count": 84,
   "metadata": {},
   "outputs": [],
   "source": [
    "df_steam = df_steam['user_review']"
   ]
  },
  {
   "cell_type": "code",
   "execution_count": 89,
   "metadata": {},
   "outputs": [
    {
     "name": "stdout",
     "output_type": "stream",
     "text": [
      "8.487502813339233 secs slipped..\n"
     ]
    }
   ],
   "source": [
    "start = time.time()\n",
    "\n",
    "bow_vec = TfidfVectorizer(max_features=200)\n",
    "bow_vec.fit(X_train)\n",
    "X_imp = bow_vec.transform(df_steam)\n",
    "\n",
    "end = time.time()\n",
    "print(f'{end-start} secs slipped..')\n"
   ]
  },
  {
   "cell_type": "code",
   "execution_count": 90,
   "metadata": {},
   "outputs": [
    {
     "data": {
      "text/plain": [
       "(17080, 200)"
      ]
     },
     "execution_count": 90,
     "metadata": {},
     "output_type": "execute_result"
    }
   ],
   "source": [
    "X_imp.shape"
   ]
  },
  {
   "cell_type": "code",
   "execution_count": 94,
   "metadata": {},
   "outputs": [
    {
     "ename": "InvalidArgumentError",
     "evalue": "{{function_node __wrapped__SerializeManySparse_device_/job:localhost/replica:0/task:0/device:CPU:0}} indices[1] = [0,180] is out of order. Many sparse ops require sorted indices.\n    Use `tf.sparse.reorder` to create a correctly ordered copy.\n\n [Op:SerializeManySparse]",
     "output_type": "error",
     "traceback": [
      "\u001b[1;31m---------------------------------------------------------------------------\u001b[0m",
      "\u001b[1;31mInvalidArgumentError\u001b[0m                      Traceback (most recent call last)",
      "\u001b[1;32md:\\Flatiron\\DS_P4\\3_Modelling_Metacritic_NLP_tensorflow.ipynb Cell 43\u001b[0m in \u001b[0;36m<cell line: 1>\u001b[1;34m()\u001b[0m\n\u001b[1;32m----> <a href='vscode-notebook-cell:/d%3A/Flatiron/DS_P4/3_Modelling_Metacritic_NLP_tensorflow.ipynb#X60sZmlsZQ%3D%3D?line=0'>1</a>\u001b[0m y_pred \u001b[39m=\u001b[39m model_3\u001b[39m.\u001b[39;49mpredict(X_imp)\n",
      "File \u001b[1;32mc:\\Users\\qwswe\\Anaconda3\\envs\\tf\\lib\\site-packages\\keras\\utils\\traceback_utils.py:70\u001b[0m, in \u001b[0;36mfilter_traceback.<locals>.error_handler\u001b[1;34m(*args, **kwargs)\u001b[0m\n\u001b[0;32m     67\u001b[0m     filtered_tb \u001b[39m=\u001b[39m _process_traceback_frames(e\u001b[39m.\u001b[39m__traceback__)\n\u001b[0;32m     68\u001b[0m     \u001b[39m# To get the full stack trace, call:\u001b[39;00m\n\u001b[0;32m     69\u001b[0m     \u001b[39m# `tf.debugging.disable_traceback_filtering()`\u001b[39;00m\n\u001b[1;32m---> 70\u001b[0m     \u001b[39mraise\u001b[39;00m e\u001b[39m.\u001b[39mwith_traceback(filtered_tb) \u001b[39mfrom\u001b[39;00m \u001b[39mNone\u001b[39m\n\u001b[0;32m     71\u001b[0m \u001b[39mfinally\u001b[39;00m:\n\u001b[0;32m     72\u001b[0m     \u001b[39mdel\u001b[39;00m filtered_tb\n",
      "File \u001b[1;32mc:\\Users\\qwswe\\Anaconda3\\envs\\tf\\lib\\site-packages\\tensorflow\\python\\framework\\ops.py:7215\u001b[0m, in \u001b[0;36mraise_from_not_ok_status\u001b[1;34m(e, name)\u001b[0m\n\u001b[0;32m   7213\u001b[0m \u001b[39mdef\u001b[39;00m \u001b[39mraise_from_not_ok_status\u001b[39m(e, name):\n\u001b[0;32m   7214\u001b[0m   e\u001b[39m.\u001b[39mmessage \u001b[39m+\u001b[39m\u001b[39m=\u001b[39m (\u001b[39m\"\u001b[39m\u001b[39m name: \u001b[39m\u001b[39m\"\u001b[39m \u001b[39m+\u001b[39m name \u001b[39mif\u001b[39;00m name \u001b[39mis\u001b[39;00m \u001b[39mnot\u001b[39;00m \u001b[39mNone\u001b[39;00m \u001b[39melse\u001b[39;00m \u001b[39m\"\u001b[39m\u001b[39m\"\u001b[39m)\n\u001b[1;32m-> 7215\u001b[0m   \u001b[39mraise\u001b[39;00m core\u001b[39m.\u001b[39m_status_to_exception(e) \u001b[39mfrom\u001b[39;00m \u001b[39mNone\u001b[39m\n",
      "\u001b[1;31mInvalidArgumentError\u001b[0m: {{function_node __wrapped__SerializeManySparse_device_/job:localhost/replica:0/task:0/device:CPU:0}} indices[1] = [0,180] is out of order. Many sparse ops require sorted indices.\n    Use `tf.sparse.reorder` to create a correctly ordered copy.\n\n [Op:SerializeManySparse]"
     ]
    }
   ],
   "source": [
    "y_pred = model_3.predict(X_imp)"
   ]
  },
  {
   "cell_type": "code",
   "execution_count": 95,
   "metadata": {},
   "outputs": [
    {
     "data": {
      "text/plain": [
       "scipy.sparse._csr.csr_matrix"
      ]
     },
     "execution_count": 95,
     "metadata": {},
     "output_type": "execute_result"
    }
   ],
   "source": [
    "type(X_imp)"
   ]
  },
  {
   "cell_type": "code",
   "execution_count": 96,
   "metadata": {},
   "outputs": [],
   "source": [
    "def convert_sparse_matrix_to_sparse_tensor(X):\n",
    "    coo = X.tocoo()\n",
    "    indices = np.mat([coo.row, coo.col]).transpose()\n",
    "    return tf.SparseTensor(indices, coo.data, coo.shape)"
   ]
  },
  {
   "cell_type": "code",
   "execution_count": 97,
   "metadata": {},
   "outputs": [],
   "source": [
    "X_imp_tf = convert_sparse_matrix_to_sparse_tensor(X_imp)"
   ]
  },
  {
   "cell_type": "code",
   "execution_count": 98,
   "metadata": {},
   "outputs": [
    {
     "name": "stdout",
     "output_type": "stream",
     "text": [
      "534/534 [==============================] - 0s 734us/step\n"
     ]
    }
   ],
   "source": [
    "y_pred = model_3.predict(tf.sparse.reorder(X_imp_tf))"
   ]
  },
  {
   "cell_type": "code",
   "execution_count": 99,
   "metadata": {},
   "outputs": [
    {
     "data": {
      "text/plain": [
       "array([[7.6519337],\n",
       "       [7.5205393],\n",
       "       [6.3565893],\n",
       "       ...,\n",
       "       [6.1686544],\n",
       "       [8.217991 ],\n",
       "       [8.446318 ]], dtype=float32)"
      ]
     },
     "execution_count": 99,
     "metadata": {},
     "output_type": "execute_result"
    }
   ],
   "source": [
    "y_pred"
   ]
  },
  {
   "cell_type": "markdown",
   "metadata": {},
   "source": []
  }
 ],
 "metadata": {
  "kernelspec": {
   "display_name": "Python 3.9.13 ('tf')",
   "language": "python",
   "name": "python3"
  },
  "language_info": {
   "codemirror_mode": {
    "name": "ipython",
    "version": 3
   },
   "file_extension": ".py",
   "mimetype": "text/x-python",
   "name": "python",
   "nbconvert_exporter": "python",
   "pygments_lexer": "ipython3",
   "version": "3.9.13"
  },
  "orig_nbformat": 4,
  "vscode": {
   "interpreter": {
    "hash": "8d941500329789df683ebdc0e17676b710c54bb4cabcc0a3e1a6bd8b40cdaff6"
   }
  }
 },
 "nbformat": 4,
 "nbformat_minor": 2
}
