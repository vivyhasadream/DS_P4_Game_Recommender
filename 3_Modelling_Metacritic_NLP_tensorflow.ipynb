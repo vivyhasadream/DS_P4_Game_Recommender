{
 "cells": [
  {
   "cell_type": "code",
   "execution_count": 5,
   "metadata": {},
   "outputs": [],
   "source": [
    "import numpy as np\n",
    "import pandas as pd\n",
    "import matplotlib.pyplot as plt\n",
    "from sklearn.model_selection import train_test_split\n",
    "import nltk\n",
    "from nltk.tokenize import regexp_tokenize, word_tokenize, RegexpTokenizer\n",
    "from nltk.corpus import stopwords, wordnet\n",
    "from nltk import pos_tag\n",
    "from nltk.stem import WordNetLemmatizer\n",
    "from sklearn.ensemble import RandomForestClassifier\n",
    "from sklearn.naive_bayes import MultinomialNB\n",
    "from sklearn.metrics import accuracy_score, precision_score, confusion_matrix, plot_confusion_matrix, classification_report, plot_roc_curve, roc_auc_score\n",
    "from sklearn.pipeline import Pipeline\n",
    "from sklearn.base import BaseEstimator, TransformerMixin\n",
    "from sklearn.feature_extraction.text import TfidfVectorizer, CountVectorizer\n",
    "\n",
    "import tensorflow as tf\n",
    "from tensorflow import keras\n",
    "from tensorflow.keras import layers\n",
    "from tensorflow.keras.models import Sequential\n",
    "from tensorflow.keras.layers import Dense, Dropout\n",
    "from tensorflow.keras.callbacks import EarlyStopping\n",
    "from tensorflow.keras.utils import to_categorical\n",
    "from tensorflow.keras.optimizers import Adam\n",
    "from tensorflow.keras.regularizers import L2\n",
    "\n",
    "import pickle\n",
    "import time"
   ]
  },
  {
   "cell_type": "markdown",
   "metadata": {},
   "source": [
    "# Define Func"
   ]
  },
  {
   "cell_type": "code",
   "execution_count": 6,
   "metadata": {},
   "outputs": [],
   "source": [
    "def visualize_training_results(results):\n",
    "    history = results.history\n",
    "\n",
    "    fig, (ax1, ax2) = plt.subplots(1, 2, figsize=(10,4))\n",
    "    # fig.suptitle('Horizontally stacked subplots')\n",
    "\n",
    "    ax1.plot(history['accuracy'])\n",
    "    ax1.plot(history['loss'])\n",
    "    ax1.legend(['accuracy', 'loss'])\n",
    "    ax1.set_title('Loss')\n",
    "    ax1.set_xlabel('Epochs')\n",
    "    ax1.set_ylabel('Loss')\n",
    "\n",
    "    ax2.plot(history['val_accuracy'])\n",
    "    ax2.plot(history['accuracy'])\n",
    "    ax2.legend(['val_accuracy', 'accuracy'])\n",
    "    ax2.set_title('Accuracy')\n",
    "    ax2.set_xlabel('Epochs')\n",
    "    ax2.set_ylabel('Accuracy');"
   ]
  },
  {
   "cell_type": "code",
   "execution_count": 7,
   "metadata": {},
   "outputs": [],
   "source": [
    "def heatmap_predicted_results(X_test, y_test, model):\n",
    "    y_predicted = model.predict(X_test) > 0.5\n",
    "    mat = confusion_matrix(y_test, y_predicted)\n",
    "\n",
    "    fig, ax = plt.subplots(figsize=(6,4))\n",
    "    sns.heatmap(mat, square=True, annot=True, fmt='d', cbar=False, ax=ax)"
   ]
  },
  {
   "cell_type": "markdown",
   "metadata": {},
   "source": [
    "# Import Data"
   ]
  },
  {
   "cell_type": "code",
   "execution_count": 8,
   "metadata": {},
   "outputs": [
    {
     "data": {
      "text/html": [
       "<div>\n",
       "<style scoped>\n",
       "    .dataframe tbody tr th:only-of-type {\n",
       "        vertical-align: middle;\n",
       "    }\n",
       "\n",
       "    .dataframe tbody tr th {\n",
       "        vertical-align: top;\n",
       "    }\n",
       "\n",
       "    .dataframe thead th {\n",
       "        text-align: right;\n",
       "    }\n",
       "</style>\n",
       "<table border=\"1\" class=\"dataframe\">\n",
       "  <thead>\n",
       "    <tr style=\"text-align: right;\">\n",
       "      <th></th>\n",
       "      <th>Title</th>\n",
       "      <th>Userscore</th>\n",
       "      <th>Comment</th>\n",
       "      <th>lang</th>\n",
       "    </tr>\n",
       "  </thead>\n",
       "  <tbody>\n",
       "    <tr>\n",
       "      <th>211190</th>\n",
       "      <td>Star Wars: Battlefront II</td>\n",
       "      <td>2.0</td>\n",
       "      <td>there nothing quite gun entire platoon clone d...</td>\n",
       "      <td>en</td>\n",
       "    </tr>\n",
       "    <tr>\n",
       "      <th>39249</th>\n",
       "      <td>The Witcher 3: Wild Hunt</td>\n",
       "      <td>10.0</td>\n",
       "      <td>game absolutely gorgeous run steady gtx hairwo...</td>\n",
       "      <td>en</td>\n",
       "    </tr>\n",
       "    <tr>\n",
       "      <th>204931</th>\n",
       "      <td>This War of Mine</td>\n",
       "      <td>10.0</td>\n",
       "      <td>really good game didnt expect first survival g...</td>\n",
       "      <td>en</td>\n",
       "    </tr>\n",
       "    <tr>\n",
       "      <th>75752</th>\n",
       "      <td>Golden Sun</td>\n",
       "      <td>10.0</td>\n",
       "      <td>people eagerly anticipate initial release game...</td>\n",
       "      <td>en</td>\n",
       "    </tr>\n",
       "    <tr>\n",
       "      <th>199503</th>\n",
       "      <td>Assassin's Creed IV: Black Flag</td>\n",
       "      <td>8.0</td>\n",
       "      <td>best assassin creed far open world fresh missi...</td>\n",
       "      <td>en</td>\n",
       "    </tr>\n",
       "  </tbody>\n",
       "</table>\n",
       "</div>"
      ],
      "text/plain": [
       "                                  Title  Userscore  \\\n",
       "211190        Star Wars: Battlefront II        2.0   \n",
       "39249          The Witcher 3: Wild Hunt       10.0   \n",
       "204931                 This War of Mine       10.0   \n",
       "75752                        Golden Sun       10.0   \n",
       "199503  Assassin's Creed IV: Black Flag        8.0   \n",
       "\n",
       "                                                  Comment lang  \n",
       "211190  there nothing quite gun entire platoon clone d...   en  \n",
       "39249   game absolutely gorgeous run steady gtx hairwo...   en  \n",
       "204931  really good game didnt expect first survival g...   en  \n",
       "75752   people eagerly anticipate initial release game...   en  \n",
       "199503  best assassin creed far open world fresh missi...   en  "
      ]
     },
     "execution_count": 8,
     "metadata": {},
     "output_type": "execute_result"
    }
   ],
   "source": [
    "# df = pd.read_csv('processed_df\\metacritic_comments_nlp.csv')\n",
    "# df.head()\n",
    "\n",
    "df = pickle.load(open('processed_df\\preprocessed_nlp_30p.pkl','rb'))\n",
    "df.head()"
   ]
  },
  {
   "cell_type": "code",
   "execution_count": 9,
   "metadata": {},
   "outputs": [
    {
     "data": {
      "text/plain": [
       "(74709, 4)"
      ]
     },
     "execution_count": 9,
     "metadata": {},
     "output_type": "execute_result"
    }
   ],
   "source": [
    "df.shape"
   ]
  },
  {
   "cell_type": "code",
   "execution_count": 11,
   "metadata": {},
   "outputs": [
    {
     "name": "stdout",
     "output_type": "stream",
     "text": [
      "shape before: (72477, 4)\n",
      "shape after: (70569, 4)\n"
     ]
    }
   ],
   "source": [
    "print(f'shape before: {df.shape}')\n",
    "df = df[df['Comment'] != '']\n",
    "df.drop_duplicates(inplace=True)\n",
    "df.dropna(inplace=True)\n",
    "print(f'shape after: {df.shape}')\n"
   ]
  },
  {
   "cell_type": "markdown",
   "metadata": {},
   "source": [
    "# Train test split"
   ]
  },
  {
   "cell_type": "code",
   "execution_count": 12,
   "metadata": {},
   "outputs": [],
   "source": [
    "X = df['Comment']\n",
    "y = df['Userscore']\n",
    "\n",
    "X_train, X_test, y_train, y_test = train_test_split(X, y, test_size = 0.3)"
   ]
  },
  {
   "cell_type": "markdown",
   "metadata": {},
   "source": [
    "# TFIDF text"
   ]
  },
  {
   "cell_type": "code",
   "execution_count": 13,
   "metadata": {},
   "outputs": [
    {
     "name": "stdout",
     "output_type": "stream",
     "text": [
      "3.041321039199829 secs slipped..\n"
     ]
    }
   ],
   "source": [
    "start = time.time()\n",
    "\n",
    "bow_vec = TfidfVectorizer(min_df=0.05, max_df=0.95)\n",
    "X_tr_proc = bow_vec.fit_transform(X_train)\n",
    "X_te_proc = bow_vec.transform(X_test)\n",
    "\n",
    "end = time.time()\n",
    "print(f'{end-start} secs slipped..')"
   ]
  },
  {
   "cell_type": "code",
   "execution_count": 15,
   "metadata": {},
   "outputs": [
    {
     "name": "stderr",
     "output_type": "stream",
     "text": [
      "c:\\Users\\qwswe\\Anaconda3\\envs\\tf\\lib\\site-packages\\sklearn\\utils\\deprecation.py:87: FutureWarning: Function get_feature_names is deprecated; get_feature_names is deprecated in 1.0 and will be removed in 1.2. Please use get_feature_names_out instead.\n",
      "  warnings.warn(msg, category=FutureWarning)\n"
     ]
    }
   ],
   "source": [
    "feat_names = bow_vec.get_feature_names()"
   ]
  },
  {
   "cell_type": "code",
   "execution_count": 16,
   "metadata": {},
   "outputs": [],
   "source": [
    "bow_mat_tr = pd.DataFrame(X_tr_proc.toarray(), columns = feat_names)\n",
    "bow_mat_te = pd.DataFrame(X_te_proc.toarray(), columns = feat_names)"
   ]
  },
  {
   "cell_type": "code",
   "execution_count": 17,
   "metadata": {},
   "outputs": [
    {
     "data": {
      "text/plain": [
       "(49398, 167)"
      ]
     },
     "execution_count": 17,
     "metadata": {},
     "output_type": "execute_result"
    }
   ],
   "source": [
    "bow_mat_tr.shape"
   ]
  },
  {
   "cell_type": "markdown",
   "metadata": {},
   "source": [
    "# MODEL"
   ]
  },
  {
   "cell_type": "markdown",
   "metadata": {},
   "source": [
    "- 1"
   ]
  },
  {
   "cell_type": "code",
   "execution_count": 18,
   "metadata": {},
   "outputs": [],
   "source": [
    "model_1 = Sequential()\n",
    "model_1.add(Dense(64, activation='relu', input_shape=(167,)))\n",
    "model_1.add(Dense(30, activation='relu'))\n",
    "model_1.add(Dense(1, activation='linear'))\n",
    "\n",
    "opt = Adam(learning_rate=0.0003, beta_1=0.9, beta_2=0.999, epsilon=1e-07)\n",
    "\n",
    "model_1.compile(loss = \"mean_squared_error\", optimizer=opt, metrics=['mean_absolute_error'])"
   ]
  },
  {
   "cell_type": "code",
   "execution_count": 19,
   "metadata": {},
   "outputs": [
    {
     "name": "stdout",
     "output_type": "stream",
     "text": [
      "Epoch 1/50\n",
      "155/155 [==============================] - 2s 4ms/step - loss: 52.6714 - mean_absolute_error: 6.7782 - val_loss: 23.0589 - val_mean_absolute_error: 4.3755\n",
      "Epoch 2/50\n",
      "155/155 [==============================] - 0s 3ms/step - loss: 11.7657 - mean_absolute_error: 2.9267 - val_loss: 8.9016 - val_mean_absolute_error: 2.4537\n",
      "Epoch 3/50\n",
      "155/155 [==============================] - 0s 3ms/step - loss: 8.0454 - mean_absolute_error: 2.3212 - val_loss: 7.3077 - val_mean_absolute_error: 2.1830\n",
      "Epoch 4/50\n",
      "155/155 [==============================] - 0s 3ms/step - loss: 6.6876 - mean_absolute_error: 2.0681 - val_loss: 6.1793 - val_mean_absolute_error: 1.9586\n",
      "Epoch 5/50\n",
      "155/155 [==============================] - 0s 3ms/step - loss: 5.8376 - mean_absolute_error: 1.8956 - val_loss: 5.5467 - val_mean_absolute_error: 1.8337\n",
      "Epoch 6/50\n",
      "155/155 [==============================] - 0s 3ms/step - loss: 5.3832 - mean_absolute_error: 1.8048 - val_loss: 5.2016 - val_mean_absolute_error: 1.7659\n",
      "Epoch 7/50\n",
      "155/155 [==============================] - 0s 3ms/step - loss: 5.0999 - mean_absolute_error: 1.7503 - val_loss: 4.9615 - val_mean_absolute_error: 1.7112\n",
      "Epoch 8/50\n",
      "155/155 [==============================] - 0s 3ms/step - loss: 4.8781 - mean_absolute_error: 1.7043 - val_loss: 4.7725 - val_mean_absolute_error: 1.6732\n",
      "Epoch 9/50\n",
      "155/155 [==============================] - 0s 3ms/step - loss: 4.7027 - mean_absolute_error: 1.6671 - val_loss: 4.6402 - val_mean_absolute_error: 1.6303\n",
      "Epoch 10/50\n",
      "155/155 [==============================] - 0s 3ms/step - loss: 4.5744 - mean_absolute_error: 1.6353 - val_loss: 4.5428 - val_mean_absolute_error: 1.6113\n",
      "Epoch 11/50\n",
      "155/155 [==============================] - 1s 3ms/step - loss: 4.4871 - mean_absolute_error: 1.6121 - val_loss: 4.4815 - val_mean_absolute_error: 1.6009\n",
      "Epoch 12/50\n",
      "155/155 [==============================] - 0s 3ms/step - loss: 4.4349 - mean_absolute_error: 1.5977 - val_loss: 4.4482 - val_mean_absolute_error: 1.5933\n",
      "Epoch 13/50\n",
      "155/155 [==============================] - 1s 3ms/step - loss: 4.4049 - mean_absolute_error: 1.5890 - val_loss: 4.4312 - val_mean_absolute_error: 1.5926\n",
      "Epoch 14/50\n",
      "155/155 [==============================] - 1s 3ms/step - loss: 4.3839 - mean_absolute_error: 1.5814 - val_loss: 4.4246 - val_mean_absolute_error: 1.5752\n",
      "Epoch 15/50\n",
      "155/155 [==============================] - 0s 3ms/step - loss: 4.3736 - mean_absolute_error: 1.5781 - val_loss: 4.4165 - val_mean_absolute_error: 1.5772\n",
      "Epoch 16/50\n",
      "155/155 [==============================] - 0s 3ms/step - loss: 4.3671 - mean_absolute_error: 1.5751 - val_loss: 4.4178 - val_mean_absolute_error: 1.5905\n",
      "Epoch 17/50\n",
      "155/155 [==============================] - 0s 3ms/step - loss: 4.3593 - mean_absolute_error: 1.5725 - val_loss: 4.4144 - val_mean_absolute_error: 1.5826\n",
      "Epoch 18/50\n",
      "155/155 [==============================] - 0s 3ms/step - loss: 4.3531 - mean_absolute_error: 1.5715 - val_loss: 4.4177 - val_mean_absolute_error: 1.5664\n",
      "Epoch 19/50\n",
      "155/155 [==============================] - 0s 3ms/step - loss: 4.3475 - mean_absolute_error: 1.5699 - val_loss: 4.4125 - val_mean_absolute_error: 1.5721\n",
      "Epoch 20/50\n",
      "155/155 [==============================] - 1s 3ms/step - loss: 4.3425 - mean_absolute_error: 1.5677 - val_loss: 4.4160 - val_mean_absolute_error: 1.5659\n",
      "Epoch 21/50\n",
      "155/155 [==============================] - 0s 3ms/step - loss: 4.3359 - mean_absolute_error: 1.5661 - val_loss: 4.4102 - val_mean_absolute_error: 1.5739\n",
      "Epoch 22/50\n",
      "155/155 [==============================] - 0s 3ms/step - loss: 4.3305 - mean_absolute_error: 1.5658 - val_loss: 4.4085 - val_mean_absolute_error: 1.5816\n",
      "Epoch 23/50\n",
      "155/155 [==============================] - 0s 3ms/step - loss: 4.3227 - mean_absolute_error: 1.5645 - val_loss: 4.4133 - val_mean_absolute_error: 1.5612\n",
      "Epoch 24/50\n",
      "155/155 [==============================] - 0s 3ms/step - loss: 4.3171 - mean_absolute_error: 1.5618 - val_loss: 4.4106 - val_mean_absolute_error: 1.5915\n",
      "Epoch 25/50\n",
      "155/155 [==============================] - 0s 3ms/step - loss: 4.3117 - mean_absolute_error: 1.5621 - val_loss: 4.4092 - val_mean_absolute_error: 1.5636\n",
      "Epoch 26/50\n",
      "155/155 [==============================] - 0s 3ms/step - loss: 4.3030 - mean_absolute_error: 1.5609 - val_loss: 4.4060 - val_mean_absolute_error: 1.5628\n",
      "Epoch 27/50\n",
      "155/155 [==============================] - 0s 3ms/step - loss: 4.2968 - mean_absolute_error: 1.5577 - val_loss: 4.4016 - val_mean_absolute_error: 1.5845\n",
      "Epoch 28/50\n",
      "155/155 [==============================] - 0s 3ms/step - loss: 4.2842 - mean_absolute_error: 1.5572 - val_loss: 4.3991 - val_mean_absolute_error: 1.5655\n",
      "Epoch 29/50\n",
      "155/155 [==============================] - 0s 3ms/step - loss: 4.2782 - mean_absolute_error: 1.5538 - val_loss: 4.3946 - val_mean_absolute_error: 1.5688\n",
      "Epoch 30/50\n",
      "155/155 [==============================] - 0s 3ms/step - loss: 4.2642 - mean_absolute_error: 1.5526 - val_loss: 4.3925 - val_mean_absolute_error: 1.5629\n",
      "Epoch 31/50\n",
      "155/155 [==============================] - 0s 3ms/step - loss: 4.2522 - mean_absolute_error: 1.5490 - val_loss: 4.3822 - val_mean_absolute_error: 1.5591\n",
      "Epoch 32/50\n",
      "155/155 [==============================] - 0s 3ms/step - loss: 4.2309 - mean_absolute_error: 1.5439 - val_loss: 4.3688 - val_mean_absolute_error: 1.5605\n",
      "Epoch 33/50\n",
      "155/155 [==============================] - 1s 3ms/step - loss: 4.2096 - mean_absolute_error: 1.5385 - val_loss: 4.3542 - val_mean_absolute_error: 1.5681\n",
      "Epoch 34/50\n",
      "155/155 [==============================] - 1s 3ms/step - loss: 4.1843 - mean_absolute_error: 1.5319 - val_loss: 4.3391 - val_mean_absolute_error: 1.5531\n",
      "Epoch 35/50\n",
      "155/155 [==============================] - 1s 3ms/step - loss: 4.1548 - mean_absolute_error: 1.5232 - val_loss: 4.3222 - val_mean_absolute_error: 1.5341\n",
      "Epoch 36/50\n",
      "155/155 [==============================] - 0s 3ms/step - loss: 4.1233 - mean_absolute_error: 1.5131 - val_loss: 4.2979 - val_mean_absolute_error: 1.5405\n",
      "Epoch 37/50\n",
      "155/155 [==============================] - 0s 3ms/step - loss: 4.0878 - mean_absolute_error: 1.5026 - val_loss: 4.2782 - val_mean_absolute_error: 1.5263\n",
      "Epoch 38/50\n",
      "155/155 [==============================] - 0s 3ms/step - loss: 4.0575 - mean_absolute_error: 1.4934 - val_loss: 4.2695 - val_mean_absolute_error: 1.5068\n",
      "Epoch 39/50\n",
      "155/155 [==============================] - 0s 3ms/step - loss: 4.0228 - mean_absolute_error: 1.4811 - val_loss: 4.2390 - val_mean_absolute_error: 1.5197\n",
      "Epoch 40/50\n",
      "155/155 [==============================] - 0s 3ms/step - loss: 3.9922 - mean_absolute_error: 1.4727 - val_loss: 4.2307 - val_mean_absolute_error: 1.5258\n",
      "Epoch 41/50\n",
      "155/155 [==============================] - 0s 3ms/step - loss: 3.9651 - mean_absolute_error: 1.4656 - val_loss: 4.2259 - val_mean_absolute_error: 1.4902\n",
      "Epoch 42/50\n",
      "155/155 [==============================] - 1s 3ms/step - loss: 3.9410 - mean_absolute_error: 1.4574 - val_loss: 4.2115 - val_mean_absolute_error: 1.4961\n",
      "Epoch 43/50\n",
      "155/155 [==============================] - 0s 3ms/step - loss: 3.9203 - mean_absolute_error: 1.4507 - val_loss: 4.2094 - val_mean_absolute_error: 1.4867\n",
      "Epoch 44/50\n",
      "155/155 [==============================] - 1s 3ms/step - loss: 3.8998 - mean_absolute_error: 1.4450 - val_loss: 4.2118 - val_mean_absolute_error: 1.4835\n",
      "Epoch 45/50\n",
      "155/155 [==============================] - 1s 3ms/step - loss: 3.8818 - mean_absolute_error: 1.4401 - val_loss: 4.2054 - val_mean_absolute_error: 1.4936\n",
      "Epoch 46/50\n",
      "155/155 [==============================] - 0s 3ms/step - loss: 3.8688 - mean_absolute_error: 1.4359 - val_loss: 4.2040 - val_mean_absolute_error: 1.4859\n",
      "Epoch 47/50\n",
      "155/155 [==============================] - 0s 3ms/step - loss: 3.8527 - mean_absolute_error: 1.4333 - val_loss: 4.2069 - val_mean_absolute_error: 1.4839\n",
      "Epoch 48/50\n",
      "155/155 [==============================] - 0s 3ms/step - loss: 3.8391 - mean_absolute_error: 1.4284 - val_loss: 4.2073 - val_mean_absolute_error: 1.4888\n",
      "Epoch 49/50\n",
      "155/155 [==============================] - 0s 3ms/step - loss: 3.8278 - mean_absolute_error: 1.4264 - val_loss: 4.2093 - val_mean_absolute_error: 1.4947\n",
      "Epoch 50/50\n",
      "155/155 [==============================] - 0s 3ms/step - loss: 3.8108 - mean_absolute_error: 1.4226 - val_loss: 4.2181 - val_mean_absolute_error: 1.4816\n"
     ]
    }
   ],
   "source": [
    "results_1 = model_1.fit(bow_mat_tr, y_train, validation_split = 0.2, epochs=50, batch_size=256)"
   ]
  },
  {
   "cell_type": "code",
   "execution_count": 20,
   "metadata": {},
   "outputs": [
    {
     "data": {
      "text/plain": [
       "dict_keys(['loss', 'mean_absolute_error', 'val_loss', 'val_mean_absolute_error'])"
      ]
     },
     "execution_count": 20,
     "metadata": {},
     "output_type": "execute_result"
    }
   ],
   "source": [
    "history_dict = results_1.history\n",
    "history_dict.keys()"
   ]
  },
  {
   "cell_type": "code",
   "execution_count": 21,
   "metadata": {},
   "outputs": [
    {
     "data": {
      "image/png": "[encoded data removed]",
      "text/plain": [
       "<Figure size 640x480 with 1 Axes>"
      ]
     },
     "metadata": {},
     "output_type": "display_data"
    }
   ],
   "source": [
    "plt.plot(results_1.history['val_loss'])\n",
    "plt.plot(results_1.history['loss'])\n",
    "plt.title('model mse')\n",
    "plt.ylabel('val loss')\n",
    "plt.xlabel('epoch')\n",
    "plt.legend(['train', 'val'], loc='upper left')\n",
    "plt.show()"
   ]
  },
  {
   "cell_type": "code",
   "execution_count": 22,
   "metadata": {},
   "outputs": [
    {
     "data": {
      "image/png": "[encoded data removed]",
      "text/plain": [
       "<Figure size 640x480 with 1 Axes>"
      ]
     },
     "metadata": {},
     "output_type": "display_data"
    }
   ],
   "source": [
    "plt.plot(results_1.history['val_mean_absolute_error'])\n",
    "plt.plot(results_1.history['mean_absolute_error'])\n",
    "plt.title('model mae')\n",
    "plt.ylabel('val_mean_absolute_error')\n",
    "plt.xlabel('epoch')\n",
    "plt.legend(['train', 'val'], loc='upper left')\n",
    "plt.show()"
   ]
  },
  {
   "cell_type": "code",
   "execution_count": 23,
   "metadata": {},
   "outputs": [
    {
     "name": "stdout",
     "output_type": "stream",
     "text": [
      "662/662 [==============================] - 1s 2ms/step - loss: 4.3531 - mean_absolute_error: 1.4965\n"
     ]
    },
    {
     "data": {
      "text/plain": [
       "[4.353050708770752, 1.4964686632156372]"
      ]
     },
     "execution_count": 23,
     "metadata": {},
     "output_type": "execute_result"
    }
   ],
   "source": [
    "model_1.evaluate(bow_mat_te, y_test)"
   ]
  },
  {
   "cell_type": "markdown",
   "metadata": {},
   "source": [
    "- 2"
   ]
  },
  {
   "cell_type": "code",
   "execution_count": 72,
   "metadata": {},
   "outputs": [],
   "source": [
    "model_2 = Sequential()\n",
    "model_2.add(Dense(64, activation='relu', input_shape=(155,)))\n",
    "model_2.add(Dense(32, activation='relu'))\n",
    "model_2.add(Dense(16, activation='relu'))\n",
    "model_2.add(Dense(16, activation='relu'))\n",
    "model_2.add(Dense(1, activation='linear'))\n",
    "\n",
    "opt = Adam(learning_rate=0.001, beta_1=0.9, beta_2=0.999, epsilon=1e-07)\n",
    "\n",
    "model_2.compile(loss = \"mean_squared_error\", optimizer=opt, metrics=['mean_squared_error'])"
   ]
  },
  {
   "cell_type": "code",
   "execution_count": 73,
   "metadata": {},
   "outputs": [
    {
     "name": "stdout",
     "output_type": "stream",
     "text": [
      "Epoch 1/50\n",
      "164/164 [==============================] - 1s 4ms/step - loss: 20.6882 - mean_squared_error: 20.6882 - val_loss: 5.7531 - val_mean_squared_error: 5.7531\n",
      "Epoch 2/50\n",
      "164/164 [==============================] - 0s 3ms/step - loss: 4.8445 - mean_squared_error: 4.8445 - val_loss: 4.5535 - val_mean_squared_error: 4.5535\n",
      "Epoch 3/50\n",
      "164/164 [==============================] - 0s 3ms/step - loss: 4.5341 - mean_squared_error: 4.5341 - val_loss: 4.4763 - val_mean_squared_error: 4.4763\n",
      "Epoch 4/50\n",
      "164/164 [==============================] - 0s 3ms/step - loss: 4.4932 - mean_squared_error: 4.4932 - val_loss: 4.4675 - val_mean_squared_error: 4.4675\n",
      "Epoch 5/50\n",
      "164/164 [==============================] - 0s 3ms/step - loss: 4.4502 - mean_squared_error: 4.4502 - val_loss: 4.4457 - val_mean_squared_error: 4.4457\n",
      "Epoch 6/50\n",
      "164/164 [==============================] - 0s 3ms/step - loss: 4.4283 - mean_squared_error: 4.4283 - val_loss: 4.4398 - val_mean_squared_error: 4.4398\n",
      "Epoch 7/50\n",
      "164/164 [==============================] - 0s 3ms/step - loss: 4.3918 - mean_squared_error: 4.3918 - val_loss: 4.4288 - val_mean_squared_error: 4.4288\n",
      "Epoch 8/50\n",
      "164/164 [==============================] - 0s 3ms/step - loss: 4.3324 - mean_squared_error: 4.3324 - val_loss: 4.3760 - val_mean_squared_error: 4.3760\n",
      "Epoch 9/50\n",
      "164/164 [==============================] - 0s 3ms/step - loss: 4.2012 - mean_squared_error: 4.2012 - val_loss: 4.3466 - val_mean_squared_error: 4.3466\n",
      "Epoch 10/50\n",
      "164/164 [==============================] - 0s 3ms/step - loss: 4.0681 - mean_squared_error: 4.0681 - val_loss: 4.3452 - val_mean_squared_error: 4.3452\n",
      "Epoch 11/50\n",
      "164/164 [==============================] - 0s 3ms/step - loss: 3.9736 - mean_squared_error: 3.9736 - val_loss: 4.2875 - val_mean_squared_error: 4.2875\n",
      "Epoch 12/50\n",
      "164/164 [==============================] - 0s 3ms/step - loss: 3.8868 - mean_squared_error: 3.8868 - val_loss: 4.3271 - val_mean_squared_error: 4.3271\n",
      "Epoch 13/50\n",
      "164/164 [==============================] - 0s 3ms/step - loss: 3.8285 - mean_squared_error: 3.8285 - val_loss: 4.3956 - val_mean_squared_error: 4.3956\n",
      "Epoch 14/50\n",
      "164/164 [==============================] - 0s 3ms/step - loss: 3.7523 - mean_squared_error: 3.7523 - val_loss: 4.3876 - val_mean_squared_error: 4.3876\n",
      "Epoch 15/50\n",
      "164/164 [==============================] - 0s 3ms/step - loss: 3.6919 - mean_squared_error: 3.6919 - val_loss: 4.5774 - val_mean_squared_error: 4.5774\n",
      "Epoch 16/50\n",
      "164/164 [==============================] - 0s 2ms/step - loss: 3.6264 - mean_squared_error: 3.6264 - val_loss: 4.4581 - val_mean_squared_error: 4.4581\n",
      "Epoch 17/50\n",
      "164/164 [==============================] - 0s 2ms/step - loss: 3.5639 - mean_squared_error: 3.5639 - val_loss: 4.5185 - val_mean_squared_error: 4.5185\n",
      "Epoch 18/50\n",
      "164/164 [==============================] - 0s 3ms/step - loss: 3.5050 - mean_squared_error: 3.5050 - val_loss: 4.5515 - val_mean_squared_error: 4.5515\n",
      "Epoch 19/50\n",
      "164/164 [==============================] - 0s 3ms/step - loss: 3.4512 - mean_squared_error: 3.4512 - val_loss: 4.5754 - val_mean_squared_error: 4.5754\n",
      "Epoch 20/50\n",
      "164/164 [==============================] - 0s 3ms/step - loss: 3.4119 - mean_squared_error: 3.4119 - val_loss: 4.6035 - val_mean_squared_error: 4.6035\n",
      "Epoch 21/50\n",
      "164/164 [==============================] - 0s 3ms/step - loss: 3.3358 - mean_squared_error: 3.3358 - val_loss: 4.6533 - val_mean_squared_error: 4.6533\n",
      "Epoch 22/50\n",
      "164/164 [==============================] - 0s 2ms/step - loss: 3.2883 - mean_squared_error: 3.2883 - val_loss: 4.7730 - val_mean_squared_error: 4.7730\n",
      "Epoch 23/50\n",
      "164/164 [==============================] - 0s 2ms/step - loss: 3.2483 - mean_squared_error: 3.2483 - val_loss: 4.7921 - val_mean_squared_error: 4.7921\n",
      "Epoch 24/50\n",
      "164/164 [==============================] - 0s 2ms/step - loss: 3.1992 - mean_squared_error: 3.1992 - val_loss: 4.7519 - val_mean_squared_error: 4.7519\n",
      "Epoch 25/50\n",
      "164/164 [==============================] - 0s 3ms/step - loss: 3.1326 - mean_squared_error: 3.1326 - val_loss: 4.8085 - val_mean_squared_error: 4.8085\n",
      "Epoch 26/50\n",
      "164/164 [==============================] - 0s 3ms/step - loss: 3.0987 - mean_squared_error: 3.0987 - val_loss: 4.8186 - val_mean_squared_error: 4.8186\n",
      "Epoch 27/50\n",
      "164/164 [==============================] - 0s 3ms/step - loss: 3.0587 - mean_squared_error: 3.0587 - val_loss: 4.8955 - val_mean_squared_error: 4.8955\n",
      "Epoch 28/50\n",
      "164/164 [==============================] - 0s 3ms/step - loss: 3.0100 - mean_squared_error: 3.0100 - val_loss: 4.8980 - val_mean_squared_error: 4.8980\n",
      "Epoch 29/50\n",
      "164/164 [==============================] - 0s 2ms/step - loss: 2.9560 - mean_squared_error: 2.9560 - val_loss: 4.9313 - val_mean_squared_error: 4.9313\n",
      "Epoch 30/50\n",
      "164/164 [==============================] - 0s 3ms/step - loss: 2.8977 - mean_squared_error: 2.8977 - val_loss: 5.0510 - val_mean_squared_error: 5.0510\n",
      "Epoch 31/50\n",
      "164/164 [==============================] - 0s 3ms/step - loss: 2.8633 - mean_squared_error: 2.8633 - val_loss: 5.0270 - val_mean_squared_error: 5.0270\n",
      "Epoch 32/50\n",
      "164/164 [==============================] - 0s 2ms/step - loss: 2.8258 - mean_squared_error: 2.8258 - val_loss: 5.1361 - val_mean_squared_error: 5.1361\n",
      "Epoch 33/50\n",
      "164/164 [==============================] - 0s 2ms/step - loss: 2.7906 - mean_squared_error: 2.7906 - val_loss: 5.0326 - val_mean_squared_error: 5.0326\n",
      "Epoch 34/50\n",
      "164/164 [==============================] - 0s 2ms/step - loss: 2.7575 - mean_squared_error: 2.7575 - val_loss: 5.2751 - val_mean_squared_error: 5.2751\n",
      "Epoch 35/50\n",
      "164/164 [==============================] - 0s 2ms/step - loss: 2.7105 - mean_squared_error: 2.7105 - val_loss: 5.2620 - val_mean_squared_error: 5.2620\n",
      "Epoch 36/50\n",
      "164/164 [==============================] - 0s 3ms/step - loss: 2.6774 - mean_squared_error: 2.6774 - val_loss: 5.1911 - val_mean_squared_error: 5.1911\n",
      "Epoch 37/50\n",
      "164/164 [==============================] - 0s 2ms/step - loss: 2.6384 - mean_squared_error: 2.6384 - val_loss: 5.1879 - val_mean_squared_error: 5.1879\n",
      "Epoch 38/50\n",
      "164/164 [==============================] - 0s 3ms/step - loss: 2.6076 - mean_squared_error: 2.6076 - val_loss: 5.3419 - val_mean_squared_error: 5.3419\n",
      "Epoch 39/50\n",
      "164/164 [==============================] - 0s 3ms/step - loss: 2.5791 - mean_squared_error: 2.5791 - val_loss: 5.2602 - val_mean_squared_error: 5.2602\n",
      "Epoch 40/50\n",
      "164/164 [==============================] - 0s 3ms/step - loss: 2.5403 - mean_squared_error: 2.5403 - val_loss: 5.4500 - val_mean_squared_error: 5.4500\n",
      "Epoch 41/50\n",
      "164/164 [==============================] - 0s 3ms/step - loss: 2.5081 - mean_squared_error: 2.5081 - val_loss: 5.3624 - val_mean_squared_error: 5.3624\n",
      "Epoch 42/50\n",
      "164/164 [==============================] - 0s 2ms/step - loss: 2.4713 - mean_squared_error: 2.4713 - val_loss: 5.5958 - val_mean_squared_error: 5.5958\n",
      "Epoch 43/50\n",
      "164/164 [==============================] - 0s 3ms/step - loss: 2.4475 - mean_squared_error: 2.4475 - val_loss: 5.4408 - val_mean_squared_error: 5.4408\n",
      "Epoch 44/50\n",
      "164/164 [==============================] - 0s 3ms/step - loss: 2.4392 - mean_squared_error: 2.4392 - val_loss: 5.4611 - val_mean_squared_error: 5.4611\n",
      "Epoch 45/50\n",
      "164/164 [==============================] - 0s 3ms/step - loss: 2.3866 - mean_squared_error: 2.3866 - val_loss: 5.4159 - val_mean_squared_error: 5.4159\n",
      "Epoch 46/50\n",
      "164/164 [==============================] - 0s 3ms/step - loss: 2.3644 - mean_squared_error: 2.3644 - val_loss: 5.6853 - val_mean_squared_error: 5.6853\n",
      "Epoch 47/50\n",
      "164/164 [==============================] - 0s 3ms/step - loss: 2.3325 - mean_squared_error: 2.3325 - val_loss: 5.5186 - val_mean_squared_error: 5.5186\n",
      "Epoch 48/50\n",
      "164/164 [==============================] - 0s 3ms/step - loss: 2.3007 - mean_squared_error: 2.3007 - val_loss: 5.5785 - val_mean_squared_error: 5.5785\n",
      "Epoch 49/50\n",
      "164/164 [==============================] - 0s 3ms/step - loss: 2.2631 - mean_squared_error: 2.2631 - val_loss: 5.7967 - val_mean_squared_error: 5.7967\n",
      "Epoch 50/50\n",
      "164/164 [==============================] - 0s 2ms/step - loss: 2.2541 - mean_squared_error: 2.2541 - val_loss: 5.8699 - val_mean_squared_error: 5.8699\n"
     ]
    }
   ],
   "source": [
    "results_2 = model_2.fit(bow_mat_tr, y_train, validation_split = 0.2, epochs=50, batch_size=256)"
   ]
  },
  {
   "cell_type": "code",
   "execution_count": 74,
   "metadata": {},
   "outputs": [
    {
     "data": {
      "text/plain": [
       "dict_keys(['loss', 'mean_squared_error', 'val_loss', 'val_mean_squared_error'])"
      ]
     },
     "execution_count": 74,
     "metadata": {},
     "output_type": "execute_result"
    }
   ],
   "source": [
    "history_dict = results_2.history\n",
    "history_dict.keys()"
   ]
  },
  {
   "cell_type": "code",
   "execution_count": 75,
   "metadata": {},
   "outputs": [
    {
     "data": {
      "image/png": "[encoded data removed]",
      "text/plain": [
       "<Figure size 640x480 with 1 Axes>"
      ]
     },
     "metadata": {},
     "output_type": "display_data"
    }
   ],
   "source": [
    "plt.plot(results_2.history['val_loss'])\n",
    "plt.plot(results_2.history['loss'])\n",
    "plt.title('model mse')\n",
    "plt.ylabel('val loss')\n",
    "plt.xlabel('epoch')\n",
    "plt.legend(['train', 'val'], loc='upper left')\n",
    "plt.show()"
   ]
  },
  {
   "cell_type": "code",
   "execution_count": 76,
   "metadata": {},
   "outputs": [
    {
     "name": "stdout",
     "output_type": "stream",
     "text": [
      "701/701 [==============================] - 1s 2ms/step - loss: 5.9070 - mean_squared_error: 5.9070\n"
     ]
    },
    {
     "data": {
      "text/plain": [
       "[5.907035827636719, 5.907035827636719]"
      ]
     },
     "execution_count": 76,
     "metadata": {},
     "output_type": "execute_result"
    }
   ],
   "source": [
    "model_2.evaluate(bow_mat_te, y_test)"
   ]
  },
  {
   "cell_type": "code",
   "execution_count": null,
   "metadata": {},
   "outputs": [],
   "source": []
  }
 ],
 "metadata": {
  "kernelspec": {
   "display_name": "Python 3.9.13 ('tf')",
   "language": "python",
   "name": "python3"
  },
  "language_info": {
   "codemirror_mode": {
    "name": "ipython",
    "version": 3
   },
   "file_extension": ".py",
   "mimetype": "text/x-python",
   "name": "python",
   "nbconvert_exporter": "python",
   "pygments_lexer": "ipython3",
   "version": "3.9.13"
  },
  "orig_nbformat": 4,
  "vscode": {
   "interpreter": {
    "hash": "8d941500329789df683ebdc0e17676b710c54bb4cabcc0a3e1a6bd8b40cdaff6"
   }
  }
 },
 "nbformat": 4,
 "nbformat_minor": 2
}
