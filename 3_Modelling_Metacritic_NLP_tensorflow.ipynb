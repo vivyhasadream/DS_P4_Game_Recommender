{
 "cells": [
  {
   "cell_type": "code",
   "execution_count": 144,
   "metadata": {},
   "outputs": [],
   "source": [
    "import numpy as np\n",
    "import pandas as pd\n",
    "import matplotlib.pyplot as plt\n",
    "from sklearn.model_selection import train_test_split\n",
    "import nltk\n",
    "from nltk.tokenize import regexp_tokenize, word_tokenize, RegexpTokenizer\n",
    "from nltk.corpus import stopwords, wordnet\n",
    "from nltk import pos_tag\n",
    "from nltk.stem import WordNetLemmatizer\n",
    "from sklearn.ensemble import RandomForestClassifier\n",
    "from sklearn.naive_bayes import MultinomialNB\n",
    "from sklearn.metrics import accuracy_score, precision_score, confusion_matrix, plot_confusion_matrix, classification_report, plot_roc_curve, roc_auc_score\n",
    "from sklearn.pipeline import Pipeline\n",
    "from sklearn.base import BaseEstimator, TransformerMixin\n",
    "from sklearn.feature_extraction.text import TfidfVectorizer, CountVectorizer\n",
    "\n",
    "import tensorflow as tf\n",
    "from tensorflow import keras\n",
    "from tensorflow.keras import layers\n",
    "from tensorflow.keras.models import Sequential\n",
    "from tensorflow.keras.layers import Dense, Dropout\n",
    "from tensorflow.keras.callbacks import EarlyStopping\n",
    "from tensorflow.keras.utils import to_categorical\n",
    "from tensorflow.keras.optimizers import Adam\n",
    "from tensorflow.keras.regularizers import L2"
   ]
  },
  {
   "cell_type": "markdown",
   "metadata": {},
   "source": [
    "# Define Func"
   ]
  },
  {
   "cell_type": "code",
   "execution_count": 145,
   "metadata": {},
   "outputs": [],
   "source": [
    "# additional argument sets cut off minimum length for tokenized text at which function converts to null string.\n",
    "def process_text(text, min_length):\n",
    "\n",
    "    # drop non-english words\n",
    "    words = set(nltk.corpus.words.words())\n",
    "    # \" \".join(w for w in nltk.wordpunct_tokenize(text) if w.lower() in words or not w.isalpha())\n",
    "\n",
    "    # get common stop words that we'll remove during tokenization/text normalization\n",
    "    stop_words = stopwords.words('english')\n",
    "\n",
    "    #initialize lemmatizer\n",
    "    wnl = WordNetLemmatizer()\n",
    "\n",
    "    # helper function to change nltk's part of speech tagging to a wordnet format.\n",
    "    def pos_tagger(nltk_tag):\n",
    "        if nltk_tag.startswith('J'):\n",
    "            return wordnet.ADJ\n",
    "        elif nltk_tag.startswith('V'):\n",
    "            return wordnet.VERB\n",
    "        elif nltk_tag.startswith('N'):\n",
    "            return wordnet.NOUN\n",
    "        elif nltk_tag.startswith('R'):\n",
    "            return wordnet.ADV\n",
    "        else:         \n",
    "            return None\n",
    "   \n",
    "\n",
    "    # lower case everything\n",
    "    text_lower = text.lower()\n",
    "    \n",
    "    # remove stop words and punctuations \n",
    "    text_norm = [x for x in word_tokenize(text_lower) if ((x.isalpha()) & (x not in stop_words) & (x in words)) ]\n",
    "\n",
    "    #  POS detection on the result will be important in telling Wordnet's lemmatizer how to lemmatize\n",
    "    \n",
    "    # creates list of tuples with tokens and POS tags in wordnet format\n",
    "    wordnet_tagged = list(map(lambda x: (x[0], pos_tagger(x[1])), pos_tag(text_norm))) \n",
    "\n",
    "    # now we are going to have a cutoff here. any tokenized cocument with length < min length will be removed from corpus\n",
    "    if len(wordnet_tagged) <= min_length:\n",
    "        return ''\n",
    "    else:\n",
    "         # rejoins lemmatized sentence \n",
    "         text_norm = \" \".join([wnl.lemmatize(x[0], x[1]) for x in wordnet_tagged if x[1] is not None])\n",
    "         return text_norm"
   ]
  },
  {
   "cell_type": "code",
   "execution_count": 146,
   "metadata": {},
   "outputs": [],
   "source": [
    "def visualize_training_results(results):\n",
    "    history = results.history\n",
    "\n",
    "    fig, (ax1, ax2) = plt.subplots(1, 2, figsize=(10,4))\n",
    "    # fig.suptitle('Horizontally stacked subplots')\n",
    "\n",
    "    ax1.plot(history['accuracy'])\n",
    "    ax1.plot(history['loss'])\n",
    "    ax1.legend(['accuracy', 'loss'])\n",
    "    ax1.set_title('Loss')\n",
    "    ax1.set_xlabel('Epochs')\n",
    "    ax1.set_ylabel('Loss')\n",
    "\n",
    "    ax2.plot(history['val_accuracy'])\n",
    "    ax2.plot(history['accuracy'])\n",
    "    ax2.legend(['val_accuracy', 'accuracy'])\n",
    "    ax2.set_title('Accuracy')\n",
    "    ax2.set_xlabel('Epochs')\n",
    "    ax2.set_ylabel('Accuracy');"
   ]
  },
  {
   "cell_type": "code",
   "execution_count": 147,
   "metadata": {},
   "outputs": [],
   "source": [
    "def heatmap_predicted_results(X_test, y_test, model):\n",
    "    y_predicted = model.predict(X_test) > 0.5\n",
    "    mat = confusion_matrix(y_test, y_predicted)\n",
    "\n",
    "    fig, ax = plt.subplots(figsize=(6,4))\n",
    "    sns.heatmap(mat, square=True, annot=True, fmt='d', cbar=False, ax=ax)"
   ]
  },
  {
   "cell_type": "markdown",
   "metadata": {},
   "source": [
    "# Import Data"
   ]
  },
  {
   "cell_type": "code",
   "execution_count": 148,
   "metadata": {},
   "outputs": [
    {
     "data": {
      "text/html": [
       "<div>\n",
       "<style scoped>\n",
       "    .dataframe tbody tr th:only-of-type {\n",
       "        vertical-align: middle;\n",
       "    }\n",
       "\n",
       "    .dataframe tbody tr th {\n",
       "        vertical-align: top;\n",
       "    }\n",
       "\n",
       "    .dataframe thead th {\n",
       "        text-align: right;\n",
       "    }\n",
       "</style>\n",
       "<table border=\"1\" class=\"dataframe\">\n",
       "  <thead>\n",
       "    <tr style=\"text-align: right;\">\n",
       "      <th></th>\n",
       "      <th>Title</th>\n",
       "      <th>Userscore</th>\n",
       "      <th>Comment</th>\n",
       "    </tr>\n",
       "  </thead>\n",
       "  <tbody>\n",
       "    <tr>\n",
       "      <th>0</th>\n",
       "      <td>The Legend of Zelda: Ocarina of Time</td>\n",
       "      <td>10.0</td>\n",
       "      <td>Everything in OoT is so near at perfection, it...</td>\n",
       "    </tr>\n",
       "    <tr>\n",
       "      <th>1</th>\n",
       "      <td>The Legend of Zelda: Ocarina of Time</td>\n",
       "      <td>10.0</td>\n",
       "      <td>I won't bore you with what everyone is already...</td>\n",
       "    </tr>\n",
       "    <tr>\n",
       "      <th>2</th>\n",
       "      <td>The Legend of Zelda: Ocarina of Time</td>\n",
       "      <td>10.0</td>\n",
       "      <td>Anyone who gives the masterpiece below a 7 or ...</td>\n",
       "    </tr>\n",
       "    <tr>\n",
       "      <th>3</th>\n",
       "      <td>The Legend of Zelda: Ocarina of Time</td>\n",
       "      <td>10.0</td>\n",
       "      <td>I'm one of those people who think that this is...</td>\n",
       "    </tr>\n",
       "    <tr>\n",
       "      <th>4</th>\n",
       "      <td>The Legend of Zelda: Ocarina of Time</td>\n",
       "      <td>10.0</td>\n",
       "      <td>This game is the highest rated game on Metacr...</td>\n",
       "    </tr>\n",
       "  </tbody>\n",
       "</table>\n",
       "</div>"
      ],
      "text/plain": [
       "                                  Title  Userscore  \\\n",
       "0  The Legend of Zelda: Ocarina of Time       10.0   \n",
       "1  The Legend of Zelda: Ocarina of Time       10.0   \n",
       "2  The Legend of Zelda: Ocarina of Time       10.0   \n",
       "3  The Legend of Zelda: Ocarina of Time       10.0   \n",
       "4  The Legend of Zelda: Ocarina of Time       10.0   \n",
       "\n",
       "                                             Comment  \n",
       "0  Everything in OoT is so near at perfection, it...  \n",
       "1  I won't bore you with what everyone is already...  \n",
       "2  Anyone who gives the masterpiece below a 7 or ...  \n",
       "3  I'm one of those people who think that this is...  \n",
       "4   This game is the highest rated game on Metacr...  "
      ]
     },
     "execution_count": 148,
     "metadata": {},
     "output_type": "execute_result"
    }
   ],
   "source": [
    "df = pd.read_csv('processed_df\\metacritic_comments_nlp.csv')\n",
    "df.head()"
   ]
  },
  {
   "cell_type": "code",
   "execution_count": 150,
   "metadata": {},
   "outputs": [
    {
     "data": {
      "text/plain": [
       "(260269, 3)"
      ]
     },
     "execution_count": 150,
     "metadata": {},
     "output_type": "execute_result"
    }
   ],
   "source": [
    "df.shape"
   ]
  },
  {
   "cell_type": "code",
   "execution_count": 151,
   "metadata": {},
   "outputs": [],
   "source": [
    "df_sub = df.sample(n=2000, random_state=2333)"
   ]
  },
  {
   "cell_type": "code",
   "execution_count": 152,
   "metadata": {},
   "outputs": [
    {
     "data": {
      "text/plain": [
       "1.0     0.0295\n",
       "2.0     0.0210\n",
       "3.0     0.0265\n",
       "4.0     0.0350\n",
       "5.0     0.0355\n",
       "6.0     0.0560\n",
       "7.0     0.0695\n",
       "8.0     0.1090\n",
       "9.0     0.2045\n",
       "10.0    0.4135\n",
       "Name: Userscore, dtype: float64"
      ]
     },
     "execution_count": 152,
     "metadata": {},
     "output_type": "execute_result"
    }
   ],
   "source": [
    "df_sub.Userscore.value_counts(normalize=True).sort_index()"
   ]
  },
  {
   "cell_type": "markdown",
   "metadata": {},
   "source": [
    "# Train test split"
   ]
  },
  {
   "cell_type": "code",
   "execution_count": 153,
   "metadata": {},
   "outputs": [],
   "source": [
    "X = df_sub['Comment']\n",
    "y = df_sub['Userscore']\n",
    "\n",
    "X_train, X_test, y_train, y_test = train_test_split(X, y, test_size = 0.3)"
   ]
  },
  {
   "cell_type": "code",
   "execution_count": 139,
   "metadata": {},
   "outputs": [],
   "source": [
    "transformed_tr = X_train.apply(process_text, min_length = 10)\n",
    "\n",
    "# took 2m30s"
   ]
  },
  {
   "cell_type": "code",
   "execution_count": 36,
   "metadata": {},
   "outputs": [],
   "source": [
    "transformed_te = X_test.apply(process_text, min_length = 10)\n",
    "\n",
    "# took 1m5s"
   ]
  },
  {
   "cell_type": "code",
   "execution_count": 165,
   "metadata": {},
   "outputs": [],
   "source": [
    "import pickle\n",
    "\n",
    "transformed_tr = pickle.load(open('processed_df/transformed_tr_2k.pkl','rb'))\n",
    "transformed_te = pickle.load(open('processed_df/transformed_te_2k.pkl','rb'))"
   ]
  },
  {
   "cell_type": "markdown",
   "metadata": {},
   "source": [
    "# process text"
   ]
  },
  {
   "cell_type": "code",
   "execution_count": 166,
   "metadata": {},
   "outputs": [],
   "source": [
    "bow_vec = TfidfVectorizer(min_df=0.05, max_df=0.95)\n",
    "X_tr_proc = bow_vec.fit_transform(transformed_tr)\n",
    "X_te_proc = bow_vec.transform(transformed_te)"
   ]
  },
  {
   "cell_type": "code",
   "execution_count": 167,
   "metadata": {},
   "outputs": [
    {
     "name": "stderr",
     "output_type": "stream",
     "text": [
      "c:\\Users\\qwswe\\Anaconda3\\envs\\tf\\lib\\site-packages\\sklearn\\utils\\deprecation.py:87: FutureWarning: Function get_feature_names is deprecated; get_feature_names is deprecated in 1.0 and will be removed in 1.2. Please use get_feature_names_out instead.\n",
      "  warnings.warn(msg, category=FutureWarning)\n"
     ]
    }
   ],
   "source": [
    "feat_names = bow_vec.get_feature_names()"
   ]
  },
  {
   "cell_type": "code",
   "execution_count": 168,
   "metadata": {},
   "outputs": [],
   "source": [
    "bow_mat_tr = pd.DataFrame(X_tr_proc.toarray(), columns = feat_names)\n",
    "bow_mat_te = pd.DataFrame(X_te_proc.toarray(), columns = feat_names)"
   ]
  },
  {
   "cell_type": "markdown",
   "metadata": {},
   "source": [
    "# label encoder"
   ]
  },
  {
   "cell_type": "code",
   "execution_count": 169,
   "metadata": {},
   "outputs": [],
   "source": [
    "y_tr_cat = to_categorical(y_train)\n",
    "y_te_cat = to_categorical(y_test)"
   ]
  },
  {
   "cell_type": "code",
   "execution_count": 170,
   "metadata": {},
   "outputs": [
    {
     "data": {
      "text/plain": [
       "(600, 11)"
      ]
     },
     "execution_count": 170,
     "metadata": {},
     "output_type": "execute_result"
    }
   ],
   "source": [
    "y_te_cat.shape"
   ]
  },
  {
   "cell_type": "markdown",
   "metadata": {},
   "source": [
    "# MODEL"
   ]
  },
  {
   "cell_type": "code",
   "execution_count": 196,
   "metadata": {},
   "outputs": [],
   "source": [
    "model_1 = Sequential()\n",
    "model_1.add(Dense(64, activation='relu', input_shape=(155,)))\n",
    "model_1.add(Dense(30, activation='relu'))\n",
    "model_1.add(Dense(11, activation='sigmoid'))\n",
    "\n",
    "opt = Adam(learning_rate=0.003, beta_1=0.9, beta_2=0.999, epsilon=1e-07)\n",
    "\n",
    "model_1.compile(loss = tf.keras.losses.CategoricalCrossentropy(), optimizer=opt, metrics=['accuracy'])"
   ]
  },
  {
   "cell_type": "code",
   "execution_count": 197,
   "metadata": {},
   "outputs": [
    {
     "name": "stdout",
     "output_type": "stream",
     "text": [
      "Epoch 1/150\n",
      "6/6 [==============================] - 0s 2ms/step - loss: 2.3361 - accuracy: 0.3221\n",
      "Epoch 2/150\n",
      "6/6 [==============================] - 0s 3ms/step - loss: 2.1498 - accuracy: 0.4071\n",
      "Epoch 3/150\n",
      "6/6 [==============================] - 0s 3ms/step - loss: 1.9524 - accuracy: 0.4071\n",
      "Epoch 4/150\n",
      "6/6 [==============================] - 0s 3ms/step - loss: 1.8764 - accuracy: 0.4071\n",
      "Epoch 5/150\n",
      "6/6 [==============================] - 0s 3ms/step - loss: 1.8471 - accuracy: 0.4071\n",
      "Epoch 6/150\n",
      "6/6 [==============================] - 0s 3ms/step - loss: 1.8189 - accuracy: 0.4071\n",
      "Epoch 7/150\n",
      "6/6 [==============================] - 0s 3ms/step - loss: 1.7942 - accuracy: 0.4071\n",
      "Epoch 8/150\n",
      "6/6 [==============================] - 0s 3ms/step - loss: 1.7751 - accuracy: 0.4071\n",
      "Epoch 9/150\n",
      "6/6 [==============================] - 0s 3ms/step - loss: 1.7526 - accuracy: 0.4079\n",
      "Epoch 10/150\n",
      "6/6 [==============================] - 0s 3ms/step - loss: 1.7311 - accuracy: 0.4100\n",
      "Epoch 11/150\n",
      "6/6 [==============================] - 0s 3ms/step - loss: 1.7107 - accuracy: 0.4129\n",
      "Epoch 12/150\n",
      "6/6 [==============================] - 0s 3ms/step - loss: 1.6848 - accuracy: 0.4343\n",
      "Epoch 13/150\n",
      "6/6 [==============================] - 0s 3ms/step - loss: 1.6581 - accuracy: 0.4343\n",
      "Epoch 14/150\n",
      "6/6 [==============================] - 0s 3ms/step - loss: 1.6317 - accuracy: 0.4421\n",
      "Epoch 15/150\n",
      "6/6 [==============================] - 0s 3ms/step - loss: 1.6051 - accuracy: 0.4657\n",
      "Epoch 16/150\n",
      "6/6 [==============================] - 0s 3ms/step - loss: 1.5740 - accuracy: 0.4729\n",
      "Epoch 17/150\n",
      "6/6 [==============================] - 0s 3ms/step - loss: 1.5431 - accuracy: 0.4814\n",
      "Epoch 18/150\n",
      "6/6 [==============================] - 0s 3ms/step - loss: 1.5106 - accuracy: 0.4957\n",
      "Epoch 19/150\n",
      "6/6 [==============================] - 0s 3ms/step - loss: 1.4774 - accuracy: 0.5100\n",
      "Epoch 20/150\n",
      "6/6 [==============================] - 0s 3ms/step - loss: 1.4421 - accuracy: 0.5100\n",
      "Epoch 21/150\n",
      "6/6 [==============================] - 0s 3ms/step - loss: 1.4044 - accuracy: 0.5279\n",
      "Epoch 22/150\n",
      "6/6 [==============================] - 0s 3ms/step - loss: 1.3667 - accuracy: 0.5357\n",
      "Epoch 23/150\n",
      "6/6 [==============================] - 0s 3ms/step - loss: 1.3263 - accuracy: 0.5507\n",
      "Epoch 24/150\n",
      "6/6 [==============================] - 0s 3ms/step - loss: 1.2832 - accuracy: 0.5693\n",
      "Epoch 25/150\n",
      "6/6 [==============================] - 0s 3ms/step - loss: 1.2426 - accuracy: 0.5871\n",
      "Epoch 26/150\n",
      "6/6 [==============================] - 0s 3ms/step - loss: 1.1991 - accuracy: 0.6029\n",
      "Epoch 27/150\n",
      "6/6 [==============================] - 0s 3ms/step - loss: 1.1550 - accuracy: 0.6214\n",
      "Epoch 28/150\n",
      "6/6 [==============================] - 0s 3ms/step - loss: 1.1146 - accuracy: 0.6436\n",
      "Epoch 29/150\n",
      "6/6 [==============================] - 0s 3ms/step - loss: 1.0804 - accuracy: 0.6607\n",
      "Epoch 30/150\n",
      "6/6 [==============================] - 0s 3ms/step - loss: 1.0386 - accuracy: 0.6779\n",
      "Epoch 31/150\n",
      "6/6 [==============================] - 0s 3ms/step - loss: 0.9936 - accuracy: 0.6950\n",
      "Epoch 32/150\n",
      "6/6 [==============================] - 0s 3ms/step - loss: 0.9591 - accuracy: 0.7150\n",
      "Epoch 33/150\n",
      "6/6 [==============================] - 0s 3ms/step - loss: 0.9193 - accuracy: 0.7171\n",
      "Epoch 34/150\n",
      "6/6 [==============================] - 0s 3ms/step - loss: 0.8822 - accuracy: 0.7300\n",
      "Epoch 35/150\n",
      "6/6 [==============================] - 0s 3ms/step - loss: 0.8486 - accuracy: 0.7457\n",
      "Epoch 36/150\n",
      "6/6 [==============================] - 0s 3ms/step - loss: 0.8180 - accuracy: 0.7564\n",
      "Epoch 37/150\n",
      "6/6 [==============================] - 0s 3ms/step - loss: 0.7835 - accuracy: 0.7629\n",
      "Epoch 38/150\n",
      "6/6 [==============================] - 0s 3ms/step - loss: 0.7575 - accuracy: 0.7721\n",
      "Epoch 39/150\n",
      "6/6 [==============================] - 0s 3ms/step - loss: 0.7278 - accuracy: 0.7943\n",
      "Epoch 40/150\n",
      "6/6 [==============================] - 0s 3ms/step - loss: 0.6973 - accuracy: 0.7986\n",
      "Epoch 41/150\n",
      "6/6 [==============================] - 0s 3ms/step - loss: 0.6713 - accuracy: 0.8150\n",
      "Epoch 42/150\n",
      "6/6 [==============================] - 0s 3ms/step - loss: 0.6443 - accuracy: 0.8193\n",
      "Epoch 43/150\n",
      "6/6 [==============================] - 0s 3ms/step - loss: 0.6214 - accuracy: 0.8250\n",
      "Epoch 44/150\n",
      "6/6 [==============================] - 0s 3ms/step - loss: 0.5976 - accuracy: 0.8329\n",
      "Epoch 45/150\n",
      "6/6 [==============================] - 0s 3ms/step - loss: 0.5725 - accuracy: 0.8379\n",
      "Epoch 46/150\n",
      "6/6 [==============================] - 0s 4ms/step - loss: 0.5507 - accuracy: 0.8593\n",
      "Epoch 47/150\n",
      "6/6 [==============================] - 0s 4ms/step - loss: 0.5306 - accuracy: 0.8600\n",
      "Epoch 48/150\n",
      "6/6 [==============================] - 0s 3ms/step - loss: 0.5135 - accuracy: 0.8721\n",
      "Epoch 49/150\n",
      "6/6 [==============================] - 0s 3ms/step - loss: 0.4932 - accuracy: 0.8743\n",
      "Epoch 50/150\n",
      "6/6 [==============================] - 0s 3ms/step - loss: 0.4685 - accuracy: 0.8886\n",
      "Epoch 51/150\n",
      "6/6 [==============================] - 0s 3ms/step - loss: 0.4515 - accuracy: 0.8936\n",
      "Epoch 52/150\n",
      "6/6 [==============================] - 0s 3ms/step - loss: 0.4346 - accuracy: 0.9000\n",
      "Epoch 53/150\n",
      "6/6 [==============================] - 0s 3ms/step - loss: 0.4182 - accuracy: 0.9050\n",
      "Epoch 54/150\n",
      "6/6 [==============================] - 0s 3ms/step - loss: 0.4017 - accuracy: 0.9164\n",
      "Epoch 55/150\n",
      "6/6 [==============================] - 0s 3ms/step - loss: 0.3902 - accuracy: 0.9107\n",
      "Epoch 56/150\n",
      "6/6 [==============================] - 0s 3ms/step - loss: 0.3740 - accuracy: 0.9214\n",
      "Epoch 57/150\n",
      "6/6 [==============================] - 0s 3ms/step - loss: 0.3616 - accuracy: 0.9257\n",
      "Epoch 58/150\n",
      "6/6 [==============================] - 0s 3ms/step - loss: 0.3485 - accuracy: 0.9214\n",
      "Epoch 59/150\n",
      "6/6 [==============================] - 0s 3ms/step - loss: 0.3363 - accuracy: 0.9286\n",
      "Epoch 60/150\n",
      "6/6 [==============================] - 0s 3ms/step - loss: 0.3247 - accuracy: 0.9336\n",
      "Epoch 61/150\n",
      "6/6 [==============================] - 0s 3ms/step - loss: 0.3178 - accuracy: 0.9343\n",
      "Epoch 62/150\n",
      "6/6 [==============================] - 0s 3ms/step - loss: 0.3068 - accuracy: 0.9286\n",
      "Epoch 63/150\n",
      "6/6 [==============================] - 0s 3ms/step - loss: 0.2953 - accuracy: 0.9421\n",
      "Epoch 64/150\n",
      "6/6 [==============================] - 0s 3ms/step - loss: 0.2871 - accuracy: 0.9429\n",
      "Epoch 65/150\n",
      "6/6 [==============================] - 0s 3ms/step - loss: 0.2789 - accuracy: 0.9443\n",
      "Epoch 66/150\n",
      "6/6 [==============================] - 0s 3ms/step - loss: 0.2701 - accuracy: 0.9436\n",
      "Epoch 67/150\n",
      "6/6 [==============================] - 0s 3ms/step - loss: 0.2637 - accuracy: 0.9443\n",
      "Epoch 68/150\n",
      "6/6 [==============================] - 0s 3ms/step - loss: 0.2575 - accuracy: 0.9450\n",
      "Epoch 69/150\n",
      "6/6 [==============================] - 0s 3ms/step - loss: 0.2525 - accuracy: 0.9414\n",
      "Epoch 70/150\n",
      "6/6 [==============================] - 0s 3ms/step - loss: 0.2464 - accuracy: 0.9364\n",
      "Epoch 71/150\n",
      "6/6 [==============================] - 0s 3ms/step - loss: 0.2431 - accuracy: 0.9457\n",
      "Epoch 72/150\n",
      "6/6 [==============================] - 0s 3ms/step - loss: 0.2359 - accuracy: 0.9457\n",
      "Epoch 73/150\n",
      "6/6 [==============================] - 0s 3ms/step - loss: 0.2334 - accuracy: 0.9357\n",
      "Epoch 74/150\n",
      "6/6 [==============================] - 0s 3ms/step - loss: 0.2274 - accuracy: 0.9450\n",
      "Epoch 75/150\n",
      "6/6 [==============================] - 0s 3ms/step - loss: 0.2222 - accuracy: 0.9464\n",
      "Epoch 76/150\n",
      "6/6 [==============================] - 0s 3ms/step - loss: 0.2171 - accuracy: 0.9464\n",
      "Epoch 77/150\n",
      "6/6 [==============================] - 0s 3ms/step - loss: 0.2133 - accuracy: 0.9464\n",
      "Epoch 78/150\n",
      "6/6 [==============================] - 0s 3ms/step - loss: 0.2105 - accuracy: 0.9464\n",
      "Epoch 79/150\n",
      "6/6 [==============================] - 0s 3ms/step - loss: 0.2069 - accuracy: 0.9464\n",
      "Epoch 80/150\n",
      "6/6 [==============================] - 0s 3ms/step - loss: 0.2042 - accuracy: 0.9464\n",
      "Epoch 81/150\n",
      "6/6 [==============================] - 0s 3ms/step - loss: 0.2011 - accuracy: 0.9457\n",
      "Epoch 82/150\n",
      "6/6 [==============================] - 0s 3ms/step - loss: 0.1995 - accuracy: 0.9464\n",
      "Epoch 83/150\n",
      "6/6 [==============================] - 0s 3ms/step - loss: 0.1987 - accuracy: 0.9464\n",
      "Epoch 84/150\n",
      "6/6 [==============================] - 0s 3ms/step - loss: 0.1968 - accuracy: 0.9464\n",
      "Epoch 85/150\n",
      "6/6 [==============================] - 0s 3ms/step - loss: 0.1951 - accuracy: 0.9407\n",
      "Epoch 86/150\n",
      "6/6 [==============================] - 0s 3ms/step - loss: 0.1951 - accuracy: 0.9464\n",
      "Epoch 87/150\n",
      "6/6 [==============================] - 0s 3ms/step - loss: 0.1923 - accuracy: 0.9407\n",
      "Epoch 88/150\n",
      "6/6 [==============================] - 0s 3ms/step - loss: 0.1959 - accuracy: 0.9364\n",
      "Epoch 89/150\n",
      "6/6 [==============================] - 0s 3ms/step - loss: 0.1864 - accuracy: 0.9457\n",
      "Epoch 90/150\n",
      "6/6 [==============================] - 0s 3ms/step - loss: 0.1849 - accuracy: 0.9471\n",
      "Epoch 91/150\n",
      "6/6 [==============================] - 0s 3ms/step - loss: 0.1846 - accuracy: 0.9464\n",
      "Epoch 92/150\n",
      "6/6 [==============================] - 0s 3ms/step - loss: 0.1828 - accuracy: 0.9464\n",
      "Epoch 93/150\n",
      "6/6 [==============================] - 0s 3ms/step - loss: 0.1843 - accuracy: 0.9371\n",
      "Epoch 94/150\n",
      "6/6 [==============================] - 0s 3ms/step - loss: 0.1842 - accuracy: 0.9464\n",
      "Epoch 95/150\n",
      "6/6 [==============================] - 0s 3ms/step - loss: 0.1808 - accuracy: 0.9407\n",
      "Epoch 96/150\n",
      "6/6 [==============================] - 0s 3ms/step - loss: 0.1780 - accuracy: 0.9457\n",
      "Epoch 97/150\n",
      "6/6 [==============================] - 0s 3ms/step - loss: 0.1762 - accuracy: 0.9464\n",
      "Epoch 98/150\n",
      "6/6 [==============================] - 0s 3ms/step - loss: 0.1752 - accuracy: 0.9429\n",
      "Epoch 99/150\n",
      "6/6 [==============================] - 0s 3ms/step - loss: 0.1755 - accuracy: 0.9393\n",
      "Epoch 100/150\n",
      "6/6 [==============================] - 0s 3ms/step - loss: 0.1748 - accuracy: 0.9464\n",
      "Epoch 101/150\n",
      "6/6 [==============================] - 0s 3ms/step - loss: 0.1739 - accuracy: 0.9400\n",
      "Epoch 102/150\n",
      "6/6 [==============================] - 0s 3ms/step - loss: 0.1706 - accuracy: 0.9464\n",
      "Epoch 103/150\n",
      "6/6 [==============================] - 0s 3ms/step - loss: 0.1711 - accuracy: 0.9464\n",
      "Epoch 104/150\n",
      "6/6 [==============================] - 0s 3ms/step - loss: 0.1692 - accuracy: 0.9464\n",
      "Epoch 105/150\n",
      "6/6 [==============================] - 0s 3ms/step - loss: 0.1698 - accuracy: 0.9414\n",
      "Epoch 106/150\n",
      "6/6 [==============================] - 0s 3ms/step - loss: 0.1696 - accuracy: 0.9464\n",
      "Epoch 107/150\n",
      "6/6 [==============================] - 0s 3ms/step - loss: 0.1689 - accuracy: 0.9407\n",
      "Epoch 108/150\n",
      "6/6 [==============================] - 0s 3ms/step - loss: 0.1686 - accuracy: 0.9464\n",
      "Epoch 109/150\n",
      "6/6 [==============================] - 0s 3ms/step - loss: 0.1677 - accuracy: 0.9471\n",
      "Epoch 110/150\n",
      "6/6 [==============================] - 0s 3ms/step - loss: 0.1678 - accuracy: 0.9464\n",
      "Epoch 111/150\n",
      "6/6 [==============================] - 0s 3ms/step - loss: 0.1689 - accuracy: 0.9379\n",
      "Epoch 112/150\n",
      "6/6 [==============================] - 0s 3ms/step - loss: 0.1677 - accuracy: 0.9464\n",
      "Epoch 113/150\n",
      "6/6 [==============================] - 0s 3ms/step - loss: 0.1654 - accuracy: 0.9436\n",
      "Epoch 114/150\n",
      "6/6 [==============================] - 0s 3ms/step - loss: 0.1639 - accuracy: 0.9464\n",
      "Epoch 115/150\n",
      "6/6 [==============================] - 0s 3ms/step - loss: 0.1686 - accuracy: 0.9379\n",
      "Epoch 116/150\n",
      "6/6 [==============================] - 0s 3ms/step - loss: 0.1677 - accuracy: 0.9464\n",
      "Epoch 117/150\n",
      "6/6 [==============================] - 0s 3ms/step - loss: 0.1650 - accuracy: 0.9464\n",
      "Epoch 118/150\n",
      "6/6 [==============================] - 0s 3ms/step - loss: 0.1651 - accuracy: 0.9386\n",
      "Epoch 119/150\n",
      "6/6 [==============================] - 0s 3ms/step - loss: 0.1632 - accuracy: 0.9464\n",
      "Epoch 120/150\n",
      "6/6 [==============================] - 0s 3ms/step - loss: 0.1640 - accuracy: 0.9414\n",
      "Epoch 121/150\n",
      "6/6 [==============================] - 0s 3ms/step - loss: 0.1664 - accuracy: 0.9450\n",
      "Epoch 122/150\n",
      "6/6 [==============================] - 0s 3ms/step - loss: 0.1654 - accuracy: 0.9407\n",
      "Epoch 123/150\n",
      "6/6 [==============================] - 0s 3ms/step - loss: 0.1662 - accuracy: 0.9343\n",
      "Epoch 124/150\n",
      "6/6 [==============================] - 0s 3ms/step - loss: 0.1619 - accuracy: 0.9464\n",
      "Epoch 125/150\n",
      "6/6 [==============================] - 0s 3ms/step - loss: 0.1613 - accuracy: 0.9464\n",
      "Epoch 126/150\n",
      "6/6 [==============================] - 0s 3ms/step - loss: 0.1601 - accuracy: 0.9464\n",
      "Epoch 127/150\n",
      "6/6 [==============================] - 0s 3ms/step - loss: 0.1608 - accuracy: 0.9464\n",
      "Epoch 128/150\n",
      "6/6 [==============================] - 0s 3ms/step - loss: 0.1599 - accuracy: 0.9464\n",
      "Epoch 129/150\n",
      "6/6 [==============================] - 0s 3ms/step - loss: 0.1600 - accuracy: 0.9457\n",
      "Epoch 130/150\n",
      "6/6 [==============================] - 0s 3ms/step - loss: 0.1603 - accuracy: 0.9393\n",
      "Epoch 131/150\n",
      "6/6 [==============================] - 0s 3ms/step - loss: 0.1603 - accuracy: 0.9464\n",
      "Epoch 132/150\n",
      "6/6 [==============================] - 0s 3ms/step - loss: 0.1595 - accuracy: 0.9429\n",
      "Epoch 133/150\n",
      "6/6 [==============================] - 0s 3ms/step - loss: 0.1587 - accuracy: 0.9464\n",
      "Epoch 134/150\n",
      "6/6 [==============================] - 0s 3ms/step - loss: 0.1597 - accuracy: 0.9393\n",
      "Epoch 135/150\n",
      "6/6 [==============================] - 0s 3ms/step - loss: 0.1588 - accuracy: 0.9457\n",
      "Epoch 136/150\n",
      "6/6 [==============================] - 0s 3ms/step - loss: 0.1577 - accuracy: 0.9421\n",
      "Epoch 137/150\n",
      "6/6 [==============================] - 0s 3ms/step - loss: 0.1600 - accuracy: 0.9457\n",
      "Epoch 138/150\n",
      "6/6 [==============================] - 0s 3ms/step - loss: 0.1612 - accuracy: 0.9371\n",
      "Epoch 139/150\n",
      "6/6 [==============================] - 0s 3ms/step - loss: 0.1589 - accuracy: 0.9471\n",
      "Epoch 140/150\n",
      "6/6 [==============================] - 0s 3ms/step - loss: 0.1633 - accuracy: 0.9336\n",
      "Epoch 141/150\n",
      "6/6 [==============================] - 0s 3ms/step - loss: 0.1577 - accuracy: 0.9400\n",
      "Epoch 142/150\n",
      "6/6 [==============================] - 0s 3ms/step - loss: 0.1599 - accuracy: 0.9464\n",
      "Epoch 143/150\n",
      "6/6 [==============================] - 0s 3ms/step - loss: 0.1585 - accuracy: 0.9429\n",
      "Epoch 144/150\n",
      "6/6 [==============================] - 0s 3ms/step - loss: 0.1586 - accuracy: 0.9464\n",
      "Epoch 145/150\n",
      "6/6 [==============================] - 0s 3ms/step - loss: 0.1567 - accuracy: 0.9443\n",
      "Epoch 146/150\n",
      "6/6 [==============================] - 0s 3ms/step - loss: 0.1593 - accuracy: 0.9457\n",
      "Epoch 147/150\n",
      "6/6 [==============================] - 0s 3ms/step - loss: 0.1557 - accuracy: 0.9464\n",
      "Epoch 148/150\n",
      "6/6 [==============================] - 0s 3ms/step - loss: 0.1575 - accuracy: 0.9400\n",
      "Epoch 149/150\n",
      "6/6 [==============================] - 0s 3ms/step - loss: 0.1607 - accuracy: 0.9471\n",
      "Epoch 150/150\n",
      "6/6 [==============================] - 0s 4ms/step - loss: 0.1597 - accuracy: 0.9371\n"
     ]
    }
   ],
   "source": [
    "results_1 = model_1.fit(bow_mat_tr, y_tr_cat, epochs=150, batch_size=256)"
   ]
  },
  {
   "cell_type": "code",
   "execution_count": 200,
   "metadata": {},
   "outputs": [
    {
     "data": {
      "text/plain": [
       "dict_keys(['loss', 'accuracy'])"
      ]
     },
     "execution_count": 200,
     "metadata": {},
     "output_type": "execute_result"
    }
   ],
   "source": [
    "history_dict = results_1.history\n",
    "history_dict.keys()"
   ]
  },
  {
   "cell_type": "code",
   "execution_count": 201,
   "metadata": {},
   "outputs": [
    {
     "data": {
      "image/png": "[encoded data removed]",
      "text/plain": [
       "<Figure size 640x480 with 1 Axes>"
      ]
     },
     "metadata": {},
     "output_type": "display_data"
    }
   ],
   "source": [
    "loss_values = history_dict['loss']\n",
    "\n",
    "epochs = range(1, len(loss_values) + 1)\n",
    "plt.plot(epochs, loss_values, 'g', label='Training loss')\n",
    "\n",
    "plt.title('Training loss')\n",
    "plt.xlabel('Epochs')\n",
    "plt.ylabel('Loss')\n",
    "plt.legend()\n",
    "plt.show()"
   ]
  },
  {
   "cell_type": "code",
   "execution_count": 202,
   "metadata": {},
   "outputs": [
    {
     "data": {
      "image/png": "[encoded data removed]",
      "text/plain": [
       "<Figure size 640x480 with 1 Axes>"
      ]
     },
     "metadata": {},
     "output_type": "display_data"
    }
   ],
   "source": [
    "# Plot the training accuracy vs the number of epochs\n",
    "\n",
    "acc_values = history_dict['accuracy'] \n",
    "\n",
    "plt.plot(epochs, acc_values, 'r', label='Training acc')\n",
    "plt.title('Training accuracy')\n",
    "plt.xlabel('Epochs')\n",
    "plt.ylabel('Accuracy')\n",
    "plt.legend()\n",
    "plt.show()"
   ]
  },
  {
   "cell_type": "code",
   "execution_count": 203,
   "metadata": {},
   "outputs": [
    {
     "name": "stdout",
     "output_type": "stream",
     "text": [
      "19/19 [==============================] - 0s 2ms/step - loss: 6.1900 - accuracy: 0.2750\n"
     ]
    },
    {
     "data": {
      "text/plain": [
       "[6.189960479736328, 0.2750000059604645]"
      ]
     },
     "execution_count": 203,
     "metadata": {},
     "output_type": "execute_result"
    }
   ],
   "source": [
    "model_1.evaluate(bow_mat_te, y_te_cat)"
   ]
  },
  {
   "cell_type": "code",
   "execution_count": null,
   "metadata": {},
   "outputs": [],
   "source": []
  }
 ],
 "metadata": {
  "kernelspec": {
   "display_name": "Python 3.9.13 ('tf')",
   "language": "python",
   "name": "python3"
  },
  "language_info": {
   "codemirror_mode": {
    "name": "ipython",
    "version": 3
   },
   "file_extension": ".py",
   "mimetype": "text/x-python",
   "name": "python",
   "nbconvert_exporter": "python",
   "pygments_lexer": "ipython3",
   "version": "3.9.13"
  },
  "orig_nbformat": 4,
  "vscode": {
   "interpreter": {
    "hash": "8d941500329789df683ebdc0e17676b710c54bb4cabcc0a3e1a6bd8b40cdaff6"
   }
  }
 },
 "nbformat": 4,
 "nbformat_minor": 2
}
