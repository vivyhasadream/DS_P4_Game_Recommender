{
 "cells": [
  {
   "cell_type": "code",
   "execution_count": 10,
   "metadata": {},
   "outputs": [],
   "source": [
    "import numpy as np\n",
    "import pandas as pd\n",
    "import matplotlib.pyplot as plt\n",
    "from sklearn.model_selection import train_test_split\n",
    "import nltk\n",
    "from nltk.tokenize import regexp_tokenize, word_tokenize, RegexpTokenizer\n",
    "from nltk.corpus import stopwords, wordnet\n",
    "from nltk import pos_tag\n",
    "from nltk.stem import WordNetLemmatizer\n",
    "from sklearn.ensemble import RandomForestClassifier\n",
    "from sklearn.naive_bayes import MultinomialNB\n",
    "from sklearn.metrics import accuracy_score, precision_score, confusion_matrix, plot_confusion_matrix, classification_report, plot_roc_curve, roc_auc_score\n",
    "from sklearn.pipeline import Pipeline\n",
    "from sklearn.base import BaseEstimator, TransformerMixin\n",
    "from sklearn.feature_extraction.text import TfidfVectorizer, CountVectorizer\n",
    "\n",
    "import tensorflow as tf\n",
    "from tensorflow import keras\n",
    "from tensorflow.keras import layers\n",
    "from tensorflow.keras.models import Sequential\n",
    "from tensorflow.keras.layers import Dense, Dropout\n",
    "from tensorflow.keras.callbacks import EarlyStopping\n",
    "from tensorflow.keras.utils import to_categorical\n",
    "from tensorflow.keras.optimizers import Adam\n",
    "from tensorflow.keras.regularizers import L2\n",
    "\n",
    "import pickle\n",
    "import time"
   ]
  },
  {
   "cell_type": "markdown",
   "metadata": {},
   "source": [
    "# Define Func"
   ]
  },
  {
   "cell_type": "code",
   "execution_count": 2,
   "metadata": {},
   "outputs": [],
   "source": [
    "def visualize_training_results(results):\n",
    "    history = results.history\n",
    "\n",
    "    fig, (ax1, ax2) = plt.subplots(1, 2, figsize=(10,4))\n",
    "    # fig.suptitle('Horizontally stacked subplots')\n",
    "\n",
    "    ax1.plot(history['accuracy'])\n",
    "    ax1.plot(history['loss'])\n",
    "    ax1.legend(['accuracy', 'loss'])\n",
    "    ax1.set_title('Loss')\n",
    "    ax1.set_xlabel('Epochs')\n",
    "    ax1.set_ylabel('Loss')\n",
    "\n",
    "    ax2.plot(history['val_accuracy'])\n",
    "    ax2.plot(history['accuracy'])\n",
    "    ax2.legend(['val_accuracy', 'accuracy'])\n",
    "    ax2.set_title('Accuracy')\n",
    "    ax2.set_xlabel('Epochs')\n",
    "    ax2.set_ylabel('Accuracy');"
   ]
  },
  {
   "cell_type": "code",
   "execution_count": 3,
   "metadata": {},
   "outputs": [],
   "source": [
    "def heatmap_predicted_results(X_test, y_test, model):\n",
    "    y_predicted = model.predict(X_test) > 0.5\n",
    "    mat = confusion_matrix(y_test, y_predicted)\n",
    "\n",
    "    fig, ax = plt.subplots(figsize=(6,4))\n",
    "    sns.heatmap(mat, square=True, annot=True, fmt='d', cbar=False, ax=ax)"
   ]
  },
  {
   "cell_type": "markdown",
   "metadata": {},
   "source": [
    "# Import Data"
   ]
  },
  {
   "cell_type": "code",
   "execution_count": 148,
   "metadata": {},
   "outputs": [
    {
     "data": {
      "text/html": [
       "<div>\n",
       "<style scoped>\n",
       "    .dataframe tbody tr th:only-of-type {\n",
       "        vertical-align: middle;\n",
       "    }\n",
       "\n",
       "    .dataframe tbody tr th {\n",
       "        vertical-align: top;\n",
       "    }\n",
       "\n",
       "    .dataframe thead th {\n",
       "        text-align: right;\n",
       "    }\n",
       "</style>\n",
       "<table border=\"1\" class=\"dataframe\">\n",
       "  <thead>\n",
       "    <tr style=\"text-align: right;\">\n",
       "      <th></th>\n",
       "      <th>Title</th>\n",
       "      <th>Userscore</th>\n",
       "      <th>Comment</th>\n",
       "    </tr>\n",
       "  </thead>\n",
       "  <tbody>\n",
       "    <tr>\n",
       "      <th>0</th>\n",
       "      <td>The Legend of Zelda: Ocarina of Time</td>\n",
       "      <td>10.0</td>\n",
       "      <td>Everything in OoT is so near at perfection, it...</td>\n",
       "    </tr>\n",
       "    <tr>\n",
       "      <th>1</th>\n",
       "      <td>The Legend of Zelda: Ocarina of Time</td>\n",
       "      <td>10.0</td>\n",
       "      <td>I won't bore you with what everyone is already...</td>\n",
       "    </tr>\n",
       "    <tr>\n",
       "      <th>2</th>\n",
       "      <td>The Legend of Zelda: Ocarina of Time</td>\n",
       "      <td>10.0</td>\n",
       "      <td>Anyone who gives the masterpiece below a 7 or ...</td>\n",
       "    </tr>\n",
       "    <tr>\n",
       "      <th>3</th>\n",
       "      <td>The Legend of Zelda: Ocarina of Time</td>\n",
       "      <td>10.0</td>\n",
       "      <td>I'm one of those people who think that this is...</td>\n",
       "    </tr>\n",
       "    <tr>\n",
       "      <th>4</th>\n",
       "      <td>The Legend of Zelda: Ocarina of Time</td>\n",
       "      <td>10.0</td>\n",
       "      <td>This game is the highest rated game on Metacr...</td>\n",
       "    </tr>\n",
       "  </tbody>\n",
       "</table>\n",
       "</div>"
      ],
      "text/plain": [
       "                                  Title  Userscore  \\\n",
       "0  The Legend of Zelda: Ocarina of Time       10.0   \n",
       "1  The Legend of Zelda: Ocarina of Time       10.0   \n",
       "2  The Legend of Zelda: Ocarina of Time       10.0   \n",
       "3  The Legend of Zelda: Ocarina of Time       10.0   \n",
       "4  The Legend of Zelda: Ocarina of Time       10.0   \n",
       "\n",
       "                                             Comment  \n",
       "0  Everything in OoT is so near at perfection, it...  \n",
       "1  I won't bore you with what everyone is already...  \n",
       "2  Anyone who gives the masterpiece below a 7 or ...  \n",
       "3  I'm one of those people who think that this is...  \n",
       "4   This game is the highest rated game on Metacr...  "
      ]
     },
     "execution_count": 148,
     "metadata": {},
     "output_type": "execute_result"
    }
   ],
   "source": []
  },
  {
   "cell_type": "code",
   "execution_count": 54,
   "metadata": {},
   "outputs": [
    {
     "data": {
      "text/html": [
       "<div>\n",
       "<style scoped>\n",
       "    .dataframe tbody tr th:only-of-type {\n",
       "        vertical-align: middle;\n",
       "    }\n",
       "\n",
       "    .dataframe tbody tr th {\n",
       "        vertical-align: top;\n",
       "    }\n",
       "\n",
       "    .dataframe thead th {\n",
       "        text-align: right;\n",
       "    }\n",
       "</style>\n",
       "<table border=\"1\" class=\"dataframe\">\n",
       "  <thead>\n",
       "    <tr style=\"text-align: right;\">\n",
       "      <th></th>\n",
       "      <th>Title</th>\n",
       "      <th>Userscore</th>\n",
       "      <th>Comment</th>\n",
       "      <th>lang</th>\n",
       "    </tr>\n",
       "  </thead>\n",
       "  <tbody>\n",
       "    <tr>\n",
       "      <th>211190</th>\n",
       "      <td>Star Wars: Battlefront II</td>\n",
       "      <td>2.0</td>\n",
       "      <td>there nothing quite gun entire platoon clone d...</td>\n",
       "      <td>en</td>\n",
       "    </tr>\n",
       "    <tr>\n",
       "      <th>39249</th>\n",
       "      <td>The Witcher 3: Wild Hunt</td>\n",
       "      <td>10.0</td>\n",
       "      <td>game absolutely gorgeous run steady gtx hairwo...</td>\n",
       "      <td>en</td>\n",
       "    </tr>\n",
       "    <tr>\n",
       "      <th>204931</th>\n",
       "      <td>This War of Mine</td>\n",
       "      <td>10.0</td>\n",
       "      <td>really good game didnt expect first survival g...</td>\n",
       "      <td>en</td>\n",
       "    </tr>\n",
       "    <tr>\n",
       "      <th>75752</th>\n",
       "      <td>Golden Sun</td>\n",
       "      <td>10.0</td>\n",
       "      <td>people eagerly anticipate initial release game...</td>\n",
       "      <td>en</td>\n",
       "    </tr>\n",
       "    <tr>\n",
       "      <th>199503</th>\n",
       "      <td>Assassin's Creed IV: Black Flag</td>\n",
       "      <td>8.0</td>\n",
       "      <td>best assassin creed far open world fresh missi...</td>\n",
       "      <td>en</td>\n",
       "    </tr>\n",
       "  </tbody>\n",
       "</table>\n",
       "</div>"
      ],
      "text/plain": [
       "                                  Title  Userscore  \\\n",
       "211190        Star Wars: Battlefront II        2.0   \n",
       "39249          The Witcher 3: Wild Hunt       10.0   \n",
       "204931                 This War of Mine       10.0   \n",
       "75752                        Golden Sun       10.0   \n",
       "199503  Assassin's Creed IV: Black Flag        8.0   \n",
       "\n",
       "                                                  Comment lang  \n",
       "211190  there nothing quite gun entire platoon clone d...   en  \n",
       "39249   game absolutely gorgeous run steady gtx hairwo...   en  \n",
       "204931  really good game didnt expect first survival g...   en  \n",
       "75752   people eagerly anticipate initial release game...   en  \n",
       "199503  best assassin creed far open world fresh missi...   en  "
      ]
     },
     "execution_count": 54,
     "metadata": {},
     "output_type": "execute_result"
    }
   ],
   "source": [
    "# df = pd.read_csv('processed_df\\metacritic_comments_nlp.csv')\n",
    "# df.head()\n",
    "\n",
    "df = pickle.load(open('processed_df\\preprocessed_nlp_30p.pkl','rb'))\n",
    "df.head()"
   ]
  },
  {
   "cell_type": "code",
   "execution_count": 7,
   "metadata": {},
   "outputs": [
    {
     "data": {
      "text/plain": [
       "(12451, 5)"
      ]
     },
     "execution_count": 7,
     "metadata": {},
     "output_type": "execute_result"
    }
   ],
   "source": [
    "df.shape"
   ]
  },
  {
   "cell_type": "markdown",
   "metadata": {},
   "source": [
    "# Train test split"
   ]
  },
  {
   "cell_type": "code",
   "execution_count": 55,
   "metadata": {},
   "outputs": [],
   "source": [
    "X = df['Comment']\n",
    "y = df['Userscore']\n",
    "\n",
    "X_train, X_test, y_train, y_test = train_test_split(X, y, test_size = 0.3)"
   ]
  },
  {
   "cell_type": "markdown",
   "metadata": {},
   "source": [
    "# TFIDF text"
   ]
  },
  {
   "cell_type": "code",
   "execution_count": 56,
   "metadata": {},
   "outputs": [
    {
     "name": "stdout",
     "output_type": "stream",
     "text": [
      "2.400545835494995 secs slipped..\n"
     ]
    }
   ],
   "source": [
    "start = time.time()\n",
    "\n",
    "bow_vec = TfidfVectorizer(min_df=0.05, max_df=0.95)\n",
    "X_tr_proc = bow_vec.fit_transform(X_train)\n",
    "X_te_proc = bow_vec.transform(X_test)\n",
    "\n",
    "end = time.time()\n",
    "print(f'{end-start} secs slipped..')"
   ]
  },
  {
   "cell_type": "code",
   "execution_count": 57,
   "metadata": {},
   "outputs": [
    {
     "name": "stderr",
     "output_type": "stream",
     "text": [
      "c:\\Users\\yanha\\anaconda3\\envs\\tf\\lib\\site-packages\\sklearn\\utils\\deprecation.py:87: FutureWarning: Function get_feature_names is deprecated; get_feature_names is deprecated in 1.0 and will be removed in 1.2. Please use get_feature_names_out instead.\n",
      "  warnings.warn(msg, category=FutureWarning)\n"
     ]
    }
   ],
   "source": [
    "feat_names = bow_vec.get_feature_names()"
   ]
  },
  {
   "cell_type": "code",
   "execution_count": 58,
   "metadata": {},
   "outputs": [],
   "source": [
    "bow_mat_tr = pd.DataFrame(X_tr_proc.toarray(), columns = feat_names)\n",
    "bow_mat_te = pd.DataFrame(X_te_proc.toarray(), columns = feat_names)"
   ]
  },
  {
   "cell_type": "code",
   "execution_count": 59,
   "metadata": {},
   "outputs": [
    {
     "data": {
      "text/plain": [
       "(52296, 155)"
      ]
     },
     "execution_count": 59,
     "metadata": {},
     "output_type": "execute_result"
    }
   ],
   "source": [
    "bow_mat_tr.shape"
   ]
  },
  {
   "cell_type": "markdown",
   "metadata": {},
   "source": [
    "# MODEL"
   ]
  },
  {
   "cell_type": "markdown",
   "metadata": {},
   "source": [
    "- 1"
   ]
  },
  {
   "cell_type": "code",
   "execution_count": 60,
   "metadata": {},
   "outputs": [],
   "source": [
    "model_1 = Sequential()\n",
    "model_1.add(Dense(64, activation='relu', input_shape=(155,)))\n",
    "model_1.add(Dense(30, activation='relu'))\n",
    "model_1.add(Dense(1, activation='linear'))\n",
    "\n",
    "opt = Adam(learning_rate=0.0003, beta_1=0.9, beta_2=0.999, epsilon=1e-07)\n",
    "\n",
    "model_1.compile(loss = \"mean_squared_error\", optimizer=opt, metrics=['mean_squared_error'])"
   ]
  },
  {
   "cell_type": "code",
   "execution_count": 61,
   "metadata": {},
   "outputs": [
    {
     "name": "stdout",
     "output_type": "stream",
     "text": [
      "Epoch 1/50\n",
      "164/164 [==============================] - 1s 3ms/step - loss: 58.4304 - mean_squared_error: 58.4304 - val_loss: 31.5555 - val_mean_squared_error: 31.5555\n",
      "Epoch 2/50\n",
      "164/164 [==============================] - 0s 2ms/step - loss: 15.1728 - mean_squared_error: 15.1728 - val_loss: 11.0095 - val_mean_squared_error: 11.0095\n",
      "Epoch 3/50\n",
      "164/164 [==============================] - 0s 2ms/step - loss: 9.7267 - mean_squared_error: 9.7267 - val_loss: 8.7661 - val_mean_squared_error: 8.7661\n",
      "Epoch 4/50\n",
      "164/164 [==============================] - 0s 2ms/step - loss: 7.7612 - mean_squared_error: 7.7612 - val_loss: 7.0369 - val_mean_squared_error: 7.0369\n",
      "Epoch 5/50\n",
      "164/164 [==============================] - 0s 2ms/step - loss: 6.4241 - mean_squared_error: 6.4241 - val_loss: 5.9553 - val_mean_squared_error: 5.9553\n",
      "Epoch 6/50\n",
      "164/164 [==============================] - 0s 2ms/step - loss: 5.5772 - mean_squared_error: 5.5772 - val_loss: 5.2513 - val_mean_squared_error: 5.2513\n",
      "Epoch 7/50\n",
      "164/164 [==============================] - 0s 2ms/step - loss: 5.0258 - mean_squared_error: 5.0258 - val_loss: 4.8185 - val_mean_squared_error: 4.8185\n",
      "Epoch 8/50\n",
      "164/164 [==============================] - 0s 2ms/step - loss: 4.7139 - mean_squared_error: 4.7139 - val_loss: 4.6032 - val_mean_squared_error: 4.6032\n",
      "Epoch 9/50\n",
      "164/164 [==============================] - 0s 2ms/step - loss: 4.5778 - mean_squared_error: 4.5778 - val_loss: 4.5263 - val_mean_squared_error: 4.5263\n",
      "Epoch 10/50\n",
      "164/164 [==============================] - 0s 2ms/step - loss: 4.5284 - mean_squared_error: 4.5284 - val_loss: 4.4998 - val_mean_squared_error: 4.4998\n",
      "Epoch 11/50\n",
      "164/164 [==============================] - 0s 2ms/step - loss: 4.5101 - mean_squared_error: 4.5101 - val_loss: 4.4884 - val_mean_squared_error: 4.4884\n",
      "Epoch 12/50\n",
      "164/164 [==============================] - 0s 2ms/step - loss: 4.5000 - mean_squared_error: 4.5000 - val_loss: 4.4853 - val_mean_squared_error: 4.4853\n",
      "Epoch 13/50\n",
      "164/164 [==============================] - 0s 2ms/step - loss: 4.4942 - mean_squared_error: 4.4942 - val_loss: 4.4783 - val_mean_squared_error: 4.4783\n",
      "Epoch 14/50\n",
      "164/164 [==============================] - 0s 2ms/step - loss: 4.4886 - mean_squared_error: 4.4886 - val_loss: 4.4755 - val_mean_squared_error: 4.4755\n",
      "Epoch 15/50\n",
      "164/164 [==============================] - 0s 2ms/step - loss: 4.4837 - mean_squared_error: 4.4837 - val_loss: 4.4718 - val_mean_squared_error: 4.4718\n",
      "Epoch 16/50\n",
      "164/164 [==============================] - 0s 2ms/step - loss: 4.4797 - mean_squared_error: 4.4797 - val_loss: 4.4685 - val_mean_squared_error: 4.4685\n",
      "Epoch 17/50\n",
      "164/164 [==============================] - 0s 2ms/step - loss: 4.4727 - mean_squared_error: 4.4727 - val_loss: 4.4649 - val_mean_squared_error: 4.4649\n",
      "Epoch 18/50\n",
      "164/164 [==============================] - 0s 2ms/step - loss: 4.4665 - mean_squared_error: 4.4665 - val_loss: 4.4623 - val_mean_squared_error: 4.4623\n",
      "Epoch 19/50\n",
      "164/164 [==============================] - 0s 3ms/step - loss: 4.4590 - mean_squared_error: 4.4590 - val_loss: 4.4573 - val_mean_squared_error: 4.4573\n",
      "Epoch 20/50\n",
      "164/164 [==============================] - 0s 2ms/step - loss: 4.4522 - mean_squared_error: 4.4522 - val_loss: 4.4559 - val_mean_squared_error: 4.4559\n",
      "Epoch 21/50\n",
      "164/164 [==============================] - 0s 2ms/step - loss: 4.4420 - mean_squared_error: 4.4420 - val_loss: 4.4456 - val_mean_squared_error: 4.4456\n",
      "Epoch 22/50\n",
      "164/164 [==============================] - 0s 2ms/step - loss: 4.4291 - mean_squared_error: 4.4291 - val_loss: 4.4378 - val_mean_squared_error: 4.4378\n",
      "Epoch 23/50\n",
      "164/164 [==============================] - 0s 2ms/step - loss: 4.4139 - mean_squared_error: 4.4139 - val_loss: 4.4234 - val_mean_squared_error: 4.4234\n",
      "Epoch 24/50\n",
      "164/164 [==============================] - 0s 2ms/step - loss: 4.3913 - mean_squared_error: 4.3913 - val_loss: 4.4085 - val_mean_squared_error: 4.4085\n",
      "Epoch 25/50\n",
      "164/164 [==============================] - 0s 2ms/step - loss: 4.3683 - mean_squared_error: 4.3683 - val_loss: 4.3855 - val_mean_squared_error: 4.3855\n",
      "Epoch 26/50\n",
      "164/164 [==============================] - 0s 2ms/step - loss: 4.3393 - mean_squared_error: 4.3393 - val_loss: 4.3602 - val_mean_squared_error: 4.3602\n",
      "Epoch 27/50\n",
      "164/164 [==============================] - 0s 2ms/step - loss: 4.3076 - mean_squared_error: 4.3076 - val_loss: 4.3384 - val_mean_squared_error: 4.3384\n",
      "Epoch 28/50\n",
      "164/164 [==============================] - 0s 2ms/step - loss: 4.2761 - mean_squared_error: 4.2761 - val_loss: 4.3149 - val_mean_squared_error: 4.3149\n",
      "Epoch 29/50\n",
      "164/164 [==============================] - 0s 2ms/step - loss: 4.2454 - mean_squared_error: 4.2454 - val_loss: 4.2912 - val_mean_squared_error: 4.2912\n",
      "Epoch 30/50\n",
      "164/164 [==============================] - 0s 2ms/step - loss: 4.2151 - mean_squared_error: 4.2151 - val_loss: 4.2906 - val_mean_squared_error: 4.2906\n",
      "Epoch 31/50\n",
      "164/164 [==============================] - 0s 2ms/step - loss: 4.1855 - mean_squared_error: 4.1855 - val_loss: 4.2607 - val_mean_squared_error: 4.2607\n",
      "Epoch 32/50\n",
      "164/164 [==============================] - 0s 2ms/step - loss: 4.1627 - mean_squared_error: 4.1627 - val_loss: 4.2523 - val_mean_squared_error: 4.2523\n",
      "Epoch 33/50\n",
      "164/164 [==============================] - 0s 2ms/step - loss: 4.1387 - mean_squared_error: 4.1387 - val_loss: 4.2422 - val_mean_squared_error: 4.2422\n",
      "Epoch 34/50\n",
      "164/164 [==============================] - 0s 2ms/step - loss: 4.1170 - mean_squared_error: 4.1170 - val_loss: 4.2356 - val_mean_squared_error: 4.2356\n",
      "Epoch 35/50\n",
      "164/164 [==============================] - 0s 2ms/step - loss: 4.1016 - mean_squared_error: 4.1016 - val_loss: 4.2320 - val_mean_squared_error: 4.2320\n",
      "Epoch 36/50\n",
      "164/164 [==============================] - 0s 2ms/step - loss: 4.0818 - mean_squared_error: 4.0818 - val_loss: 4.2301 - val_mean_squared_error: 4.2301\n",
      "Epoch 37/50\n",
      "164/164 [==============================] - 0s 2ms/step - loss: 4.0657 - mean_squared_error: 4.0657 - val_loss: 4.2254 - val_mean_squared_error: 4.2254\n",
      "Epoch 38/50\n",
      "164/164 [==============================] - 0s 2ms/step - loss: 4.0498 - mean_squared_error: 4.0498 - val_loss: 4.2263 - val_mean_squared_error: 4.2263\n",
      "Epoch 39/50\n",
      "164/164 [==============================] - 0s 2ms/step - loss: 4.0347 - mean_squared_error: 4.0347 - val_loss: 4.2338 - val_mean_squared_error: 4.2338\n",
      "Epoch 40/50\n",
      "164/164 [==============================] - 0s 2ms/step - loss: 4.0214 - mean_squared_error: 4.0214 - val_loss: 4.2420 - val_mean_squared_error: 4.2420\n",
      "Epoch 41/50\n",
      "164/164 [==============================] - 0s 2ms/step - loss: 4.0091 - mean_squared_error: 4.0091 - val_loss: 4.2297 - val_mean_squared_error: 4.2297\n",
      "Epoch 42/50\n",
      "164/164 [==============================] - 0s 2ms/step - loss: 3.9986 - mean_squared_error: 3.9986 - val_loss: 4.2274 - val_mean_squared_error: 4.2274\n",
      "Epoch 43/50\n",
      "164/164 [==============================] - 0s 2ms/step - loss: 3.9848 - mean_squared_error: 3.9848 - val_loss: 4.2245 - val_mean_squared_error: 4.2245\n",
      "Epoch 44/50\n",
      "164/164 [==============================] - 0s 2ms/step - loss: 3.9720 - mean_squared_error: 3.9720 - val_loss: 4.2293 - val_mean_squared_error: 4.2293\n",
      "Epoch 45/50\n",
      "164/164 [==============================] - 0s 2ms/step - loss: 3.9624 - mean_squared_error: 3.9624 - val_loss: 4.2263 - val_mean_squared_error: 4.2263\n",
      "Epoch 46/50\n",
      "164/164 [==============================] - 0s 2ms/step - loss: 3.9496 - mean_squared_error: 3.9496 - val_loss: 4.2347 - val_mean_squared_error: 4.2347\n",
      "Epoch 47/50\n",
      "164/164 [==============================] - 0s 2ms/step - loss: 3.9380 - mean_squared_error: 3.9380 - val_loss: 4.2410 - val_mean_squared_error: 4.2410\n",
      "Epoch 48/50\n",
      "164/164 [==============================] - 0s 2ms/step - loss: 3.9291 - mean_squared_error: 3.9291 - val_loss: 4.2387 - val_mean_squared_error: 4.2387\n",
      "Epoch 49/50\n",
      "164/164 [==============================] - 0s 2ms/step - loss: 3.9195 - mean_squared_error: 3.9195 - val_loss: 4.2453 - val_mean_squared_error: 4.2453\n",
      "Epoch 50/50\n",
      "164/164 [==============================] - 0s 2ms/step - loss: 3.9105 - mean_squared_error: 3.9105 - val_loss: 4.2431 - val_mean_squared_error: 4.2431\n"
     ]
    }
   ],
   "source": [
    "results_1 = model_1.fit(bow_mat_tr, y_train, validation_split = 0.2, epochs=50, batch_size=256)"
   ]
  },
  {
   "cell_type": "code",
   "execution_count": 62,
   "metadata": {},
   "outputs": [
    {
     "data": {
      "text/plain": [
       "dict_keys(['loss', 'mean_squared_error', 'val_loss', 'val_mean_squared_error'])"
      ]
     },
     "execution_count": 62,
     "metadata": {},
     "output_type": "execute_result"
    }
   ],
   "source": [
    "history_dict = results_1.history\n",
    "history_dict.keys()"
   ]
  },
  {
   "cell_type": "code",
   "execution_count": 63,
   "metadata": {},
   "outputs": [
    {
     "data": {
      "image/png": "[encoded data removed]",
      "text/plain": [
       "<Figure size 640x480 with 1 Axes>"
      ]
     },
     "metadata": {},
     "output_type": "display_data"
    }
   ],
   "source": [
    "plt.plot(results_1.history['val_loss'])\n",
    "plt.plot(results_1.history['loss'])\n",
    "plt.title('model mse')\n",
    "plt.ylabel('val loss')\n",
    "plt.xlabel('epoch')\n",
    "plt.legend(['train', 'val'], loc='upper left')\n",
    "plt.show()"
   ]
  },
  {
   "cell_type": "code",
   "execution_count": 64,
   "metadata": {},
   "outputs": [
    {
     "name": "stdout",
     "output_type": "stream",
     "text": [
      "701/701 [==============================] - 1s 1ms/step - loss: 4.3227 - mean_squared_error: 4.3227\n"
     ]
    },
    {
     "data": {
      "text/plain": [
       "[4.322667121887207, 4.322667121887207]"
      ]
     },
     "execution_count": 64,
     "metadata": {},
     "output_type": "execute_result"
    }
   ],
   "source": [
    "model_1.evaluate(bow_mat_te, y_test)"
   ]
  },
  {
   "cell_type": "markdown",
   "metadata": {},
   "source": [
    "- 2"
   ]
  },
  {
   "cell_type": "code",
   "execution_count": 72,
   "metadata": {},
   "outputs": [],
   "source": [
    "model_2 = Sequential()\n",
    "model_2.add(Dense(64, activation='relu', input_shape=(155,)))\n",
    "model_2.add(Dense(32, activation='relu'))\n",
    "model_2.add(Dense(16, activation='relu'))\n",
    "model_2.add(Dense(16, activation='relu'))\n",
    "model_2.add(Dense(1, activation='linear'))\n",
    "\n",
    "opt = Adam(learning_rate=0.001, beta_1=0.9, beta_2=0.999, epsilon=1e-07)\n",
    "\n",
    "model_2.compile(loss = \"mean_squared_error\", optimizer=opt, metrics=['mean_squared_error'])"
   ]
  },
  {
   "cell_type": "code",
   "execution_count": 73,
   "metadata": {},
   "outputs": [
    {
     "name": "stdout",
     "output_type": "stream",
     "text": [
      "Epoch 1/50\n",
      "164/164 [==============================] - 1s 4ms/step - loss: 20.6882 - mean_squared_error: 20.6882 - val_loss: 5.7531 - val_mean_squared_error: 5.7531\n",
      "Epoch 2/50\n",
      "164/164 [==============================] - 0s 3ms/step - loss: 4.8445 - mean_squared_error: 4.8445 - val_loss: 4.5535 - val_mean_squared_error: 4.5535\n",
      "Epoch 3/50\n",
      "164/164 [==============================] - 0s 3ms/step - loss: 4.5341 - mean_squared_error: 4.5341 - val_loss: 4.4763 - val_mean_squared_error: 4.4763\n",
      "Epoch 4/50\n",
      "164/164 [==============================] - 0s 3ms/step - loss: 4.4932 - mean_squared_error: 4.4932 - val_loss: 4.4675 - val_mean_squared_error: 4.4675\n",
      "Epoch 5/50\n",
      "164/164 [==============================] - 0s 3ms/step - loss: 4.4502 - mean_squared_error: 4.4502 - val_loss: 4.4457 - val_mean_squared_error: 4.4457\n",
      "Epoch 6/50\n",
      "164/164 [==============================] - 0s 3ms/step - loss: 4.4283 - mean_squared_error: 4.4283 - val_loss: 4.4398 - val_mean_squared_error: 4.4398\n",
      "Epoch 7/50\n",
      "164/164 [==============================] - 0s 3ms/step - loss: 4.3918 - mean_squared_error: 4.3918 - val_loss: 4.4288 - val_mean_squared_error: 4.4288\n",
      "Epoch 8/50\n",
      "164/164 [==============================] - 0s 3ms/step - loss: 4.3324 - mean_squared_error: 4.3324 - val_loss: 4.3760 - val_mean_squared_error: 4.3760\n",
      "Epoch 9/50\n",
      "164/164 [==============================] - 0s 3ms/step - loss: 4.2012 - mean_squared_error: 4.2012 - val_loss: 4.3466 - val_mean_squared_error: 4.3466\n",
      "Epoch 10/50\n",
      "164/164 [==============================] - 0s 3ms/step - loss: 4.0681 - mean_squared_error: 4.0681 - val_loss: 4.3452 - val_mean_squared_error: 4.3452\n",
      "Epoch 11/50\n",
      "164/164 [==============================] - 0s 3ms/step - loss: 3.9736 - mean_squared_error: 3.9736 - val_loss: 4.2875 - val_mean_squared_error: 4.2875\n",
      "Epoch 12/50\n",
      "164/164 [==============================] - 0s 3ms/step - loss: 3.8868 - mean_squared_error: 3.8868 - val_loss: 4.3271 - val_mean_squared_error: 4.3271\n",
      "Epoch 13/50\n",
      "164/164 [==============================] - 0s 3ms/step - loss: 3.8285 - mean_squared_error: 3.8285 - val_loss: 4.3956 - val_mean_squared_error: 4.3956\n",
      "Epoch 14/50\n",
      "164/164 [==============================] - 0s 3ms/step - loss: 3.7523 - mean_squared_error: 3.7523 - val_loss: 4.3876 - val_mean_squared_error: 4.3876\n",
      "Epoch 15/50\n",
      "164/164 [==============================] - 0s 3ms/step - loss: 3.6919 - mean_squared_error: 3.6919 - val_loss: 4.5774 - val_mean_squared_error: 4.5774\n",
      "Epoch 16/50\n",
      "164/164 [==============================] - 0s 2ms/step - loss: 3.6264 - mean_squared_error: 3.6264 - val_loss: 4.4581 - val_mean_squared_error: 4.4581\n",
      "Epoch 17/50\n",
      "164/164 [==============================] - 0s 2ms/step - loss: 3.5639 - mean_squared_error: 3.5639 - val_loss: 4.5185 - val_mean_squared_error: 4.5185\n",
      "Epoch 18/50\n",
      "164/164 [==============================] - 0s 3ms/step - loss: 3.5050 - mean_squared_error: 3.5050 - val_loss: 4.5515 - val_mean_squared_error: 4.5515\n",
      "Epoch 19/50\n",
      "164/164 [==============================] - 0s 3ms/step - loss: 3.4512 - mean_squared_error: 3.4512 - val_loss: 4.5754 - val_mean_squared_error: 4.5754\n",
      "Epoch 20/50\n",
      "164/164 [==============================] - 0s 3ms/step - loss: 3.4119 - mean_squared_error: 3.4119 - val_loss: 4.6035 - val_mean_squared_error: 4.6035\n",
      "Epoch 21/50\n",
      "164/164 [==============================] - 0s 3ms/step - loss: 3.3358 - mean_squared_error: 3.3358 - val_loss: 4.6533 - val_mean_squared_error: 4.6533\n",
      "Epoch 22/50\n",
      "164/164 [==============================] - 0s 2ms/step - loss: 3.2883 - mean_squared_error: 3.2883 - val_loss: 4.7730 - val_mean_squared_error: 4.7730\n",
      "Epoch 23/50\n",
      "164/164 [==============================] - 0s 2ms/step - loss: 3.2483 - mean_squared_error: 3.2483 - val_loss: 4.7921 - val_mean_squared_error: 4.7921\n",
      "Epoch 24/50\n",
      "164/164 [==============================] - 0s 2ms/step - loss: 3.1992 - mean_squared_error: 3.1992 - val_loss: 4.7519 - val_mean_squared_error: 4.7519\n",
      "Epoch 25/50\n",
      "164/164 [==============================] - 0s 3ms/step - loss: 3.1326 - mean_squared_error: 3.1326 - val_loss: 4.8085 - val_mean_squared_error: 4.8085\n",
      "Epoch 26/50\n",
      "164/164 [==============================] - 0s 3ms/step - loss: 3.0987 - mean_squared_error: 3.0987 - val_loss: 4.8186 - val_mean_squared_error: 4.8186\n",
      "Epoch 27/50\n",
      "164/164 [==============================] - 0s 3ms/step - loss: 3.0587 - mean_squared_error: 3.0587 - val_loss: 4.8955 - val_mean_squared_error: 4.8955\n",
      "Epoch 28/50\n",
      "164/164 [==============================] - 0s 3ms/step - loss: 3.0100 - mean_squared_error: 3.0100 - val_loss: 4.8980 - val_mean_squared_error: 4.8980\n",
      "Epoch 29/50\n",
      "164/164 [==============================] - 0s 2ms/step - loss: 2.9560 - mean_squared_error: 2.9560 - val_loss: 4.9313 - val_mean_squared_error: 4.9313\n",
      "Epoch 30/50\n",
      "164/164 [==============================] - 0s 3ms/step - loss: 2.8977 - mean_squared_error: 2.8977 - val_loss: 5.0510 - val_mean_squared_error: 5.0510\n",
      "Epoch 31/50\n",
      "164/164 [==============================] - 0s 3ms/step - loss: 2.8633 - mean_squared_error: 2.8633 - val_loss: 5.0270 - val_mean_squared_error: 5.0270\n",
      "Epoch 32/50\n",
      "164/164 [==============================] - 0s 2ms/step - loss: 2.8258 - mean_squared_error: 2.8258 - val_loss: 5.1361 - val_mean_squared_error: 5.1361\n",
      "Epoch 33/50\n",
      "164/164 [==============================] - 0s 2ms/step - loss: 2.7906 - mean_squared_error: 2.7906 - val_loss: 5.0326 - val_mean_squared_error: 5.0326\n",
      "Epoch 34/50\n",
      "164/164 [==============================] - 0s 2ms/step - loss: 2.7575 - mean_squared_error: 2.7575 - val_loss: 5.2751 - val_mean_squared_error: 5.2751\n",
      "Epoch 35/50\n",
      "164/164 [==============================] - 0s 2ms/step - loss: 2.7105 - mean_squared_error: 2.7105 - val_loss: 5.2620 - val_mean_squared_error: 5.2620\n",
      "Epoch 36/50\n",
      "164/164 [==============================] - 0s 3ms/step - loss: 2.6774 - mean_squared_error: 2.6774 - val_loss: 5.1911 - val_mean_squared_error: 5.1911\n",
      "Epoch 37/50\n",
      "164/164 [==============================] - 0s 2ms/step - loss: 2.6384 - mean_squared_error: 2.6384 - val_loss: 5.1879 - val_mean_squared_error: 5.1879\n",
      "Epoch 38/50\n",
      "164/164 [==============================] - 0s 3ms/step - loss: 2.6076 - mean_squared_error: 2.6076 - val_loss: 5.3419 - val_mean_squared_error: 5.3419\n",
      "Epoch 39/50\n",
      "164/164 [==============================] - 0s 3ms/step - loss: 2.5791 - mean_squared_error: 2.5791 - val_loss: 5.2602 - val_mean_squared_error: 5.2602\n",
      "Epoch 40/50\n",
      "164/164 [==============================] - 0s 3ms/step - loss: 2.5403 - mean_squared_error: 2.5403 - val_loss: 5.4500 - val_mean_squared_error: 5.4500\n",
      "Epoch 41/50\n",
      "164/164 [==============================] - 0s 3ms/step - loss: 2.5081 - mean_squared_error: 2.5081 - val_loss: 5.3624 - val_mean_squared_error: 5.3624\n",
      "Epoch 42/50\n",
      "164/164 [==============================] - 0s 2ms/step - loss: 2.4713 - mean_squared_error: 2.4713 - val_loss: 5.5958 - val_mean_squared_error: 5.5958\n",
      "Epoch 43/50\n",
      "164/164 [==============================] - 0s 3ms/step - loss: 2.4475 - mean_squared_error: 2.4475 - val_loss: 5.4408 - val_mean_squared_error: 5.4408\n",
      "Epoch 44/50\n",
      "164/164 [==============================] - 0s 3ms/step - loss: 2.4392 - mean_squared_error: 2.4392 - val_loss: 5.4611 - val_mean_squared_error: 5.4611\n",
      "Epoch 45/50\n",
      "164/164 [==============================] - 0s 3ms/step - loss: 2.3866 - mean_squared_error: 2.3866 - val_loss: 5.4159 - val_mean_squared_error: 5.4159\n",
      "Epoch 46/50\n",
      "164/164 [==============================] - 0s 3ms/step - loss: 2.3644 - mean_squared_error: 2.3644 - val_loss: 5.6853 - val_mean_squared_error: 5.6853\n",
      "Epoch 47/50\n",
      "164/164 [==============================] - 0s 3ms/step - loss: 2.3325 - mean_squared_error: 2.3325 - val_loss: 5.5186 - val_mean_squared_error: 5.5186\n",
      "Epoch 48/50\n",
      "164/164 [==============================] - 0s 3ms/step - loss: 2.3007 - mean_squared_error: 2.3007 - val_loss: 5.5785 - val_mean_squared_error: 5.5785\n",
      "Epoch 49/50\n",
      "164/164 [==============================] - 0s 3ms/step - loss: 2.2631 - mean_squared_error: 2.2631 - val_loss: 5.7967 - val_mean_squared_error: 5.7967\n",
      "Epoch 50/50\n",
      "164/164 [==============================] - 0s 2ms/step - loss: 2.2541 - mean_squared_error: 2.2541 - val_loss: 5.8699 - val_mean_squared_error: 5.8699\n"
     ]
    }
   ],
   "source": [
    "results_2 = model_2.fit(bow_mat_tr, y_train, validation_split = 0.2, epochs=50, batch_size=256)"
   ]
  },
  {
   "cell_type": "code",
   "execution_count": 74,
   "metadata": {},
   "outputs": [
    {
     "data": {
      "text/plain": [
       "dict_keys(['loss', 'mean_squared_error', 'val_loss', 'val_mean_squared_error'])"
      ]
     },
     "execution_count": 74,
     "metadata": {},
     "output_type": "execute_result"
    }
   ],
   "source": [
    "history_dict = results_2.history\n",
    "history_dict.keys()"
   ]
  },
  {
   "cell_type": "code",
   "execution_count": 75,
   "metadata": {},
   "outputs": [
    {
     "data": {
      "image/png": "[encoded data removed]",
      "text/plain": [
       "<Figure size 640x480 with 1 Axes>"
      ]
     },
     "metadata": {},
     "output_type": "display_data"
    }
   ],
   "source": [
    "plt.plot(results_2.history['val_loss'])\n",
    "plt.plot(results_2.history['loss'])\n",
    "plt.title('model mse')\n",
    "plt.ylabel('val loss')\n",
    "plt.xlabel('epoch')\n",
    "plt.legend(['train', 'val'], loc='upper left')\n",
    "plt.show()"
   ]
  },
  {
   "cell_type": "code",
   "execution_count": 76,
   "metadata": {},
   "outputs": [
    {
     "name": "stdout",
     "output_type": "stream",
     "text": [
      "701/701 [==============================] - 1s 2ms/step - loss: 5.9070 - mean_squared_error: 5.9070\n"
     ]
    },
    {
     "data": {
      "text/plain": [
       "[5.907035827636719, 5.907035827636719]"
      ]
     },
     "execution_count": 76,
     "metadata": {},
     "output_type": "execute_result"
    }
   ],
   "source": [
    "model_2.evaluate(bow_mat_te, y_test)"
   ]
  },
  {
   "cell_type": "code",
   "execution_count": null,
   "metadata": {},
   "outputs": [],
   "source": []
  }
 ],
 "metadata": {
  "kernelspec": {
   "display_name": "Python 3.9.13 ('tf')",
   "language": "python",
   "name": "python3"
  },
  "language_info": {
   "codemirror_mode": {
    "name": "ipython",
    "version": 3
   },
   "file_extension": ".py",
   "mimetype": "text/x-python",
   "name": "python",
   "nbconvert_exporter": "python",
   "pygments_lexer": "ipython3",
   "version": "3.9.13"
  },
  "orig_nbformat": 4,
  "vscode": {
   "interpreter": {
    "hash": "181136286f70e14e4c9f67dd94a3e862e2daeea7c14cdc5e8501a24a6c514a6e"
   }
  }
 },
 "nbformat": 4,
 "nbformat_minor": 2
}
