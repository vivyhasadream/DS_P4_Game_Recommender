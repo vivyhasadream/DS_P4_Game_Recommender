{
 "cells": [
  {
   "cell_type": "code",
   "execution_count": 10,
   "metadata": {},
   "outputs": [],
   "source": [
    "import numpy as np\n",
    "import pandas as pd\n",
    "import matplotlib.pyplot as plt\n",
    "from sklearn.model_selection import train_test_split\n",
    "import nltk\n",
    "from nltk.tokenize import regexp_tokenize, word_tokenize, RegexpTokenizer\n",
    "from nltk.corpus import stopwords, wordnet\n",
    "from nltk import pos_tag\n",
    "from nltk.stem import WordNetLemmatizer\n",
    "from sklearn.ensemble import RandomForestClassifier\n",
    "from sklearn.naive_bayes import MultinomialNB\n",
    "from sklearn.metrics import accuracy_score, precision_score, confusion_matrix, plot_confusion_matrix, classification_report, plot_roc_curve, roc_auc_score\n",
    "from sklearn.pipeline import Pipeline\n",
    "from sklearn.base import BaseEstimator, TransformerMixin\n",
    "from sklearn.feature_extraction.text import TfidfVectorizer, CountVectorizer\n",
    "\n",
    "import tensorflow as tf\n",
    "from tensorflow import keras\n",
    "from tensorflow.keras import layers\n",
    "from tensorflow.keras.models import Sequential\n",
    "from tensorflow.keras.layers import Dense, Dropout\n",
    "from tensorflow.keras.callbacks import EarlyStopping\n",
    "from tensorflow.keras.utils import to_categorical\n",
    "from tensorflow.keras.optimizers import Adam\n",
    "from tensorflow.keras.regularizers import L2\n",
    "\n",
    "import pickle\n",
    "import time"
   ]
  },
  {
   "cell_type": "markdown",
   "metadata": {},
   "source": [
    "# Define Func"
   ]
  },
  {
   "cell_type": "code",
   "execution_count": 145,
   "metadata": {},
   "outputs": [],
   "source": [
    "# additional argument sets cut off minimum length for tokenized text at which function converts to null string.\n",
    "def process_text(text, min_length):\n",
    "\n",
    "    # drop non-english words\n",
    "    words = set(nltk.corpus.words.words())\n",
    "    # \" \".join(w for w in nltk.wordpunct_tokenize(text) if w.lower() in words or not w.isalpha())\n",
    "\n",
    "    # get common stop words that we'll remove during tokenization/text normalization\n",
    "    stop_words = stopwords.words('english')\n",
    "\n",
    "    #initialize lemmatizer\n",
    "    wnl = WordNetLemmatizer()\n",
    "\n",
    "    # helper function to change nltk's part of speech tagging to a wordnet format.\n",
    "    def pos_tagger(nltk_tag):\n",
    "        if nltk_tag.startswith('J'):\n",
    "            return wordnet.ADJ\n",
    "        elif nltk_tag.startswith('V'):\n",
    "            return wordnet.VERB\n",
    "        elif nltk_tag.startswith('N'):\n",
    "            return wordnet.NOUN\n",
    "        elif nltk_tag.startswith('R'):\n",
    "            return wordnet.ADV\n",
    "        else:         \n",
    "            return None\n",
    "   \n",
    "\n",
    "    # lower case everything\n",
    "    text_lower = text.lower()\n",
    "    \n",
    "    # remove stop words and punctuations \n",
    "    text_norm = [x for x in word_tokenize(text_lower) if ((x.isalpha()) & (x not in stop_words) & (x in words)) ]\n",
    "\n",
    "    #  POS detection on the result will be important in telling Wordnet's lemmatizer how to lemmatize\n",
    "    \n",
    "    # creates list of tuples with tokens and POS tags in wordnet format\n",
    "    wordnet_tagged = list(map(lambda x: (x[0], pos_tagger(x[1])), pos_tag(text_norm))) \n",
    "\n",
    "    # now we are going to have a cutoff here. any tokenized cocument with length < min length will be removed from corpus\n",
    "    if len(wordnet_tagged) <= min_length:\n",
    "        return ''\n",
    "    else:\n",
    "         # rejoins lemmatized sentence \n",
    "         text_norm = \" \".join([wnl.lemmatize(x[0], x[1]) for x in wordnet_tagged if x[1] is not None])\n",
    "         return text_norm"
   ]
  },
  {
   "cell_type": "code",
   "execution_count": 2,
   "metadata": {},
   "outputs": [],
   "source": [
    "def visualize_training_results(results):\n",
    "    history = results.history\n",
    "\n",
    "    fig, (ax1, ax2) = plt.subplots(1, 2, figsize=(10,4))\n",
    "    # fig.suptitle('Horizontally stacked subplots')\n",
    "\n",
    "    ax1.plot(history['accuracy'])\n",
    "    ax1.plot(history['loss'])\n",
    "    ax1.legend(['accuracy', 'loss'])\n",
    "    ax1.set_title('Loss')\n",
    "    ax1.set_xlabel('Epochs')\n",
    "    ax1.set_ylabel('Loss')\n",
    "\n",
    "    ax2.plot(history['val_accuracy'])\n",
    "    ax2.plot(history['accuracy'])\n",
    "    ax2.legend(['val_accuracy', 'accuracy'])\n",
    "    ax2.set_title('Accuracy')\n",
    "    ax2.set_xlabel('Epochs')\n",
    "    ax2.set_ylabel('Accuracy');"
   ]
  },
  {
   "cell_type": "code",
   "execution_count": 3,
   "metadata": {},
   "outputs": [],
   "source": [
    "def heatmap_predicted_results(X_test, y_test, model):\n",
    "    y_predicted = model.predict(X_test) > 0.5\n",
    "    mat = confusion_matrix(y_test, y_predicted)\n",
    "\n",
    "    fig, ax = plt.subplots(figsize=(6,4))\n",
    "    sns.heatmap(mat, square=True, annot=True, fmt='d', cbar=False, ax=ax)"
   ]
  },
  {
   "cell_type": "markdown",
   "metadata": {},
   "source": [
    "# Import Data"
   ]
  },
  {
   "cell_type": "code",
   "execution_count": 148,
   "metadata": {},
   "outputs": [
    {
     "data": {
      "text/html": [
       "<div>\n",
       "<style scoped>\n",
       "    .dataframe tbody tr th:only-of-type {\n",
       "        vertical-align: middle;\n",
       "    }\n",
       "\n",
       "    .dataframe tbody tr th {\n",
       "        vertical-align: top;\n",
       "    }\n",
       "\n",
       "    .dataframe thead th {\n",
       "        text-align: right;\n",
       "    }\n",
       "</style>\n",
       "<table border=\"1\" class=\"dataframe\">\n",
       "  <thead>\n",
       "    <tr style=\"text-align: right;\">\n",
       "      <th></th>\n",
       "      <th>Title</th>\n",
       "      <th>Userscore</th>\n",
       "      <th>Comment</th>\n",
       "    </tr>\n",
       "  </thead>\n",
       "  <tbody>\n",
       "    <tr>\n",
       "      <th>0</th>\n",
       "      <td>The Legend of Zelda: Ocarina of Time</td>\n",
       "      <td>10.0</td>\n",
       "      <td>Everything in OoT is so near at perfection, it...</td>\n",
       "    </tr>\n",
       "    <tr>\n",
       "      <th>1</th>\n",
       "      <td>The Legend of Zelda: Ocarina of Time</td>\n",
       "      <td>10.0</td>\n",
       "      <td>I won't bore you with what everyone is already...</td>\n",
       "    </tr>\n",
       "    <tr>\n",
       "      <th>2</th>\n",
       "      <td>The Legend of Zelda: Ocarina of Time</td>\n",
       "      <td>10.0</td>\n",
       "      <td>Anyone who gives the masterpiece below a 7 or ...</td>\n",
       "    </tr>\n",
       "    <tr>\n",
       "      <th>3</th>\n",
       "      <td>The Legend of Zelda: Ocarina of Time</td>\n",
       "      <td>10.0</td>\n",
       "      <td>I'm one of those people who think that this is...</td>\n",
       "    </tr>\n",
       "    <tr>\n",
       "      <th>4</th>\n",
       "      <td>The Legend of Zelda: Ocarina of Time</td>\n",
       "      <td>10.0</td>\n",
       "      <td>This game is the highest rated game on Metacr...</td>\n",
       "    </tr>\n",
       "  </tbody>\n",
       "</table>\n",
       "</div>"
      ],
      "text/plain": [
       "                                  Title  Userscore  \\\n",
       "0  The Legend of Zelda: Ocarina of Time       10.0   \n",
       "1  The Legend of Zelda: Ocarina of Time       10.0   \n",
       "2  The Legend of Zelda: Ocarina of Time       10.0   \n",
       "3  The Legend of Zelda: Ocarina of Time       10.0   \n",
       "4  The Legend of Zelda: Ocarina of Time       10.0   \n",
       "\n",
       "                                             Comment  \n",
       "0  Everything in OoT is so near at perfection, it...  \n",
       "1  I won't bore you with what everyone is already...  \n",
       "2  Anyone who gives the masterpiece below a 7 or ...  \n",
       "3  I'm one of those people who think that this is...  \n",
       "4   This game is the highest rated game on Metacr...  "
      ]
     },
     "execution_count": 148,
     "metadata": {},
     "output_type": "execute_result"
    }
   ],
   "source": [
    "df = pd.read_csv('processed_df\\metacritic_comments_nlp.csv')\n",
    "df.head()"
   ]
  },
  {
   "cell_type": "code",
   "execution_count": 6,
   "metadata": {},
   "outputs": [
    {
     "data": {
      "text/html": [
       "<div>\n",
       "<style scoped>\n",
       "    .dataframe tbody tr th:only-of-type {\n",
       "        vertical-align: middle;\n",
       "    }\n",
       "\n",
       "    .dataframe tbody tr th {\n",
       "        vertical-align: top;\n",
       "    }\n",
       "\n",
       "    .dataframe thead th {\n",
       "        text-align: right;\n",
       "    }\n",
       "</style>\n",
       "<table border=\"1\" class=\"dataframe\">\n",
       "  <thead>\n",
       "    <tr style=\"text-align: right;\">\n",
       "      <th></th>\n",
       "      <th>Title</th>\n",
       "      <th>Userscore</th>\n",
       "      <th>Comment</th>\n",
       "      <th>lang</th>\n",
       "      <th>Comment_len</th>\n",
       "    </tr>\n",
       "  </thead>\n",
       "  <tbody>\n",
       "    <tr>\n",
       "      <th>211190</th>\n",
       "      <td>Star Wars: Battlefront II</td>\n",
       "      <td>2.0</td>\n",
       "      <td>there nothing quite gun entire platoon clone d...</td>\n",
       "      <td>en</td>\n",
       "      <td>320</td>\n",
       "    </tr>\n",
       "    <tr>\n",
       "      <th>39249</th>\n",
       "      <td>The Witcher 3: Wild Hunt</td>\n",
       "      <td>10.0</td>\n",
       "      <td>game absolutely gorgeous run steady gtx hairwo...</td>\n",
       "      <td>en</td>\n",
       "      <td>795</td>\n",
       "    </tr>\n",
       "    <tr>\n",
       "      <th>204931</th>\n",
       "      <td>This War of Mine</td>\n",
       "      <td>10.0</td>\n",
       "      <td>really good game didnt expect first survival g...</td>\n",
       "      <td>en</td>\n",
       "      <td>296</td>\n",
       "    </tr>\n",
       "    <tr>\n",
       "      <th>75752</th>\n",
       "      <td>Golden Sun</td>\n",
       "      <td>10.0</td>\n",
       "      <td>people eagerly anticipate initial release game...</td>\n",
       "      <td>en</td>\n",
       "      <td>783</td>\n",
       "    </tr>\n",
       "    <tr>\n",
       "      <th>199503</th>\n",
       "      <td>Assassin's Creed IV: Black Flag</td>\n",
       "      <td>8.0</td>\n",
       "      <td>best assassin creed far open world fresh missi...</td>\n",
       "      <td>en</td>\n",
       "      <td>177</td>\n",
       "    </tr>\n",
       "  </tbody>\n",
       "</table>\n",
       "</div>"
      ],
      "text/plain": [
       "                                  Title  Userscore  \\\n",
       "211190        Star Wars: Battlefront II        2.0   \n",
       "39249          The Witcher 3: Wild Hunt       10.0   \n",
       "204931                 This War of Mine       10.0   \n",
       "75752                        Golden Sun       10.0   \n",
       "199503  Assassin's Creed IV: Black Flag        8.0   \n",
       "\n",
       "                                                  Comment lang  Comment_len  \n",
       "211190  there nothing quite gun entire platoon clone d...   en          320  \n",
       "39249   game absolutely gorgeous run steady gtx hairwo...   en          795  \n",
       "204931  really good game didnt expect first survival g...   en          296  \n",
       "75752   people eagerly anticipate initial release game...   en          783  \n",
       "199503  best assassin creed far open world fresh missi...   en          177  "
      ]
     },
     "execution_count": 6,
     "metadata": {},
     "output_type": "execute_result"
    }
   ],
   "source": [
    "df = pickle.load(open('processed_df\\preprocessed_nlp_5p.pkl','rb'))\n",
    "df.head()"
   ]
  },
  {
   "cell_type": "code",
   "execution_count": 7,
   "metadata": {},
   "outputs": [
    {
     "data": {
      "text/plain": [
       "(12451, 5)"
      ]
     },
     "execution_count": 7,
     "metadata": {},
     "output_type": "execute_result"
    }
   ],
   "source": [
    "df.shape"
   ]
  },
  {
   "cell_type": "markdown",
   "metadata": {},
   "source": [
    "# Train test split"
   ]
  },
  {
   "cell_type": "code",
   "execution_count": 9,
   "metadata": {},
   "outputs": [],
   "source": [
    "X = df['Comment']\n",
    "y = df['Userscore']\n",
    "\n",
    "X_train, X_test, y_train, y_test = train_test_split(X, y, test_size = 0.3)"
   ]
  },
  {
   "cell_type": "markdown",
   "metadata": {},
   "source": [
    "# TFIDF text"
   ]
  },
  {
   "cell_type": "code",
   "execution_count": 12,
   "metadata": {},
   "outputs": [
    {
     "name": "stdout",
     "output_type": "stream",
     "text": [
      "0.4517073631286621 secs slipped..\n"
     ]
    }
   ],
   "source": [
    "start = time.time()\n",
    "\n",
    "bow_vec = TfidfVectorizer(min_df=0.05, max_df=0.95)\n",
    "X_tr_proc = bow_vec.fit_transform(X_train)\n",
    "X_te_proc = bow_vec.transform(X_test)\n",
    "\n",
    "end = time.time()\n",
    "print(f'{end-start} secs slipped..')"
   ]
  },
  {
   "cell_type": "code",
   "execution_count": 13,
   "metadata": {},
   "outputs": [
    {
     "name": "stderr",
     "output_type": "stream",
     "text": [
      "c:\\Users\\yanha\\anaconda3\\envs\\tf\\lib\\site-packages\\sklearn\\utils\\deprecation.py:87: FutureWarning: Function get_feature_names is deprecated; get_feature_names is deprecated in 1.0 and will be removed in 1.2. Please use get_feature_names_out instead.\n",
      "  warnings.warn(msg, category=FutureWarning)\n"
     ]
    }
   ],
   "source": [
    "feat_names = bow_vec.get_feature_names()"
   ]
  },
  {
   "cell_type": "code",
   "execution_count": 14,
   "metadata": {},
   "outputs": [],
   "source": [
    "bow_mat_tr = pd.DataFrame(X_tr_proc.toarray(), columns = feat_names)\n",
    "bow_mat_te = pd.DataFrame(X_te_proc.toarray(), columns = feat_names)"
   ]
  },
  {
   "cell_type": "code",
   "execution_count": 15,
   "metadata": {},
   "outputs": [
    {
     "data": {
      "text/plain": [
       "(8715, 156)"
      ]
     },
     "execution_count": 15,
     "metadata": {},
     "output_type": "execute_result"
    }
   ],
   "source": [
    "bow_mat_tr.shape"
   ]
  },
  {
   "cell_type": "markdown",
   "metadata": {},
   "source": [
    "# MODEL"
   ]
  },
  {
   "cell_type": "markdown",
   "metadata": {},
   "source": [
    "- 1"
   ]
  },
  {
   "cell_type": "code",
   "execution_count": 36,
   "metadata": {},
   "outputs": [],
   "source": [
    "model_1 = Sequential()\n",
    "model_1.add(Dense(64, activation='relu', input_shape=(156,)))\n",
    "model_1.add(Dense(30, activation='relu'))\n",
    "model_1.add(Dense(1, activation='linear'))\n",
    "\n",
    "opt = Adam(learning_rate=0.0003, beta_1=0.9, beta_2=0.999, epsilon=1e-07)\n",
    "\n",
    "model_1.compile(loss = \"mean_squared_error\", optimizer=opt, metrics=['mean_squared_error'])"
   ]
  },
  {
   "cell_type": "code",
   "execution_count": 37,
   "metadata": {},
   "outputs": [
    {
     "name": "stdout",
     "output_type": "stream",
     "text": [
      "Epoch 1/50\n",
      "28/28 [==============================] - 0s 7ms/step - loss: 70.0632 - mean_squared_error: 70.0632 - val_loss: 68.5747 - val_mean_squared_error: 68.5747\n",
      "Epoch 2/50\n",
      "28/28 [==============================] - 0s 5ms/step - loss: 65.4578 - mean_squared_error: 65.4578 - val_loss: 62.5258 - val_mean_squared_error: 62.5258\n",
      "Epoch 3/50\n",
      "28/28 [==============================] - 0s 5ms/step - loss: 57.9890 - mean_squared_error: 57.9890 - val_loss: 53.1776 - val_mean_squared_error: 53.1776\n",
      "Epoch 4/50\n",
      "28/28 [==============================] - 0s 4ms/step - loss: 47.2805 - mean_squared_error: 47.2805 - val_loss: 40.9576 - val_mean_squared_error: 40.9576\n",
      "Epoch 5/50\n",
      "28/28 [==============================] - 0s 4ms/step - loss: 34.6573 - mean_squared_error: 34.6573 - val_loss: 28.0321 - val_mean_squared_error: 28.0321\n",
      "Epoch 6/50\n",
      "28/28 [==============================] - 0s 3ms/step - loss: 22.9848 - mean_squared_error: 22.9848 - val_loss: 18.0172 - val_mean_squared_error: 18.0172\n",
      "Epoch 7/50\n",
      "28/28 [==============================] - 0s 3ms/step - loss: 15.3935 - mean_squared_error: 15.3935 - val_loss: 12.9884 - val_mean_squared_error: 12.9884\n",
      "Epoch 8/50\n",
      "28/28 [==============================] - 0s 3ms/step - loss: 12.3775 - mean_squared_error: 12.3775 - val_loss: 11.4413 - val_mean_squared_error: 11.4413\n",
      "Epoch 9/50\n",
      "28/28 [==============================] - 0s 3ms/step - loss: 11.5042 - mean_squared_error: 11.5042 - val_loss: 10.9279 - val_mean_squared_error: 10.9279\n",
      "Epoch 10/50\n",
      "28/28 [==============================] - 0s 3ms/step - loss: 11.0609 - mean_squared_error: 11.0609 - val_loss: 10.5259 - val_mean_squared_error: 10.5259\n",
      "Epoch 11/50\n",
      "28/28 [==============================] - 0s 3ms/step - loss: 10.6559 - mean_squared_error: 10.6559 - val_loss: 10.1440 - val_mean_squared_error: 10.1440\n",
      "Epoch 12/50\n",
      "28/28 [==============================] - 0s 3ms/step - loss: 10.2624 - mean_squared_error: 10.2624 - val_loss: 9.7770 - val_mean_squared_error: 9.7770\n",
      "Epoch 13/50\n",
      "28/28 [==============================] - 0s 3ms/step - loss: 9.8825 - mean_squared_error: 9.8825 - val_loss: 9.4222 - val_mean_squared_error: 9.4222\n",
      "Epoch 14/50\n",
      "28/28 [==============================] - 0s 3ms/step - loss: 9.5130 - mean_squared_error: 9.5130 - val_loss: 9.0711 - val_mean_squared_error: 9.0711\n",
      "Epoch 15/50\n",
      "28/28 [==============================] - 0s 3ms/step - loss: 9.1545 - mean_squared_error: 9.1545 - val_loss: 8.7357 - val_mean_squared_error: 8.7357\n",
      "Epoch 16/50\n",
      "28/28 [==============================] - 0s 3ms/step - loss: 8.8077 - mean_squared_error: 8.8077 - val_loss: 8.4108 - val_mean_squared_error: 8.4108\n",
      "Epoch 17/50\n",
      "28/28 [==============================] - 0s 3ms/step - loss: 8.4742 - mean_squared_error: 8.4742 - val_loss: 8.0979 - val_mean_squared_error: 8.0979\n",
      "Epoch 18/50\n",
      "28/28 [==============================] - 0s 3ms/step - loss: 8.1511 - mean_squared_error: 8.1511 - val_loss: 7.8014 - val_mean_squared_error: 7.8014\n",
      "Epoch 19/50\n",
      "28/28 [==============================] - 0s 3ms/step - loss: 7.8458 - mean_squared_error: 7.8458 - val_loss: 7.5176 - val_mean_squared_error: 7.5176\n",
      "Epoch 20/50\n",
      "28/28 [==============================] - 0s 3ms/step - loss: 7.5542 - mean_squared_error: 7.5542 - val_loss: 7.2497 - val_mean_squared_error: 7.2497\n",
      "Epoch 21/50\n",
      "28/28 [==============================] - 0s 3ms/step - loss: 7.2770 - mean_squared_error: 7.2770 - val_loss: 6.9883 - val_mean_squared_error: 6.9883\n",
      "Epoch 22/50\n",
      "28/28 [==============================] - 0s 3ms/step - loss: 7.0141 - mean_squared_error: 7.0141 - val_loss: 6.7491 - val_mean_squared_error: 6.7491\n",
      "Epoch 23/50\n",
      "28/28 [==============================] - 0s 3ms/step - loss: 6.7722 - mean_squared_error: 6.7722 - val_loss: 6.5259 - val_mean_squared_error: 6.5259\n",
      "Epoch 24/50\n",
      "28/28 [==============================] - 0s 3ms/step - loss: 6.5458 - mean_squared_error: 6.5458 - val_loss: 6.3210 - val_mean_squared_error: 6.3210\n",
      "Epoch 25/50\n",
      "28/28 [==============================] - 0s 3ms/step - loss: 6.3350 - mean_squared_error: 6.3350 - val_loss: 6.1247 - val_mean_squared_error: 6.1247\n",
      "Epoch 26/50\n",
      "28/28 [==============================] - 0s 3ms/step - loss: 6.1401 - mean_squared_error: 6.1401 - val_loss: 5.9493 - val_mean_squared_error: 5.9493\n",
      "Epoch 27/50\n",
      "28/28 [==============================] - 0s 3ms/step - loss: 5.9584 - mean_squared_error: 5.9584 - val_loss: 5.7802 - val_mean_squared_error: 5.7802\n",
      "Epoch 28/50\n",
      "28/28 [==============================] - 0s 3ms/step - loss: 5.7885 - mean_squared_error: 5.7885 - val_loss: 5.6243 - val_mean_squared_error: 5.6243\n",
      "Epoch 29/50\n",
      "28/28 [==============================] - 0s 3ms/step - loss: 5.6307 - mean_squared_error: 5.6307 - val_loss: 5.4786 - val_mean_squared_error: 5.4786\n",
      "Epoch 30/50\n",
      "28/28 [==============================] - 0s 3ms/step - loss: 5.4827 - mean_squared_error: 5.4827 - val_loss: 5.3410 - val_mean_squared_error: 5.3410\n",
      "Epoch 31/50\n",
      "28/28 [==============================] - 0s 3ms/step - loss: 5.3450 - mean_squared_error: 5.3450 - val_loss: 5.2110 - val_mean_squared_error: 5.2110\n",
      "Epoch 32/50\n",
      "28/28 [==============================] - 0s 3ms/step - loss: 5.2186 - mean_squared_error: 5.2186 - val_loss: 5.0928 - val_mean_squared_error: 5.0928\n",
      "Epoch 33/50\n",
      "28/28 [==============================] - 0s 3ms/step - loss: 5.1024 - mean_squared_error: 5.1024 - val_loss: 4.9838 - val_mean_squared_error: 4.9838\n",
      "Epoch 34/50\n",
      "28/28 [==============================] - 0s 3ms/step - loss: 4.9943 - mean_squared_error: 4.9943 - val_loss: 4.8856 - val_mean_squared_error: 4.8856\n",
      "Epoch 35/50\n",
      "28/28 [==============================] - 0s 3ms/step - loss: 4.8995 - mean_squared_error: 4.8995 - val_loss: 4.7941 - val_mean_squared_error: 4.7941\n",
      "Epoch 36/50\n",
      "28/28 [==============================] - 0s 3ms/step - loss: 4.8135 - mean_squared_error: 4.8135 - val_loss: 4.7118 - val_mean_squared_error: 4.7118\n",
      "Epoch 37/50\n",
      "28/28 [==============================] - 0s 3ms/step - loss: 4.7374 - mean_squared_error: 4.7374 - val_loss: 4.6422 - val_mean_squared_error: 4.6422\n",
      "Epoch 38/50\n",
      "28/28 [==============================] - 0s 3ms/step - loss: 4.6678 - mean_squared_error: 4.6678 - val_loss: 4.5769 - val_mean_squared_error: 4.5769\n",
      "Epoch 39/50\n",
      "28/28 [==============================] - 0s 3ms/step - loss: 4.6079 - mean_squared_error: 4.6079 - val_loss: 4.5207 - val_mean_squared_error: 4.5207\n",
      "Epoch 40/50\n",
      "28/28 [==============================] - 0s 3ms/step - loss: 4.5527 - mean_squared_error: 4.5527 - val_loss: 4.4749 - val_mean_squared_error: 4.4749\n",
      "Epoch 41/50\n",
      "28/28 [==============================] - 0s 3ms/step - loss: 4.5051 - mean_squared_error: 4.5051 - val_loss: 4.4305 - val_mean_squared_error: 4.4305\n",
      "Epoch 42/50\n",
      "28/28 [==============================] - 0s 3ms/step - loss: 4.4644 - mean_squared_error: 4.4644 - val_loss: 4.3938 - val_mean_squared_error: 4.3938\n",
      "Epoch 43/50\n",
      "28/28 [==============================] - 0s 4ms/step - loss: 4.4288 - mean_squared_error: 4.4288 - val_loss: 4.3621 - val_mean_squared_error: 4.3621\n",
      "Epoch 44/50\n",
      "28/28 [==============================] - 0s 3ms/step - loss: 4.3972 - mean_squared_error: 4.3972 - val_loss: 4.3350 - val_mean_squared_error: 4.3350\n",
      "Epoch 45/50\n",
      "28/28 [==============================] - 0s 3ms/step - loss: 4.3727 - mean_squared_error: 4.3727 - val_loss: 4.3150 - val_mean_squared_error: 4.3150\n",
      "Epoch 46/50\n",
      "28/28 [==============================] - 0s 3ms/step - loss: 4.3517 - mean_squared_error: 4.3517 - val_loss: 4.2985 - val_mean_squared_error: 4.2985\n",
      "Epoch 47/50\n",
      "28/28 [==============================] - 0s 3ms/step - loss: 4.3332 - mean_squared_error: 4.3332 - val_loss: 4.2806 - val_mean_squared_error: 4.2806\n",
      "Epoch 48/50\n",
      "28/28 [==============================] - 0s 4ms/step - loss: 4.3185 - mean_squared_error: 4.3185 - val_loss: 4.2695 - val_mean_squared_error: 4.2695\n",
      "Epoch 49/50\n",
      "28/28 [==============================] - 0s 4ms/step - loss: 4.3045 - mean_squared_error: 4.3045 - val_loss: 4.2592 - val_mean_squared_error: 4.2592\n",
      "Epoch 50/50\n",
      "28/28 [==============================] - 0s 4ms/step - loss: 4.2930 - mean_squared_error: 4.2930 - val_loss: 4.2503 - val_mean_squared_error: 4.2503\n"
     ]
    }
   ],
   "source": [
    "results_1 = model_1.fit(bow_mat_tr, y_train, validation_split = 0.2, epochs=50, batch_size=256)"
   ]
  },
  {
   "cell_type": "code",
   "execution_count": 28,
   "metadata": {},
   "outputs": [
    {
     "data": {
      "text/plain": [
       "dict_keys(['loss', 'mean_squared_error', 'val_loss', 'val_mean_squared_error'])"
      ]
     },
     "execution_count": 28,
     "metadata": {},
     "output_type": "execute_result"
    }
   ],
   "source": [
    "history_dict = results_1.history\n",
    "history_dict.keys()"
   ]
  },
  {
   "cell_type": "code",
   "execution_count": 29,
   "metadata": {},
   "outputs": [
    {
     "data": {
      "image/png": "[encoded data removed]",
      "text/plain": [
       "<Figure size 640x480 with 1 Axes>"
      ]
     },
     "metadata": {},
     "output_type": "display_data"
    }
   ],
   "source": [
    "plt.plot(results_1.history['val_loss'])\n",
    "plt.plot(results_1.history['loss'])\n",
    "plt.title('model mse')\n",
    "plt.ylabel('val loss')\n",
    "plt.xlabel('epoch')\n",
    "plt.legend(['train', 'val'], loc='upper left')\n",
    "plt.show()"
   ]
  },
  {
   "cell_type": "code",
   "execution_count": 38,
   "metadata": {},
   "outputs": [
    {
     "name": "stdout",
     "output_type": "stream",
     "text": [
      "117/117 [==============================] - 0s 2ms/step - loss: 4.6589 - mean_squared_error: 4.6589\n"
     ]
    },
    {
     "data": {
      "text/plain": [
       "[4.6588873863220215, 4.6588873863220215]"
      ]
     },
     "execution_count": 38,
     "metadata": {},
     "output_type": "execute_result"
    }
   ],
   "source": [
    "model_1.evaluate(bow_mat_te, y_test)"
   ]
  },
  {
   "cell_type": "markdown",
   "metadata": {},
   "source": [
    "- 2"
   ]
  },
  {
   "cell_type": "code",
   "execution_count": 49,
   "metadata": {},
   "outputs": [],
   "source": [
    "model_2 = Sequential()\n",
    "model_2.add(Dense(64, activation='relu', input_shape=(156,)))\n",
    "model_2.add(Dense(32, activation='relu'))\n",
    "model_2.add(Dense(32, activation='relu'))\n",
    "model_2.add(Dense(16, activation='relu'))\n",
    "model_2.add(Dense(1, activation='linear'))\n",
    "\n",
    "opt = Adam(learning_rate=0.001, beta_1=0.9, beta_2=0.999, epsilon=1e-07)\n",
    "\n",
    "model_2.compile(loss = \"mean_squared_error\", optimizer=opt, metrics=['mean_squared_error'])"
   ]
  },
  {
   "cell_type": "code",
   "execution_count": 50,
   "metadata": {},
   "outputs": [
    {
     "name": "stdout",
     "output_type": "stream",
     "text": [
      "Epoch 1/50\n",
      "28/28 [==============================] - 0s 9ms/step - loss: 65.7492 - mean_squared_error: 65.7492 - val_loss: 51.9048 - val_mean_squared_error: 51.9048\n",
      "Epoch 2/50\n",
      "28/28 [==============================] - 0s 5ms/step - loss: 26.5058 - mean_squared_error: 26.5058 - val_loss: 12.2062 - val_mean_squared_error: 12.2062\n",
      "Epoch 3/50\n",
      "28/28 [==============================] - 0s 4ms/step - loss: 10.3273 - mean_squared_error: 10.3273 - val_loss: 8.4568 - val_mean_squared_error: 8.4568\n",
      "Epoch 4/50\n",
      "28/28 [==============================] - 0s 4ms/step - loss: 8.1291 - mean_squared_error: 8.1291 - val_loss: 7.1221 - val_mean_squared_error: 7.1221\n",
      "Epoch 5/50\n",
      "28/28 [==============================] - 0s 4ms/step - loss: 6.7963 - mean_squared_error: 6.7963 - val_loss: 6.0687 - val_mean_squared_error: 6.0687\n",
      "Epoch 6/50\n",
      "28/28 [==============================] - 0s 4ms/step - loss: 5.8205 - mean_squared_error: 5.8205 - val_loss: 5.3183 - val_mean_squared_error: 5.3183\n",
      "Epoch 7/50\n",
      "28/28 [==============================] - 0s 4ms/step - loss: 5.1520 - mean_squared_error: 5.1520 - val_loss: 4.8005 - val_mean_squared_error: 4.8005\n",
      "Epoch 8/50\n",
      "28/28 [==============================] - 0s 3ms/step - loss: 4.7031 - mean_squared_error: 4.7031 - val_loss: 4.4753 - val_mean_squared_error: 4.4753\n",
      "Epoch 9/50\n",
      "28/28 [==============================] - 0s 3ms/step - loss: 4.4546 - mean_squared_error: 4.4546 - val_loss: 4.3429 - val_mean_squared_error: 4.3429\n",
      "Epoch 10/50\n",
      "28/28 [==============================] - 0s 3ms/step - loss: 4.3338 - mean_squared_error: 4.3338 - val_loss: 4.2748 - val_mean_squared_error: 4.2748\n",
      "Epoch 11/50\n",
      "28/28 [==============================] - 0s 3ms/step - loss: 4.2795 - mean_squared_error: 4.2795 - val_loss: 4.2719 - val_mean_squared_error: 4.2719\n",
      "Epoch 12/50\n",
      "28/28 [==============================] - 0s 3ms/step - loss: 4.2309 - mean_squared_error: 4.2309 - val_loss: 4.2483 - val_mean_squared_error: 4.2483\n",
      "Epoch 13/50\n",
      "28/28 [==============================] - 0s 3ms/step - loss: 4.2023 - mean_squared_error: 4.2023 - val_loss: 4.2477 - val_mean_squared_error: 4.2477\n",
      "Epoch 14/50\n",
      "28/28 [==============================] - 0s 3ms/step - loss: 4.1676 - mean_squared_error: 4.1676 - val_loss: 4.2460 - val_mean_squared_error: 4.2460\n",
      "Epoch 15/50\n",
      "28/28 [==============================] - 0s 3ms/step - loss: 4.1433 - mean_squared_error: 4.1433 - val_loss: 4.2413 - val_mean_squared_error: 4.2413\n",
      "Epoch 16/50\n",
      "28/28 [==============================] - 0s 4ms/step - loss: 4.1189 - mean_squared_error: 4.1189 - val_loss: 4.2514 - val_mean_squared_error: 4.2514\n",
      "Epoch 17/50\n",
      "28/28 [==============================] - 0s 3ms/step - loss: 4.0731 - mean_squared_error: 4.0731 - val_loss: 4.2516 - val_mean_squared_error: 4.2516\n",
      "Epoch 18/50\n",
      "28/28 [==============================] - 0s 3ms/step - loss: 4.0429 - mean_squared_error: 4.0429 - val_loss: 4.2614 - val_mean_squared_error: 4.2614\n",
      "Epoch 19/50\n",
      "28/28 [==============================] - 0s 3ms/step - loss: 4.0019 - mean_squared_error: 4.0019 - val_loss: 4.2597 - val_mean_squared_error: 4.2597\n",
      "Epoch 20/50\n",
      "28/28 [==============================] - 0s 3ms/step - loss: 3.9642 - mean_squared_error: 3.9642 - val_loss: 4.2624 - val_mean_squared_error: 4.2624\n",
      "Epoch 21/50\n",
      "28/28 [==============================] - 0s 3ms/step - loss: 3.9175 - mean_squared_error: 3.9175 - val_loss: 4.2865 - val_mean_squared_error: 4.2865\n",
      "Epoch 22/50\n",
      "28/28 [==============================] - 0s 3ms/step - loss: 3.8759 - mean_squared_error: 3.8759 - val_loss: 4.3147 - val_mean_squared_error: 4.3147\n",
      "Epoch 23/50\n",
      "28/28 [==============================] - 0s 3ms/step - loss: 3.8310 - mean_squared_error: 3.8310 - val_loss: 4.3204 - val_mean_squared_error: 4.3204\n",
      "Epoch 24/50\n",
      "28/28 [==============================] - 0s 3ms/step - loss: 3.7743 - mean_squared_error: 3.7743 - val_loss: 4.2998 - val_mean_squared_error: 4.2998\n",
      "Epoch 25/50\n",
      "28/28 [==============================] - 0s 3ms/step - loss: 3.7074 - mean_squared_error: 3.7074 - val_loss: 4.2930 - val_mean_squared_error: 4.2930\n",
      "Epoch 26/50\n",
      "28/28 [==============================] - 0s 3ms/step - loss: 3.6352 - mean_squared_error: 3.6352 - val_loss: 4.3055 - val_mean_squared_error: 4.3055\n",
      "Epoch 27/50\n",
      "28/28 [==============================] - 0s 3ms/step - loss: 3.5797 - mean_squared_error: 3.5797 - val_loss: 4.3191 - val_mean_squared_error: 4.3191\n",
      "Epoch 28/50\n",
      "28/28 [==============================] - 0s 3ms/step - loss: 3.5085 - mean_squared_error: 3.5085 - val_loss: 4.3549 - val_mean_squared_error: 4.3549\n",
      "Epoch 29/50\n",
      "28/28 [==============================] - 0s 3ms/step - loss: 3.4482 - mean_squared_error: 3.4482 - val_loss: 4.3582 - val_mean_squared_error: 4.3582\n",
      "Epoch 30/50\n",
      "28/28 [==============================] - 0s 3ms/step - loss: 3.3737 - mean_squared_error: 3.3737 - val_loss: 4.4010 - val_mean_squared_error: 4.4010\n",
      "Epoch 31/50\n",
      "28/28 [==============================] - 0s 3ms/step - loss: 3.3130 - mean_squared_error: 3.3130 - val_loss: 4.4026 - val_mean_squared_error: 4.4026\n",
      "Epoch 32/50\n",
      "28/28 [==============================] - 0s 3ms/step - loss: 3.2403 - mean_squared_error: 3.2403 - val_loss: 4.4140 - val_mean_squared_error: 4.4140\n",
      "Epoch 33/50\n",
      "28/28 [==============================] - 0s 3ms/step - loss: 3.1643 - mean_squared_error: 3.1643 - val_loss: 4.4526 - val_mean_squared_error: 4.4526\n",
      "Epoch 34/50\n",
      "28/28 [==============================] - 0s 3ms/step - loss: 3.1035 - mean_squared_error: 3.1035 - val_loss: 4.4842 - val_mean_squared_error: 4.4842\n",
      "Epoch 35/50\n",
      "28/28 [==============================] - 0s 3ms/step - loss: 3.0498 - mean_squared_error: 3.0498 - val_loss: 4.5690 - val_mean_squared_error: 4.5690\n",
      "Epoch 36/50\n",
      "28/28 [==============================] - 0s 3ms/step - loss: 2.9967 - mean_squared_error: 2.9967 - val_loss: 4.5389 - val_mean_squared_error: 4.5389\n",
      "Epoch 37/50\n",
      "28/28 [==============================] - 0s 4ms/step - loss: 2.9332 - mean_squared_error: 2.9332 - val_loss: 4.5794 - val_mean_squared_error: 4.5794\n",
      "Epoch 38/50\n",
      "28/28 [==============================] - 0s 3ms/step - loss: 2.8882 - mean_squared_error: 2.8882 - val_loss: 4.6065 - val_mean_squared_error: 4.6065\n",
      "Epoch 39/50\n",
      "28/28 [==============================] - 0s 3ms/step - loss: 2.8350 - mean_squared_error: 2.8350 - val_loss: 4.6450 - val_mean_squared_error: 4.6450\n",
      "Epoch 40/50\n",
      "28/28 [==============================] - 0s 3ms/step - loss: 2.7767 - mean_squared_error: 2.7767 - val_loss: 4.6768 - val_mean_squared_error: 4.6768\n",
      "Epoch 41/50\n",
      "28/28 [==============================] - 0s 3ms/step - loss: 2.7365 - mean_squared_error: 2.7365 - val_loss: 4.7233 - val_mean_squared_error: 4.7233\n",
      "Epoch 42/50\n",
      "28/28 [==============================] - 0s 3ms/step - loss: 2.6849 - mean_squared_error: 2.6849 - val_loss: 4.7392 - val_mean_squared_error: 4.7392\n",
      "Epoch 43/50\n",
      "28/28 [==============================] - 0s 3ms/step - loss: 2.6473 - mean_squared_error: 2.6473 - val_loss: 4.8334 - val_mean_squared_error: 4.8334\n",
      "Epoch 44/50\n",
      "28/28 [==============================] - 0s 3ms/step - loss: 2.6026 - mean_squared_error: 2.6026 - val_loss: 4.8181 - val_mean_squared_error: 4.8181\n",
      "Epoch 45/50\n",
      "28/28 [==============================] - 0s 3ms/step - loss: 2.5504 - mean_squared_error: 2.5504 - val_loss: 4.8544 - val_mean_squared_error: 4.8544\n",
      "Epoch 46/50\n",
      "28/28 [==============================] - 0s 3ms/step - loss: 2.5080 - mean_squared_error: 2.5080 - val_loss: 4.8997 - val_mean_squared_error: 4.8997\n",
      "Epoch 47/50\n",
      "28/28 [==============================] - 0s 4ms/step - loss: 2.4782 - mean_squared_error: 2.4782 - val_loss: 4.9418 - val_mean_squared_error: 4.9418\n",
      "Epoch 48/50\n",
      "28/28 [==============================] - 0s 4ms/step - loss: 2.4288 - mean_squared_error: 2.4288 - val_loss: 4.9597 - val_mean_squared_error: 4.9597\n",
      "Epoch 49/50\n",
      "28/28 [==============================] - 0s 4ms/step - loss: 2.4036 - mean_squared_error: 2.4036 - val_loss: 5.0121 - val_mean_squared_error: 5.0121\n",
      "Epoch 50/50\n",
      "28/28 [==============================] - 0s 3ms/step - loss: 2.3492 - mean_squared_error: 2.3492 - val_loss: 5.0119 - val_mean_squared_error: 5.0119\n"
     ]
    }
   ],
   "source": [
    "results_2 = model_2.fit(bow_mat_tr, y_train, validation_split = 0.2, epochs=50, batch_size=256)"
   ]
  },
  {
   "cell_type": "code",
   "execution_count": 51,
   "metadata": {},
   "outputs": [
    {
     "data": {
      "text/plain": [
       "dict_keys(['loss', 'mean_squared_error', 'val_loss', 'val_mean_squared_error'])"
      ]
     },
     "execution_count": 51,
     "metadata": {},
     "output_type": "execute_result"
    }
   ],
   "source": [
    "history_dict = results_2.history\n",
    "history_dict.keys()"
   ]
  },
  {
   "cell_type": "code",
   "execution_count": 52,
   "metadata": {},
   "outputs": [
    {
     "data": {
      "image/png": "[encoded data removed]",
      "text/plain": [
       "<Figure size 640x480 with 1 Axes>"
      ]
     },
     "metadata": {},
     "output_type": "display_data"
    }
   ],
   "source": [
    "plt.plot(results_2.history['val_loss'])\n",
    "plt.plot(results_2.history['loss'])\n",
    "plt.title('model mse')\n",
    "plt.ylabel('val loss')\n",
    "plt.xlabel('epoch')\n",
    "plt.legend(['train', 'val'], loc='upper left')\n",
    "plt.show()"
   ]
  },
  {
   "cell_type": "code",
   "execution_count": 53,
   "metadata": {},
   "outputs": [
    {
     "name": "stdout",
     "output_type": "stream",
     "text": [
      "117/117 [==============================] - 0s 2ms/step - loss: 5.5924 - mean_squared_error: 5.5924\n"
     ]
    },
    {
     "data": {
      "text/plain": [
       "[5.592371940612793, 5.592371940612793]"
      ]
     },
     "execution_count": 53,
     "metadata": {},
     "output_type": "execute_result"
    }
   ],
   "source": [
    "model_2.evaluate(bow_mat_te, y_test)"
   ]
  },
  {
   "cell_type": "code",
   "execution_count": null,
   "metadata": {},
   "outputs": [],
   "source": []
  }
 ],
 "metadata": {
  "kernelspec": {
   "display_name": "Python 3.9.13 ('tf')",
   "language": "python",
   "name": "python3"
  },
  "language_info": {
   "codemirror_mode": {
    "name": "ipython",
    "version": 3
   },
   "file_extension": ".py",
   "mimetype": "text/x-python",
   "name": "python",
   "nbconvert_exporter": "python",
   "pygments_lexer": "ipython3",
   "version": "3.9.13"
  },
  "orig_nbformat": 4,
  "vscode": {
   "interpreter": {
    "hash": "181136286f70e14e4c9f67dd94a3e862e2daeea7c14cdc5e8501a24a6c514a6e"
   }
  }
 },
 "nbformat": 4,
 "nbformat_minor": 2
}
