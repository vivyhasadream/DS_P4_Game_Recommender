{
 "cells": [
  {
   "cell_type": "code",
   "execution_count": 1,
   "metadata": {},
   "outputs": [],
   "source": [
    "import pandas as pd\n",
    "import numpy as np\n",
    "from copy import deepcopy\n",
    "import seaborn as sns\n",
    "import matplotlib.pyplot as plt\n",
    "from sklearn.linear_model import Ridge\n",
    "from sklearn.model_selection import train_test_split\n",
    "from sklearn.preprocessing import StandardScaler\n",
    "from sklearn.pipeline import Pipeline\n",
    "from sklearn.metrics import mean_squared_error\n",
    "\n",
    "from surprise import Dataset, Reader\n",
    "from surprise import SVD\n",
    "from surprise import accuracy\n",
    "from surprise.model_selection import cross_validate, train_test_split\n",
    "from surprise.prediction_algorithms import knns\n",
    "from surprise.similarities import cosine, msd, pearson\n",
    "from surprise.model_selection import GridSearchCV\n",
    "from surprise.prediction_algorithms import KNNWithMeans, KNNBasic, KNNBaseline\n",
    "\n",
    "import time\n",
    "import pickle\n",
    "\n",
    "# NLP modules we will use for text normalization\n",
    "import re #regex \n",
    "import nltk # the natural language toolkit\n",
    "from nltk.tokenize import word_tokenize\n",
    "from nltk import WordNetLemmatizer\n",
    "from nltk.corpus import stopwords\n",
    "from nltk.corpus import wordnet\n",
    "from nltk import pos_tag\n"
   ]
  },
  {
   "cell_type": "markdown",
   "metadata": {},
   "source": [
    "# import"
   ]
  },
  {
   "cell_type": "code",
   "execution_count": 2,
   "metadata": {},
   "outputs": [
    {
     "data": {
      "text/html": [
       "<div>\n",
       "<style scoped>\n",
       "    .dataframe tbody tr th:only-of-type {\n",
       "        vertical-align: middle;\n",
       "    }\n",
       "\n",
       "    .dataframe tbody tr th {\n",
       "        vertical-align: top;\n",
       "    }\n",
       "\n",
       "    .dataframe thead th {\n",
       "        text-align: right;\n",
       "    }\n",
       "</style>\n",
       "<table border=\"1\" class=\"dataframe\">\n",
       "  <thead>\n",
       "    <tr style=\"text-align: right;\">\n",
       "      <th></th>\n",
       "      <th>Username</th>\n",
       "      <th>Userscore</th>\n",
       "      <th>Title</th>\n",
       "      <th>Comment</th>\n",
       "    </tr>\n",
       "  </thead>\n",
       "  <tbody>\n",
       "    <tr>\n",
       "      <th>0</th>\n",
       "      <td>SirCaestus</td>\n",
       "      <td>10.0</td>\n",
       "      <td>The Legend of Zelda: Ocarina of Time</td>\n",
       "      <td>Everything in OoT is so near at perfection, it...</td>\n",
       "    </tr>\n",
       "    <tr>\n",
       "      <th>1</th>\n",
       "      <td>Kaistlin</td>\n",
       "      <td>10.0</td>\n",
       "      <td>The Legend of Zelda: Ocarina of Time</td>\n",
       "      <td>I won't bore you with what everyone is already...</td>\n",
       "    </tr>\n",
       "    <tr>\n",
       "      <th>2</th>\n",
       "      <td>Jacody</td>\n",
       "      <td>10.0</td>\n",
       "      <td>The Legend of Zelda: Ocarina of Time</td>\n",
       "      <td>Anyone who gives the masterpiece below a 7 or ...</td>\n",
       "    </tr>\n",
       "    <tr>\n",
       "      <th>3</th>\n",
       "      <td>doodlerman</td>\n",
       "      <td>10.0</td>\n",
       "      <td>The Legend of Zelda: Ocarina of Time</td>\n",
       "      <td>I'm one of those people who think that this is...</td>\n",
       "    </tr>\n",
       "    <tr>\n",
       "      <th>4</th>\n",
       "      <td>StevenA</td>\n",
       "      <td>10.0</td>\n",
       "      <td>The Legend of Zelda: Ocarina of Time</td>\n",
       "      <td>This game is the highest rated game on Metacr...</td>\n",
       "    </tr>\n",
       "    <tr>\n",
       "      <th>...</th>\n",
       "      <td>...</td>\n",
       "      <td>...</td>\n",
       "      <td>...</td>\n",
       "      <td>...</td>\n",
       "    </tr>\n",
       "    <tr>\n",
       "      <th>269962</th>\n",
       "      <td>RileyWRussell</td>\n",
       "      <td>7.0</td>\n",
       "      <td>Etrian Odyssey Untold: The Millennium Girl</td>\n",
       "      <td>Extremely similar to EO:4, which obviously isn...</td>\n",
       "    </tr>\n",
       "    <tr>\n",
       "      <th>269963</th>\n",
       "      <td>TemplarGR</td>\n",
       "      <td>NaN</td>\n",
       "      <td>Etrian Odyssey Untold: The Millennium Girl</td>\n",
       "      <td>Typical overrated Atlus trash. A game i should...</td>\n",
       "    </tr>\n",
       "    <tr>\n",
       "      <th>269964</th>\n",
       "      <td>midipon</td>\n",
       "      <td>9.0</td>\n",
       "      <td>Etrian Odyssey Untold: The Millennium Girl</td>\n",
       "      <td>While I find the story mode to have annoying c...</td>\n",
       "    </tr>\n",
       "    <tr>\n",
       "      <th>269965</th>\n",
       "      <td>night4</td>\n",
       "      <td>8.0</td>\n",
       "      <td>Etrian Odyssey Untold: The Millennium Girl</td>\n",
       "      <td>Pretty good, but it certainly lacks the visual...</td>\n",
       "    </tr>\n",
       "    <tr>\n",
       "      <th>269966</th>\n",
       "      <td>Balorer</td>\n",
       "      <td>9.0</td>\n",
       "      <td>Etrian Odyssey Untold: The Millennium Girl</td>\n",
       "      <td>As my first game from the \"Etrian series\" i ha...</td>\n",
       "    </tr>\n",
       "  </tbody>\n",
       "</table>\n",
       "<p>269967 rows × 4 columns</p>\n",
       "</div>"
      ],
      "text/plain": [
       "             Username  Userscore                                       Title  \\\n",
       "0          SirCaestus       10.0        The Legend of Zelda: Ocarina of Time   \n",
       "1            Kaistlin       10.0        The Legend of Zelda: Ocarina of Time   \n",
       "2              Jacody       10.0        The Legend of Zelda: Ocarina of Time   \n",
       "3          doodlerman       10.0        The Legend of Zelda: Ocarina of Time   \n",
       "4             StevenA       10.0        The Legend of Zelda: Ocarina of Time   \n",
       "...               ...        ...                                         ...   \n",
       "269962  RileyWRussell        7.0  Etrian Odyssey Untold: The Millennium Girl   \n",
       "269963      TemplarGR        NaN  Etrian Odyssey Untold: The Millennium Girl   \n",
       "269964        midipon        9.0  Etrian Odyssey Untold: The Millennium Girl   \n",
       "269965         night4        8.0  Etrian Odyssey Untold: The Millennium Girl   \n",
       "269966        Balorer        9.0  Etrian Odyssey Untold: The Millennium Girl   \n",
       "\n",
       "                                                  Comment  \n",
       "0       Everything in OoT is so near at perfection, it...  \n",
       "1       I won't bore you with what everyone is already...  \n",
       "2       Anyone who gives the masterpiece below a 7 or ...  \n",
       "3       I'm one of those people who think that this is...  \n",
       "4        This game is the highest rated game on Metacr...  \n",
       "...                                                   ...  \n",
       "269962  Extremely similar to EO:4, which obviously isn...  \n",
       "269963  Typical overrated Atlus trash. A game i should...  \n",
       "269964  While I find the story mode to have annoying c...  \n",
       "269965  Pretty good, but it certainly lacks the visual...  \n",
       "269966  As my first game from the \"Etrian series\" i ha...  \n",
       "\n",
       "[269967 rows x 4 columns]"
      ]
     },
     "execution_count": 2,
     "metadata": {},
     "output_type": "execute_result"
    }
   ],
   "source": [
    "df = pd.read_csv('processed_remsy\\metacritic_comments_remsy.csv')\n",
    "df"
   ]
  },
  {
   "cell_type": "code",
   "execution_count": 3,
   "metadata": {},
   "outputs": [],
   "source": [
    "XGB_model = pickle.load(open('models/xgb_baseline.pkl', 'rb'))"
   ]
  },
  {
   "cell_type": "markdown",
   "metadata": {},
   "source": [
    "# SENTIMENTAL IMPUTE"
   ]
  },
  {
   "cell_type": "code",
   "execution_count": 4,
   "metadata": {},
   "outputs": [],
   "source": [
    "# def a function to process_text for TFIDF\n",
    "def process_text(text, min_length):\n",
    "\n",
    "    # drop non-english words\n",
    "    words = set(nltk.corpus.words.words())\n",
    "    # \" \".join(w for w in nltk.wordpunct_tokenize(text) if w.lower() in words or not w.isalpha())\n",
    "\n",
    "    # get common stop words that we'll remove during tokenization/text normalization\n",
    "    stop_words = stopwords.words('english')\n",
    "\n",
    "    #initialize lemmatizer\n",
    "    wnl = WordNetLemmatizer()\n",
    "\n",
    "    # helper function to change nltk's part of speech tagging to a wordnet format.\n",
    "    def pos_tagger(nltk_tag):\n",
    "        if nltk_tag.startswith('J'):\n",
    "            return wordnet.ADJ\n",
    "        elif nltk_tag.startswith('V'):\n",
    "            return wordnet.VERB\n",
    "        elif nltk_tag.startswith('N'):\n",
    "            return wordnet.NOUN\n",
    "        elif nltk_tag.startswith('R'):\n",
    "            return wordnet.ADV\n",
    "        else:         \n",
    "            return None\n",
    "   \n",
    "\n",
    "    # lower case everything\n",
    "    text_lower = text.lower()\n",
    "    \n",
    "    # remove stop words and punctuations \n",
    "    text_norm = [x for x in word_tokenize(text_lower) if ((x.isalpha()) & (x not in stop_words))]\n",
    "\n",
    "    #  POS detection on the result will be important in telling Wordnet's lemmatizer how to lemmatize\n",
    "    \n",
    "    # creates list of tuples with tokens and POS tags in wordnet format\n",
    "    wordnet_tagged = list(map(lambda x: (x[0], pos_tagger(x[1])), pos_tag(text_norm))) \n",
    "\n",
    "    # cutoff for tokenized length\n",
    "    if len(wordnet_tagged) <= min_length:\n",
    "        return ''\n",
    "    else:\n",
    "         # rejoins lemmatized sentence \n",
    "         text_norm = \" \".join([wnl.lemmatize(x[0], x[1]) for x in wordnet_tagged if x[1] is not None])\n",
    "         return text_norm"
   ]
  },
  {
   "cell_type": "code",
   "execution_count": 5,
   "metadata": {},
   "outputs": [],
   "source": [
    "# subset the dataset p * origin\n",
    "# then do text process\n",
    "# lastly, get rid of null, na and duplicates, because of the limit of length\n",
    "\n",
    "def subset_and_process(p, df, colname):\n",
    "    \n",
    "    start = time.time()\n",
    "\n",
    "    sample_size = int(df.shape[0]*p)\n",
    "    print(f'subset size: {sample_size}')\n",
    "    print(f'full dataset size: {df.shape[0]}')\n",
    "    print(f'{p*100}%')\n",
    "\n",
    "    df_sub = df.sample(sample_size,random_state=2333) \n",
    "    df_sub[colname].value_counts(normalize=True)\n",
    "\n",
    "    start = time.time()\n",
    "    df_sub[colname] = df_sub[colname].apply(process_text, min_length = 10)\n",
    "    end = time.time()\n",
    "    print(f'{end-start} seconds slipped.')\n",
    "\n",
    "    df_new = df_sub[df_sub[colname] != '']\n",
    "    df_new.drop_duplicates(inplace=True)\n",
    "\n",
    "    print(f'output dataset size: {df_new.shape[0]}')\n",
    "    \n",
    "    end = time.time()\n",
    "    print(f'{end-start} secs slipped..')\n",
    "\n",
    "    return df_new"
   ]
  },
  {
   "cell_type": "code",
   "execution_count": 6,
   "metadata": {},
   "outputs": [
    {
     "data": {
      "text/html": [
       "<div>\n",
       "<style scoped>\n",
       "    .dataframe tbody tr th:only-of-type {\n",
       "        vertical-align: middle;\n",
       "    }\n",
       "\n",
       "    .dataframe tbody tr th {\n",
       "        vertical-align: top;\n",
       "    }\n",
       "\n",
       "    .dataframe thead th {\n",
       "        text-align: right;\n",
       "    }\n",
       "</style>\n",
       "<table border=\"1\" class=\"dataframe\">\n",
       "  <thead>\n",
       "    <tr style=\"text-align: right;\">\n",
       "      <th></th>\n",
       "      <th>Username</th>\n",
       "      <th>Userscore</th>\n",
       "      <th>Title</th>\n",
       "      <th>Comment</th>\n",
       "    </tr>\n",
       "  </thead>\n",
       "  <tbody>\n",
       "    <tr>\n",
       "      <th>341</th>\n",
       "      <td>Thajocoth</td>\n",
       "      <td>NaN</td>\n",
       "      <td>The Legend of Zelda: Ocarina of Time</td>\n",
       "      <td>I was very disappointed by this game, as it di...</td>\n",
       "    </tr>\n",
       "    <tr>\n",
       "      <th>346</th>\n",
       "      <td>The_Legend</td>\n",
       "      <td>NaN</td>\n",
       "      <td>The Legend of Zelda: Ocarina of Time</td>\n",
       "      <td>The original Legend of Zelda: Ocarina of Time ...</td>\n",
       "    </tr>\n",
       "    <tr>\n",
       "      <th>348</th>\n",
       "      <td>thedaarkbatty</td>\n",
       "      <td>NaN</td>\n",
       "      <td>The Legend of Zelda: Ocarina of Time</td>\n",
       "      <td>I played it for the first time last year and w...</td>\n",
       "    </tr>\n",
       "    <tr>\n",
       "      <th>350</th>\n",
       "      <td>sweg</td>\n",
       "      <td>NaN</td>\n",
       "      <td>The Legend of Zelda: Ocarina of Time</td>\n",
       "      <td>The Legend of Zelda: Ocarina of Time for Ninte...</td>\n",
       "    </tr>\n",
       "    <tr>\n",
       "      <th>352</th>\n",
       "      <td>J-malJ</td>\n",
       "      <td>NaN</td>\n",
       "      <td>The Legend of Zelda: Ocarina of Time</td>\n",
       "      <td>Boring game, graphics suck, gameplay is borin...</td>\n",
       "    </tr>\n",
       "    <tr>\n",
       "      <th>...</th>\n",
       "      <td>...</td>\n",
       "      <td>...</td>\n",
       "      <td>...</td>\n",
       "      <td>...</td>\n",
       "    </tr>\n",
       "    <tr>\n",
       "      <th>269832</th>\n",
       "      <td>Not_Casual</td>\n",
       "      <td>NaN</td>\n",
       "      <td>Assassin's Creed: Revelations</td>\n",
       "      <td>I got this solely for the multiplayer, which i...</td>\n",
       "    </tr>\n",
       "    <tr>\n",
       "      <th>269850</th>\n",
       "      <td>monkeylion</td>\n",
       "      <td>NaN</td>\n",
       "      <td>Assassin's Creed: Revelations</td>\n",
       "      <td>Boring, repetitive, predictable, booooring, I ...</td>\n",
       "    </tr>\n",
       "    <tr>\n",
       "      <th>269851</th>\n",
       "      <td>Mykwon</td>\n",
       "      <td>NaN</td>\n",
       "      <td>Assassin's Creed: Revelations</td>\n",
       "      <td>At 87%, 39 hours elapsed and finished the game...</td>\n",
       "    </tr>\n",
       "    <tr>\n",
       "      <th>269920</th>\n",
       "      <td>riley794</td>\n",
       "      <td>NaN</td>\n",
       "      <td>Battle Brothers</td>\n",
       "      <td>So much promise so little gameplay.  Played al...</td>\n",
       "    </tr>\n",
       "    <tr>\n",
       "      <th>269963</th>\n",
       "      <td>TemplarGR</td>\n",
       "      <td>NaN</td>\n",
       "      <td>Etrian Odyssey Untold: The Millennium Girl</td>\n",
       "      <td>Typical overrated Atlus trash. A game i should...</td>\n",
       "    </tr>\n",
       "  </tbody>\n",
       "</table>\n",
       "<p>19142 rows × 4 columns</p>\n",
       "</div>"
      ],
      "text/plain": [
       "             Username  Userscore                                       Title  \\\n",
       "341         Thajocoth        NaN        The Legend of Zelda: Ocarina of Time   \n",
       "346        The_Legend        NaN        The Legend of Zelda: Ocarina of Time   \n",
       "348     thedaarkbatty        NaN        The Legend of Zelda: Ocarina of Time   \n",
       "350              sweg        NaN        The Legend of Zelda: Ocarina of Time   \n",
       "352            J-malJ        NaN        The Legend of Zelda: Ocarina of Time   \n",
       "...               ...        ...                                         ...   \n",
       "269832     Not_Casual        NaN               Assassin's Creed: Revelations   \n",
       "269850     monkeylion        NaN               Assassin's Creed: Revelations   \n",
       "269851         Mykwon        NaN               Assassin's Creed: Revelations   \n",
       "269920       riley794        NaN                             Battle Brothers   \n",
       "269963      TemplarGR        NaN  Etrian Odyssey Untold: The Millennium Girl   \n",
       "\n",
       "                                                  Comment  \n",
       "341     I was very disappointed by this game, as it di...  \n",
       "346     The original Legend of Zelda: Ocarina of Time ...  \n",
       "348     I played it for the first time last year and w...  \n",
       "350     The Legend of Zelda: Ocarina of Time for Ninte...  \n",
       "352      Boring game, graphics suck, gameplay is borin...  \n",
       "...                                                   ...  \n",
       "269832  I got this solely for the multiplayer, which i...  \n",
       "269850  Boring, repetitive, predictable, booooring, I ...  \n",
       "269851  At 87%, 39 hours elapsed and finished the game...  \n",
       "269920  So much promise so little gameplay.  Played al...  \n",
       "269963  Typical overrated Atlus trash. A game i should...  \n",
       "\n",
       "[19142 rows x 4 columns]"
      ]
     },
     "execution_count": 6,
     "metadata": {},
     "output_type": "execute_result"
    }
   ],
   "source": [
    "df_nan = df[df['Userscore'].isna()==True]\n",
    "df_nan"
   ]
  },
  {
   "cell_type": "code",
   "execution_count": 9,
   "metadata": {},
   "outputs": [
    {
     "name": "stdout",
     "output_type": "stream",
     "text": [
      "subset size: 19142\n",
      "full dataset size: 19142\n",
      "100%\n",
      "1755.2710671424866 seconds slipped.\n",
      "output dataset size: 18070\n",
      "1755.2939529418945 secs slipped..\n"
     ]
    },
    {
     "name": "stderr",
     "output_type": "stream",
     "text": [
      "c:\\Users\\qwswe\\Anaconda3\\envs\\py36\\lib\\site-packages\\ipykernel_launcher.py:23: SettingWithCopyWarning: \n",
      "A value is trying to be set on a copy of a slice from a DataFrame\n",
      "\n",
      "See the caveats in the documentation: https://pandas.pydata.org/pandas-docs/stable/user_guide/indexing.html#returning-a-view-versus-a-copy\n"
     ]
    }
   ],
   "source": [
    "# select the review with no score\n",
    "df_nan_proc = subset_and_process(1, df_nan, 'Comment')"
   ]
  },
  {
   "cell_type": "code",
   "execution_count": 12,
   "metadata": {},
   "outputs": [],
   "source": [
    "# df_nan_proc.to_csv(r'processed_df\\df_nan_proc.csv', index = False)\n"
   ]
  },
  {
   "cell_type": "code",
   "execution_count": 13,
   "metadata": {},
   "outputs": [
    {
     "data": {
      "text/html": [
       "<div>\n",
       "<style scoped>\n",
       "    .dataframe tbody tr th:only-of-type {\n",
       "        vertical-align: middle;\n",
       "    }\n",
       "\n",
       "    .dataframe tbody tr th {\n",
       "        vertical-align: top;\n",
       "    }\n",
       "\n",
       "    .dataframe thead th {\n",
       "        text-align: right;\n",
       "    }\n",
       "</style>\n",
       "<table border=\"1\" class=\"dataframe\">\n",
       "  <thead>\n",
       "    <tr style=\"text-align: right;\">\n",
       "      <th></th>\n",
       "      <th>Username</th>\n",
       "      <th>Userscore</th>\n",
       "      <th>Title</th>\n",
       "      <th>Comment</th>\n",
       "    </tr>\n",
       "  </thead>\n",
       "  <tbody>\n",
       "    <tr>\n",
       "      <th>0</th>\n",
       "      <td>halexman99</td>\n",
       "      <td>NaN</td>\n",
       "      <td>God of War</td>\n",
       "      <td>pull teeth god war soft reboot suffers issue c...</td>\n",
       "    </tr>\n",
       "    <tr>\n",
       "      <th>1</th>\n",
       "      <td>samsu8</td>\n",
       "      <td>NaN</td>\n",
       "      <td>Dota 2</td>\n",
       "      <td>game good take valve get bad game game become ...</td>\n",
       "    </tr>\n",
       "    <tr>\n",
       "      <th>2</th>\n",
       "      <td>Logan</td>\n",
       "      <td>NaN</td>\n",
       "      <td>Call of Duty: Modern Warfare 2</td>\n",
       "      <td>many glitch exploit make game unfairly play al...</td>\n",
       "    </tr>\n",
       "    <tr>\n",
       "      <th>3</th>\n",
       "      <td>GIVEDIRETIDESUC</td>\n",
       "      <td>NaN</td>\n",
       "      <td>Dota 2</td>\n",
       "      <td>diretideno new herono updatesno normal matchma...</td>\n",
       "    </tr>\n",
       "    <tr>\n",
       "      <th>4</th>\n",
       "      <td>PsyA</td>\n",
       "      <td>NaN</td>\n",
       "      <td>Call of Duty: Modern Warfare 2</td>\n",
       "      <td>wth remove dedicated server avaliable sdk game...</td>\n",
       "    </tr>\n",
       "    <tr>\n",
       "      <th>...</th>\n",
       "      <td>...</td>\n",
       "      <td>...</td>\n",
       "      <td>...</td>\n",
       "      <td>...</td>\n",
       "    </tr>\n",
       "    <tr>\n",
       "      <th>18065</th>\n",
       "      <td>mickoh20000</td>\n",
       "      <td>NaN</td>\n",
       "      <td>Call of Duty: Modern Warfare 3</td>\n",
       "      <td>probably bad excuse game ever play ever play l...</td>\n",
       "    </tr>\n",
       "    <tr>\n",
       "      <th>18066</th>\n",
       "      <td>chakrazz</td>\n",
       "      <td>NaN</td>\n",
       "      <td>Dota 2</td>\n",
       "      <td>want make event new bloom whole new level reta...</td>\n",
       "    </tr>\n",
       "    <tr>\n",
       "      <th>18067</th>\n",
       "      <td>NaturalMyst</td>\n",
       "      <td>NaN</td>\n",
       "      <td>Diablo III</td>\n",
       "      <td>good faith give game score high awful drm drm ...</td>\n",
       "    </tr>\n",
       "    <tr>\n",
       "      <th>18068</th>\n",
       "      <td>Logikal1</td>\n",
       "      <td>NaN</td>\n",
       "      <td>Dragon Age II</td>\n",
       "      <td>game bad consider unplayable bioware fan decad...</td>\n",
       "    </tr>\n",
       "    <tr>\n",
       "      <th>18069</th>\n",
       "      <td>colljosh1</td>\n",
       "      <td>NaN</td>\n",
       "      <td>Grand Theft Auto V</td>\n",
       "      <td>game blow thing nothing fun get money buy mone...</td>\n",
       "    </tr>\n",
       "  </tbody>\n",
       "</table>\n",
       "<p>18070 rows × 4 columns</p>\n",
       "</div>"
      ],
      "text/plain": [
       "              Username  Userscore                           Title  \\\n",
       "0           halexman99        NaN                      God of War   \n",
       "1               samsu8        NaN                          Dota 2   \n",
       "2                Logan        NaN  Call of Duty: Modern Warfare 2   \n",
       "3      GIVEDIRETIDESUC        NaN                          Dota 2   \n",
       "4                 PsyA        NaN  Call of Duty: Modern Warfare 2   \n",
       "...                ...        ...                             ...   \n",
       "18065      mickoh20000        NaN  Call of Duty: Modern Warfare 3   \n",
       "18066         chakrazz        NaN                          Dota 2   \n",
       "18067      NaturalMyst        NaN                      Diablo III   \n",
       "18068         Logikal1        NaN                   Dragon Age II   \n",
       "18069        colljosh1        NaN              Grand Theft Auto V   \n",
       "\n",
       "                                                 Comment  \n",
       "0      pull teeth god war soft reboot suffers issue c...  \n",
       "1      game good take valve get bad game game become ...  \n",
       "2      many glitch exploit make game unfairly play al...  \n",
       "3      diretideno new herono updatesno normal matchma...  \n",
       "4      wth remove dedicated server avaliable sdk game...  \n",
       "...                                                  ...  \n",
       "18065  probably bad excuse game ever play ever play l...  \n",
       "18066  want make event new bloom whole new level reta...  \n",
       "18067  good faith give game score high awful drm drm ...  \n",
       "18068  game bad consider unplayable bioware fan decad...  \n",
       "18069  game blow thing nothing fun get money buy mone...  \n",
       "\n",
       "[18070 rows x 4 columns]"
      ]
     },
     "execution_count": 13,
     "metadata": {},
     "output_type": "execute_result"
    }
   ],
   "source": [
    "df_nan_proc = pd.read_csv('processed_df\\df_nan_proc.csv')\n",
    "df_nan_proc"
   ]
  },
  {
   "cell_type": "markdown",
   "metadata": {},
   "source": [
    "# Getting the data ready for Surprise"
   ]
  },
  {
   "cell_type": "code",
   "execution_count": 62,
   "metadata": {},
   "outputs": [],
   "source": [
    "data = df[['Username', 'Title', 'Userscore']]\n",
    "\n",
    "reader = Reader(line_format='user item rating', sep=',')\n",
    "data = Dataset.load_from_df(data, reader=reader)"
   ]
  },
  {
   "cell_type": "code",
   "execution_count": 63,
   "metadata": {},
   "outputs": [],
   "source": [
    "# train test split\n",
    "\n",
    "trainset, testset = train_test_split(data, test_size=.2, random_state = 2333)"
   ]
  },
  {
   "cell_type": "code",
   "execution_count": 64,
   "metadata": {},
   "outputs": [
    {
     "name": "stdout",
     "output_type": "stream",
     "text": [
      "Type trainset : <class 'surprise.trainset.Trainset'> \n",
      "\n",
      "Type testset : <class 'list'>\n"
     ]
    }
   ],
   "source": [
    "print('Type trainset :',type(trainset),'\\n')\n",
    "print('Type testset :',type(testset))"
   ]
  },
  {
   "cell_type": "code",
   "execution_count": 65,
   "metadata": {},
   "outputs": [
    {
     "name": "stdout",
     "output_type": "stream",
     "text": [
      "50165\n",
      "('Naessarne', 'Divinity: Original Sin II', 8.0)\n"
     ]
    }
   ],
   "source": [
    "print(len(testset))\n",
    "print(testset[0])"
   ]
  },
  {
   "cell_type": "code",
   "execution_count": 50,
   "metadata": {},
   "outputs": [
    {
     "name": "stdout",
     "output_type": "stream",
     "text": [
      "Number of users:  109730 \n",
      "\n",
      "Number of items:  2309 \n",
      "\n"
     ]
    }
   ],
   "source": [
    "print('Number of users: ', trainset.n_users, '\\n')\n",
    "print('Number of items: ', trainset.n_items, '\\n')"
   ]
  },
  {
   "cell_type": "markdown",
   "metadata": {},
   "source": [
    "KNN"
   ]
  },
  {
   "cell_type": "markdown",
   "metadata": {},
   "source": [
    "- baseline"
   ]
  },
  {
   "cell_type": "code",
   "execution_count": 66,
   "metadata": {},
   "outputs": [],
   "source": [
    "sim_cos = {'name':'cosine', 'user_based':False}"
   ]
  },
  {
   "cell_type": "code",
   "execution_count": 67,
   "metadata": {},
   "outputs": [
    {
     "name": "stdout",
     "output_type": "stream",
     "text": [
      "Computing the cosine similarity matrix...\n",
      "Done computing similarity matrix.\n"
     ]
    },
    {
     "data": {
      "text/plain": [
       "<surprise.prediction_algorithms.knns.KNNBasic at 0x1663954a280>"
      ]
     },
     "execution_count": 67,
     "metadata": {},
     "output_type": "execute_result"
    }
   ],
   "source": [
    "basic = knns.KNNBasic(sim_options=sim_cos)\n",
    "basic.fit(trainset)"
   ]
  },
  {
   "cell_type": "code",
   "execution_count": 68,
   "metadata": {},
   "outputs": [
    {
     "data": {
      "text/plain": [
       "array([[1., 0., 0., ..., 0., 1., 0.],\n",
       "       [0., 1., 0., ..., 0., 0., 0.],\n",
       "       [0., 0., 1., ..., 0., 0., 0.],\n",
       "       ...,\n",
       "       [0., 0., 0., ..., 1., 0., 0.],\n",
       "       [1., 0., 0., ..., 0., 1., 0.],\n",
       "       [0., 0., 0., ..., 0., 0., 1.]])"
      ]
     },
     "execution_count": 68,
     "metadata": {},
     "output_type": "execute_result"
    }
   ],
   "source": [
    "basic.sim"
   ]
  },
  {
   "cell_type": "code",
   "execution_count": 69,
   "metadata": {},
   "outputs": [],
   "source": [
    "predictions = basic.test(testset)"
   ]
  },
  {
   "cell_type": "code",
   "execution_count": 70,
   "metadata": {},
   "outputs": [
    {
     "name": "stdout",
     "output_type": "stream",
     "text": [
      "RMSE: 4.0359\n",
      "4.035938571338445\n"
     ]
    }
   ],
   "source": [
    "print(accuracy.rmse(predictions))"
   ]
  },
  {
   "cell_type": "markdown",
   "metadata": {},
   "source": [
    "# SVD"
   ]
  },
  {
   "cell_type": "markdown",
   "metadata": {},
   "source": [
    "- baseline"
   ]
  },
  {
   "cell_type": "code",
   "execution_count": 111,
   "metadata": {},
   "outputs": [
    {
     "name": "stdout",
     "output_type": "stream",
     "text": [
      "RMSE: 3.9951\n"
     ]
    },
    {
     "data": {
      "text/plain": [
       "3.995106898826457"
      ]
     },
     "execution_count": 111,
     "metadata": {},
     "output_type": "execute_result"
    }
   ],
   "source": [
    "svd = SVD()\n",
    "svd.fit(trainset)\n",
    "\n",
    "predictions = svd.test(testset)\n",
    "accuracy.rmse(predictions)"
   ]
  },
  {
   "cell_type": "markdown",
   "metadata": {},
   "source": [
    "- GridSearch"
   ]
  },
  {
   "cell_type": "code",
   "execution_count": 107,
   "metadata": {},
   "outputs": [
    {
     "name": "stdout",
     "output_type": "stream",
     "text": [
      "time spent 20.846306324005127\n"
     ]
    }
   ],
   "source": [
    "start = time.time()\n",
    "\n",
    "params = {'n_factors': [20, 50, 100], 'reg_all': [0.02, 0.05, 0.1]}\n",
    "g_s_svd = GridSearchCV(SVD, param_grid=params, n_jobs=-1, cv=5)\n",
    "g_s_svd.fit(data)\n",
    "\n",
    "end = time.time()\n",
    "print(f'time spent {end-start}')"
   ]
  },
  {
   "cell_type": "code",
   "execution_count": 108,
   "metadata": {},
   "outputs": [
    {
     "name": "stdout",
     "output_type": "stream",
     "text": [
      "{'rmse': 3.9880269156619725, 'mae': 3.7042668679363695}\n",
      "{'rmse': {'n_factors': 100, 'reg_all': 0.1}, 'mae': {'n_factors': 100, 'reg_all': 0.02}}\n"
     ]
    }
   ],
   "source": [
    "print(g_s_svd.best_score)\n",
    "print(g_s_svd.best_params)\n",
    "\n",
    "# slightly better"
   ]
  },
  {
   "cell_type": "markdown",
   "metadata": {},
   "source": [
    "- predict"
   ]
  },
  {
   "cell_type": "code",
   "execution_count": null,
   "metadata": {},
   "outputs": [],
   "source": []
  },
  {
   "cell_type": "markdown",
   "metadata": {},
   "source": [
    "# IMPORT IMPUTED DF "
   ]
  },
  {
   "cell_type": "code",
   "execution_count": 3,
   "metadata": {},
   "outputs": [
    {
     "data": {
      "text/html": [
       "<div>\n",
       "<style scoped>\n",
       "    .dataframe tbody tr th:only-of-type {\n",
       "        vertical-align: middle;\n",
       "    }\n",
       "\n",
       "    .dataframe tbody tr th {\n",
       "        vertical-align: top;\n",
       "    }\n",
       "\n",
       "    .dataframe thead th {\n",
       "        text-align: right;\n",
       "    }\n",
       "</style>\n",
       "<table border=\"1\" class=\"dataframe\">\n",
       "  <thead>\n",
       "    <tr style=\"text-align: right;\">\n",
       "      <th></th>\n",
       "      <th>Username</th>\n",
       "      <th>Userscore</th>\n",
       "      <th>Title</th>\n",
       "      <th>Comment</th>\n",
       "    </tr>\n",
       "  </thead>\n",
       "  <tbody>\n",
       "    <tr>\n",
       "      <th>0</th>\n",
       "      <td>halexman99</td>\n",
       "      <td>7.835098</td>\n",
       "      <td>God of War</td>\n",
       "      <td>pull teeth god war soft reboot suffers issue c...</td>\n",
       "    </tr>\n",
       "    <tr>\n",
       "      <th>1</th>\n",
       "      <td>samsu8</td>\n",
       "      <td>6.199385</td>\n",
       "      <td>Dota 2</td>\n",
       "      <td>game good take valve get bad game game become ...</td>\n",
       "    </tr>\n",
       "    <tr>\n",
       "      <th>2</th>\n",
       "      <td>Logan</td>\n",
       "      <td>8.605755</td>\n",
       "      <td>Call of Duty: Modern Warfare 2</td>\n",
       "      <td>many glitch exploit make game unfairly play al...</td>\n",
       "    </tr>\n",
       "    <tr>\n",
       "      <th>3</th>\n",
       "      <td>GIVEDIRETIDESUC</td>\n",
       "      <td>7.801022</td>\n",
       "      <td>Dota 2</td>\n",
       "      <td>diretideno new herono updatesno normal matchma...</td>\n",
       "    </tr>\n",
       "    <tr>\n",
       "      <th>4</th>\n",
       "      <td>PsyA</td>\n",
       "      <td>3.190217</td>\n",
       "      <td>Call of Duty: Modern Warfare 2</td>\n",
       "      <td>wth remove dedicated server avaliable sdk game...</td>\n",
       "    </tr>\n",
       "    <tr>\n",
       "      <th>...</th>\n",
       "      <td>...</td>\n",
       "      <td>...</td>\n",
       "      <td>...</td>\n",
       "      <td>...</td>\n",
       "    </tr>\n",
       "    <tr>\n",
       "      <th>18065</th>\n",
       "      <td>mickoh20000</td>\n",
       "      <td>3.926747</td>\n",
       "      <td>Call of Duty: Modern Warfare 3</td>\n",
       "      <td>probably bad excuse game ever play ever play l...</td>\n",
       "    </tr>\n",
       "    <tr>\n",
       "      <th>18066</th>\n",
       "      <td>chakrazz</td>\n",
       "      <td>7.221959</td>\n",
       "      <td>Dota 2</td>\n",
       "      <td>want make event new bloom whole new level reta...</td>\n",
       "    </tr>\n",
       "    <tr>\n",
       "      <th>18067</th>\n",
       "      <td>NaturalMyst</td>\n",
       "      <td>7.545428</td>\n",
       "      <td>Diablo III</td>\n",
       "      <td>good faith give game score high awful drm drm ...</td>\n",
       "    </tr>\n",
       "    <tr>\n",
       "      <th>18068</th>\n",
       "      <td>Logikal1</td>\n",
       "      <td>6.495458</td>\n",
       "      <td>Dragon Age II</td>\n",
       "      <td>game bad consider unplayable bioware fan decad...</td>\n",
       "    </tr>\n",
       "    <tr>\n",
       "      <th>18069</th>\n",
       "      <td>colljosh1</td>\n",
       "      <td>2.118036</td>\n",
       "      <td>Grand Theft Auto V</td>\n",
       "      <td>game blow thing nothing fun get money buy mone...</td>\n",
       "    </tr>\n",
       "  </tbody>\n",
       "</table>\n",
       "<p>18070 rows × 4 columns</p>\n",
       "</div>"
      ],
      "text/plain": [
       "              Username  Userscore                           Title  \\\n",
       "0           halexman99   7.835098                      God of War   \n",
       "1               samsu8   6.199385                          Dota 2   \n",
       "2                Logan   8.605755  Call of Duty: Modern Warfare 2   \n",
       "3      GIVEDIRETIDESUC   7.801022                          Dota 2   \n",
       "4                 PsyA   3.190217  Call of Duty: Modern Warfare 2   \n",
       "...                ...        ...                             ...   \n",
       "18065      mickoh20000   3.926747  Call of Duty: Modern Warfare 3   \n",
       "18066         chakrazz   7.221959                          Dota 2   \n",
       "18067      NaturalMyst   7.545428                      Diablo III   \n",
       "18068         Logikal1   6.495458                   Dragon Age II   \n",
       "18069        colljosh1   2.118036              Grand Theft Auto V   \n",
       "\n",
       "                                                 Comment  \n",
       "0      pull teeth god war soft reboot suffers issue c...  \n",
       "1      game good take valve get bad game game become ...  \n",
       "2      many glitch exploit make game unfairly play al...  \n",
       "3      diretideno new herono updatesno normal matchma...  \n",
       "4      wth remove dedicated server avaliable sdk game...  \n",
       "...                                                  ...  \n",
       "18065  probably bad excuse game ever play ever play l...  \n",
       "18066  want make event new bloom whole new level reta...  \n",
       "18067  good faith give game score high awful drm drm ...  \n",
       "18068  game bad consider unplayable bioware fan decad...  \n",
       "18069  game blow thing nothing fun get money buy mone...  \n",
       "\n",
       "[18070 rows x 4 columns]"
      ]
     },
     "execution_count": 3,
     "metadata": {},
     "output_type": "execute_result"
    }
   ],
   "source": [
    "df_nan_proc = pd.read_csv('processed_remsy\\df_nan_imputed_tf.csv')\n",
    "df_nan_proc"
   ]
  },
  {
   "cell_type": "code",
   "execution_count": 4,
   "metadata": {},
   "outputs": [],
   "source": [
    "# merge non nan df with imputed\n",
    "\n",
    "frames = [df[df['Userscore'].isna()==False], df_nan_proc]\n",
    "df_con = pd.concat(frames)"
   ]
  },
  {
   "cell_type": "markdown",
   "metadata": {},
   "source": [
    "- prepare data"
   ]
  },
  {
   "cell_type": "code",
   "execution_count": 5,
   "metadata": {},
   "outputs": [],
   "source": [
    "data_con = df_con[['Username', 'Title', 'Userscore']]\n",
    "\n",
    "reader = Reader(line_format='user item rating', sep=',')\n",
    "data_con = Dataset.load_from_df(data_con, reader=reader)"
   ]
  },
  {
   "cell_type": "code",
   "execution_count": 6,
   "metadata": {},
   "outputs": [],
   "source": [
    "# train test split\n",
    "\n",
    "trainset, testset = train_test_split(data_con, test_size=.2, random_state = 2333)"
   ]
  },
  {
   "cell_type": "markdown",
   "metadata": {},
   "source": [
    "- KNN"
   ]
  },
  {
   "cell_type": "code",
   "execution_count": 7,
   "metadata": {},
   "outputs": [
    {
     "name": "stdout",
     "output_type": "stream",
     "text": [
      "Computing the cosine similarity matrix...\n",
      "Done computing similarity matrix.\n"
     ]
    },
    {
     "data": {
      "text/plain": [
       "<surprise.prediction_algorithms.knns.KNNBasic at 0x24ab6c97b80>"
      ]
     },
     "execution_count": 7,
     "metadata": {},
     "output_type": "execute_result"
    }
   ],
   "source": [
    "sim_cos = {'name':'cosine', 'user_based':False}\n",
    "\n",
    "basic = knns.KNNBasic(sim_options=sim_cos)\n",
    "basic.fit(trainset)"
   ]
  },
  {
   "cell_type": "code",
   "execution_count": 8,
   "metadata": {},
   "outputs": [
    {
     "name": "stdout",
     "output_type": "stream",
     "text": [
      "RMSE: 3.9404\n",
      "3.940443248021918\n"
     ]
    }
   ],
   "source": [
    "predictions = basic.test(testset)\n",
    "print(accuracy.rmse(predictions))"
   ]
  },
  {
   "cell_type": "markdown",
   "metadata": {},
   "source": [
    "- SVD"
   ]
  },
  {
   "cell_type": "code",
   "execution_count": 9,
   "metadata": {},
   "outputs": [
    {
     "name": "stdout",
     "output_type": "stream",
     "text": [
      "RMSE: 3.8975\n"
     ]
    },
    {
     "data": {
      "text/plain": [
       "3.8975487529571926"
      ]
     },
     "execution_count": 9,
     "metadata": {},
     "output_type": "execute_result"
    }
   ],
   "source": [
    "svd = SVD()\n",
    "svd.fit(trainset)\n",
    "\n",
    "predictions = svd.test(testset)\n",
    "accuracy.rmse(predictions)"
   ]
  },
  {
   "cell_type": "code",
   "execution_count": null,
   "metadata": {},
   "outputs": [],
   "source": []
  }
 ],
 "metadata": {
  "kernelspec": {
   "display_name": "Python 3.9.13 ('tf')",
   "language": "python",
   "name": "python3"
  },
  "language_info": {
   "codemirror_mode": {
    "name": "ipython",
    "version": 3
   },
   "file_extension": ".py",
   "mimetype": "text/x-python",
   "name": "python",
   "nbconvert_exporter": "python",
   "pygments_lexer": "ipython3",
   "version": "3.9.13"
  },
  "orig_nbformat": 4,
  "vscode": {
   "interpreter": {
    "hash": "8d941500329789df683ebdc0e17676b710c54bb4cabcc0a3e1a6bd8b40cdaff6"
   }
  }
 },
 "nbformat": 4,
 "nbformat_minor": 2
}
