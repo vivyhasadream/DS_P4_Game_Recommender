{
 "cells": [
  {
   "cell_type": "code",
   "execution_count": 1,
   "metadata": {},
   "outputs": [],
   "source": [
    "import numpy as np \n",
    "import pandas as pd"
   ]
  },
  {
   "cell_type": "code",
   "execution_count": 3,
   "metadata": {},
   "outputs": [
    {
     "data": {
      "text/html": [
       "<div>\n",
       "<style scoped>\n",
       "    .dataframe tbody tr th:only-of-type {\n",
       "        vertical-align: middle;\n",
       "    }\n",
       "\n",
       "    .dataframe tbody tr th {\n",
       "        vertical-align: top;\n",
       "    }\n",
       "\n",
       "    .dataframe thead th {\n",
       "        text-align: right;\n",
       "    }\n",
       "</style>\n",
       "<table border=\"1\" class=\"dataframe\">\n",
       "  <thead>\n",
       "    <tr style=\"text-align: right;\">\n",
       "      <th></th>\n",
       "      <th>id</th>\n",
       "      <th>slug</th>\n",
       "      <th>name</th>\n",
       "      <th>metacritic</th>\n",
       "      <th>released</th>\n",
       "      <th>tba</th>\n",
       "      <th>updated</th>\n",
       "      <th>website</th>\n",
       "      <th>rating</th>\n",
       "      <th>rating_top</th>\n",
       "      <th>...</th>\n",
       "      <th>developers</th>\n",
       "      <th>genres</th>\n",
       "      <th>publishers</th>\n",
       "      <th>esrb_rating</th>\n",
       "      <th>added_status_yet</th>\n",
       "      <th>added_status_owned</th>\n",
       "      <th>added_status_beaten</th>\n",
       "      <th>added_status_toplay</th>\n",
       "      <th>added_status_dropped</th>\n",
       "      <th>added_status_playing</th>\n",
       "    </tr>\n",
       "  </thead>\n",
       "  <tbody>\n",
       "    <tr>\n",
       "      <th>0</th>\n",
       "      <td>1</td>\n",
       "      <td>dgeneration-hd</td>\n",
       "      <td>D/Generation HD</td>\n",
       "      <td>NaN</td>\n",
       "      <td>2015-10-23</td>\n",
       "      <td>False</td>\n",
       "      <td>2019-09-17T11:58:57</td>\n",
       "      <td>http://dgeneration.net</td>\n",
       "      <td>0.0</td>\n",
       "      <td>0</td>\n",
       "      <td>...</td>\n",
       "      <td>West Coast Software</td>\n",
       "      <td>Adventure||Puzzle</td>\n",
       "      <td>West Coast Software</td>\n",
       "      <td>Everyone 10+</td>\n",
       "      <td>4</td>\n",
       "      <td>88</td>\n",
       "      <td>2</td>\n",
       "      <td>2</td>\n",
       "      <td>0</td>\n",
       "      <td>0</td>\n",
       "    </tr>\n",
       "    <tr>\n",
       "      <th>1</th>\n",
       "      <td>10</td>\n",
       "      <td>g-prime</td>\n",
       "      <td>G Prime Into The Rain</td>\n",
       "      <td>NaN</td>\n",
       "      <td>2016-01-06</td>\n",
       "      <td>False</td>\n",
       "      <td>2019-11-06T23:04:19</td>\n",
       "      <td>NaN</td>\n",
       "      <td>0.0</td>\n",
       "      <td>0</td>\n",
       "      <td>...</td>\n",
       "      <td>Soma Games</td>\n",
       "      <td>Simulation||Indie</td>\n",
       "      <td>Immanitas Entertainment||Code-Monkeys</td>\n",
       "      <td>Everyone</td>\n",
       "      <td>2</td>\n",
       "      <td>42</td>\n",
       "      <td>2</td>\n",
       "      <td>0</td>\n",
       "      <td>0</td>\n",
       "      <td>0</td>\n",
       "    </tr>\n",
       "    <tr>\n",
       "      <th>2</th>\n",
       "      <td>100</td>\n",
       "      <td>land-sliders</td>\n",
       "      <td>Land Sliders</td>\n",
       "      <td>NaN</td>\n",
       "      <td>2015-09-24</td>\n",
       "      <td>False</td>\n",
       "      <td>2019-10-22T13:56:16</td>\n",
       "      <td>http://prettygreat.com</td>\n",
       "      <td>0.0</td>\n",
       "      <td>0</td>\n",
       "      <td>...</td>\n",
       "      <td>Prettygreat Pty</td>\n",
       "      <td>Adventure||Arcade</td>\n",
       "      <td>Prettygreat Pty</td>\n",
       "      <td>Everyone 10+</td>\n",
       "      <td>0</td>\n",
       "      <td>2</td>\n",
       "      <td>2</td>\n",
       "      <td>0</td>\n",
       "      <td>1</td>\n",
       "      <td>0</td>\n",
       "    </tr>\n",
       "  </tbody>\n",
       "</table>\n",
       "<p>3 rows × 27 columns</p>\n",
       "</div>"
      ],
      "text/plain": [
       "    id            slug                   name  metacritic    released    tba  \\\n",
       "0    1  dgeneration-hd        D/Generation HD         NaN  2015-10-23  False   \n",
       "1   10         g-prime  G Prime Into The Rain         NaN  2016-01-06  False   \n",
       "2  100    land-sliders           Land Sliders         NaN  2015-09-24  False   \n",
       "\n",
       "               updated                 website  rating  rating_top  ...  \\\n",
       "0  2019-09-17T11:58:57  http://dgeneration.net     0.0           0  ...   \n",
       "1  2019-11-06T23:04:19                     NaN     0.0           0  ...   \n",
       "2  2019-10-22T13:56:16  http://prettygreat.com     0.0           0  ...   \n",
       "\n",
       "            developers             genres  \\\n",
       "0  West Coast Software  Adventure||Puzzle   \n",
       "1           Soma Games  Simulation||Indie   \n",
       "2      Prettygreat Pty  Adventure||Arcade   \n",
       "\n",
       "                              publishers   esrb_rating  added_status_yet  \\\n",
       "0                    West Coast Software  Everyone 10+                 4   \n",
       "1  Immanitas Entertainment||Code-Monkeys      Everyone                 2   \n",
       "2                        Prettygreat Pty  Everyone 10+                 0   \n",
       "\n",
       "   added_status_owned added_status_beaten added_status_toplay  \\\n",
       "0                  88                   2                   2   \n",
       "1                  42                   2                   0   \n",
       "2                   2                   2                   0   \n",
       "\n",
       "  added_status_dropped added_status_playing  \n",
       "0                    0                    0  \n",
       "1                    0                    0  \n",
       "2                    1                    0  \n",
       "\n",
       "[3 rows x 27 columns]"
      ]
     },
     "execution_count": 3,
     "metadata": {},
     "output_type": "execute_result"
    }
   ],
   "source": [
    "df = pd.read_csv('raw_data/RAWG_game_info.csv')\n",
    "df.head(3)"
   ]
  },
  {
   "cell_type": "code",
   "execution_count": 4,
   "metadata": {},
   "outputs": [
    {
     "data": {
      "text/plain": [
       "Index(['id', 'slug', 'name', 'metacritic', 'released', 'tba', 'updated',\n",
       "       'website', 'rating', 'rating_top', 'playtime', 'achievements_count',\n",
       "       'ratings_count', 'suggestions_count', 'game_series_count',\n",
       "       'reviews_count', 'platforms', 'developers', 'genres', 'publishers',\n",
       "       'esrb_rating', 'added_status_yet', 'added_status_owned',\n",
       "       'added_status_beaten', 'added_status_toplay', 'added_status_dropped',\n",
       "       'added_status_playing'],\n",
       "      dtype='object')"
      ]
     },
     "execution_count": 4,
     "metadata": {},
     "output_type": "execute_result"
    }
   ],
   "source": [
    "df.columns"
   ]
  },
  {
   "cell_type": "code",
   "execution_count": null,
   "metadata": {},
   "outputs": [],
   "source": []
  }
 ],
 "metadata": {
  "kernelspec": {
   "display_name": "Python 3.9.12 ('base')",
   "language": "python",
   "name": "python3"
  },
  "language_info": {
   "codemirror_mode": {
    "name": "ipython",
    "version": 3
   },
   "file_extension": ".py",
   "mimetype": "text/x-python",
   "name": "python",
   "nbconvert_exporter": "python",
   "pygments_lexer": "ipython3",
   "version": "3.9.12"
  },
  "orig_nbformat": 4,
  "vscode": {
   "interpreter": {
    "hash": "c738c5dbbe27c39534afaf60a228761ec99c842d673ea0c5f841b81d59c4efd4"
   }
  }
 },
 "nbformat": 4,
 "nbformat_minor": 2
}
