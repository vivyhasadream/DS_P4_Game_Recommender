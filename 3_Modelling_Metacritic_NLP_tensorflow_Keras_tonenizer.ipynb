{
 "cells": [
  {
   "cell_type": "code",
   "execution_count": 2,
   "metadata": {},
   "outputs": [],
   "source": [
    "import numpy as np\n",
    "import pandas as pd\n",
    "import matplotlib.pyplot as plt\n",
    "from sklearn.model_selection import train_test_split\n",
    "import nltk\n",
    "from nltk.tokenize import regexp_tokenize, word_tokenize, RegexpTokenizer\n",
    "from nltk.corpus import stopwords, wordnet\n",
    "from nltk import pos_tag\n",
    "from nltk.stem import WordNetLemmatizer\n",
    "from sklearn.ensemble import RandomForestClassifier\n",
    "from sklearn.naive_bayes import MultinomialNB\n",
    "from sklearn.metrics import mean_absolute_error, mean_squared_error\n",
    "from sklearn.pipeline import Pipeline\n",
    "from sklearn.base import BaseEstimator, TransformerMixin\n",
    "from sklearn.feature_extraction.text import TfidfVectorizer, CountVectorizer\n",
    "\n",
    "import tensorflow as tf\n",
    "from tensorflow import keras\n",
    "from tensorflow.keras import layers\n",
    "from tensorflow.keras.models import Sequential\n",
    "from tensorflow.keras.layers import Dense, Dropout\n",
    "from tensorflow.keras.callbacks import EarlyStopping\n",
    "from tensorflow.keras.utils import to_categorical\n",
    "from tensorflow.keras.optimizers import Adam\n",
    "from tensorflow.keras.regularizers import L2\n",
    "\n",
    "import pickle\n",
    "import time\n",
    "\n"
   ]
  },
  {
   "cell_type": "code",
   "execution_count": 3,
   "metadata": {},
   "outputs": [],
   "source": [
    "# a helper function to plot graphs\n",
    "\n",
    "def plot_graphs(history, metric):\n",
    "  plt.plot(history.history[metric])\n",
    "  plt.plot(history.history['val_'+metric], '')\n",
    "  plt.xlabel(\"Epochs\")\n",
    "  plt.ylabel(metric)\n",
    "  plt.legend([metric, 'val_'+metric])"
   ]
  },
  {
   "cell_type": "markdown",
   "metadata": {},
   "source": [
    "# Import Data"
   ]
  },
  {
   "cell_type": "code",
   "execution_count": 37,
   "metadata": {},
   "outputs": [
    {
     "data": {
      "text/html": [
       "<div>\n",
       "<style scoped>\n",
       "    .dataframe tbody tr th:only-of-type {\n",
       "        vertical-align: middle;\n",
       "    }\n",
       "\n",
       "    .dataframe tbody tr th {\n",
       "        vertical-align: top;\n",
       "    }\n",
       "\n",
       "    .dataframe thead th {\n",
       "        text-align: right;\n",
       "    }\n",
       "</style>\n",
       "<table border=\"1\" class=\"dataframe\">\n",
       "  <thead>\n",
       "    <tr style=\"text-align: right;\">\n",
       "      <th></th>\n",
       "      <th>Title</th>\n",
       "      <th>Userscore</th>\n",
       "      <th>Comment</th>\n",
       "      <th>lang</th>\n",
       "    </tr>\n",
       "  </thead>\n",
       "  <tbody>\n",
       "    <tr>\n",
       "      <th>0</th>\n",
       "      <td>The Legend of Zelda: Ocarina of Time</td>\n",
       "      <td>10.0</td>\n",
       "      <td>Everything in OoT is so near at perfection, it...</td>\n",
       "      <td>en</td>\n",
       "    </tr>\n",
       "    <tr>\n",
       "      <th>1</th>\n",
       "      <td>The Legend of Zelda: Ocarina of Time</td>\n",
       "      <td>10.0</td>\n",
       "      <td>I won't bore you with what everyone is already...</td>\n",
       "      <td>en</td>\n",
       "    </tr>\n",
       "    <tr>\n",
       "      <th>2</th>\n",
       "      <td>The Legend of Zelda: Ocarina of Time</td>\n",
       "      <td>10.0</td>\n",
       "      <td>Anyone who gives the masterpiece below a 7 or ...</td>\n",
       "      <td>en</td>\n",
       "    </tr>\n",
       "    <tr>\n",
       "      <th>3</th>\n",
       "      <td>The Legend of Zelda: Ocarina of Time</td>\n",
       "      <td>10.0</td>\n",
       "      <td>I'm one of those people who think that this is...</td>\n",
       "      <td>en</td>\n",
       "    </tr>\n",
       "    <tr>\n",
       "      <th>4</th>\n",
       "      <td>The Legend of Zelda: Ocarina of Time</td>\n",
       "      <td>10.0</td>\n",
       "      <td>This game is the highest rated game on Metacr...</td>\n",
       "      <td>en</td>\n",
       "    </tr>\n",
       "  </tbody>\n",
       "</table>\n",
       "</div>"
      ],
      "text/plain": [
       "                                  Title  Userscore  \\\n",
       "0  The Legend of Zelda: Ocarina of Time       10.0   \n",
       "1  The Legend of Zelda: Ocarina of Time       10.0   \n",
       "2  The Legend of Zelda: Ocarina of Time       10.0   \n",
       "3  The Legend of Zelda: Ocarina of Time       10.0   \n",
       "4  The Legend of Zelda: Ocarina of Time       10.0   \n",
       "\n",
       "                                             Comment lang  \n",
       "0  Everything in OoT is so near at perfection, it...   en  \n",
       "1  I won't bore you with what everyone is already...   en  \n",
       "2  Anyone who gives the masterpiece below a 7 or ...   en  \n",
       "3  I'm one of those people who think that this is...   en  \n",
       "4   This game is the highest rated game on Metacr...   en  "
      ]
     },
     "execution_count": 37,
     "metadata": {},
     "output_type": "execute_result"
    }
   ],
   "source": [
    "df = pd.read_csv('processed_df\\metacritic_comments_nlp.csv')\n",
    "df.head()\n",
    "\n",
    "# df = pickle.load(open('processed_df\\preprocessed_nlp_5p.pkl','rb'))\n",
    "# df.head()"
   ]
  },
  {
   "cell_type": "code",
   "execution_count": 38,
   "metadata": {},
   "outputs": [
    {
     "name": "stdout",
     "output_type": "stream",
     "text": [
      "shape before: (249031, 4)\n",
      "shape after: (249031, 4)\n"
     ]
    }
   ],
   "source": [
    "print(f'shape before: {df.shape}')\n",
    "df = df[df['Comment'] != '']\n",
    "df.drop_duplicates(inplace=True)\n",
    "df.dropna(inplace=True)\n",
    "print(f'shape after: {df.shape}')\n"
   ]
  },
  {
   "cell_type": "markdown",
   "metadata": {},
   "source": [
    "# Train test split"
   ]
  },
  {
   "cell_type": "code",
   "execution_count": 52,
   "metadata": {},
   "outputs": [],
   "source": [
    "X = df['Comment']\n",
    "y = df['Userscore']\n",
    "\n",
    "X_train, X_test, y_train, y_test = train_test_split(X, y, test_size = 0.3)"
   ]
  },
  {
   "cell_type": "markdown",
   "metadata": {},
   "source": [
    "# Create the text encoder"
   ]
  },
  {
   "cell_type": "code",
   "execution_count": 46,
   "metadata": {},
   "outputs": [],
   "source": [
    "VOCAB_SIZE = 1000\n",
    "encoder = tf.keras.layers.TextVectorization(\n",
    "    max_tokens=VOCAB_SIZE)\n",
    "encoder.adapt(X_train)"
   ]
  },
  {
   "cell_type": "code",
   "execution_count": 47,
   "metadata": {},
   "outputs": [
    {
     "data": {
      "text/plain": [
       "array(['', '[UNK]', 'the', 'and', 'a', 'to', 'is', 'of', 'game', 'i',\n",
       "       'it', 'you', 'this', 'in', 'that', 'for', 'but', 'are', 'with',\n",
       "       'its'], dtype='<U14')"
      ]
     },
     "execution_count": 47,
     "metadata": {},
     "output_type": "execute_result"
    }
   ],
   "source": [
    "vocab = np.array(encoder.get_vocabulary())\n",
    "vocab[:20]"
   ]
  },
  {
   "cell_type": "code",
   "execution_count": 48,
   "metadata": {},
   "outputs": [
    {
     "data": {
      "text/plain": [
       "(1000,)"
      ]
     },
     "execution_count": 48,
     "metadata": {},
     "output_type": "execute_result"
    }
   ],
   "source": [
    "vocab.shape"
   ]
  },
  {
   "cell_type": "code",
   "execution_count": 54,
   "metadata": {},
   "outputs": [
    {
     "data": {
      "text/plain": [
       "2"
      ]
     },
     "execution_count": 54,
     "metadata": {},
     "output_type": "execute_result"
    }
   ],
   "source": [
    "1+1"
   ]
  },
  {
   "cell_type": "markdown",
   "metadata": {},
   "source": [
    "# Embedding our corpus with a pretrained TF HUB model"
   ]
  },
  {
   "cell_type": "code",
   "execution_count": 34,
   "metadata": {},
   "outputs": [
    {
     "name": "stdout",
     "output_type": "stream",
     "text": [
      "Collecting tensorflow_hub\n",
      "  Downloading tensorflow_hub-0.12.0-py2.py3-none-any.whl (108 kB)\n",
      "     -------------------------------------- 108.8/108.8 kB 3.2 MB/s eta 0:00:00\n",
      "Requirement already satisfied: protobuf>=3.8.0 in c:\\users\\yanha\\anaconda3\\envs\\tf\\lib\\site-packages (from tensorflow_hub) (3.19.6)\n",
      "Requirement already satisfied: numpy>=1.12.0 in c:\\users\\yanha\\anaconda3\\envs\\tf\\lib\\site-packages (from tensorflow_hub) (1.23.4)\n",
      "Installing collected packages: tensorflow_hub\n",
      "Successfully installed tensorflow_hub-0.12.0\n"
     ]
    }
   ],
   "source": [
    "!pip install tensorflow_hub"
   ]
  },
  {
   "cell_type": "code",
   "execution_count": 49,
   "metadata": {},
   "outputs": [],
   "source": [
    "import tensorflow_hub as hub"
   ]
  },
  {
   "cell_type": "code",
   "execution_count": 50,
   "metadata": {},
   "outputs": [],
   "source": [
    "embedding = \"https://tfhub.dev/google/nnlm-en-dim50/2\"\n",
    "hub_layer = hub.KerasLayer(embedding, dtype=tf.string, trainable=True)"
   ]
  },
  {
   "cell_type": "code",
   "execution_count": 53,
   "metadata": {},
   "outputs": [
    {
     "ename": "ValueError",
     "evalue": "Exception encountered when calling layer \"keras_layer_1\" \"                 f\"(type KerasLayer).\n\nPython inputs incompatible with input_signature:\n  inputs: (\n     )\n  input_signature: (\n    TensorSpec(shape=(None,), dtype=tf.string, name=None)).\n\nCall arguments received by layer \"keras_layer_1\" \"                 f\"(type KerasLayer):\n  • inputs=' '\n  • training=None",
     "output_type": "error",
     "traceback": [
      "\u001b[1;31m---------------------------------------------------------------------------\u001b[0m",
      "\u001b[1;31mValueError\u001b[0m                                Traceback (most recent call last)",
      "\u001b[1;32md:\\VIVY_LEARNING\\Flatiron\\DS_P4_Game_Recommender\\3_Modelling_Metacritic_NLP_tensorflow_Keras_tonenizer.ipynb Cell 16\u001b[0m in \u001b[0;36m<cell line: 1>\u001b[1;34m()\u001b[0m\n\u001b[1;32m----> <a href='vscode-notebook-cell:/d%3A/VIVY_LEARNING/Flatiron/DS_P4_Game_Recommender/3_Modelling_Metacritic_NLP_tensorflow_Keras_tonenizer.ipynb#Y106sZmlsZQ%3D%3D?line=0'>1</a>\u001b[0m hub_layer(\u001b[39mlist\u001b[39;49m(X_train)[\u001b[39m0\u001b[39;49m][\u001b[39m0\u001b[39;49m])\n",
      "File \u001b[1;32mc:\\Users\\yanha\\anaconda3\\envs\\tf\\lib\\site-packages\\keras\\utils\\traceback_utils.py:70\u001b[0m, in \u001b[0;36mfilter_traceback.<locals>.error_handler\u001b[1;34m(*args, **kwargs)\u001b[0m\n\u001b[0;32m     67\u001b[0m     filtered_tb \u001b[39m=\u001b[39m _process_traceback_frames(e\u001b[39m.\u001b[39m__traceback__)\n\u001b[0;32m     68\u001b[0m     \u001b[39m# To get the full stack trace, call:\u001b[39;00m\n\u001b[0;32m     69\u001b[0m     \u001b[39m# `tf.debugging.disable_traceback_filtering()`\u001b[39;00m\n\u001b[1;32m---> 70\u001b[0m     \u001b[39mraise\u001b[39;00m e\u001b[39m.\u001b[39mwith_traceback(filtered_tb) \u001b[39mfrom\u001b[39;00m \u001b[39mNone\u001b[39m\n\u001b[0;32m     71\u001b[0m \u001b[39mfinally\u001b[39;00m:\n\u001b[0;32m     72\u001b[0m     \u001b[39mdel\u001b[39;00m filtered_tb\n",
      "File \u001b[1;32mc:\\Users\\yanha\\anaconda3\\envs\\tf\\lib\\site-packages\\tensorflow_hub\\keras_layer.py:229\u001b[0m, in \u001b[0;36mKerasLayer.call\u001b[1;34m(self, inputs, training)\u001b[0m\n\u001b[0;32m    223\u001b[0m \u001b[39m# ...but we may also have to pass a Python boolean for `training`, which\u001b[39;00m\n\u001b[0;32m    224\u001b[0m \u001b[39m# is the logical \"and\" of this layer's trainability and what the surrounding\u001b[39;00m\n\u001b[0;32m    225\u001b[0m \u001b[39m# model is doing (analogous to tf.keras.layers.BatchNormalization in TF2).\u001b[39;00m\n\u001b[0;32m    226\u001b[0m \u001b[39m# For the latter, we have to look in two places: the `training` argument,\u001b[39;00m\n\u001b[0;32m    227\u001b[0m \u001b[39m# or else Keras' global `learning_phase`, which might actually be a tensor.\u001b[39;00m\n\u001b[0;32m    228\u001b[0m \u001b[39mif\u001b[39;00m \u001b[39mnot\u001b[39;00m \u001b[39mself\u001b[39m\u001b[39m.\u001b[39m_has_training_argument:\n\u001b[1;32m--> 229\u001b[0m   result \u001b[39m=\u001b[39m f()\n\u001b[0;32m    230\u001b[0m \u001b[39melse\u001b[39;00m:\n\u001b[0;32m    231\u001b[0m   \u001b[39mif\u001b[39;00m \u001b[39mself\u001b[39m\u001b[39m.\u001b[39mtrainable:\n",
      "\u001b[1;31mValueError\u001b[0m: Exception encountered when calling layer \"keras_layer_1\" \"                 f\"(type KerasLayer).\n\nPython inputs incompatible with input_signature:\n  inputs: (\n     )\n  input_signature: (\n    TensorSpec(shape=(None,), dtype=tf.string, name=None)).\n\nCall arguments received by layer \"keras_layer_1\" \"                 f\"(type KerasLayer):\n  • inputs=' '\n  • training=None"
     ]
    }
   ],
   "source": [
    "hub_layer(list(X_train)[0][0])"
   ]
  },
  {
   "cell_type": "markdown",
   "metadata": {},
   "source": [
    "# Create the model"
   ]
  },
  {
   "cell_type": "code",
   "execution_count": 25,
   "metadata": {},
   "outputs": [],
   "source": [
    "model = tf.keras.Sequential([\n",
    "    tf.keras.Input(shape=(1,), dtype=tf.string),\n",
    "    encoder,\n",
    "    tf.keras.layers.Embedding(\n",
    "        input_dim=len(encoder.get_vocabulary()),\n",
    "        output_dim=64,\n",
    "        # Use masking to handle the variable sequence lengths\n",
    "        mask_zero=True),\n",
    "    tf.keras.layers.Dense(64, activation='relu'),\n",
    "    tf.keras.layers.Dense(64, activation='relu'),\n",
    "    tf.keras.layers.Dense(1)\n",
    "])"
   ]
  },
  {
   "cell_type": "code",
   "execution_count": 26,
   "metadata": {},
   "outputs": [],
   "source": [
    "opt = Adam(learning_rate=0.0001, beta_1=0.9, beta_2=0.999, epsilon=1e-07)\n",
    "model.compile(loss = \"mean_squared_error\", optimizer=opt, metrics=['mean_absolute_error'])"
   ]
  },
  {
   "cell_type": "code",
   "execution_count": 33,
   "metadata": {},
   "outputs": [
    {
     "name": "stdout",
     "output_type": "stream",
     "text": [
      "Epoch 1/50\n"
     ]
    },
    {
     "ename": "InvalidArgumentError",
     "evalue": "Graph execution error:\n\n2 root error(s) found.\n  (0) INVALID_ARGUMENT:  Can not squeeze dim[1], expected a dimension of 1, got 460\n\t [[{{node mean_squared_error/weighted_loss/ArithmeticOptimizer/ReorderCastLikeAndValuePreserving_bool_Squeeze}}]]\n\t [[broadcast_weights_1/assert_broadcastable/is_valid_shape/else/_1/broadcast_weights_1/assert_broadcastable/is_valid_shape/has_valid_nonscalar_shape/then/_53/broadcast_weights_1/assert_broadcastable/is_valid_shape/has_valid_nonscalar_shape/has_invalid_dims/concat/_64]]\n  (1) INVALID_ARGUMENT:  Can not squeeze dim[1], expected a dimension of 1, got 460\n\t [[{{node mean_squared_error/weighted_loss/ArithmeticOptimizer/ReorderCastLikeAndValuePreserving_bool_Squeeze}}]]\n0 successful operations.\n0 derived errors ignored. [Op:__inference_train_function_2785]",
     "output_type": "error",
     "traceback": [
      "\u001b[1;31m---------------------------------------------------------------------------\u001b[0m",
      "\u001b[1;31mInvalidArgumentError\u001b[0m                      Traceback (most recent call last)",
      "\u001b[1;32md:\\VIVY_LEARNING\\Flatiron\\DS_P4_Game_Recommender\\3_Modelling_Metacritic_NLP_tensorflow_Keras_tonenizer.ipynb Cell 15\u001b[0m in \u001b[0;36m<cell line: 1>\u001b[1;34m()\u001b[0m\n\u001b[1;32m----> <a href='vscode-notebook-cell:/d%3A/VIVY_LEARNING/Flatiron/DS_P4_Game_Recommender/3_Modelling_Metacritic_NLP_tensorflow_Keras_tonenizer.ipynb#Y100sZmlsZQ%3D%3D?line=0'>1</a>\u001b[0m history \u001b[39m=\u001b[39m model\u001b[39m.\u001b[39;49mfit(X_train, y_train, validation_split \u001b[39m=\u001b[39;49m \u001b[39m0.2\u001b[39;49m, epochs\u001b[39m=\u001b[39;49m\u001b[39m50\u001b[39;49m, batch_size\u001b[39m=\u001b[39;49m\u001b[39m256\u001b[39;49m)\n",
      "File \u001b[1;32mc:\\Users\\yanha\\anaconda3\\envs\\tf\\lib\\site-packages\\keras\\utils\\traceback_utils.py:70\u001b[0m, in \u001b[0;36mfilter_traceback.<locals>.error_handler\u001b[1;34m(*args, **kwargs)\u001b[0m\n\u001b[0;32m     67\u001b[0m     filtered_tb \u001b[39m=\u001b[39m _process_traceback_frames(e\u001b[39m.\u001b[39m__traceback__)\n\u001b[0;32m     68\u001b[0m     \u001b[39m# To get the full stack trace, call:\u001b[39;00m\n\u001b[0;32m     69\u001b[0m     \u001b[39m# `tf.debugging.disable_traceback_filtering()`\u001b[39;00m\n\u001b[1;32m---> 70\u001b[0m     \u001b[39mraise\u001b[39;00m e\u001b[39m.\u001b[39mwith_traceback(filtered_tb) \u001b[39mfrom\u001b[39;00m \u001b[39mNone\u001b[39m\n\u001b[0;32m     71\u001b[0m \u001b[39mfinally\u001b[39;00m:\n\u001b[0;32m     72\u001b[0m     \u001b[39mdel\u001b[39;00m filtered_tb\n",
      "File \u001b[1;32mc:\\Users\\yanha\\anaconda3\\envs\\tf\\lib\\site-packages\\tensorflow\\python\\eager\\execute.py:54\u001b[0m, in \u001b[0;36mquick_execute\u001b[1;34m(op_name, num_outputs, inputs, attrs, ctx, name)\u001b[0m\n\u001b[0;32m     52\u001b[0m \u001b[39mtry\u001b[39;00m:\n\u001b[0;32m     53\u001b[0m   ctx\u001b[39m.\u001b[39mensure_initialized()\n\u001b[1;32m---> 54\u001b[0m   tensors \u001b[39m=\u001b[39m pywrap_tfe\u001b[39m.\u001b[39mTFE_Py_Execute(ctx\u001b[39m.\u001b[39m_handle, device_name, op_name,\n\u001b[0;32m     55\u001b[0m                                       inputs, attrs, num_outputs)\n\u001b[0;32m     56\u001b[0m \u001b[39mexcept\u001b[39;00m core\u001b[39m.\u001b[39m_NotOkStatusException \u001b[39mas\u001b[39;00m e:\n\u001b[0;32m     57\u001b[0m   \u001b[39mif\u001b[39;00m name \u001b[39mis\u001b[39;00m \u001b[39mnot\u001b[39;00m \u001b[39mNone\u001b[39;00m:\n",
      "\u001b[1;31mInvalidArgumentError\u001b[0m: Graph execution error:\n\n2 root error(s) found.\n  (0) INVALID_ARGUMENT:  Can not squeeze dim[1], expected a dimension of 1, got 460\n\t [[{{node mean_squared_error/weighted_loss/ArithmeticOptimizer/ReorderCastLikeAndValuePreserving_bool_Squeeze}}]]\n\t [[broadcast_weights_1/assert_broadcastable/is_valid_shape/else/_1/broadcast_weights_1/assert_broadcastable/is_valid_shape/has_valid_nonscalar_shape/then/_53/broadcast_weights_1/assert_broadcastable/is_valid_shape/has_valid_nonscalar_shape/has_invalid_dims/concat/_64]]\n  (1) INVALID_ARGUMENT:  Can not squeeze dim[1], expected a dimension of 1, got 460\n\t [[{{node mean_squared_error/weighted_loss/ArithmeticOptimizer/ReorderCastLikeAndValuePreserving_bool_Squeeze}}]]\n0 successful operations.\n0 derived errors ignored. [Op:__inference_train_function_2785]"
     ]
    }
   ],
   "source": [
    "\n",
    "history = model.fit(X_train, y_train, validation_split = 0.2, epochs=50, batch_size=256)\n"
   ]
  },
  {
   "cell_type": "code",
   "execution_count": null,
   "metadata": {},
   "outputs": [],
   "source": []
  },
  {
   "cell_type": "code",
   "execution_count": 44,
   "metadata": {},
   "outputs": [],
   "source": [
    "feat_names = bow_vec.get_feature_names_out()"
   ]
  },
  {
   "cell_type": "code",
   "execution_count": 9,
   "metadata": {},
   "outputs": [],
   "source": [
    "bow_mat_tr = pd.DataFrame(X_tr_proc.toarray(), columns = feat_names)\n",
    "bow_mat_te = pd.DataFrame(X_te_proc.toarray(), columns = feat_names)"
   ]
  },
  {
   "cell_type": "code",
   "execution_count": 49,
   "metadata": {},
   "outputs": [
    {
     "data": {
      "text/plain": [
       "(164710, 165)"
      ]
     },
     "execution_count": 49,
     "metadata": {},
     "output_type": "execute_result"
    }
   ],
   "source": [
    "bow_mat_tr.shape"
   ]
  },
  {
   "cell_type": "markdown",
   "metadata": {},
   "source": [
    "# MODEL"
   ]
  },
  {
   "cell_type": "markdown",
   "metadata": {},
   "source": [
    "- BASELINE, 165 VOL"
   ]
  },
  {
   "cell_type": "code",
   "execution_count": 65,
   "metadata": {},
   "outputs": [],
   "source": [
    "callback = tf.keras.callbacks.EarlyStopping(monitor='loss', min_delta = 1e-6, verbose = 1, patience=5)\n",
    "\n",
    "model_1 = Sequential()\n",
    "model_1.add(Dense(64, activation='relu', input_shape=(165,)))\n",
    "model_1.add(Dense(30, activation='relu'))\n",
    "model_1.add(Dense(1, activation='linear'))\n",
    "\n",
    "opt = Adam(learning_rate=0.0001, beta_1=0.9, beta_2=0.999, epsilon=1e-07)\n",
    "\n",
    "model_1.compile(loss = \"mean_squared_error\", optimizer=opt, metrics=['mean_absolute_error'])"
   ]
  },
  {
   "cell_type": "code",
   "execution_count": 66,
   "metadata": {},
   "outputs": [
    {
     "name": "stdout",
     "output_type": "stream",
     "text": [
      "Epoch 1/50\n",
      "515/515 [==============================] - 1s 2ms/step - loss: 53.9833 - mean_absolute_error: 6.8724 - val_loss: 25.4873 - val_mean_absolute_error: 4.6205\n",
      "Epoch 2/50\n",
      "515/515 [==============================] - 1s 2ms/step - loss: 12.5975 - mean_absolute_error: 3.0499 - val_loss: 8.9558 - val_mean_absolute_error: 2.4840\n",
      "Epoch 3/50\n",
      "515/515 [==============================] - 1s 2ms/step - loss: 8.0863 - mean_absolute_error: 2.3283 - val_loss: 7.3771 - val_mean_absolute_error: 2.1982\n",
      "Epoch 4/50\n",
      "515/515 [==============================] - 1s 2ms/step - loss: 6.7068 - mean_absolute_error: 2.0699 - val_loss: 6.2057 - val_mean_absolute_error: 1.9665\n",
      "Epoch 5/50\n",
      "515/515 [==============================] - 1s 2ms/step - loss: 5.8001 - mean_absolute_error: 1.8865 - val_loss: 5.5343 - val_mean_absolute_error: 1.8328\n",
      "Epoch 6/50\n",
      "515/515 [==============================] - 1s 2ms/step - loss: 5.2995 - mean_absolute_error: 1.7873 - val_loss: 5.1543 - val_mean_absolute_error: 1.7605\n",
      "Epoch 7/50\n",
      "515/515 [==============================] - 1s 2ms/step - loss: 4.9850 - mean_absolute_error: 1.7240 - val_loss: 4.8904 - val_mean_absolute_error: 1.7065\n",
      "Epoch 8/50\n",
      "515/515 [==============================] - 1s 2ms/step - loss: 4.7582 - mean_absolute_error: 1.6736 - val_loss: 4.7036 - val_mean_absolute_error: 1.6603\n",
      "Epoch 9/50\n",
      "515/515 [==============================] - 1s 2ms/step - loss: 4.6044 - mean_absolute_error: 1.6371 - val_loss: 4.5890 - val_mean_absolute_error: 1.6239\n",
      "Epoch 10/50\n",
      "515/515 [==============================] - 1s 2ms/step - loss: 4.5141 - mean_absolute_error: 1.6115 - val_loss: 4.5257 - val_mean_absolute_error: 1.6130\n",
      "Epoch 11/50\n",
      "515/515 [==============================] - 1s 2ms/step - loss: 4.4682 - mean_absolute_error: 1.5978 - val_loss: 4.4969 - val_mean_absolute_error: 1.5977\n",
      "Epoch 12/50\n",
      "515/515 [==============================] - 1s 2ms/step - loss: 4.4477 - mean_absolute_error: 1.5899 - val_loss: 4.4837 - val_mean_absolute_error: 1.6000\n",
      "Epoch 13/50\n",
      "515/515 [==============================] - 1s 2ms/step - loss: 4.4377 - mean_absolute_error: 1.5864 - val_loss: 4.4777 - val_mean_absolute_error: 1.5945\n",
      "Epoch 14/50\n",
      "515/515 [==============================] - 1s 2ms/step - loss: 4.4325 - mean_absolute_error: 1.5837 - val_loss: 4.4744 - val_mean_absolute_error: 1.5953\n",
      "Epoch 15/50\n",
      "515/515 [==============================] - 1s 2ms/step - loss: 4.4288 - mean_absolute_error: 1.5825 - val_loss: 4.4721 - val_mean_absolute_error: 1.5875\n",
      "Epoch 16/50\n",
      "515/515 [==============================] - 1s 2ms/step - loss: 4.4257 - mean_absolute_error: 1.5813 - val_loss: 4.4695 - val_mean_absolute_error: 1.5910\n",
      "Epoch 17/50\n",
      "515/515 [==============================] - 1s 2ms/step - loss: 4.4227 - mean_absolute_error: 1.5800 - val_loss: 4.4680 - val_mean_absolute_error: 1.5979\n",
      "Epoch 18/50\n",
      "515/515 [==============================] - 1s 2ms/step - loss: 4.4197 - mean_absolute_error: 1.5799 - val_loss: 4.4641 - val_mean_absolute_error: 1.5931\n",
      "Epoch 19/50\n",
      "515/515 [==============================] - 1s 2ms/step - loss: 4.4151 - mean_absolute_error: 1.5789 - val_loss: 4.4612 - val_mean_absolute_error: 1.5836\n",
      "Epoch 20/50\n",
      "515/515 [==============================] - 1s 2ms/step - loss: 4.4101 - mean_absolute_error: 1.5775 - val_loss: 4.4559 - val_mean_absolute_error: 1.5870\n",
      "Epoch 21/50\n",
      "515/515 [==============================] - 1s 2ms/step - loss: 4.4041 - mean_absolute_error: 1.5760 - val_loss: 4.4493 - val_mean_absolute_error: 1.5826\n",
      "Epoch 22/50\n",
      "515/515 [==============================] - 1s 2ms/step - loss: 4.3938 - mean_absolute_error: 1.5718 - val_loss: 4.4395 - val_mean_absolute_error: 1.5730\n",
      "Epoch 23/50\n",
      "515/515 [==============================] - 1s 2ms/step - loss: 4.3801 - mean_absolute_error: 1.5674 - val_loss: 4.4241 - val_mean_absolute_error: 1.5792\n",
      "Epoch 24/50\n",
      "515/515 [==============================] - 1s 2ms/step - loss: 4.3622 - mean_absolute_error: 1.5618 - val_loss: 4.4085 - val_mean_absolute_error: 1.5619\n",
      "Epoch 25/50\n",
      "515/515 [==============================] - 1s 2ms/step - loss: 4.3420 - mean_absolute_error: 1.5540 - val_loss: 4.3885 - val_mean_absolute_error: 1.5640\n",
      "Epoch 26/50\n",
      "515/515 [==============================] - 1s 2ms/step - loss: 4.3208 - mean_absolute_error: 1.5478 - val_loss: 4.3688 - val_mean_absolute_error: 1.5504\n",
      "Epoch 27/50\n",
      "515/515 [==============================] - 1s 2ms/step - loss: 4.2986 - mean_absolute_error: 1.5388 - val_loss: 4.3512 - val_mean_absolute_error: 1.5625\n",
      "Epoch 28/50\n",
      "515/515 [==============================] - 1s 2ms/step - loss: 4.2752 - mean_absolute_error: 1.5323 - val_loss: 4.3264 - val_mean_absolute_error: 1.5394\n",
      "Epoch 29/50\n",
      "515/515 [==============================] - 1s 2ms/step - loss: 4.2514 - mean_absolute_error: 1.5230 - val_loss: 4.3034 - val_mean_absolute_error: 1.5295\n",
      "Epoch 30/50\n",
      "515/515 [==============================] - 1s 2ms/step - loss: 4.2271 - mean_absolute_error: 1.5146 - val_loss: 4.2847 - val_mean_absolute_error: 1.5272\n",
      "Epoch 31/50\n",
      "515/515 [==============================] - 1s 2ms/step - loss: 4.2051 - mean_absolute_error: 1.5068 - val_loss: 4.2670 - val_mean_absolute_error: 1.5180\n",
      "Epoch 32/50\n",
      "515/515 [==============================] - 1s 2ms/step - loss: 4.1857 - mean_absolute_error: 1.4998 - val_loss: 4.2531 - val_mean_absolute_error: 1.5183\n",
      "Epoch 33/50\n",
      "515/515 [==============================] - 1s 2ms/step - loss: 4.1688 - mean_absolute_error: 1.4934 - val_loss: 4.2386 - val_mean_absolute_error: 1.5099\n",
      "Epoch 34/50\n",
      "515/515 [==============================] - 1s 2ms/step - loss: 4.1528 - mean_absolute_error: 1.4881 - val_loss: 4.2295 - val_mean_absolute_error: 1.4922\n",
      "Epoch 35/50\n",
      "515/515 [==============================] - 1s 2ms/step - loss: 4.1395 - mean_absolute_error: 1.4830 - val_loss: 4.2208 - val_mean_absolute_error: 1.4911\n",
      "Epoch 36/50\n",
      "515/515 [==============================] - 1s 2ms/step - loss: 4.1272 - mean_absolute_error: 1.4790 - val_loss: 4.2119 - val_mean_absolute_error: 1.4868\n",
      "Epoch 37/50\n",
      "515/515 [==============================] - 1s 2ms/step - loss: 4.1169 - mean_absolute_error: 1.4752 - val_loss: 4.2044 - val_mean_absolute_error: 1.4960\n",
      "Epoch 38/50\n",
      "515/515 [==============================] - 1s 2ms/step - loss: 4.1077 - mean_absolute_error: 1.4718 - val_loss: 4.1987 - val_mean_absolute_error: 1.4954\n",
      "Epoch 39/50\n",
      "515/515 [==============================] - 1s 2ms/step - loss: 4.0996 - mean_absolute_error: 1.4693 - val_loss: 4.1928 - val_mean_absolute_error: 1.4862\n",
      "Epoch 40/50\n",
      "515/515 [==============================] - 1s 2ms/step - loss: 4.0918 - mean_absolute_error: 1.4663 - val_loss: 4.1906 - val_mean_absolute_error: 1.4786\n",
      "Epoch 41/50\n",
      "515/515 [==============================] - 1s 2ms/step - loss: 4.0849 - mean_absolute_error: 1.4643 - val_loss: 4.1851 - val_mean_absolute_error: 1.4889\n",
      "Epoch 42/50\n",
      "515/515 [==============================] - 1s 2ms/step - loss: 4.0780 - mean_absolute_error: 1.4627 - val_loss: 4.1840 - val_mean_absolute_error: 1.4819\n",
      "Epoch 43/50\n",
      "515/515 [==============================] - 1s 2ms/step - loss: 4.0725 - mean_absolute_error: 1.4608 - val_loss: 4.1832 - val_mean_absolute_error: 1.4681\n",
      "Epoch 44/50\n",
      "515/515 [==============================] - 1s 2ms/step - loss: 4.0670 - mean_absolute_error: 1.4589 - val_loss: 4.1781 - val_mean_absolute_error: 1.4708\n",
      "Epoch 45/50\n",
      "515/515 [==============================] - 1s 2ms/step - loss: 4.0612 - mean_absolute_error: 1.4573 - val_loss: 4.1752 - val_mean_absolute_error: 1.4707\n",
      "Epoch 46/50\n",
      "515/515 [==============================] - 1s 2ms/step - loss: 4.0568 - mean_absolute_error: 1.4559 - val_loss: 4.1741 - val_mean_absolute_error: 1.4880\n",
      "Epoch 47/50\n",
      "515/515 [==============================] - 1s 2ms/step - loss: 4.0513 - mean_absolute_error: 1.4546 - val_loss: 4.1752 - val_mean_absolute_error: 1.4931\n",
      "Epoch 48/50\n",
      "515/515 [==============================] - 1s 2ms/step - loss: 4.0467 - mean_absolute_error: 1.4541 - val_loss: 4.1692 - val_mean_absolute_error: 1.4708\n",
      "Epoch 49/50\n",
      "515/515 [==============================] - 1s 2ms/step - loss: 4.0425 - mean_absolute_error: 1.4520 - val_loss: 4.1712 - val_mean_absolute_error: 1.4623\n",
      "Epoch 50/50\n",
      "515/515 [==============================] - 1s 2ms/step - loss: 4.0377 - mean_absolute_error: 1.4509 - val_loss: 4.1654 - val_mean_absolute_error: 1.4725\n",
      "54.687896966934204 secs slipped...\n"
     ]
    }
   ],
   "source": [
    "start = time.time()\n",
    "\n",
    "results_1 = model_1.fit(bow_mat_tr, y_train, validation_split = 0.2, epochs=50, batch_size=256, callbacks=[callback])\n",
    "\n",
    "end = time.time()\n",
    "print(f'{end-start} secs slipped...')"
   ]
  },
  {
   "cell_type": "code",
   "execution_count": 68,
   "metadata": {},
   "outputs": [
    {
     "data": {
      "text/plain": [
       "dict_keys(['loss', 'mean_absolute_error', 'val_loss', 'val_mean_absolute_error'])"
      ]
     },
     "execution_count": 68,
     "metadata": {},
     "output_type": "execute_result"
    }
   ],
   "source": [
    "history_dict = results_1.history\n",
    "history_dict.keys()"
   ]
  },
  {
   "cell_type": "code",
   "execution_count": 69,
   "metadata": {},
   "outputs": [
    {
     "data": {
      "image/png": "[encoded data removed]",
      "text/plain": [
       "<Figure size 640x480 with 1 Axes>"
      ]
     },
     "metadata": {},
     "output_type": "display_data"
    }
   ],
   "source": [
    "plt.plot(results_1.history['val_loss'])\n",
    "plt.plot(results_1.history['loss'])\n",
    "plt.title('model mse')\n",
    "plt.ylabel('val loss')\n",
    "plt.xlabel('epoch')\n",
    "plt.legend(['train', 'val'], loc='upper left')\n",
    "plt.show()"
   ]
  },
  {
   "cell_type": "code",
   "execution_count": 70,
   "metadata": {},
   "outputs": [
    {
     "data": {
      "image/png": "[encoded data removed]",
      "text/plain": [
       "<Figure size 640x480 with 1 Axes>"
      ]
     },
     "metadata": {},
     "output_type": "display_data"
    }
   ],
   "source": [
    "plt.plot(results_1.history['val_mean_absolute_error'])\n",
    "plt.plot(results_1.history['mean_absolute_error'])\n",
    "plt.title('model mae')\n",
    "plt.ylabel('val_mean_absolute_error')\n",
    "plt.xlabel('epoch')\n",
    "plt.legend(['train', 'val'], loc='upper left')\n",
    "plt.show()"
   ]
  },
  {
   "cell_type": "code",
   "execution_count": 71,
   "metadata": {},
   "outputs": [
    {
     "name": "stdout",
     "output_type": "stream",
     "text": [
      "2206/2206 [==============================] - 3s 1ms/step - loss: 4.1660 - mean_absolute_error: 1.4742\n"
     ]
    },
    {
     "data": {
      "text/plain": [
       "[4.165985107421875, 1.4741941690444946]"
      ]
     },
     "execution_count": 71,
     "metadata": {},
     "output_type": "execute_result"
    }
   ],
   "source": [
    "model_1.evaluate(bow_mat_te, y_test)"
   ]
  },
  {
   "cell_type": "code",
   "execution_count": 72,
   "metadata": {},
   "outputs": [
    {
     "name": "stdout",
     "output_type": "stream",
     "text": [
      "2206/2206 [==============================] - 2s 762us/step\n",
      "test MSE 4.165985756996066\n",
      "test MAE 1.4741940736834802\n",
      "5148/5148 [==============================] - 4s 716us/step\n",
      "train MSE 4.05468775974925\n",
      "train MAE 1.4542828798380918\n"
     ]
    }
   ],
   "source": [
    "y_pred = model_1.predict(bow_mat_te)\n",
    "print(f'test MSE {mean_squared_error(y_test, y_pred)}')\n",
    "print(f'test MAE {mean_absolute_error(y_test, y_pred)}')\n",
    "\n",
    "y_pred = model_1.predict(bow_mat_tr)\n",
    "print(f'train MSE {mean_squared_error(y_train, y_pred)}')\n",
    "print(f'train MAE {mean_absolute_error(y_train, y_pred)}')"
   ]
  },
  {
   "cell_type": "markdown",
   "metadata": {},
   "source": [
    "run on full dataset, 164,710<br>\n",
    "165 vocabulary"
   ]
  },
  {
   "cell_type": "markdown",
   "metadata": {},
   "source": [
    "- BASELINE, 2000 VOL"
   ]
  },
  {
   "cell_type": "code",
   "execution_count": 98,
   "metadata": {},
   "outputs": [
    {
     "name": "stdout",
     "output_type": "stream",
     "text": [
      "8.123414278030396 secs slipped..\n"
     ]
    }
   ],
   "source": [
    "bow_200_tr, bow_200_te = TFvec(200,X_train, X_test)"
   ]
  },
  {
   "cell_type": "code",
   "execution_count": 128,
   "metadata": {},
   "outputs": [
    {
     "name": "stdout",
     "output_type": "stream",
     "text": [
      "8.278271198272705 secs slipped..\n"
     ]
    },
    {
     "data": {
      "text/plain": [
       "((164710, 400), (70591, 400))"
      ]
     },
     "execution_count": 128,
     "metadata": {},
     "output_type": "execute_result"
    }
   ],
   "source": [
    "start = time.time()\n",
    "\n",
    "bow_vec = TfidfVectorizer(max_features=400)\n",
    "X_tr_proc = bow_vec.fit_transform(X_train)\n",
    "X_te_proc = bow_vec.transform(X_test)\n",
    "\n",
    "end = time.time()\n",
    "print(f'{end-start} secs slipped..')\n",
    "\n",
    "feat_names = bow_vec.get_feature_names_out()\n",
    "\n",
    "bow_400_tr = pd.DataFrame(X_tr_proc.toarray(), columns = feat_names)\n",
    "bow_400_te = pd.DataFrame(X_te_proc.toarray(), columns = feat_names)\n",
    "\n",
    "bow_400_tr.shape, bow_400_te.shape"
   ]
  },
  {
   "cell_type": "code",
   "execution_count": 129,
   "metadata": {},
   "outputs": [],
   "source": [
    "callback = tf.keras.callbacks.EarlyStopping(monitor='loss', min_delta = 1e-6, verbose = 1, patience=5)\n",
    "\n",
    "model_3 = Sequential()\n",
    "model_3.add(Dense(64, activation='relu', input_shape=(400,)))\n",
    "model_3.add(Dense(30, activation='relu'))\n",
    "model_3.add(Dense(1, activation='linear'))\n",
    "\n",
    "opt = Adam(learning_rate=0.001, beta_1=0.9, beta_2=0.999, epsilon=1e-07)\n",
    "\n",
    "model_3.compile(loss = \"mean_squared_error\", optimizer=opt, metrics=['mean_absolute_error'])"
   ]
  },
  {
   "cell_type": "code",
   "execution_count": 130,
   "metadata": {},
   "outputs": [
    {
     "ename": "RuntimeError",
     "evalue": "Data adapters should be mutually exclusive for handling inputs. Found multiple adapters [<class 'keras.engine.data_adapter.TensorLikeDataAdapter'>, <class 'keras.engine.data_adapter.GeneratorDataAdapter'>] to handle input: <class 'pandas.core.frame.DataFrame'>, <class 'pandas.core.series.Series'>",
     "output_type": "error",
     "traceback": [
      "\u001b[1;31m---------------------------------------------------------------------------\u001b[0m",
      "\u001b[1;31mRuntimeError\u001b[0m                              Traceback (most recent call last)",
      "\u001b[1;32md:\\VIVY_LEARNING\\Flatiron\\DS_P4_Game_Recommender\\3_Modelling_Metacritic_NLP_tensorflow.ipynb Cell 30\u001b[0m in \u001b[0;36m<cell line: 3>\u001b[1;34m()\u001b[0m\n\u001b[0;32m      <a href='vscode-notebook-cell:/d%3A/VIVY_LEARNING/Flatiron/DS_P4_Game_Recommender/3_Modelling_Metacritic_NLP_tensorflow.ipynb#X66sZmlsZQ%3D%3D?line=0'>1</a>\u001b[0m start \u001b[39m=\u001b[39m time\u001b[39m.\u001b[39mtime()\n\u001b[1;32m----> <a href='vscode-notebook-cell:/d%3A/VIVY_LEARNING/Flatiron/DS_P4_Game_Recommender/3_Modelling_Metacritic_NLP_tensorflow.ipynb#X66sZmlsZQ%3D%3D?line=2'>3</a>\u001b[0m results_3 \u001b[39m=\u001b[39m model_3\u001b[39m.\u001b[39;49mfit(bow_400_tr, y_train, validation_split \u001b[39m=\u001b[39;49m \u001b[39m0.2\u001b[39;49m, epochs\u001b[39m=\u001b[39;49m\u001b[39m5\u001b[39;49m, batch_size\u001b[39m=\u001b[39;49m\u001b[39m1\u001b[39;49m, callbacks\u001b[39m=\u001b[39;49m[callback])\n\u001b[0;32m      <a href='vscode-notebook-cell:/d%3A/VIVY_LEARNING/Flatiron/DS_P4_Game_Recommender/3_Modelling_Metacritic_NLP_tensorflow.ipynb#X66sZmlsZQ%3D%3D?line=4'>5</a>\u001b[0m end \u001b[39m=\u001b[39m time\u001b[39m.\u001b[39mtime()\n\u001b[0;32m      <a href='vscode-notebook-cell:/d%3A/VIVY_LEARNING/Flatiron/DS_P4_Game_Recommender/3_Modelling_Metacritic_NLP_tensorflow.ipynb#X66sZmlsZQ%3D%3D?line=5'>6</a>\u001b[0m \u001b[39mprint\u001b[39m(\u001b[39mf\u001b[39m\u001b[39m'\u001b[39m\u001b[39m{\u001b[39;00mend\u001b[39m-\u001b[39mstart\u001b[39m}\u001b[39;00m\u001b[39m secs slipped...\u001b[39m\u001b[39m'\u001b[39m)\n",
      "File \u001b[1;32mc:\\Users\\yanha\\anaconda3\\envs\\tf\\lib\\site-packages\\keras\\utils\\traceback_utils.py:70\u001b[0m, in \u001b[0;36mfilter_traceback.<locals>.error_handler\u001b[1;34m(*args, **kwargs)\u001b[0m\n\u001b[0;32m     67\u001b[0m     filtered_tb \u001b[39m=\u001b[39m _process_traceback_frames(e\u001b[39m.\u001b[39m__traceback__)\n\u001b[0;32m     68\u001b[0m     \u001b[39m# To get the full stack trace, call:\u001b[39;00m\n\u001b[0;32m     69\u001b[0m     \u001b[39m# `tf.debugging.disable_traceback_filtering()`\u001b[39;00m\n\u001b[1;32m---> 70\u001b[0m     \u001b[39mraise\u001b[39;00m e\u001b[39m.\u001b[39mwith_traceback(filtered_tb) \u001b[39mfrom\u001b[39;00m \u001b[39mNone\u001b[39m\n\u001b[0;32m     71\u001b[0m \u001b[39mfinally\u001b[39;00m:\n\u001b[0;32m     72\u001b[0m     \u001b[39mdel\u001b[39;00m filtered_tb\n",
      "File \u001b[1;32mc:\\Users\\yanha\\anaconda3\\envs\\tf\\lib\\site-packages\\keras\\engine\\data_adapter.py:1088\u001b[0m, in \u001b[0;36mselect_data_adapter\u001b[1;34m(x, y)\u001b[0m\n\u001b[0;32m   1083\u001b[0m     \u001b[39mraise\u001b[39;00m \u001b[39mValueError\u001b[39;00m(\n\u001b[0;32m   1084\u001b[0m         \u001b[39m\"\u001b[39m\u001b[39mFailed to find data adapter that can handle \u001b[39m\u001b[39m\"\u001b[39m\n\u001b[0;32m   1085\u001b[0m         \u001b[39m\"\u001b[39m\u001b[39minput: \u001b[39m\u001b[39m{}\u001b[39;00m\u001b[39m, \u001b[39m\u001b[39m{}\u001b[39;00m\u001b[39m\"\u001b[39m\u001b[39m.\u001b[39mformat(_type_name(x), _type_name(y))\n\u001b[0;32m   1086\u001b[0m     )\n\u001b[0;32m   1087\u001b[0m \u001b[39melif\u001b[39;00m \u001b[39mlen\u001b[39m(adapter_cls) \u001b[39m>\u001b[39m \u001b[39m1\u001b[39m:\n\u001b[1;32m-> 1088\u001b[0m     \u001b[39mraise\u001b[39;00m \u001b[39mRuntimeError\u001b[39;00m(\n\u001b[0;32m   1089\u001b[0m         \u001b[39m\"\u001b[39m\u001b[39mData adapters should be mutually exclusive for \u001b[39m\u001b[39m\"\u001b[39m\n\u001b[0;32m   1090\u001b[0m         \u001b[39m\"\u001b[39m\u001b[39mhandling inputs. Found multiple adapters \u001b[39m\u001b[39m{}\u001b[39;00m\u001b[39m to handle \u001b[39m\u001b[39m\"\u001b[39m\n\u001b[0;32m   1091\u001b[0m         \u001b[39m\"\u001b[39m\u001b[39minput: \u001b[39m\u001b[39m{}\u001b[39;00m\u001b[39m, \u001b[39m\u001b[39m{}\u001b[39;00m\u001b[39m\"\u001b[39m\u001b[39m.\u001b[39mformat(adapter_cls, _type_name(x), _type_name(y))\n\u001b[0;32m   1092\u001b[0m     )\n\u001b[0;32m   1093\u001b[0m \u001b[39m# Instrument the data adapter usage before returning it\u001b[39;00m\n\u001b[0;32m   1094\u001b[0m keras_data_adapter_gauge\u001b[39m.\u001b[39mget_cell(adapter_cls[\u001b[39m0\u001b[39m]\u001b[39m.\u001b[39m\u001b[39m__name__\u001b[39m)\u001b[39m.\u001b[39mset(\u001b[39mTrue\u001b[39;00m)\n",
      "\u001b[1;31mRuntimeError\u001b[0m: Data adapters should be mutually exclusive for handling inputs. Found multiple adapters [<class 'keras.engine.data_adapter.TensorLikeDataAdapter'>, <class 'keras.engine.data_adapter.GeneratorDataAdapter'>] to handle input: <class 'pandas.core.frame.DataFrame'>, <class 'pandas.core.series.Series'>"
     ]
    }
   ],
   "source": [
    "start = time.time()\n",
    "\n",
    "results_3 = model_3.fit(bow_400_tr, y_train, validation_split = 0.2, epochs=5, batch_size=1, callbacks=[callback])\n",
    "\n",
    "end = time.time()\n",
    "print(f'{end-start} secs slipped...')"
   ]
  },
  {
   "cell_type": "markdown",
   "metadata": {},
   "source": [
    "- man tuning"
   ]
  },
  {
   "cell_type": "code",
   "execution_count": 38,
   "metadata": {},
   "outputs": [],
   "source": [
    "model_2 = Sequential()\n",
    "model_2.add(Dense(32, activation='relu', input_shape=(167,)))\n",
    "model_2.add(Dropout(0.2))\n",
    "model_2.add(Dense(16, activation='relu'))\n",
    "model_2.add(Dropout(0.1))\n",
    "model_2.add(Dense(8, activation='relu'))\n",
    "model_2.add(Dense(8, activation='relu'))\n",
    "model_2.add(Dense(1, activation='linear'))\n",
    "\n",
    "opt = Adam(learning_rate=0.0001, beta_1=0.9, beta_2=0.999, epsilon=1e-07)\n",
    "\n",
    "model_2.compile(loss = \"mean_squared_error\", optimizer=opt, metrics=['mean_absolute_error'])"
   ]
  },
  {
   "cell_type": "code",
   "execution_count": 39,
   "metadata": {},
   "outputs": [
    {
     "name": "stdout",
     "output_type": "stream",
     "text": [
      "Epoch 1/50\n",
      "155/155 [==============================] - 1s 5ms/step - loss: 70.4130 - mean_absolute_error: 8.0318 - val_loss: 68.1437 - val_mean_absolute_error: 7.8833\n",
      "Epoch 2/50\n",
      "155/155 [==============================] - 1s 4ms/step - loss: 64.4407 - mean_absolute_error: 7.6459 - val_loss: 58.4009 - val_mean_absolute_error: 7.2343\n",
      "Epoch 3/50\n",
      "155/155 [==============================] - 1s 4ms/step - loss: 49.4364 - mean_absolute_error: 6.5950 - val_loss: 37.6234 - val_mean_absolute_error: 5.6940\n",
      "Epoch 4/50\n",
      "155/155 [==============================] - 1s 4ms/step - loss: 26.7214 - mean_absolute_error: 4.6920 - val_loss: 16.1360 - val_mean_absolute_error: 3.6235\n",
      "Epoch 5/50\n",
      "155/155 [==============================] - 1s 4ms/step - loss: 13.0855 - mean_absolute_error: 3.1389 - val_loss: 9.7706 - val_mean_absolute_error: 2.6720\n",
      "Epoch 6/50\n",
      "155/155 [==============================] - 1s 4ms/step - loss: 10.6019 - mean_absolute_error: 2.7120 - val_loss: 8.9779 - val_mean_absolute_error: 2.4943\n",
      "Epoch 7/50\n",
      "155/155 [==============================] - 1s 4ms/step - loss: 10.0557 - mean_absolute_error: 2.6150 - val_loss: 8.5136 - val_mean_absolute_error: 2.4167\n",
      "Epoch 8/50\n",
      "155/155 [==============================] - 1s 4ms/step - loss: 9.5953 - mean_absolute_error: 2.5425 - val_loss: 8.0792 - val_mean_absolute_error: 2.3432\n",
      "Epoch 9/50\n",
      "155/155 [==============================] - 1s 4ms/step - loss: 9.2122 - mean_absolute_error: 2.4799 - val_loss: 7.6671 - val_mean_absolute_error: 2.2707\n",
      "Epoch 10/50\n",
      "155/155 [==============================] - 1s 4ms/step - loss: 8.9029 - mean_absolute_error: 2.4336 - val_loss: 7.2687 - val_mean_absolute_error: 2.1984\n",
      "Epoch 11/50\n",
      "155/155 [==============================] - 1s 4ms/step - loss: 8.3711 - mean_absolute_error: 2.3468 - val_loss: 6.8833 - val_mean_absolute_error: 2.1248\n",
      "Epoch 12/50\n",
      "155/155 [==============================] - 1s 4ms/step - loss: 8.0371 - mean_absolute_error: 2.2910 - val_loss: 6.5259 - val_mean_absolute_error: 2.0574\n",
      "Epoch 13/50\n",
      "155/155 [==============================] - 1s 4ms/step - loss: 7.6762 - mean_absolute_error: 2.2324 - val_loss: 6.1954 - val_mean_absolute_error: 1.9839\n",
      "Epoch 14/50\n",
      "155/155 [==============================] - 1s 4ms/step - loss: 7.3602 - mean_absolute_error: 2.1758 - val_loss: 5.9135 - val_mean_absolute_error: 1.9233\n",
      "Epoch 15/50\n",
      "155/155 [==============================] - 1s 4ms/step - loss: 7.1106 - mean_absolute_error: 2.1345 - val_loss: 5.7014 - val_mean_absolute_error: 1.8898\n",
      "Epoch 16/50\n",
      "155/155 [==============================] - 1s 4ms/step - loss: 6.8949 - mean_absolute_error: 2.0990 - val_loss: 5.5017 - val_mean_absolute_error: 1.8429\n",
      "Epoch 17/50\n",
      "155/155 [==============================] - 1s 4ms/step - loss: 6.7087 - mean_absolute_error: 2.0685 - val_loss: 5.3422 - val_mean_absolute_error: 1.8056\n",
      "Epoch 18/50\n",
      "155/155 [==============================] - 1s 4ms/step - loss: 6.4981 - mean_absolute_error: 2.0336 - val_loss: 5.2221 - val_mean_absolute_error: 1.7848\n",
      "Epoch 19/50\n",
      "155/155 [==============================] - 1s 4ms/step - loss: 6.3661 - mean_absolute_error: 2.0095 - val_loss: 5.1151 - val_mean_absolute_error: 1.7628\n",
      "Epoch 20/50\n",
      "155/155 [==============================] - 1s 4ms/step - loss: 6.2806 - mean_absolute_error: 1.9917 - val_loss: 5.0238 - val_mean_absolute_error: 1.7435\n",
      "Epoch 21/50\n",
      "155/155 [==============================] - 1s 4ms/step - loss: 6.1726 - mean_absolute_error: 1.9745 - val_loss: 4.9477 - val_mean_absolute_error: 1.7291\n",
      "Epoch 22/50\n",
      "155/155 [==============================] - 1s 4ms/step - loss: 6.0794 - mean_absolute_error: 1.9603 - val_loss: 4.8784 - val_mean_absolute_error: 1.7150\n",
      "Epoch 23/50\n",
      "155/155 [==============================] - 1s 4ms/step - loss: 6.0080 - mean_absolute_error: 1.9435 - val_loss: 4.8187 - val_mean_absolute_error: 1.7029\n",
      "Epoch 24/50\n",
      "155/155 [==============================] - 1s 4ms/step - loss: 5.9370 - mean_absolute_error: 1.9320 - val_loss: 4.7759 - val_mean_absolute_error: 1.6997\n",
      "Epoch 25/50\n",
      "155/155 [==============================] - 1s 5ms/step - loss: 5.8376 - mean_absolute_error: 1.9148 - val_loss: 4.7226 - val_mean_absolute_error: 1.6860\n",
      "Epoch 26/50\n",
      "155/155 [==============================] - 1s 5ms/step - loss: 5.7600 - mean_absolute_error: 1.8976 - val_loss: 4.6867 - val_mean_absolute_error: 1.6825\n",
      "Epoch 27/50\n",
      "155/155 [==============================] - 1s 4ms/step - loss: 5.6891 - mean_absolute_error: 1.8826 - val_loss: 4.6473 - val_mean_absolute_error: 1.6729\n",
      "Epoch 28/50\n",
      "155/155 [==============================] - 1s 4ms/step - loss: 5.5948 - mean_absolute_error: 1.8695 - val_loss: 4.6175 - val_mean_absolute_error: 1.6663\n",
      "Epoch 29/50\n",
      "155/155 [==============================] - 1s 4ms/step - loss: 5.6167 - mean_absolute_error: 1.8708 - val_loss: 4.5813 - val_mean_absolute_error: 1.6526\n",
      "Epoch 30/50\n",
      "155/155 [==============================] - 1s 4ms/step - loss: 5.5571 - mean_absolute_error: 1.8571 - val_loss: 4.5580 - val_mean_absolute_error: 1.6469\n",
      "Epoch 31/50\n",
      "155/155 [==============================] - 1s 4ms/step - loss: 5.4914 - mean_absolute_error: 1.8456 - val_loss: 4.5340 - val_mean_absolute_error: 1.6369\n",
      "Epoch 32/50\n",
      "155/155 [==============================] - 1s 4ms/step - loss: 5.4962 - mean_absolute_error: 1.8447 - val_loss: 4.5212 - val_mean_absolute_error: 1.6364\n",
      "Epoch 33/50\n",
      "155/155 [==============================] - 1s 4ms/step - loss: 5.4292 - mean_absolute_error: 1.8298 - val_loss: 4.5362 - val_mean_absolute_error: 1.6557\n",
      "Epoch 34/50\n",
      "155/155 [==============================] - 1s 4ms/step - loss: 5.4297 - mean_absolute_error: 1.8269 - val_loss: 4.5272 - val_mean_absolute_error: 1.6549\n",
      "Epoch 35/50\n",
      "155/155 [==============================] - 1s 4ms/step - loss: 5.3908 - mean_absolute_error: 1.8189 - val_loss: 4.4930 - val_mean_absolute_error: 1.6339\n",
      "Epoch 36/50\n",
      "155/155 [==============================] - 1s 4ms/step - loss: 5.3199 - mean_absolute_error: 1.8066 - val_loss: 4.4845 - val_mean_absolute_error: 1.6310\n",
      "Epoch 37/50\n",
      "155/155 [==============================] - 1s 4ms/step - loss: 5.2930 - mean_absolute_error: 1.7993 - val_loss: 4.4744 - val_mean_absolute_error: 1.6255\n",
      "Epoch 38/50\n",
      "155/155 [==============================] - 1s 4ms/step - loss: 5.2836 - mean_absolute_error: 1.7949 - val_loss: 4.4601 - val_mean_absolute_error: 1.6144\n",
      "Epoch 39/50\n",
      "155/155 [==============================] - 1s 4ms/step - loss: 5.2591 - mean_absolute_error: 1.7893 - val_loss: 4.4638 - val_mean_absolute_error: 1.6210\n",
      "Epoch 40/50\n",
      "155/155 [==============================] - 1s 4ms/step - loss: 5.2218 - mean_absolute_error: 1.7831 - val_loss: 4.4760 - val_mean_absolute_error: 1.6328\n",
      "Epoch 41/50\n",
      "155/155 [==============================] - 1s 4ms/step - loss: 5.2347 - mean_absolute_error: 1.7841 - val_loss: 4.4713 - val_mean_absolute_error: 1.6296\n",
      "Epoch 42/50\n",
      "155/155 [==============================] - 1s 4ms/step - loss: 5.1800 - mean_absolute_error: 1.7727 - val_loss: 4.4906 - val_mean_absolute_error: 1.6446\n",
      "Epoch 43/50\n",
      "155/155 [==============================] - 1s 5ms/step - loss: 5.1504 - mean_absolute_error: 1.7676 - val_loss: 4.4666 - val_mean_absolute_error: 1.6266\n",
      "Epoch 44/50\n",
      "155/155 [==============================] - 1s 4ms/step - loss: 5.1615 - mean_absolute_error: 1.7679 - val_loss: 4.4516 - val_mean_absolute_error: 1.6122\n",
      "Epoch 45/50\n",
      "155/155 [==============================] - 1s 4ms/step - loss: 5.1655 - mean_absolute_error: 1.7665 - val_loss: 4.4639 - val_mean_absolute_error: 1.6244\n",
      "Epoch 46/50\n",
      "155/155 [==============================] - 1s 4ms/step - loss: 5.0918 - mean_absolute_error: 1.7535 - val_loss: 4.4693 - val_mean_absolute_error: 1.6285\n",
      "Epoch 47/50\n",
      "155/155 [==============================] - 1s 4ms/step - loss: 5.1359 - mean_absolute_error: 1.7582 - val_loss: 4.5001 - val_mean_absolute_error: 1.6508\n",
      "Epoch 48/50\n",
      "155/155 [==============================] - 1s 4ms/step - loss: 5.1230 - mean_absolute_error: 1.7560 - val_loss: 4.4831 - val_mean_absolute_error: 1.6381\n",
      "Epoch 49/50\n",
      "155/155 [==============================] - 1s 4ms/step - loss: 5.0458 - mean_absolute_error: 1.7452 - val_loss: 4.4674 - val_mean_absolute_error: 1.6254\n",
      "Epoch 50/50\n",
      "155/155 [==============================] - 1s 4ms/step - loss: 5.0973 - mean_absolute_error: 1.7516 - val_loss: 4.4774 - val_mean_absolute_error: 1.6326\n"
     ]
    }
   ],
   "source": [
    "results_2 = model_2.fit(bow_mat_tr, y_train, validation_split = 0.2, epochs=50, batch_size=256)"
   ]
  },
  {
   "cell_type": "code",
   "execution_count": 40,
   "metadata": {},
   "outputs": [
    {
     "data": {
      "text/plain": [
       "dict_keys(['loss', 'mean_absolute_error', 'val_loss', 'val_mean_absolute_error'])"
      ]
     },
     "execution_count": 40,
     "metadata": {},
     "output_type": "execute_result"
    }
   ],
   "source": [
    "history_dict = results_2.history\n",
    "history_dict.keys()"
   ]
  },
  {
   "cell_type": "code",
   "execution_count": 41,
   "metadata": {},
   "outputs": [
    {
     "data": {
      "image/png": "[encoded data removed]",
      "text/plain": [
       "<Figure size 640x480 with 1 Axes>"
      ]
     },
     "metadata": {},
     "output_type": "display_data"
    }
   ],
   "source": [
    "plt.plot(results_2.history['val_loss'])\n",
    "plt.plot(results_2.history['loss'])\n",
    "plt.title('model mse')\n",
    "plt.ylabel('val loss')\n",
    "plt.xlabel('epoch')\n",
    "plt.legend(['train', 'val'], loc='upper left')\n",
    "plt.show()"
   ]
  },
  {
   "cell_type": "code",
   "execution_count": 42,
   "metadata": {},
   "outputs": [
    {
     "name": "stdout",
     "output_type": "stream",
     "text": [
      "662/662 [==============================] - 1s 2ms/step - loss: 4.6183 - mean_absolute_error: 1.6565\n"
     ]
    },
    {
     "data": {
      "text/plain": [
       "[4.618277072906494, 1.6564968824386597]"
      ]
     },
     "execution_count": 42,
     "metadata": {},
     "output_type": "execute_result"
    }
   ],
   "source": [
    "model_2.evaluate(bow_mat_te, y_test)"
   ]
  },
  {
   "cell_type": "code",
   "execution_count": 49,
   "metadata": {},
   "outputs": [
    {
     "name": "stdout",
     "output_type": "stream",
     "text": [
      "662/662 [==============================] - 1s 1ms/step\n",
      "test MSE 4.618279038637183\n",
      "test MAE 1.6564970497010443\n",
      "1544/1544 [==============================] - 2s 1ms/step\n",
      "train MSE 4.442326709816271\n",
      "train MAE 1.629030653656125\n"
     ]
    }
   ],
   "source": [
    "y_pred = model_2.predict(bow_mat_te)\n",
    "print(f'test MSE {mean_squared_error(y_test, y_pred)}')\n",
    "print(f'test MAE {mean_absolute_error(y_test, y_pred)}')\n",
    "\n",
    "y_pred = model_2.predict(bow_mat_tr)\n",
    "print(f'train MSE {mean_squared_error(y_train, y_pred)}')\n",
    "print(f'train MAE {mean_absolute_error(y_train, y_pred)}')"
   ]
  },
  {
   "cell_type": "code",
   "execution_count": null,
   "metadata": {},
   "outputs": [],
   "source": []
  },
  {
   "cell_type": "markdown",
   "metadata": {},
   "source": [
    "# IMPUTE USERSCORE FOR STEAM REVIEWS"
   ]
  },
  {
   "cell_type": "code",
   "execution_count": 50,
   "metadata": {},
   "outputs": [
    {
     "data": {
      "text/html": [
       "<div>\n",
       "<style scoped>\n",
       "    .dataframe tbody tr th:only-of-type {\n",
       "        vertical-align: middle;\n",
       "    }\n",
       "\n",
       "    .dataframe tbody tr th {\n",
       "        vertical-align: top;\n",
       "    }\n",
       "\n",
       "    .dataframe thead th {\n",
       "        text-align: right;\n",
       "    }\n",
       "</style>\n",
       "<table border=\"1\" class=\"dataframe\">\n",
       "  <thead>\n",
       "    <tr style=\"text-align: right;\">\n",
       "      <th></th>\n",
       "      <th>title</th>\n",
       "      <th>user_review</th>\n",
       "      <th>user_suggestion</th>\n",
       "    </tr>\n",
       "  </thead>\n",
       "  <tbody>\n",
       "    <tr>\n",
       "      <th>0</th>\n",
       "      <td>Spooky's Jump Scare Mansion</td>\n",
       "      <td>I'm scared and hearing creepy voices.  So I'll...</td>\n",
       "      <td>1</td>\n",
       "    </tr>\n",
       "    <tr>\n",
       "      <th>1</th>\n",
       "      <td>Spooky's Jump Scare Mansion</td>\n",
       "      <td>Best game, more better than Sam Pepper's YouTu...</td>\n",
       "      <td>1</td>\n",
       "    </tr>\n",
       "    <tr>\n",
       "      <th>2</th>\n",
       "      <td>Spooky's Jump Scare Mansion</td>\n",
       "      <td>A littly iffy on the controls, but once you kn...</td>\n",
       "      <td>1</td>\n",
       "    </tr>\n",
       "    <tr>\n",
       "      <th>3</th>\n",
       "      <td>Spooky's Jump Scare Mansion</td>\n",
       "      <td>Great game, fun and colorful and all that.A si...</td>\n",
       "      <td>1</td>\n",
       "    </tr>\n",
       "    <tr>\n",
       "      <th>4</th>\n",
       "      <td>Spooky's Jump Scare Mansion</td>\n",
       "      <td>Not many games have the cute tag right next to...</td>\n",
       "      <td>1</td>\n",
       "    </tr>\n",
       "  </tbody>\n",
       "</table>\n",
       "</div>"
      ],
      "text/plain": [
       "                         title  \\\n",
       "0  Spooky's Jump Scare Mansion   \n",
       "1  Spooky's Jump Scare Mansion   \n",
       "2  Spooky's Jump Scare Mansion   \n",
       "3  Spooky's Jump Scare Mansion   \n",
       "4  Spooky's Jump Scare Mansion   \n",
       "\n",
       "                                         user_review  user_suggestion  \n",
       "0  I'm scared and hearing creepy voices.  So I'll...                1  \n",
       "1  Best game, more better than Sam Pepper's YouTu...                1  \n",
       "2  A littly iffy on the controls, but once you kn...                1  \n",
       "3  Great game, fun and colorful and all that.A si...                1  \n",
       "4  Not many games have the cute tag right next to...                1  "
      ]
     },
     "execution_count": 50,
     "metadata": {},
     "output_type": "execute_result"
    }
   ],
   "source": [
    "df_steam = pd.read_csv('processed_df\\steam_review_nlp.csv')\n",
    "df_steam.head()"
   ]
  },
  {
   "cell_type": "code",
   "execution_count": 51,
   "metadata": {},
   "outputs": [],
   "source": [
    "df_steam = df_steam['user_review']"
   ]
  },
  {
   "cell_type": "code",
   "execution_count": 58,
   "metadata": {},
   "outputs": [],
   "source": [
    "X_imp = bow_vec.transform(df_steam)"
   ]
  },
  {
   "cell_type": "code",
   "execution_count": 59,
   "metadata": {},
   "outputs": [
    {
     "ename": "InvalidArgumentError",
     "evalue": "{{function_node __wrapped__SerializeManySparse_device_/job:localhost/replica:0/task:0/device:CPU:0}} indices[1] = [0,153] is out of order. Many sparse ops require sorted indices.\n    Use `tf.sparse.reorder` to create a correctly ordered copy.\n\n [Op:SerializeManySparse]",
     "output_type": "error",
     "traceback": [
      "\u001b[1;31m---------------------------------------------------------------------------\u001b[0m",
      "\u001b[1;31mInvalidArgumentError\u001b[0m                      Traceback (most recent call last)",
      "\u001b[1;32md:\\Flatiron\\DS_P4\\3_Modelling_Metacritic_NLP_tensorflow.ipynb Cell 37\u001b[0m in \u001b[0;36m<cell line: 1>\u001b[1;34m()\u001b[0m\n\u001b[1;32m----> <a href='vscode-notebook-cell:/d%3A/Flatiron/DS_P4/3_Modelling_Metacritic_NLP_tensorflow.ipynb#X55sZmlsZQ%3D%3D?line=0'>1</a>\u001b[0m y_pred \u001b[39m=\u001b[39m model_1\u001b[39m.\u001b[39;49mpredict(X_imp)\n",
      "File \u001b[1;32mc:\\Users\\qwswe\\Anaconda3\\envs\\tf\\lib\\site-packages\\keras\\utils\\traceback_utils.py:70\u001b[0m, in \u001b[0;36mfilter_traceback.<locals>.error_handler\u001b[1;34m(*args, **kwargs)\u001b[0m\n\u001b[0;32m     67\u001b[0m     filtered_tb \u001b[39m=\u001b[39m _process_traceback_frames(e\u001b[39m.\u001b[39m__traceback__)\n\u001b[0;32m     68\u001b[0m     \u001b[39m# To get the full stack trace, call:\u001b[39;00m\n\u001b[0;32m     69\u001b[0m     \u001b[39m# `tf.debugging.disable_traceback_filtering()`\u001b[39;00m\n\u001b[1;32m---> 70\u001b[0m     \u001b[39mraise\u001b[39;00m e\u001b[39m.\u001b[39mwith_traceback(filtered_tb) \u001b[39mfrom\u001b[39;00m \u001b[39mNone\u001b[39m\n\u001b[0;32m     71\u001b[0m \u001b[39mfinally\u001b[39;00m:\n\u001b[0;32m     72\u001b[0m     \u001b[39mdel\u001b[39;00m filtered_tb\n",
      "File \u001b[1;32mc:\\Users\\qwswe\\Anaconda3\\envs\\tf\\lib\\site-packages\\tensorflow\\python\\framework\\ops.py:7209\u001b[0m, in \u001b[0;36mraise_from_not_ok_status\u001b[1;34m(e, name)\u001b[0m\n\u001b[0;32m   7207\u001b[0m \u001b[39mdef\u001b[39;00m \u001b[39mraise_from_not_ok_status\u001b[39m(e, name):\n\u001b[0;32m   7208\u001b[0m   e\u001b[39m.\u001b[39mmessage \u001b[39m+\u001b[39m\u001b[39m=\u001b[39m (\u001b[39m\"\u001b[39m\u001b[39m name: \u001b[39m\u001b[39m\"\u001b[39m \u001b[39m+\u001b[39m name \u001b[39mif\u001b[39;00m name \u001b[39mis\u001b[39;00m \u001b[39mnot\u001b[39;00m \u001b[39mNone\u001b[39;00m \u001b[39melse\u001b[39;00m \u001b[39m\"\u001b[39m\u001b[39m\"\u001b[39m)\n\u001b[1;32m-> 7209\u001b[0m   \u001b[39mraise\u001b[39;00m core\u001b[39m.\u001b[39m_status_to_exception(e) \u001b[39mfrom\u001b[39;00m \u001b[39mNone\u001b[39m\n",
      "\u001b[1;31mInvalidArgumentError\u001b[0m: {{function_node __wrapped__SerializeManySparse_device_/job:localhost/replica:0/task:0/device:CPU:0}} indices[1] = [0,153] is out of order. Many sparse ops require sorted indices.\n    Use `tf.sparse.reorder` to create a correctly ordered copy.\n\n [Op:SerializeManySparse]"
     ]
    }
   ],
   "source": [
    "y_pred = model_1.predict(X_imp)"
   ]
  },
  {
   "cell_type": "code",
   "execution_count": null,
   "metadata": {},
   "outputs": [],
   "source": []
  },
  {
   "cell_type": "markdown",
   "metadata": {},
   "source": []
  }
 ],
 "metadata": {
  "kernelspec": {
   "display_name": "Python 3.9.13 ('tf')",
   "language": "python",
   "name": "python3"
  },
  "language_info": {
   "codemirror_mode": {
    "name": "ipython",
    "version": 3
   },
   "file_extension": ".py",
   "mimetype": "text/x-python",
   "name": "python",
   "nbconvert_exporter": "python",
   "pygments_lexer": "ipython3",
   "version": "3.9.13"
  },
  "orig_nbformat": 4,
  "vscode": {
   "interpreter": {
    "hash": "181136286f70e14e4c9f67dd94a3e862e2daeea7c14cdc5e8501a24a6c514a6e"
   }
  }
 },
 "nbformat": 4,
 "nbformat_minor": 2
}
