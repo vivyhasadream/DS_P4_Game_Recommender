{
 "cells": [
  {
   "cell_type": "code",
   "execution_count": 43,
   "metadata": {},
   "outputs": [],
   "source": [
    "import numpy as np\n",
    "import pandas as pd\n",
    "from sklearn.model_selection import train_test_split\n",
    "import nltk\n",
    "from nltk.tokenize import regexp_tokenize, word_tokenize, RegexpTokenizer\n",
    "from nltk.corpus import stopwords, wordnet\n",
    "from nltk import pos_tag\n",
    "from nltk.stem import WordNetLemmatizer\n",
    "from sklearn.ensemble import RandomForestClassifier\n",
    "from sklearn.naive_bayes import MultinomialNB\n",
    "from sklearn.metrics import accuracy_score, precision_score, confusion_matrix, plot_confusion_matrix, classification_report, plot_roc_curve, roc_auc_score\n",
    "from sklearn.pipeline import Pipeline\n",
    "from sklearn.base import BaseEstimator, TransformerMixin\n",
    "from sklearn.feature_extraction.text import TfidfVectorizer, CountVectorizer\n",
    "\n",
    "from xgboost import XGBRegressor\n",
    "from xgboost import XGBClassifier\n",
    "\n",
    "from sklearn.model_selection import StratifiedShuffleSplit\n",
    "\n",
    "from sklearn.metrics import mean_squared_error, mean_absolute_error\n",
    "\n",
    "import pickle\n",
    "import time"
   ]
  },
  {
   "cell_type": "markdown",
   "metadata": {},
   "source": [
    "# IMPORT"
   ]
  },
  {
   "cell_type": "code",
   "execution_count": 28,
   "metadata": {},
   "outputs": [
    {
     "data": {
      "text/html": [
       "<div>\n",
       "<style scoped>\n",
       "    .dataframe tbody tr th:only-of-type {\n",
       "        vertical-align: middle;\n",
       "    }\n",
       "\n",
       "    .dataframe tbody tr th {\n",
       "        vertical-align: top;\n",
       "    }\n",
       "\n",
       "    .dataframe thead th {\n",
       "        text-align: right;\n",
       "    }\n",
       "</style>\n",
       "<table border=\"1\" class=\"dataframe\">\n",
       "  <thead>\n",
       "    <tr style=\"text-align: right;\">\n",
       "      <th></th>\n",
       "      <th>Title</th>\n",
       "      <th>Userscore</th>\n",
       "      <th>Comment</th>\n",
       "      <th>lang</th>\n",
       "    </tr>\n",
       "  </thead>\n",
       "  <tbody>\n",
       "    <tr>\n",
       "      <th>0</th>\n",
       "      <td>Star Wars: Battlefront II</td>\n",
       "      <td>2.0</td>\n",
       "      <td>there nothing quite gun entire platoon clone d...</td>\n",
       "      <td>en</td>\n",
       "    </tr>\n",
       "    <tr>\n",
       "      <th>1</th>\n",
       "      <td>The Witcher 3: Wild Hunt</td>\n",
       "      <td>10.0</td>\n",
       "      <td>game absolutely gorgeous run steady gtx hairwo...</td>\n",
       "      <td>en</td>\n",
       "    </tr>\n",
       "    <tr>\n",
       "      <th>2</th>\n",
       "      <td>This War of Mine</td>\n",
       "      <td>10.0</td>\n",
       "      <td>really good game didnt expect first survival g...</td>\n",
       "      <td>en</td>\n",
       "    </tr>\n",
       "    <tr>\n",
       "      <th>3</th>\n",
       "      <td>Golden Sun</td>\n",
       "      <td>10.0</td>\n",
       "      <td>people eagerly anticipate initial release game...</td>\n",
       "      <td>en</td>\n",
       "    </tr>\n",
       "    <tr>\n",
       "      <th>4</th>\n",
       "      <td>Assassin's Creed IV: Black Flag</td>\n",
       "      <td>8.0</td>\n",
       "      <td>best assassin creed far open world fresh missi...</td>\n",
       "      <td>en</td>\n",
       "    </tr>\n",
       "  </tbody>\n",
       "</table>\n",
       "</div>"
      ],
      "text/plain": [
       "                             Title  Userscore  \\\n",
       "0        Star Wars: Battlefront II        2.0   \n",
       "1         The Witcher 3: Wild Hunt       10.0   \n",
       "2                 This War of Mine       10.0   \n",
       "3                       Golden Sun       10.0   \n",
       "4  Assassin's Creed IV: Black Flag        8.0   \n",
       "\n",
       "                                             Comment lang  \n",
       "0  there nothing quite gun entire platoon clone d...   en  \n",
       "1  game absolutely gorgeous run steady gtx hairwo...   en  \n",
       "2  really good game didnt expect first survival g...   en  \n",
       "3  people eagerly anticipate initial release game...   en  \n",
       "4  best assassin creed far open world fresh missi...   en  "
      ]
     },
     "execution_count": 28,
     "metadata": {},
     "output_type": "execute_result"
    }
   ],
   "source": [
    "# df = pickle.load(open('processed_df\\preprocessed_nlp_5p.pkl','rb'))\n",
    "# df.head()\n",
    "\n",
    "df = pd.read_csv('processed_df\\preprocessed_nlp_30p.csv')\n",
    "df.head()"
   ]
  },
  {
   "cell_type": "code",
   "execution_count": 29,
   "metadata": {},
   "outputs": [
    {
     "name": "stdout",
     "output_type": "stream",
     "text": [
      "shape before: (74709, 4)\n",
      "shape after: (74709, 4)\n"
     ]
    }
   ],
   "source": [
    "print(f'shape before: {df.shape}')\n",
    "df_new = df[df['Comment'] != '']\n",
    "print(f'shape after: {df.shape}')\n"
   ]
  },
  {
   "cell_type": "markdown",
   "metadata": {},
   "source": [
    "# Train test split"
   ]
  },
  {
   "cell_type": "code",
   "execution_count": 30,
   "metadata": {},
   "outputs": [
    {
     "name": "stdout",
     "output_type": "stream",
     "text": [
      "shape before: (74709, 4)\n",
      "shape after: (70569, 4)\n"
     ]
    }
   ],
   "source": [
    "print(f'shape before: {df.shape}')\n",
    "df.drop_duplicates(inplace=True)\n",
    "df.dropna(inplace=True)\n",
    "print(f'shape after: {df.shape}')"
   ]
  },
  {
   "cell_type": "code",
   "execution_count": 31,
   "metadata": {},
   "outputs": [],
   "source": [
    "X = df['Comment']\n",
    "y = df['Userscore']\n",
    "\n",
    "X_train, X_test, y_train, y_test = train_test_split(X, y, test_size = 0.3)"
   ]
  },
  {
   "cell_type": "markdown",
   "metadata": {},
   "source": [
    "# XGBoost"
   ]
  },
  {
   "cell_type": "markdown",
   "metadata": {},
   "source": [
    "- baseline"
   ]
  },
  {
   "cell_type": "code",
   "execution_count": 32,
   "metadata": {},
   "outputs": [],
   "source": [
    "steps = [('tfidf', TfidfVectorizer(max_df=0.95, min_df=0.05)), ('XGBoost', XGBRegressor())]\n",
    "xgb_pipeline = Pipeline(steps)"
   ]
  },
  {
   "cell_type": "code",
   "execution_count": 33,
   "metadata": {},
   "outputs": [
    {
     "data": {
      "text/plain": [
       "Pipeline(steps=[('tfidf', TfidfVectorizer(max_df=0.95, min_df=0.05)),\n",
       "                ('XGBoost', XGBRegressor())])"
      ]
     },
     "execution_count": 33,
     "metadata": {},
     "output_type": "execute_result"
    }
   ],
   "source": [
    "xgb_pipeline.fit(X_train, y_train)"
   ]
  },
  {
   "cell_type": "code",
   "execution_count": 45,
   "metadata": {},
   "outputs": [
    {
     "name": "stdout",
     "output_type": "stream",
     "text": [
      "test MSE 4.570678465059893\n",
      "test MAE 1.5924729288488684\n",
      "train MSE 4.3473159237920385\n",
      "train MAE 1.5505740932088288\n"
     ]
    }
   ],
   "source": [
    "y_pred = xgb_pipeline.predict(X_test)\n",
    "print(f'test MSE {mean_squared_error(y_test, y_pred)}')\n",
    "print(f'test MAE {mean_absolute_error(y_test, y_pred)}')\n",
    "\n",
    "y_pred = xgb_pipeline.predict(X_train)\n",
    "print(f'train MSE {mean_squared_error(y_train, y_pred)}')\n",
    "print(f'train MAE {mean_absolute_error(y_train, y_pred)}')"
   ]
  },
  {
   "cell_type": "code",
   "execution_count": 48,
   "metadata": {},
   "outputs": [
    {
     "data": {
      "text/plain": [
       "{'base_score': 0.5,\n",
       " 'booster': 'gbtree',\n",
       " 'colsample_bylevel': 1,\n",
       " 'colsample_bytree': 1,\n",
       " 'gamma': 0,\n",
       " 'learning_rate': 0.1,\n",
       " 'max_delta_step': 0,\n",
       " 'max_depth': 3,\n",
       " 'min_child_weight': 1,\n",
       " 'missing': None,\n",
       " 'n_estimators': 100,\n",
       " 'n_jobs': 1,\n",
       " 'nthread': None,\n",
       " 'objective': 'reg:linear',\n",
       " 'random_state': 0,\n",
       " 'reg_alpha': 0,\n",
       " 'reg_lambda': 1,\n",
       " 'scale_pos_weight': 1,\n",
       " 'seed': None,\n",
       " 'silent': True,\n",
       " 'subsample': 1}"
      ]
     },
     "execution_count": 48,
     "metadata": {},
     "output_type": "execute_result"
    }
   ],
   "source": [
    "xgb_pipeline['XGBoost'].get_params()"
   ]
  },
  {
   "cell_type": "markdown",
   "metadata": {},
   "source": [
    "- some man tuning"
   ]
  },
  {
   "cell_type": "code",
   "execution_count": 38,
   "metadata": {},
   "outputs": [],
   "source": [
    "steps = [('tfidf', TfidfVectorizer(max_df=0.95, min_df=0.05)), ('XGBoost', XGBClassifier(learning_rate=1, subsample=0.8))]\n",
    "xgb_pipeline_m = Pipeline(steps)"
   ]
  },
  {
   "cell_type": "code",
   "execution_count": 39,
   "metadata": {},
   "outputs": [
    {
     "data": {
      "text/plain": [
       "Pipeline(steps=[('tfidf', TfidfVectorizer(max_df=0.95, min_df=0.05)),\n",
       "                ('XGBoost',\n",
       "                 XGBClassifier(learning_rate=1, objective='multi:softprob',\n",
       "                               subsample=0.8))])"
      ]
     },
     "execution_count": 39,
     "metadata": {},
     "output_type": "execute_result"
    }
   ],
   "source": [
    "start = time.time()\n",
    "\n",
    "xgb_pipeline_m.fit(X_train, y_train)\n",
    "\n",
    "end = time.time()\n",
    "print(f'{end-start} secs slipped..')"
   ]
  },
  {
   "cell_type": "code",
   "execution_count": 40,
   "metadata": {},
   "outputs": [
    {
     "data": {
      "text/plain": [
       "6.936375230267819"
      ]
     },
     "execution_count": 40,
     "metadata": {},
     "output_type": "execute_result"
    }
   ],
   "source": [
    "y_pred = xgb_pipeline_m.predict(X_test)\n",
    "mean_squared_error(y_test, y_pred)"
   ]
  },
  {
   "cell_type": "code",
   "execution_count": 46,
   "metadata": {},
   "outputs": [
    {
     "name": "stdout",
     "output_type": "stream",
     "text": [
      "test MSE 6.936375230267819\n",
      "test MAE 1.557507911766095\n",
      "train MSE 4.927831086278797\n",
      "train MAE 1.1116037086521722\n"
     ]
    }
   ],
   "source": [
    "y_pred = xgb_pipeline_m.predict(X_test)\n",
    "print(f'test MSE {mean_squared_error(y_test, y_pred)}')\n",
    "print(f'test MAE {mean_absolute_error(y_test, y_pred)}')\n",
    "\n",
    "y_pred = xgb_pipeline_m.predict(X_train)\n",
    "print(f'train MSE {mean_squared_error(y_train, y_pred)}')\n",
    "print(f'train MAE {mean_absolute_error(y_train, y_pred)}')"
   ]
  },
  {
   "cell_type": "code",
   "execution_count": null,
   "metadata": {},
   "outputs": [],
   "source": []
  }
 ],
 "metadata": {
  "kernelspec": {
   "display_name": "Python 3.6.13 ('py36')",
   "language": "python",
   "name": "python3"
  },
  "language_info": {
   "codemirror_mode": {
    "name": "ipython",
    "version": 3
   },
   "file_extension": ".py",
   "mimetype": "text/x-python",
   "name": "python",
   "nbconvert_exporter": "python",
   "pygments_lexer": "ipython3",
   "version": "3.6.13"
  },
  "orig_nbformat": 4,
  "vscode": {
   "interpreter": {
    "hash": "41911b0107aab6d3bca4b489e912746efb16dbe82ff72d2a51a1dcaf06f22448"
   }
  }
 },
 "nbformat": 4,
 "nbformat_minor": 2
}
