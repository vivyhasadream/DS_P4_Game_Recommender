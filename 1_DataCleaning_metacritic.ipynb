{
 "cells": [
  {
   "cell_type": "code",
   "execution_count": 1,
   "metadata": {},
   "outputs": [],
   "source": [
    "import numpy as np \n",
    "import pandas as pd "
   ]
  },
  {
   "cell_type": "markdown",
   "metadata": {},
   "source": [
    "# IMPORT"
   ]
  },
  {
   "cell_type": "code",
   "execution_count": 2,
   "metadata": {},
   "outputs": [
    {
     "data": {
      "text/html": [
       "<div>\n",
       "<style scoped>\n",
       "    .dataframe tbody tr th:only-of-type {\n",
       "        vertical-align: middle;\n",
       "    }\n",
       "\n",
       "    .dataframe tbody tr th {\n",
       "        vertical-align: top;\n",
       "    }\n",
       "\n",
       "    .dataframe thead th {\n",
       "        text-align: right;\n",
       "    }\n",
       "</style>\n",
       "<table border=\"1\" class=\"dataframe\">\n",
       "  <thead>\n",
       "    <tr style=\"text-align: right;\">\n",
       "      <th></th>\n",
       "      <th>Unnamed: 0</th>\n",
       "      <th>Title</th>\n",
       "      <th>Year</th>\n",
       "      <th>Publisher</th>\n",
       "      <th>Genre</th>\n",
       "      <th>Platform</th>\n",
       "      <th>Metascore</th>\n",
       "      <th>Avg_Userscore</th>\n",
       "      <th>No_Players</th>\n",
       "    </tr>\n",
       "  </thead>\n",
       "  <tbody>\n",
       "    <tr>\n",
       "      <th>0</th>\n",
       "      <td>0</td>\n",
       "      <td>The Legend of Zelda: Ocarina of Time</td>\n",
       "      <td>1998</td>\n",
       "      <td>Nintendo</td>\n",
       "      <td>Action Adventure;Fantasy</td>\n",
       "      <td>Nintendo64</td>\n",
       "      <td>99</td>\n",
       "      <td>9.1</td>\n",
       "      <td>1 Player</td>\n",
       "    </tr>\n",
       "    <tr>\n",
       "      <th>1</th>\n",
       "      <td>1</td>\n",
       "      <td>Tony Hawk's Pro Skater 2</td>\n",
       "      <td>2000</td>\n",
       "      <td>NeversoftEntertainment</td>\n",
       "      <td>Sports;Alternative;Skateboarding</td>\n",
       "      <td>PlayStation</td>\n",
       "      <td>98</td>\n",
       "      <td>7.4</td>\n",
       "      <td>1-2</td>\n",
       "    </tr>\n",
       "    <tr>\n",
       "      <th>2</th>\n",
       "      <td>2</td>\n",
       "      <td>Grand Theft Auto IV</td>\n",
       "      <td>2008</td>\n",
       "      <td>RockstarNorth</td>\n",
       "      <td>Action Adventure;Modern;Modern;Open-World</td>\n",
       "      <td>PlayStation3</td>\n",
       "      <td>98</td>\n",
       "      <td>7.5</td>\n",
       "      <td>1 Player</td>\n",
       "    </tr>\n",
       "  </tbody>\n",
       "</table>\n",
       "</div>"
      ],
      "text/plain": [
       "   Unnamed: 0                                 Title  Year  \\\n",
       "0           0  The Legend of Zelda: Ocarina of Time  1998   \n",
       "1           1              Tony Hawk's Pro Skater 2  2000   \n",
       "2           2                   Grand Theft Auto IV  2008   \n",
       "\n",
       "                Publisher                                      Genre  \\\n",
       "0                Nintendo                   Action Adventure;Fantasy   \n",
       "1  NeversoftEntertainment           Sports;Alternative;Skateboarding   \n",
       "2           RockstarNorth  Action Adventure;Modern;Modern;Open-World   \n",
       "\n",
       "       Platform Metascore Avg_Userscore No_Players  \n",
       "0    Nintendo64        99           9.1   1 Player  \n",
       "1   PlayStation        98           7.4       1-2   \n",
       "2  PlayStation3        98           7.5   1 Player  "
      ]
     },
     "execution_count": 2,
     "metadata": {},
     "output_type": "execute_result"
    }
   ],
   "source": [
    "df_info = pd.read_csv('raw_data/metacritic_game_info.csv')\n",
    "df_info.head(3)"
   ]
  },
  {
   "cell_type": "code",
   "execution_count": 3,
   "metadata": {},
   "outputs": [
    {
     "data": {
      "text/html": [
       "<div>\n",
       "<style scoped>\n",
       "    .dataframe tbody tr th:only-of-type {\n",
       "        vertical-align: middle;\n",
       "    }\n",
       "\n",
       "    .dataframe tbody tr th {\n",
       "        vertical-align: top;\n",
       "    }\n",
       "\n",
       "    .dataframe thead th {\n",
       "        text-align: right;\n",
       "    }\n",
       "</style>\n",
       "<table border=\"1\" class=\"dataframe\">\n",
       "  <thead>\n",
       "    <tr style=\"text-align: right;\">\n",
       "      <th></th>\n",
       "      <th>Unnamed: 0</th>\n",
       "      <th>Title</th>\n",
       "      <th>Platform</th>\n",
       "      <th>Userscore</th>\n",
       "      <th>Comment</th>\n",
       "      <th>Username</th>\n",
       "    </tr>\n",
       "  </thead>\n",
       "  <tbody>\n",
       "    <tr>\n",
       "      <th>0</th>\n",
       "      <td>0</td>\n",
       "      <td>The Legend of Zelda: Ocarina of Time</td>\n",
       "      <td>Nintendo64</td>\n",
       "      <td>10</td>\n",
       "      <td>Everything in OoT is so near at perfection, it...</td>\n",
       "      <td>SirCaestus</td>\n",
       "    </tr>\n",
       "    <tr>\n",
       "      <th>1</th>\n",
       "      <td>1</td>\n",
       "      <td>The Legend of Zelda: Ocarina of Time</td>\n",
       "      <td>Nintendo64</td>\n",
       "      <td>10</td>\n",
       "      <td>I won't bore you with what everyone is already...</td>\n",
       "      <td>Kaistlin</td>\n",
       "    </tr>\n",
       "    <tr>\n",
       "      <th>2</th>\n",
       "      <td>2</td>\n",
       "      <td>The Legend of Zelda: Ocarina of Time</td>\n",
       "      <td>Nintendo64</td>\n",
       "      <td>10</td>\n",
       "      <td>Anyone who gives the masterpiece below a 7 or ...</td>\n",
       "      <td>Jacody</td>\n",
       "    </tr>\n",
       "  </tbody>\n",
       "</table>\n",
       "</div>"
      ],
      "text/plain": [
       "   Unnamed: 0                                 Title    Platform  Userscore  \\\n",
       "0           0  The Legend of Zelda: Ocarina of Time  Nintendo64         10   \n",
       "1           1  The Legend of Zelda: Ocarina of Time  Nintendo64         10   \n",
       "2           2  The Legend of Zelda: Ocarina of Time  Nintendo64         10   \n",
       "\n",
       "                                             Comment    Username  \n",
       "0  Everything in OoT is so near at perfection, it...  SirCaestus  \n",
       "1  I won't bore you with what everyone is already...    Kaistlin  \n",
       "2  Anyone who gives the masterpiece below a 7 or ...      Jacody  "
      ]
     },
     "execution_count": 3,
     "metadata": {},
     "output_type": "execute_result"
    }
   ],
   "source": [
    "df_comments = pd.read_csv('raw_data/metacritic_game_user_comments.csv')\n",
    "df_comments.head(3)"
   ]
  },
  {
   "cell_type": "code",
   "execution_count": 4,
   "metadata": {},
   "outputs": [
    {
     "data": {
      "text/plain": [
       "((5000, 9), (283983, 6))"
      ]
     },
     "execution_count": 4,
     "metadata": {},
     "output_type": "execute_result"
    }
   ],
   "source": [
    "df_info.shape, df_comments.shape"
   ]
  },
  {
   "cell_type": "markdown",
   "metadata": {},
   "source": [
    "# Metacritic Game Info"
   ]
  },
  {
   "cell_type": "code",
   "execution_count": 5,
   "metadata": {},
   "outputs": [
    {
     "data": {
      "text/html": [
       "<div>\n",
       "<style scoped>\n",
       "    .dataframe tbody tr th:only-of-type {\n",
       "        vertical-align: middle;\n",
       "    }\n",
       "\n",
       "    .dataframe tbody tr th {\n",
       "        vertical-align: top;\n",
       "    }\n",
       "\n",
       "    .dataframe thead th {\n",
       "        text-align: right;\n",
       "    }\n",
       "</style>\n",
       "<table border=\"1\" class=\"dataframe\">\n",
       "  <thead>\n",
       "    <tr style=\"text-align: right;\">\n",
       "      <th></th>\n",
       "      <th>Title</th>\n",
       "      <th>Year</th>\n",
       "      <th>Publisher</th>\n",
       "      <th>Genre</th>\n",
       "      <th>Platform</th>\n",
       "      <th>Metascore</th>\n",
       "      <th>Avg_Userscore</th>\n",
       "      <th>No_Players</th>\n",
       "    </tr>\n",
       "  </thead>\n",
       "  <tbody>\n",
       "    <tr>\n",
       "      <th>0</th>\n",
       "      <td>The Legend of Zelda: Ocarina of Time</td>\n",
       "      <td>1998</td>\n",
       "      <td>Nintendo</td>\n",
       "      <td>Action Adventure;Fantasy</td>\n",
       "      <td>Nintendo64</td>\n",
       "      <td>99</td>\n",
       "      <td>9.1</td>\n",
       "      <td>1 Player</td>\n",
       "    </tr>\n",
       "  </tbody>\n",
       "</table>\n",
       "</div>"
      ],
      "text/plain": [
       "                                  Title  Year Publisher  \\\n",
       "0  The Legend of Zelda: Ocarina of Time  1998  Nintendo   \n",
       "\n",
       "                      Genre    Platform Metascore Avg_Userscore No_Players  \n",
       "0  Action Adventure;Fantasy  Nintendo64        99           9.1   1 Player  "
      ]
     },
     "execution_count": 5,
     "metadata": {},
     "output_type": "execute_result"
    }
   ],
   "source": [
    "# remove the extra index\n",
    "\n",
    "df_info = df_info.drop(columns='Unnamed: 0')\n",
    "df_info.head(1)"
   ]
  },
  {
   "cell_type": "code",
   "execution_count": 6,
   "metadata": {},
   "outputs": [
    {
     "data": {
      "text/plain": [
       "Title            3438\n",
       "Year               25\n",
       "Publisher        1238\n",
       "Genre             927\n",
       "Platform           20\n",
       "Metascore          24\n",
       "Avg_Userscore      70\n",
       "No_Players         52\n",
       "dtype: int64"
      ]
     },
     "execution_count": 6,
     "metadata": {},
     "output_type": "execute_result"
    }
   ],
   "source": [
    "df_info.nunique()"
   ]
  },
  {
   "cell_type": "code",
   "execution_count": 7,
   "metadata": {},
   "outputs": [
    {
     "data": {
      "text/plain": [
       "7"
      ]
     },
     "execution_count": 7,
     "metadata": {},
     "output_type": "execute_result"
    }
   ],
   "source": [
    "df_info.duplicated().sum()"
   ]
  },
  {
   "cell_type": "code",
   "execution_count": 8,
   "metadata": {},
   "outputs": [
    {
     "name": "stdout",
     "output_type": "stream",
     "text": [
      "7 duplicates have been removed.\n"
     ]
    }
   ],
   "source": [
    "# remove duplicates\n",
    "\n",
    "print(f'{df_info.duplicated().sum()} duplicates have been removed.')\n",
    "\n",
    "df_info.drop_duplicates(inplace=True)"
   ]
  },
  {
   "cell_type": "markdown",
   "metadata": {},
   "source": [
    "- year"
   ]
  },
  {
   "cell_type": "code",
   "execution_count": 15,
   "metadata": {},
   "outputs": [
    {
     "name": "stdout",
     "output_type": "stream",
     "text": [
      "4 nans have been removed.\n"
     ]
    }
   ],
   "source": [
    "# remove 'not specified' in column Year\n",
    "# 4 of them\n",
    "\n",
    "t = df_info[df_info['Year'] == 'not specified'].shape[0]\n",
    "print(f'{t} nans have been removed.')\n",
    "\n",
    "drop_index = df_info[df_info['Year'] == 'not specified'].index\n",
    "df_info.drop(drop_index, inplace=True)"
   ]
  },
  {
   "cell_type": "markdown",
   "metadata": {},
   "source": [
    "- No_Players"
   ]
  },
  {
   "cell_type": "code",
   "execution_count": 16,
   "metadata": {},
   "outputs": [
    {
     "data": {
      "text/plain": [
       "not specified            1539\n",
       "No Online Multiplayer     852\n",
       "1 Player                  573\n",
       "1-2                       351\n",
       "1-4                       334\n",
       "1-8                       127\n",
       "2  Online                 123\n",
       "4  Online                 113\n",
       "Up to 4                   103\n",
       "8  Online                  94\n",
       "Online Multiplayer         81\n",
       "Up to 8                    78\n",
       "2                          74\n",
       "Massively Multiplayer      52\n",
       "16  Online                 49\n",
       "1-16                       47\n",
       "Up to 10                   32\n",
       "Up to 16                   32\n",
       "6  Online                  32\n",
       "Up to 6                    30\n",
       "Up to 12                   28\n",
       "32  Online                 26\n",
       "Up to 18                   24\n",
       "10  Online                 20\n",
       "1-32                       18\n",
       "Up to 22                   17\n",
       "1-6                        16\n",
       "12  Online                 15\n",
       "Up to 24                   10\n",
       "1-3                         9\n",
       "Up to 20                    9\n",
       "24  Online                  8\n",
       "1-10                        7\n",
       "Up to 64                    7\n",
       "1-12                        7\n",
       "Up to 32                    6\n",
       "1-64                        5\n",
       "1-5                         5\n",
       "64+  Online                 4\n",
       "5  Online                   4\n",
       "Up to 30                    3\n",
       "64  Online                  3\n",
       "64+                         2\n",
       "Up to 40                    2\n",
       "Up to 60                    2\n",
       "44  Online                  2\n",
       "Up to 5                     2\n",
       "Up to 9                     1\n",
       "Up to 14                    1\n",
       "14  Online                  1\n",
       "Up to more than 64          1\n",
       "Up to 3                     1\n",
       "Name: No_Players, dtype: int64"
      ]
     },
     "execution_count": 16,
     "metadata": {},
     "output_type": "execute_result"
    }
   ],
   "source": [
    "df_info['No_Players'].value_counts()"
   ]
  },
  {
   "cell_type": "code",
   "execution_count": null,
   "metadata": {},
   "outputs": [],
   "source": []
  },
  {
   "cell_type": "code",
   "execution_count": null,
   "metadata": {},
   "outputs": [],
   "source": []
  },
  {
   "cell_type": "code",
   "execution_count": null,
   "metadata": {},
   "outputs": [],
   "source": []
  },
  {
   "cell_type": "code",
   "execution_count": null,
   "metadata": {},
   "outputs": [],
   "source": []
  },
  {
   "cell_type": "code",
   "execution_count": null,
   "metadata": {},
   "outputs": [],
   "source": []
  },
  {
   "cell_type": "code",
   "execution_count": 25,
   "metadata": {},
   "outputs": [
    {
     "data": {
      "text/html": [
       "<div>\n",
       "<style scoped>\n",
       "    .dataframe tbody tr th:only-of-type {\n",
       "        vertical-align: middle;\n",
       "    }\n",
       "\n",
       "    .dataframe tbody tr th {\n",
       "        vertical-align: top;\n",
       "    }\n",
       "\n",
       "    .dataframe thead th {\n",
       "        text-align: right;\n",
       "    }\n",
       "</style>\n",
       "<table border=\"1\" class=\"dataframe\">\n",
       "  <thead>\n",
       "    <tr style=\"text-align: right;\">\n",
       "      <th></th>\n",
       "      <th>Title</th>\n",
       "      <th>Year</th>\n",
       "      <th>Publisher</th>\n",
       "      <th>Genre</th>\n",
       "      <th>Platform</th>\n",
       "      <th>Metascore</th>\n",
       "      <th>Avg_Userscore</th>\n",
       "      <th>No_Players</th>\n",
       "    </tr>\n",
       "  </thead>\n",
       "  <tbody>\n",
       "    <tr>\n",
       "      <th>663</th>\n",
       "      <td>Shenmue II</td>\n",
       "      <td>2001</td>\n",
       "      <td>SegaAM2</td>\n",
       "      <td>Action Adventure;Modern</td>\n",
       "      <td>Dreamcast</td>\n",
       "      <td>88</td>\n",
       "      <td>9.1</td>\n",
       "      <td>NaN</td>\n",
       "    </tr>\n",
       "    <tr>\n",
       "      <th>1171</th>\n",
       "      <td>Lunar 2: Eternal Blue Complete</td>\n",
       "      <td>2000</td>\n",
       "      <td>GameArts</td>\n",
       "      <td>Role-Playing;Console-style RPG</td>\n",
       "      <td>PlayStation</td>\n",
       "      <td>86</td>\n",
       "      <td>8.9</td>\n",
       "      <td>NaN</td>\n",
       "    </tr>\n",
       "    <tr>\n",
       "      <th>1952</th>\n",
       "      <td>Ultra Street Fighter IV</td>\n",
       "      <td>2014</td>\n",
       "      <td>Capcom</td>\n",
       "      <td>Fighting;3D;Action;Fighting;2D;3D</td>\n",
       "      <td>Xbox360</td>\n",
       "      <td>84</td>\n",
       "      <td>6.8</td>\n",
       "      <td>NaN</td>\n",
       "    </tr>\n",
       "    <tr>\n",
       "      <th>2051</th>\n",
       "      <td>Ultra Street Fighter IV</td>\n",
       "      <td>2014</td>\n",
       "      <td>Capcom</td>\n",
       "      <td>Fighting;3D;Action;Fighting;2D;3D</td>\n",
       "      <td>PlayStation3</td>\n",
       "      <td>83</td>\n",
       "      <td>7.5</td>\n",
       "      <td>NaN</td>\n",
       "    </tr>\n",
       "    <tr>\n",
       "      <th>3244</th>\n",
       "      <td>Wreckfest</td>\n",
       "      <td>2018</td>\n",
       "      <td>Bugbear</td>\n",
       "      <td>Driving;General;General;Racing;Arcade;Automobile</td>\n",
       "      <td>PC</td>\n",
       "      <td>81</td>\n",
       "      <td>8.3</td>\n",
       "      <td>NaN</td>\n",
       "    </tr>\n",
       "    <tr>\n",
       "      <th>4433</th>\n",
       "      <td>ONRUSH</td>\n",
       "      <td>2018</td>\n",
       "      <td>Codemasters</td>\n",
       "      <td>Racing;Arcade;Automobile</td>\n",
       "      <td>XboxOne</td>\n",
       "      <td>78</td>\n",
       "      <td>6.6</td>\n",
       "      <td>NaN</td>\n",
       "    </tr>\n",
       "    <tr>\n",
       "      <th>4441</th>\n",
       "      <td>Donkey Kong Country</td>\n",
       "      <td>2003</td>\n",
       "      <td>RareLtd.</td>\n",
       "      <td>Action;Platformer;2D</td>\n",
       "      <td>GameBoyAdvance</td>\n",
       "      <td>78</td>\n",
       "      <td>8.9</td>\n",
       "      <td>NaN</td>\n",
       "    </tr>\n",
       "  </tbody>\n",
       "</table>\n",
       "</div>"
      ],
      "text/plain": [
       "                               Title  Year    Publisher  \\\n",
       "663                       Shenmue II  2001      SegaAM2   \n",
       "1171  Lunar 2: Eternal Blue Complete  2000     GameArts   \n",
       "1952         Ultra Street Fighter IV  2014       Capcom   \n",
       "2051         Ultra Street Fighter IV  2014       Capcom   \n",
       "3244                       Wreckfest  2018      Bugbear   \n",
       "4433                          ONRUSH  2018  Codemasters   \n",
       "4441             Donkey Kong Country  2003     RareLtd.   \n",
       "\n",
       "                                                 Genre        Platform  \\\n",
       "663                            Action Adventure;Modern       Dreamcast   \n",
       "1171                    Role-Playing;Console-style RPG     PlayStation   \n",
       "1952                 Fighting;3D;Action;Fighting;2D;3D         Xbox360   \n",
       "2051                 Fighting;3D;Action;Fighting;2D;3D    PlayStation3   \n",
       "3244  Driving;General;General;Racing;Arcade;Automobile              PC   \n",
       "4433                          Racing;Arcade;Automobile         XboxOne   \n",
       "4441                              Action;Platformer;2D  GameBoyAdvance   \n",
       "\n",
       "     Metascore Avg_Userscore No_Players  \n",
       "663         88           9.1        NaN  \n",
       "1171        86           8.9        NaN  \n",
       "1952        84           6.8        NaN  \n",
       "2051        83           7.5        NaN  \n",
       "3244        81           8.3        NaN  \n",
       "4433        78           6.6        NaN  \n",
       "4441        78           8.9        NaN  "
      ]
     },
     "execution_count": 25,
     "metadata": {},
     "output_type": "execute_result"
    }
   ],
   "source": [
    "df_info[df_info['No_Players'].isna() == True]"
   ]
  },
  {
   "cell_type": "code",
   "execution_count": 35,
   "metadata": {},
   "outputs": [
    {
     "data": {
      "text/html": [
       "<div>\n",
       "<style scoped>\n",
       "    .dataframe tbody tr th:only-of-type {\n",
       "        vertical-align: middle;\n",
       "    }\n",
       "\n",
       "    .dataframe tbody tr th {\n",
       "        vertical-align: top;\n",
       "    }\n",
       "\n",
       "    .dataframe thead th {\n",
       "        text-align: right;\n",
       "    }\n",
       "</style>\n",
       "<table border=\"1\" class=\"dataframe\">\n",
       "  <thead>\n",
       "    <tr style=\"text-align: right;\">\n",
       "      <th></th>\n",
       "      <th>Title</th>\n",
       "      <th>Year</th>\n",
       "      <th>Publisher</th>\n",
       "      <th>Genre</th>\n",
       "      <th>Platform</th>\n",
       "      <th>Metascore</th>\n",
       "      <th>Avg_Userscore</th>\n",
       "      <th>No_Players</th>\n",
       "    </tr>\n",
       "  </thead>\n",
       "  <tbody>\n",
       "    <tr>\n",
       "      <th>4696</th>\n",
       "      <td>NHL 2K7</td>\n",
       "      <td>2006</td>\n",
       "      <td>KushGames</td>\n",
       "      <td>Sports;Traditional;Ice Hockey;Sim</td>\n",
       "      <td>Xbox</td>\n",
       "      <td>78</td>\n",
       "      <td>tbd</td>\n",
       "      <td>8  Online</td>\n",
       "    </tr>\n",
       "    <tr>\n",
       "      <th>2245</th>\n",
       "      <td>Tekken Tag Tournament 2</td>\n",
       "      <td>2012</td>\n",
       "      <td>NamcoBandaiGames</td>\n",
       "      <td>Action;Fighting;Fighting;3D;3D</td>\n",
       "      <td>Xbox360</td>\n",
       "      <td>83</td>\n",
       "      <td>7.6</td>\n",
       "      <td>Up to 6</td>\n",
       "    </tr>\n",
       "    <tr>\n",
       "      <th>1060</th>\n",
       "      <td>GRID</td>\n",
       "      <td>2008</td>\n",
       "      <td>Codemasters</td>\n",
       "      <td>Driving;Racing;Simulation;GT / Street;GT / Str...</td>\n",
       "      <td>Xbox360</td>\n",
       "      <td>87</td>\n",
       "      <td>7.9</td>\n",
       "      <td>12  Online</td>\n",
       "    </tr>\n",
       "    <tr>\n",
       "      <th>1137</th>\n",
       "      <td>Unavowed</td>\n",
       "      <td>2018</td>\n",
       "      <td>WadjetEyeGames</td>\n",
       "      <td>Adventure;General</td>\n",
       "      <td>PC</td>\n",
       "      <td>86</td>\n",
       "      <td>8.0</td>\n",
       "      <td>No Online Multiplayer</td>\n",
       "    </tr>\n",
       "    <tr>\n",
       "      <th>4811</th>\n",
       "      <td>Shadows of Adam</td>\n",
       "      <td>2017</td>\n",
       "      <td>SomethingClassicGamesLLC</td>\n",
       "      <td>Role-Playing;Japanese-Style</td>\n",
       "      <td>PC</td>\n",
       "      <td>78</td>\n",
       "      <td>8.2</td>\n",
       "      <td>No Online Multiplayer</td>\n",
       "    </tr>\n",
       "  </tbody>\n",
       "</table>\n",
       "</div>"
      ],
      "text/plain": [
       "                        Title  Year                 Publisher  \\\n",
       "4696                  NHL 2K7  2006                 KushGames   \n",
       "2245  Tekken Tag Tournament 2  2012          NamcoBandaiGames   \n",
       "1060                     GRID  2008               Codemasters   \n",
       "1137                 Unavowed  2018            WadjetEyeGames   \n",
       "4811          Shadows of Adam  2017  SomethingClassicGamesLLC   \n",
       "\n",
       "                                                  Genre Platform Metascore  \\\n",
       "4696                  Sports;Traditional;Ice Hockey;Sim     Xbox        78   \n",
       "2245                     Action;Fighting;Fighting;3D;3D  Xbox360        83   \n",
       "1060  Driving;Racing;Simulation;GT / Street;GT / Str...  Xbox360        87   \n",
       "1137                                  Adventure;General       PC        86   \n",
       "4811                        Role-Playing;Japanese-Style       PC        78   \n",
       "\n",
       "     Avg_Userscore             No_Players  \n",
       "4696           tbd              8  Online  \n",
       "2245           7.6               Up to 6   \n",
       "1060           7.9             12  Online  \n",
       "1137           8.0  No Online Multiplayer  \n",
       "4811           8.2  No Online Multiplayer  "
      ]
     },
     "execution_count": 35,
     "metadata": {},
     "output_type": "execute_result"
    }
   ],
   "source": [
    "df_info.sample(5)"
   ]
  },
  {
   "cell_type": "code",
   "execution_count": null,
   "metadata": {},
   "outputs": [],
   "source": []
  }
 ],
 "metadata": {
  "kernelspec": {
   "display_name": "Python 3.9.12 ('base')",
   "language": "python",
   "name": "python3"
  },
  "language_info": {
   "codemirror_mode": {
    "name": "ipython",
    "version": 3
   },
   "file_extension": ".py",
   "mimetype": "text/x-python",
   "name": "python",
   "nbconvert_exporter": "python",
   "pygments_lexer": "ipython3",
   "version": "3.9.12"
  },
  "orig_nbformat": 4,
  "vscode": {
   "interpreter": {
    "hash": "c738c5dbbe27c39534afaf60a228761ec99c842d673ea0c5f841b81d59c4efd4"
   }
  }
 },
 "nbformat": 4,
 "nbformat_minor": 2
}
