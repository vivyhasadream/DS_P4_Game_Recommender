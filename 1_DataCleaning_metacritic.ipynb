{
 "cells": [
  {
   "cell_type": "code",
   "execution_count": 1,
   "metadata": {},
   "outputs": [],
   "source": [
    "import numpy as np \n",
    "import pandas as pd \n",
    "from langdetect import detect\n",
    "import time\n",
    "import pickle"
   ]
  },
  {
   "cell_type": "markdown",
   "metadata": {},
   "source": [
    "# IMPORT"
   ]
  },
  {
   "cell_type": "code",
   "execution_count": 2,
   "metadata": {},
   "outputs": [
    {
     "data": {
      "text/html": [
       "<div>\n",
       "<style scoped>\n",
       "    .dataframe tbody tr th:only-of-type {\n",
       "        vertical-align: middle;\n",
       "    }\n",
       "\n",
       "    .dataframe tbody tr th {\n",
       "        vertical-align: top;\n",
       "    }\n",
       "\n",
       "    .dataframe thead th {\n",
       "        text-align: right;\n",
       "    }\n",
       "</style>\n",
       "<table border=\"1\" class=\"dataframe\">\n",
       "  <thead>\n",
       "    <tr style=\"text-align: right;\">\n",
       "      <th></th>\n",
       "      <th>Unnamed: 0</th>\n",
       "      <th>Title</th>\n",
       "      <th>Year</th>\n",
       "      <th>Publisher</th>\n",
       "      <th>Genre</th>\n",
       "      <th>Platform</th>\n",
       "      <th>Metascore</th>\n",
       "      <th>Avg_Userscore</th>\n",
       "      <th>No_Players</th>\n",
       "    </tr>\n",
       "  </thead>\n",
       "  <tbody>\n",
       "    <tr>\n",
       "      <th>0</th>\n",
       "      <td>0</td>\n",
       "      <td>The Legend of Zelda: Ocarina of Time</td>\n",
       "      <td>1998</td>\n",
       "      <td>Nintendo</td>\n",
       "      <td>Action Adventure;Fantasy</td>\n",
       "      <td>Nintendo64</td>\n",
       "      <td>99</td>\n",
       "      <td>9.1</td>\n",
       "      <td>1 Player</td>\n",
       "    </tr>\n",
       "    <tr>\n",
       "      <th>1</th>\n",
       "      <td>1</td>\n",
       "      <td>Tony Hawk's Pro Skater 2</td>\n",
       "      <td>2000</td>\n",
       "      <td>NeversoftEntertainment</td>\n",
       "      <td>Sports;Alternative;Skateboarding</td>\n",
       "      <td>PlayStation</td>\n",
       "      <td>98</td>\n",
       "      <td>7.4</td>\n",
       "      <td>1-2</td>\n",
       "    </tr>\n",
       "    <tr>\n",
       "      <th>2</th>\n",
       "      <td>2</td>\n",
       "      <td>Grand Theft Auto IV</td>\n",
       "      <td>2008</td>\n",
       "      <td>RockstarNorth</td>\n",
       "      <td>Action Adventure;Modern;Modern;Open-World</td>\n",
       "      <td>PlayStation3</td>\n",
       "      <td>98</td>\n",
       "      <td>7.5</td>\n",
       "      <td>1 Player</td>\n",
       "    </tr>\n",
       "  </tbody>\n",
       "</table>\n",
       "</div>"
      ],
      "text/plain": [
       "   Unnamed: 0                                 Title  Year  \\\n",
       "0           0  The Legend of Zelda: Ocarina of Time  1998   \n",
       "1           1              Tony Hawk's Pro Skater 2  2000   \n",
       "2           2                   Grand Theft Auto IV  2008   \n",
       "\n",
       "                Publisher                                      Genre  \\\n",
       "0                Nintendo                   Action Adventure;Fantasy   \n",
       "1  NeversoftEntertainment           Sports;Alternative;Skateboarding   \n",
       "2           RockstarNorth  Action Adventure;Modern;Modern;Open-World   \n",
       "\n",
       "       Platform Metascore Avg_Userscore No_Players  \n",
       "0    Nintendo64        99           9.1   1 Player  \n",
       "1   PlayStation        98           7.4       1-2   \n",
       "2  PlayStation3        98           7.5   1 Player  "
      ]
     },
     "execution_count": 2,
     "metadata": {},
     "output_type": "execute_result"
    }
   ],
   "source": [
    "df_info = pd.read_csv('raw_data/metacritic_game_info.csv')\n",
    "df_info.head(3)"
   ]
  },
  {
   "cell_type": "code",
   "execution_count": 3,
   "metadata": {},
   "outputs": [
    {
     "data": {
      "text/html": [
       "<div>\n",
       "<style scoped>\n",
       "    .dataframe tbody tr th:only-of-type {\n",
       "        vertical-align: middle;\n",
       "    }\n",
       "\n",
       "    .dataframe tbody tr th {\n",
       "        vertical-align: top;\n",
       "    }\n",
       "\n",
       "    .dataframe thead th {\n",
       "        text-align: right;\n",
       "    }\n",
       "</style>\n",
       "<table border=\"1\" class=\"dataframe\">\n",
       "  <thead>\n",
       "    <tr style=\"text-align: right;\">\n",
       "      <th></th>\n",
       "      <th>Unnamed: 0</th>\n",
       "      <th>Title</th>\n",
       "      <th>Platform</th>\n",
       "      <th>Userscore</th>\n",
       "      <th>Comment</th>\n",
       "      <th>Username</th>\n",
       "    </tr>\n",
       "  </thead>\n",
       "  <tbody>\n",
       "    <tr>\n",
       "      <th>0</th>\n",
       "      <td>0</td>\n",
       "      <td>The Legend of Zelda: Ocarina of Time</td>\n",
       "      <td>Nintendo64</td>\n",
       "      <td>10</td>\n",
       "      <td>Everything in OoT is so near at perfection, it...</td>\n",
       "      <td>SirCaestus</td>\n",
       "    </tr>\n",
       "    <tr>\n",
       "      <th>1</th>\n",
       "      <td>1</td>\n",
       "      <td>The Legend of Zelda: Ocarina of Time</td>\n",
       "      <td>Nintendo64</td>\n",
       "      <td>10</td>\n",
       "      <td>I won't bore you with what everyone is already...</td>\n",
       "      <td>Kaistlin</td>\n",
       "    </tr>\n",
       "    <tr>\n",
       "      <th>2</th>\n",
       "      <td>2</td>\n",
       "      <td>The Legend of Zelda: Ocarina of Time</td>\n",
       "      <td>Nintendo64</td>\n",
       "      <td>10</td>\n",
       "      <td>Anyone who gives the masterpiece below a 7 or ...</td>\n",
       "      <td>Jacody</td>\n",
       "    </tr>\n",
       "  </tbody>\n",
       "</table>\n",
       "</div>"
      ],
      "text/plain": [
       "   Unnamed: 0                                 Title    Platform  Userscore  \\\n",
       "0           0  The Legend of Zelda: Ocarina of Time  Nintendo64         10   \n",
       "1           1  The Legend of Zelda: Ocarina of Time  Nintendo64         10   \n",
       "2           2  The Legend of Zelda: Ocarina of Time  Nintendo64         10   \n",
       "\n",
       "                                             Comment    Username  \n",
       "0  Everything in OoT is so near at perfection, it...  SirCaestus  \n",
       "1  I won't bore you with what everyone is already...    Kaistlin  \n",
       "2  Anyone who gives the masterpiece below a 7 or ...      Jacody  "
      ]
     },
     "execution_count": 3,
     "metadata": {},
     "output_type": "execute_result"
    }
   ],
   "source": [
    "df_comments = pd.read_csv('raw_data/metacritic_game_user_comments.csv')\n",
    "df_comments.head(3)"
   ]
  },
  {
   "cell_type": "code",
   "execution_count": 4,
   "metadata": {},
   "outputs": [
    {
     "data": {
      "text/plain": [
       "((5000, 9), (283983, 6))"
      ]
     },
     "execution_count": 4,
     "metadata": {},
     "output_type": "execute_result"
    }
   ],
   "source": [
    "df_info.shape, df_comments.shape"
   ]
  },
  {
   "cell_type": "code",
   "execution_count": 5,
   "metadata": {},
   "outputs": [
    {
     "data": {
      "text/plain": [
       "10    0.396260\n",
       "9     0.188353\n",
       "8     0.106594\n",
       "0     0.070849\n",
       "7     0.060046\n",
       "6     0.042383\n",
       "5     0.035611\n",
       "4     0.028002\n",
       "1     0.025769\n",
       "3     0.025065\n",
       "2     0.021068\n",
       "Name: Userscore, dtype: float64"
      ]
     },
     "execution_count": 5,
     "metadata": {},
     "output_type": "execute_result"
    }
   ],
   "source": [
    "df_comments.Userscore.value_counts(normalize=True)"
   ]
  },
  {
   "cell_type": "markdown",
   "metadata": {},
   "source": [
    "# Metacritic Game Info"
   ]
  },
  {
   "cell_type": "code",
   "execution_count": 6,
   "metadata": {},
   "outputs": [
    {
     "data": {
      "text/html": [
       "<div>\n",
       "<style scoped>\n",
       "    .dataframe tbody tr th:only-of-type {\n",
       "        vertical-align: middle;\n",
       "    }\n",
       "\n",
       "    .dataframe tbody tr th {\n",
       "        vertical-align: top;\n",
       "    }\n",
       "\n",
       "    .dataframe thead th {\n",
       "        text-align: right;\n",
       "    }\n",
       "</style>\n",
       "<table border=\"1\" class=\"dataframe\">\n",
       "  <thead>\n",
       "    <tr style=\"text-align: right;\">\n",
       "      <th></th>\n",
       "      <th>Title</th>\n",
       "      <th>Year</th>\n",
       "      <th>Publisher</th>\n",
       "      <th>Genre</th>\n",
       "      <th>Platform</th>\n",
       "      <th>Metascore</th>\n",
       "      <th>Avg_Userscore</th>\n",
       "      <th>No_Players</th>\n",
       "    </tr>\n",
       "  </thead>\n",
       "  <tbody>\n",
       "    <tr>\n",
       "      <th>0</th>\n",
       "      <td>The Legend of Zelda: Ocarina of Time</td>\n",
       "      <td>1998</td>\n",
       "      <td>Nintendo</td>\n",
       "      <td>Action Adventure;Fantasy</td>\n",
       "      <td>Nintendo64</td>\n",
       "      <td>99</td>\n",
       "      <td>9.1</td>\n",
       "      <td>1 Player</td>\n",
       "    </tr>\n",
       "  </tbody>\n",
       "</table>\n",
       "</div>"
      ],
      "text/plain": [
       "                                  Title  Year Publisher  \\\n",
       "0  The Legend of Zelda: Ocarina of Time  1998  Nintendo   \n",
       "\n",
       "                      Genre    Platform Metascore Avg_Userscore No_Players  \n",
       "0  Action Adventure;Fantasy  Nintendo64        99           9.1   1 Player  "
      ]
     },
     "execution_count": 6,
     "metadata": {},
     "output_type": "execute_result"
    }
   ],
   "source": [
    "# remove the extra index\n",
    "\n",
    "df_info = df_info.drop(columns='Unnamed: 0')\n",
    "df_info.head(1)"
   ]
  },
  {
   "cell_type": "code",
   "execution_count": 7,
   "metadata": {},
   "outputs": [
    {
     "data": {
      "text/plain": [
       "Title            3438\n",
       "Year               25\n",
       "Publisher        1238\n",
       "Genre             927\n",
       "Platform           20\n",
       "Metascore          24\n",
       "Avg_Userscore      70\n",
       "No_Players         52\n",
       "dtype: int64"
      ]
     },
     "execution_count": 7,
     "metadata": {},
     "output_type": "execute_result"
    }
   ],
   "source": [
    "df_info.nunique()"
   ]
  },
  {
   "cell_type": "code",
   "execution_count": 9,
   "metadata": {},
   "outputs": [
    {
     "name": "stdout",
     "output_type": "stream",
     "text": [
      "7 duplicates have been removed.\n"
     ]
    }
   ],
   "source": [
    "# remove duplicates\n",
    "\n",
    "print(f'{df_info.duplicated().sum()} duplicates have been removed.')\n",
    "\n",
    "df_info.drop_duplicates(inplace=True)"
   ]
  },
  {
   "cell_type": "markdown",
   "metadata": {},
   "source": [
    "- year"
   ]
  },
  {
   "cell_type": "code",
   "execution_count": 10,
   "metadata": {},
   "outputs": [
    {
     "name": "stdout",
     "output_type": "stream",
     "text": [
      "4 nans have been removed.\n"
     ]
    }
   ],
   "source": [
    "# remove 'not specified' in column Year\n",
    "# 4 of them\n",
    "\n",
    "t = df_info[df_info['Year'] == 'not specified'].shape[0]\n",
    "print(f'{t} nans have been removed.')\n",
    "\n",
    "drop_index = df_info[df_info['Year'] == 'not specified'].index\n",
    "df_info.drop(drop_index, inplace=True)"
   ]
  },
  {
   "cell_type": "markdown",
   "metadata": {},
   "source": [
    "- No_Players"
   ]
  },
  {
   "cell_type": "code",
   "execution_count": 16,
   "metadata": {},
   "outputs": [
    {
     "data": {
      "text/plain": [
       "not specified            1539\n",
       "No Online Multiplayer     852\n",
       "1 Player                  573\n",
       "1-2                       351\n",
       "1-4                       334\n",
       "1-8                       127\n",
       "2  Online                 123\n",
       "4  Online                 113\n",
       "Up to 4                   103\n",
       "8  Online                  94\n",
       "Online Multiplayer         81\n",
       "Up to 8                    78\n",
       "2                          74\n",
       "Massively Multiplayer      52\n",
       "16  Online                 49\n",
       "1-16                       47\n",
       "Up to 10                   32\n",
       "Up to 16                   32\n",
       "6  Online                  32\n",
       "Up to 6                    30\n",
       "Up to 12                   28\n",
       "32  Online                 26\n",
       "Up to 18                   24\n",
       "10  Online                 20\n",
       "1-32                       18\n",
       "Up to 22                   17\n",
       "1-6                        16\n",
       "12  Online                 15\n",
       "Up to 24                   10\n",
       "1-3                         9\n",
       "Up to 20                    9\n",
       "24  Online                  8\n",
       "1-10                        7\n",
       "Up to 64                    7\n",
       "1-12                        7\n",
       "Up to 32                    6\n",
       "1-64                        5\n",
       "1-5                         5\n",
       "64+  Online                 4\n",
       "5  Online                   4\n",
       "Up to 30                    3\n",
       "64  Online                  3\n",
       "64+                         2\n",
       "Up to 40                    2\n",
       "Up to 60                    2\n",
       "44  Online                  2\n",
       "Up to 5                     2\n",
       "Up to 9                     1\n",
       "Up to 14                    1\n",
       "14  Online                  1\n",
       "Up to more than 64          1\n",
       "Up to 3                     1\n",
       "Name: No_Players, dtype: int64"
      ]
     },
     "execution_count": 16,
     "metadata": {},
     "output_type": "execute_result"
    }
   ],
   "source": [
    "df_info['No_Players'].value_counts()"
   ]
  },
  {
   "cell_type": "code",
   "execution_count": 15,
   "metadata": {},
   "outputs": [],
   "source": [
    "df_info[df_info['No_Players'].isna() == True] = 'not specified'"
   ]
  },
  {
   "cell_type": "code",
   "execution_count": 17,
   "metadata": {},
   "outputs": [
    {
     "data": {
      "text/plain": [
       "Index(['Title', 'Year', 'Publisher', 'Genre', 'Platform', 'Metascore',\n",
       "       'Avg_Userscore', 'No_Players'],\n",
       "      dtype='object')"
      ]
     },
     "execution_count": 17,
     "metadata": {},
     "output_type": "execute_result"
    }
   ],
   "source": [
    "df_info.columns"
   ]
  },
  {
   "cell_type": "code",
   "execution_count": 18,
   "metadata": {},
   "outputs": [],
   "source": [
    "# a quick export for easy remsy\n",
    "\n",
    "df_info.to_csv(r'processed_remsy\\metacritic_info_remsy.csv', index = False)"
   ]
  },
  {
   "cell_type": "markdown",
   "metadata": {},
   "source": [
    "# Metacritic Review"
   ]
  },
  {
   "cell_type": "code",
   "execution_count": 11,
   "metadata": {},
   "outputs": [
    {
     "data": {
      "text/html": [
       "<div>\n",
       "<style scoped>\n",
       "    .dataframe tbody tr th:only-of-type {\n",
       "        vertical-align: middle;\n",
       "    }\n",
       "\n",
       "    .dataframe tbody tr th {\n",
       "        vertical-align: top;\n",
       "    }\n",
       "\n",
       "    .dataframe thead th {\n",
       "        text-align: right;\n",
       "    }\n",
       "</style>\n",
       "<table border=\"1\" class=\"dataframe\">\n",
       "  <thead>\n",
       "    <tr style=\"text-align: right;\">\n",
       "      <th></th>\n",
       "      <th>Title</th>\n",
       "      <th>Platform</th>\n",
       "      <th>Userscore</th>\n",
       "      <th>Comment</th>\n",
       "      <th>Username</th>\n",
       "    </tr>\n",
       "  </thead>\n",
       "  <tbody>\n",
       "    <tr>\n",
       "      <th>0</th>\n",
       "      <td>The Legend of Zelda: Ocarina of Time</td>\n",
       "      <td>Nintendo64</td>\n",
       "      <td>10</td>\n",
       "      <td>Everything in OoT is so near at perfection, it...</td>\n",
       "      <td>SirCaestus</td>\n",
       "    </tr>\n",
       "  </tbody>\n",
       "</table>\n",
       "</div>"
      ],
      "text/plain": [
       "                                  Title    Platform  Userscore  \\\n",
       "0  The Legend of Zelda: Ocarina of Time  Nintendo64         10   \n",
       "\n",
       "                                             Comment    Username  \n",
       "0  Everything in OoT is so near at perfection, it...  SirCaestus  "
      ]
     },
     "execution_count": 11,
     "metadata": {},
     "output_type": "execute_result"
    }
   ],
   "source": [
    "# remove the extra index\n",
    "\n",
    "df_comments = df_comments.drop(columns='Unnamed: 0')\n",
    "df_comments.head(1)"
   ]
  },
  {
   "cell_type": "code",
   "execution_count": 12,
   "metadata": {},
   "outputs": [
    {
     "data": {
      "text/plain": [
       "Title          2325\n",
       "Platform         20\n",
       "Userscore        11\n",
       "Comment      277706\n",
       "Username     133664\n",
       "dtype: int64"
      ]
     },
     "execution_count": 12,
     "metadata": {},
     "output_type": "execute_result"
    }
   ],
   "source": [
    "df_comments.nunique()"
   ]
  },
  {
   "cell_type": "code",
   "execution_count": 4,
   "metadata": {},
   "outputs": [
    {
     "data": {
      "text/plain": [
       "(283983, 5)"
      ]
     },
     "execution_count": 4,
     "metadata": {},
     "output_type": "execute_result"
    }
   ],
   "source": [
    "df_comments.shape"
   ]
  },
  {
   "cell_type": "code",
   "execution_count": 5,
   "metadata": {},
   "outputs": [],
   "source": [
    "df_comments.drop_duplicates(inplace=True)\n",
    "df_comments.dropna(inplace=True)"
   ]
  },
  {
   "cell_type": "code",
   "execution_count": 6,
   "metadata": {},
   "outputs": [
    {
     "data": {
      "text/plain": [
       "(282201, 5)"
      ]
     },
     "execution_count": 6,
     "metadata": {},
     "output_type": "execute_result"
    }
   ],
   "source": [
    "df_comments.shape"
   ]
  },
  {
   "cell_type": "markdown",
   "metadata": {},
   "source": [
    "# langauage detect"
   ]
  },
  {
   "cell_type": "code",
   "execution_count": 58,
   "metadata": {},
   "outputs": [],
   "source": [
    "df_comments_5000 = df_comments.sample(5000)"
   ]
  },
  {
   "cell_type": "code",
   "execution_count": 66,
   "metadata": {},
   "outputs": [],
   "source": [
    "def detect_lang(t):\n",
    "    try:\n",
    "        lang = detect(t)\n",
    "    except:\n",
    "        lang = 'error'\n",
    "\n",
    "    return lang\n"
   ]
  },
  {
   "cell_type": "code",
   "execution_count": 69,
   "metadata": {},
   "outputs": [
    {
     "name": "stdout",
     "output_type": "stream",
     "text": [
      "this function took 23.219751358032227 seconds.\n"
     ]
    }
   ],
   "source": [
    "start = time.time()\n",
    "\n",
    "df_comments_5000['lang'] = df_comments_5000['Comment'].apply(detect_lang)\n",
    "\n",
    "end = time.time()\n",
    "print(f'this function took {end-start} seconds.')"
   ]
  },
  {
   "cell_type": "code",
   "execution_count": 71,
   "metadata": {},
   "outputs": [
    {
     "data": {
      "text/html": [
       "<div>\n",
       "<style scoped>\n",
       "    .dataframe tbody tr th:only-of-type {\n",
       "        vertical-align: middle;\n",
       "    }\n",
       "\n",
       "    .dataframe tbody tr th {\n",
       "        vertical-align: top;\n",
       "    }\n",
       "\n",
       "    .dataframe thead th {\n",
       "        text-align: right;\n",
       "    }\n",
       "</style>\n",
       "<table border=\"1\" class=\"dataframe\">\n",
       "  <thead>\n",
       "    <tr style=\"text-align: right;\">\n",
       "      <th></th>\n",
       "      <th>Title</th>\n",
       "      <th>Platform</th>\n",
       "      <th>Userscore</th>\n",
       "      <th>Comment</th>\n",
       "      <th>Username</th>\n",
       "      <th>lang</th>\n",
       "    </tr>\n",
       "  </thead>\n",
       "  <tbody>\n",
       "    <tr>\n",
       "      <th>214052</th>\n",
       "      <td>Colin McRae Rally 04</td>\n",
       "      <td>Xbox</td>\n",
       "      <td>7</td>\n",
       "      <td>Certainly worth $20 ... but not much more.</td>\n",
       "      <td>Wes</td>\n",
       "      <td>en</td>\n",
       "    </tr>\n",
       "    <tr>\n",
       "      <th>187241</th>\n",
       "      <td>Dragon Age: Inquisition</td>\n",
       "      <td>PC</td>\n",
       "      <td>10</td>\n",
       "      <td>All these negative reviews are fake or from bo...</td>\n",
       "      <td>Pecheckler</td>\n",
       "      <td>en</td>\n",
       "    </tr>\n",
       "    <tr>\n",
       "      <th>96156</th>\n",
       "      <td>Dota 2</td>\n",
       "      <td>PC</td>\n",
       "      <td>0</td>\n",
       "      <td>Nothing but hats aka. cosmetics for the longes...</td>\n",
       "      <td>edmundduke</td>\n",
       "      <td>en</td>\n",
       "    </tr>\n",
       "    <tr>\n",
       "      <th>270806</th>\n",
       "      <td>Final Fantasy XV</td>\n",
       "      <td>PlayStation4</td>\n",
       "      <td>5</td>\n",
       "      <td>I literally grew up playing Final Fantasy game...</td>\n",
       "      <td>Tigerstrike11</td>\n",
       "      <td>en</td>\n",
       "    </tr>\n",
       "    <tr>\n",
       "      <th>167565</th>\n",
       "      <td>Gone Home</td>\n",
       "      <td>PC</td>\n",
       "      <td>1</td>\n",
       "      <td>Over rated game that has a surprisingly boring...</td>\n",
       "      <td>Orionsbelt</td>\n",
       "      <td>en</td>\n",
       "    </tr>\n",
       "    <tr>\n",
       "      <th>...</th>\n",
       "      <td>...</td>\n",
       "      <td>...</td>\n",
       "      <td>...</td>\n",
       "      <td>...</td>\n",
       "      <td>...</td>\n",
       "      <td>...</td>\n",
       "    </tr>\n",
       "    <tr>\n",
       "      <th>140367</th>\n",
       "      <td>Diablo III</td>\n",
       "      <td>PC</td>\n",
       "      <td>0</td>\n",
       "      <td>It doesn't much matter what's in the game if t...</td>\n",
       "      <td>ImmortalTrout</td>\n",
       "      <td>en</td>\n",
       "    </tr>\n",
       "    <tr>\n",
       "      <th>207670</th>\n",
       "      <td>Middle-earth: Shadow of Mordor</td>\n",
       "      <td>PC</td>\n",
       "      <td>9</td>\n",
       "      <td>Quick version:It's like an Assassins Creed tha...</td>\n",
       "      <td>Alsmir</td>\n",
       "      <td>en</td>\n",
       "    </tr>\n",
       "    <tr>\n",
       "      <th>104300</th>\n",
       "      <td>Dark Souls III</td>\n",
       "      <td>PC</td>\n",
       "      <td>9</td>\n",
       "      <td>Although there has been a lot of bugs being re...</td>\n",
       "      <td>MarcioCavalcant</td>\n",
       "      <td>en</td>\n",
       "    </tr>\n",
       "    <tr>\n",
       "      <th>45032</th>\n",
       "      <td>The Witcher 3: Wild Hunt</td>\n",
       "      <td>PC</td>\n",
       "      <td>10</td>\n",
       "      <td>Perfect Game.Probably best game ever.Graphics:...</td>\n",
       "      <td>roi123</td>\n",
       "      <td>en</td>\n",
       "    </tr>\n",
       "    <tr>\n",
       "      <th>89854</th>\n",
       "      <td>Portal</td>\n",
       "      <td>PC</td>\n",
       "      <td>10</td>\n",
       "      <td>This game is a great new concept, the thinkin...</td>\n",
       "      <td>EthanG.</td>\n",
       "      <td>en</td>\n",
       "    </tr>\n",
       "  </tbody>\n",
       "</table>\n",
       "<p>5000 rows × 6 columns</p>\n",
       "</div>"
      ],
      "text/plain": [
       "                                 Title      Platform  Userscore  \\\n",
       "214052            Colin McRae Rally 04          Xbox          7   \n",
       "187241         Dragon Age: Inquisition            PC         10   \n",
       "96156                           Dota 2            PC          0   \n",
       "270806                Final Fantasy XV  PlayStation4          5   \n",
       "167565                       Gone Home            PC          1   \n",
       "...                                ...           ...        ...   \n",
       "140367                      Diablo III            PC          0   \n",
       "207670  Middle-earth: Shadow of Mordor            PC          9   \n",
       "104300                  Dark Souls III            PC          9   \n",
       "45032         The Witcher 3: Wild Hunt            PC         10   \n",
       "89854                           Portal            PC         10   \n",
       "\n",
       "                                                  Comment         Username  \\\n",
       "214052         Certainly worth $20 ... but not much more.              Wes   \n",
       "187241  All these negative reviews are fake or from bo...       Pecheckler   \n",
       "96156   Nothing but hats aka. cosmetics for the longes...       edmundduke   \n",
       "270806  I literally grew up playing Final Fantasy game...    Tigerstrike11   \n",
       "167565  Over rated game that has a surprisingly boring...       Orionsbelt   \n",
       "...                                                   ...              ...   \n",
       "140367  It doesn't much matter what's in the game if t...    ImmortalTrout   \n",
       "207670  Quick version:It's like an Assassins Creed tha...           Alsmir   \n",
       "104300  Although there has been a lot of bugs being re...  MarcioCavalcant   \n",
       "45032   Perfect Game.Probably best game ever.Graphics:...           roi123   \n",
       "89854    This game is a great new concept, the thinkin...          EthanG.   \n",
       "\n",
       "       lang  \n",
       "214052   en  \n",
       "187241   en  \n",
       "96156    en  \n",
       "270806   en  \n",
       "167565   en  \n",
       "...     ...  \n",
       "140367   en  \n",
       "207670   en  \n",
       "104300   en  \n",
       "45032    en  \n",
       "89854    en  \n",
       "\n",
       "[5000 rows x 6 columns]"
      ]
     },
     "execution_count": 71,
     "metadata": {},
     "output_type": "execute_result"
    }
   ],
   "source": [
    "df_comments_5000"
   ]
  },
  {
   "cell_type": "code",
   "execution_count": 74,
   "metadata": {},
   "outputs": [
    {
     "data": {
      "text/html": [
       "<div>\n",
       "<style scoped>\n",
       "    .dataframe tbody tr th:only-of-type {\n",
       "        vertical-align: middle;\n",
       "    }\n",
       "\n",
       "    .dataframe tbody tr th {\n",
       "        vertical-align: top;\n",
       "    }\n",
       "\n",
       "    .dataframe thead th {\n",
       "        text-align: right;\n",
       "    }\n",
       "</style>\n",
       "<table border=\"1\" class=\"dataframe\">\n",
       "  <thead>\n",
       "    <tr style=\"text-align: right;\">\n",
       "      <th></th>\n",
       "      <th>Title</th>\n",
       "      <th>Platform</th>\n",
       "      <th>Userscore</th>\n",
       "      <th>Comment</th>\n",
       "      <th>Username</th>\n",
       "      <th>lang</th>\n",
       "    </tr>\n",
       "  </thead>\n",
       "  <tbody>\n",
       "    <tr>\n",
       "      <th>32780</th>\n",
       "      <td>Batman: Arkham City</td>\n",
       "      <td>Xbox360</td>\n",
       "      <td>7</td>\n",
       "      <td>Ð</td>\n",
       "      <td>Jivot</td>\n",
       "      <td>error</td>\n",
       "    </tr>\n",
       "  </tbody>\n",
       "</table>\n",
       "</div>"
      ],
      "text/plain": [
       "                     Title Platform  Userscore Comment Username   lang\n",
       "32780  Batman: Arkham City  Xbox360          7       Ð    Jivot  error"
      ]
     },
     "execution_count": 74,
     "metadata": {},
     "output_type": "execute_result"
    }
   ],
   "source": [
    "df_comments_5000[df_comments_5000.lang=='error']"
   ]
  },
  {
   "cell_type": "code",
   "execution_count": 30,
   "metadata": {},
   "outputs": [
    {
     "data": {
      "text/plain": [
       "en    0.6050\n",
       "de    0.0616\n",
       "es    0.0330\n",
       "id    0.0308\n",
       "tl    0.0298\n",
       "fr    0.0220\n",
       "it    0.0218\n",
       "nl    0.0204\n",
       "cy    0.0194\n",
       "af    0.0154\n",
       "so    0.0152\n",
       "no    0.0144\n",
       "da    0.0132\n",
       "pt    0.0132\n",
       "ca    0.0126\n",
       "fi    0.0114\n",
       "sw    0.0104\n",
       "hu    0.0080\n",
       "pl    0.0080\n",
       "ro    0.0068\n",
       "sl    0.0042\n",
       "sq    0.0040\n",
       "tr    0.0034\n",
       "sv    0.0032\n",
       "et    0.0032\n",
       "hr    0.0030\n",
       "sk    0.0028\n",
       "vi    0.0018\n",
       "lt    0.0010\n",
       "lv    0.0006\n",
       "cs    0.0004\n",
       "Name: lang, dtype: float64"
      ]
     },
     "execution_count": 30,
     "metadata": {},
     "output_type": "execute_result"
    }
   ],
   "source": [
    "df_comments_5000['lang'].value_counts(normalize=True)"
   ]
  },
  {
   "cell_type": "code",
   "execution_count": 75,
   "metadata": {},
   "outputs": [
    {
     "name": "stdout",
     "output_type": "stream",
     "text": [
      "this function took 1269.3497936725616 seconds.\n"
     ]
    }
   ],
   "source": [
    "start = time.time()\n",
    "\n",
    "df_comments['lang'] = df_comments['Comment'].apply(detect_lang)\n",
    "\n",
    "end = time.time()\n",
    "print(f'this function took {end-start} seconds.')"
   ]
  },
  {
   "cell_type": "markdown",
   "metadata": {},
   "source": [
    "pickle"
   ]
  },
  {
   "cell_type": "code",
   "execution_count": 88,
   "metadata": {},
   "outputs": [],
   "source": [
    "df_comments.to_pickle('processed_df/metacritic_comment_langdetected.pkl')"
   ]
  },
  {
   "cell_type": "code",
   "execution_count": 7,
   "metadata": {},
   "outputs": [],
   "source": [
    "df_comments = pickle.load(open('processed_df/metacritic_comment_langdetected.pkl','rb'))"
   ]
  },
  {
   "cell_type": "code",
   "execution_count": 8,
   "metadata": {},
   "outputs": [
    {
     "data": {
      "text/html": [
       "<div>\n",
       "<style scoped>\n",
       "    .dataframe tbody tr th:only-of-type {\n",
       "        vertical-align: middle;\n",
       "    }\n",
       "\n",
       "    .dataframe tbody tr th {\n",
       "        vertical-align: top;\n",
       "    }\n",
       "\n",
       "    .dataframe thead th {\n",
       "        text-align: right;\n",
       "    }\n",
       "</style>\n",
       "<table border=\"1\" class=\"dataframe\">\n",
       "  <thead>\n",
       "    <tr style=\"text-align: right;\">\n",
       "      <th></th>\n",
       "      <th>Title</th>\n",
       "      <th>Platform</th>\n",
       "      <th>Userscore</th>\n",
       "      <th>Comment</th>\n",
       "      <th>Username</th>\n",
       "      <th>lang</th>\n",
       "    </tr>\n",
       "  </thead>\n",
       "  <tbody>\n",
       "    <tr>\n",
       "      <th>0</th>\n",
       "      <td>The Legend of Zelda: Ocarina of Time</td>\n",
       "      <td>Nintendo64</td>\n",
       "      <td>10</td>\n",
       "      <td>Everything in OoT is so near at perfection, it...</td>\n",
       "      <td>SirCaestus</td>\n",
       "      <td>en</td>\n",
       "    </tr>\n",
       "    <tr>\n",
       "      <th>1</th>\n",
       "      <td>The Legend of Zelda: Ocarina of Time</td>\n",
       "      <td>Nintendo64</td>\n",
       "      <td>10</td>\n",
       "      <td>I won't bore you with what everyone is already...</td>\n",
       "      <td>Kaistlin</td>\n",
       "      <td>en</td>\n",
       "    </tr>\n",
       "    <tr>\n",
       "      <th>2</th>\n",
       "      <td>The Legend of Zelda: Ocarina of Time</td>\n",
       "      <td>Nintendo64</td>\n",
       "      <td>10</td>\n",
       "      <td>Anyone who gives the masterpiece below a 7 or ...</td>\n",
       "      <td>Jacody</td>\n",
       "      <td>en</td>\n",
       "    </tr>\n",
       "    <tr>\n",
       "      <th>3</th>\n",
       "      <td>The Legend of Zelda: Ocarina of Time</td>\n",
       "      <td>Nintendo64</td>\n",
       "      <td>10</td>\n",
       "      <td>I'm one of those people who think that this is...</td>\n",
       "      <td>doodlerman</td>\n",
       "      <td>en</td>\n",
       "    </tr>\n",
       "    <tr>\n",
       "      <th>4</th>\n",
       "      <td>The Legend of Zelda: Ocarina of Time</td>\n",
       "      <td>Nintendo64</td>\n",
       "      <td>10</td>\n",
       "      <td>This game is the highest rated game on Metacr...</td>\n",
       "      <td>StevenA</td>\n",
       "      <td>en</td>\n",
       "    </tr>\n",
       "    <tr>\n",
       "      <th>...</th>\n",
       "      <td>...</td>\n",
       "      <td>...</td>\n",
       "      <td>...</td>\n",
       "      <td>...</td>\n",
       "      <td>...</td>\n",
       "      <td>...</td>\n",
       "    </tr>\n",
       "    <tr>\n",
       "      <th>283978</th>\n",
       "      <td>Etrian Odyssey Untold: The Millennium Girl</td>\n",
       "      <td>3DS</td>\n",
       "      <td>7</td>\n",
       "      <td>Extremely similar to EO:4, which obviously isn...</td>\n",
       "      <td>RileyWRussell</td>\n",
       "      <td>en</td>\n",
       "    </tr>\n",
       "    <tr>\n",
       "      <th>283979</th>\n",
       "      <td>Etrian Odyssey Untold: The Millennium Girl</td>\n",
       "      <td>3DS</td>\n",
       "      <td>0</td>\n",
       "      <td>Typical overrated Atlus trash. A game i should...</td>\n",
       "      <td>TemplarGR</td>\n",
       "      <td>en</td>\n",
       "    </tr>\n",
       "    <tr>\n",
       "      <th>283980</th>\n",
       "      <td>Etrian Odyssey Untold: The Millennium Girl</td>\n",
       "      <td>3DS</td>\n",
       "      <td>9</td>\n",
       "      <td>While I find the story mode to have annoying c...</td>\n",
       "      <td>midipon</td>\n",
       "      <td>en</td>\n",
       "    </tr>\n",
       "    <tr>\n",
       "      <th>283981</th>\n",
       "      <td>Etrian Odyssey Untold: The Millennium Girl</td>\n",
       "      <td>3DS</td>\n",
       "      <td>8</td>\n",
       "      <td>Pretty good, but it certainly lacks the visual...</td>\n",
       "      <td>night4</td>\n",
       "      <td>en</td>\n",
       "    </tr>\n",
       "    <tr>\n",
       "      <th>283982</th>\n",
       "      <td>Etrian Odyssey Untold: The Millennium Girl</td>\n",
       "      <td>3DS</td>\n",
       "      <td>9</td>\n",
       "      <td>As my first game from the \"Etrian series\" i ha...</td>\n",
       "      <td>Balorer</td>\n",
       "      <td>en</td>\n",
       "    </tr>\n",
       "  </tbody>\n",
       "</table>\n",
       "<p>282201 rows × 6 columns</p>\n",
       "</div>"
      ],
      "text/plain": [
       "                                             Title    Platform  Userscore  \\\n",
       "0             The Legend of Zelda: Ocarina of Time  Nintendo64         10   \n",
       "1             The Legend of Zelda: Ocarina of Time  Nintendo64         10   \n",
       "2             The Legend of Zelda: Ocarina of Time  Nintendo64         10   \n",
       "3             The Legend of Zelda: Ocarina of Time  Nintendo64         10   \n",
       "4             The Legend of Zelda: Ocarina of Time  Nintendo64         10   \n",
       "...                                            ...         ...        ...   \n",
       "283978  Etrian Odyssey Untold: The Millennium Girl         3DS          7   \n",
       "283979  Etrian Odyssey Untold: The Millennium Girl         3DS          0   \n",
       "283980  Etrian Odyssey Untold: The Millennium Girl         3DS          9   \n",
       "283981  Etrian Odyssey Untold: The Millennium Girl         3DS          8   \n",
       "283982  Etrian Odyssey Untold: The Millennium Girl         3DS          9   \n",
       "\n",
       "                                                  Comment       Username lang  \n",
       "0       Everything in OoT is so near at perfection, it...     SirCaestus   en  \n",
       "1       I won't bore you with what everyone is already...       Kaistlin   en  \n",
       "2       Anyone who gives the masterpiece below a 7 or ...         Jacody   en  \n",
       "3       I'm one of those people who think that this is...     doodlerman   en  \n",
       "4        This game is the highest rated game on Metacr...        StevenA   en  \n",
       "...                                                   ...            ...  ...  \n",
       "283978  Extremely similar to EO:4, which obviously isn...  RileyWRussell   en  \n",
       "283979  Typical overrated Atlus trash. A game i should...      TemplarGR   en  \n",
       "283980  While I find the story mode to have annoying c...        midipon   en  \n",
       "283981  Pretty good, but it certainly lacks the visual...         night4   en  \n",
       "283982  As my first game from the \"Etrian series\" i ha...        Balorer   en  \n",
       "\n",
       "[282201 rows x 6 columns]"
      ]
     },
     "execution_count": 8,
     "metadata": {},
     "output_type": "execute_result"
    }
   ],
   "source": [
    "df_comments"
   ]
  },
  {
   "cell_type": "code",
   "execution_count": 9,
   "metadata": {},
   "outputs": [
    {
     "data": {
      "text/plain": [
       "en       0.956648\n",
       "es       0.016595\n",
       "pt       0.006683\n",
       "ru       0.005464\n",
       "fr       0.002658\n",
       "de       0.001956\n",
       "it       0.001325\n",
       "da       0.000797\n",
       "af       0.000794\n",
       "so       0.000769\n",
       "tr       0.000734\n",
       "pl       0.000560\n",
       "no       0.000489\n",
       "tl       0.000415\n",
       "nl       0.000393\n",
       "error    0.000326\n",
       "ca       0.000322\n",
       "cs       0.000305\n",
       "ro       0.000262\n",
       "ja       0.000259\n",
       "hu       0.000259\n",
       "cy       0.000245\n",
       "et       0.000195\n",
       "id       0.000188\n",
       "ko       0.000174\n",
       "fi       0.000159\n",
       "sl       0.000145\n",
       "vi       0.000117\n",
       "hr       0.000106\n",
       "zh-cn    0.000106\n",
       "sv       0.000096\n",
       "sw       0.000085\n",
       "sq       0.000082\n",
       "fa       0.000057\n",
       "lt       0.000053\n",
       "sk       0.000043\n",
       "lv       0.000028\n",
       "el       0.000025\n",
       "uk       0.000021\n",
       "ar       0.000014\n",
       "bg       0.000011\n",
       "th       0.000011\n",
       "mk       0.000011\n",
       "he       0.000007\n",
       "zh-tw    0.000007\n",
       "ta       0.000004\n",
       "Name: lang, dtype: float64"
      ]
     },
     "execution_count": 9,
     "metadata": {},
     "output_type": "execute_result"
    }
   ],
   "source": [
    "df_comments['lang'].value_counts(normalize=True)"
   ]
  },
  {
   "cell_type": "markdown",
   "metadata": {},
   "source": [
    "# EXPORT"
   ]
  },
  {
   "cell_type": "code",
   "execution_count": 87,
   "metadata": {},
   "outputs": [
    {
     "data": {
      "text/plain": [
       "Index(['Title', 'Platform', 'Userscore', 'Comment', 'Username', 'lang'], dtype='object')"
      ]
     },
     "execution_count": 87,
     "metadata": {},
     "output_type": "execute_result"
    }
   ],
   "source": [
    "df_comments.columns"
   ]
  },
  {
   "cell_type": "code",
   "execution_count": 86,
   "metadata": {},
   "outputs": [
    {
     "data": {
      "text/plain": [
       "(282201, 6)"
      ]
     },
     "execution_count": 86,
     "metadata": {},
     "output_type": "execute_result"
    }
   ],
   "source": [
    "df_comments.shape"
   ]
  },
  {
   "cell_type": "markdown",
   "metadata": {},
   "source": [
    "- NLP"
   ]
  },
  {
   "cell_type": "code",
   "execution_count": 89,
   "metadata": {},
   "outputs": [],
   "source": [
    "col_sel = ['Title', 'Userscore', 'Comment', 'lang']\n",
    "df_comments_nlp = df_comments[col_sel]"
   ]
  },
  {
   "cell_type": "code",
   "execution_count": 90,
   "metadata": {},
   "outputs": [
    {
     "name": "stdout",
     "output_type": "stream",
     "text": [
      "shape before: (282201, 4)\n",
      "shape after removed non-english: (269967, 4)\n"
     ]
    }
   ],
   "source": [
    "print(f'shape before: {df_comments_nlp.shape}')\n",
    "df_comments_nlp = df_comments_nlp[df_comments_nlp['lang'] == 'en']\n",
    "print(f'shape after removed non-english: {df_comments_nlp.shape}')"
   ]
  },
  {
   "cell_type": "code",
   "execution_count": 91,
   "metadata": {},
   "outputs": [],
   "source": [
    "# replace userscore 0.0 with nan\n",
    "# assume 0.0 means not rated\n",
    "# this df is for NLP EDA and modeling, doesn't need missing values\n",
    "\n",
    "df_comments_nlp.loc[df_comments_nlp['Userscore'] == 0, 'Userscore'] = np.NAN\n"
   ]
  },
  {
   "cell_type": "code",
   "execution_count": 92,
   "metadata": {},
   "outputs": [
    {
     "name": "stdout",
     "output_type": "stream",
     "text": [
      "shape before: (269967, 4)\n",
      "shape after removed score 0.0: (249031, 4)\n"
     ]
    }
   ],
   "source": [
    "print(f'shape before: {df_comments_nlp.shape}')\n",
    "\n",
    "df_comments_nlp.drop_duplicates(inplace=True)\n",
    "df_comments_nlp.dropna(inplace=True)\n",
    "\n",
    "print(f'shape after removed score 0.0: {df_comments_nlp.shape}')"
   ]
  },
  {
   "cell_type": "code",
   "execution_count": 93,
   "metadata": {},
   "outputs": [],
   "source": [
    "df_comments_nlp.to_csv(r'processed_df\\metacritic_comments_nlp.csv', index = False)"
   ]
  },
  {
   "cell_type": "code",
   "execution_count": null,
   "metadata": {},
   "outputs": [],
   "source": []
  }
 ],
 "metadata": {
  "kernelspec": {
   "display_name": "Python 3.8.5 ('base')",
   "language": "python",
   "name": "python3"
  },
  "language_info": {
   "codemirror_mode": {
    "name": "ipython",
    "version": 3
   },
   "file_extension": ".py",
   "mimetype": "text/x-python",
   "name": "python",
   "nbconvert_exporter": "python",
   "pygments_lexer": "ipython3",
   "version": "3.8.5"
  },
  "orig_nbformat": 4,
  "vscode": {
   "interpreter": {
    "hash": "2e3ee667f1a52aa4a25a6b443492d19f02f85a3b3b8723528867a29f37ef28dc"
   }
  }
 },
 "nbformat": 4,
 "nbformat_minor": 2
}
