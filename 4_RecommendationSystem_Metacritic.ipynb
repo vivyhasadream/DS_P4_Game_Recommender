{
 "cells": [
  {
   "cell_type": "code",
   "execution_count": 105,
   "metadata": {},
   "outputs": [],
   "source": [
    "import pandas as pd\n",
    "import numpy as np\n",
    "from copy import deepcopy\n",
    "import seaborn as sns\n",
    "import matplotlib.pyplot as plt\n",
    "from sklearn.linear_model import Ridge\n",
    "from sklearn.model_selection import train_test_split\n",
    "from sklearn.preprocessing import StandardScaler\n",
    "from sklearn.pipeline import Pipeline\n",
    "from sklearn.metrics import mean_squared_error\n",
    "\n",
    "from surprise import Dataset, Reader\n",
    "from surprise import SVD\n",
    "from surprise import accuracy\n",
    "from surprise.model_selection import cross_validate, train_test_split\n",
    "from surprise.prediction_algorithms import knns\n",
    "from surprise.similarities import cosine, msd, pearson\n",
    "from surprise.model_selection import GridSearchCV\n",
    "from surprise.prediction_algorithms import KNNWithMeans, KNNBasic, KNNBaseline\n",
    "\n",
    "import time\n",
    "import pickle\n"
   ]
  },
  {
   "cell_type": "markdown",
   "metadata": {},
   "source": [
    "# import"
   ]
  },
  {
   "cell_type": "code",
   "execution_count": 2,
   "metadata": {},
   "outputs": [
    {
     "data": {
      "text/html": [
       "<div>\n",
       "<style scoped>\n",
       "    .dataframe tbody tr th:only-of-type {\n",
       "        vertical-align: middle;\n",
       "    }\n",
       "\n",
       "    .dataframe tbody tr th {\n",
       "        vertical-align: top;\n",
       "    }\n",
       "\n",
       "    .dataframe thead th {\n",
       "        text-align: right;\n",
       "    }\n",
       "</style>\n",
       "<table border=\"1\" class=\"dataframe\">\n",
       "  <thead>\n",
       "    <tr style=\"text-align: right;\">\n",
       "      <th></th>\n",
       "      <th>Username</th>\n",
       "      <th>Userscore</th>\n",
       "      <th>Title</th>\n",
       "      <th>Comment</th>\n",
       "    </tr>\n",
       "  </thead>\n",
       "  <tbody>\n",
       "    <tr>\n",
       "      <th>0</th>\n",
       "      <td>SirCaestus</td>\n",
       "      <td>10.0</td>\n",
       "      <td>The Legend of Zelda: Ocarina of Time</td>\n",
       "      <td>Everything in OoT is so near at perfection, it...</td>\n",
       "    </tr>\n",
       "    <tr>\n",
       "      <th>1</th>\n",
       "      <td>Kaistlin</td>\n",
       "      <td>10.0</td>\n",
       "      <td>The Legend of Zelda: Ocarina of Time</td>\n",
       "      <td>I won't bore you with what everyone is already...</td>\n",
       "    </tr>\n",
       "    <tr>\n",
       "      <th>2</th>\n",
       "      <td>Jacody</td>\n",
       "      <td>10.0</td>\n",
       "      <td>The Legend of Zelda: Ocarina of Time</td>\n",
       "      <td>Anyone who gives the masterpiece below a 7 or ...</td>\n",
       "    </tr>\n",
       "    <tr>\n",
       "      <th>3</th>\n",
       "      <td>doodlerman</td>\n",
       "      <td>10.0</td>\n",
       "      <td>The Legend of Zelda: Ocarina of Time</td>\n",
       "      <td>I'm one of those people who think that this is...</td>\n",
       "    </tr>\n",
       "    <tr>\n",
       "      <th>4</th>\n",
       "      <td>StevenA</td>\n",
       "      <td>10.0</td>\n",
       "      <td>The Legend of Zelda: Ocarina of Time</td>\n",
       "      <td>This game is the highest rated game on Metacr...</td>\n",
       "    </tr>\n",
       "    <tr>\n",
       "      <th>...</th>\n",
       "      <td>...</td>\n",
       "      <td>...</td>\n",
       "      <td>...</td>\n",
       "      <td>...</td>\n",
       "    </tr>\n",
       "    <tr>\n",
       "      <th>269962</th>\n",
       "      <td>RileyWRussell</td>\n",
       "      <td>7.0</td>\n",
       "      <td>Etrian Odyssey Untold: The Millennium Girl</td>\n",
       "      <td>Extremely similar to EO:4, which obviously isn...</td>\n",
       "    </tr>\n",
       "    <tr>\n",
       "      <th>269963</th>\n",
       "      <td>TemplarGR</td>\n",
       "      <td>NaN</td>\n",
       "      <td>Etrian Odyssey Untold: The Millennium Girl</td>\n",
       "      <td>Typical overrated Atlus trash. A game i should...</td>\n",
       "    </tr>\n",
       "    <tr>\n",
       "      <th>269964</th>\n",
       "      <td>midipon</td>\n",
       "      <td>9.0</td>\n",
       "      <td>Etrian Odyssey Untold: The Millennium Girl</td>\n",
       "      <td>While I find the story mode to have annoying c...</td>\n",
       "    </tr>\n",
       "    <tr>\n",
       "      <th>269965</th>\n",
       "      <td>night4</td>\n",
       "      <td>8.0</td>\n",
       "      <td>Etrian Odyssey Untold: The Millennium Girl</td>\n",
       "      <td>Pretty good, but it certainly lacks the visual...</td>\n",
       "    </tr>\n",
       "    <tr>\n",
       "      <th>269966</th>\n",
       "      <td>Balorer</td>\n",
       "      <td>9.0</td>\n",
       "      <td>Etrian Odyssey Untold: The Millennium Girl</td>\n",
       "      <td>As my first game from the \"Etrian series\" i ha...</td>\n",
       "    </tr>\n",
       "  </tbody>\n",
       "</table>\n",
       "<p>269967 rows × 4 columns</p>\n",
       "</div>"
      ],
      "text/plain": [
       "             Username  Userscore                                       Title  \\\n",
       "0          SirCaestus       10.0        The Legend of Zelda: Ocarina of Time   \n",
       "1            Kaistlin       10.0        The Legend of Zelda: Ocarina of Time   \n",
       "2              Jacody       10.0        The Legend of Zelda: Ocarina of Time   \n",
       "3          doodlerman       10.0        The Legend of Zelda: Ocarina of Time   \n",
       "4             StevenA       10.0        The Legend of Zelda: Ocarina of Time   \n",
       "...               ...        ...                                         ...   \n",
       "269962  RileyWRussell        7.0  Etrian Odyssey Untold: The Millennium Girl   \n",
       "269963      TemplarGR        NaN  Etrian Odyssey Untold: The Millennium Girl   \n",
       "269964        midipon        9.0  Etrian Odyssey Untold: The Millennium Girl   \n",
       "269965         night4        8.0  Etrian Odyssey Untold: The Millennium Girl   \n",
       "269966        Balorer        9.0  Etrian Odyssey Untold: The Millennium Girl   \n",
       "\n",
       "                                                  Comment  \n",
       "0       Everything in OoT is so near at perfection, it...  \n",
       "1       I won't bore you with what everyone is already...  \n",
       "2       Anyone who gives the masterpiece below a 7 or ...  \n",
       "3       I'm one of those people who think that this is...  \n",
       "4        This game is the highest rated game on Metacr...  \n",
       "...                                                   ...  \n",
       "269962  Extremely similar to EO:4, which obviously isn...  \n",
       "269963  Typical overrated Atlus trash. A game i should...  \n",
       "269964  While I find the story mode to have annoying c...  \n",
       "269965  Pretty good, but it certainly lacks the visual...  \n",
       "269966  As my first game from the \"Etrian series\" i ha...  \n",
       "\n",
       "[269967 rows x 4 columns]"
      ]
     },
     "execution_count": 2,
     "metadata": {},
     "output_type": "execute_result"
    }
   ],
   "source": [
    "df = pd.read_csv('processed_remsy\\metacritic_comments_remsy.csv')\n",
    "df"
   ]
  },
  {
   "cell_type": "code",
   "execution_count": 60,
   "metadata": {},
   "outputs": [],
   "source": [
    "df1 = df[df['Userscore'].notna() == True]"
   ]
  },
  {
   "cell_type": "code",
   "execution_count": 61,
   "metadata": {},
   "outputs": [
    {
     "data": {
      "text/plain": [
       "(250825, 4)"
      ]
     },
     "execution_count": 61,
     "metadata": {},
     "output_type": "execute_result"
    }
   ],
   "source": [
    "df1.shape"
   ]
  },
  {
   "cell_type": "code",
   "execution_count": 58,
   "metadata": {},
   "outputs": [
    {
     "data": {
      "text/html": [
       "<div>\n",
       "<style scoped>\n",
       "    .dataframe tbody tr th:only-of-type {\n",
       "        vertical-align: middle;\n",
       "    }\n",
       "\n",
       "    .dataframe tbody tr th {\n",
       "        vertical-align: top;\n",
       "    }\n",
       "\n",
       "    .dataframe thead tr th {\n",
       "        text-align: left;\n",
       "    }\n",
       "\n",
       "    .dataframe thead tr:last-of-type th {\n",
       "        text-align: right;\n",
       "    }\n",
       "</style>\n",
       "<table border=\"1\" class=\"dataframe\">\n",
       "  <thead>\n",
       "    <tr>\n",
       "      <th></th>\n",
       "      <th colspan=\"21\" halign=\"left\">Userscore</th>\n",
       "    </tr>\n",
       "    <tr>\n",
       "      <th>Title</th>\n",
       "      <th>'Splosion Man</th>\n",
       "      <th>007: The World is Not Enough</th>\n",
       "      <th>2010 FIFA World Cup South Africa</th>\n",
       "      <th>3D After Burner II</th>\n",
       "      <th>3D Gunstar Heroes</th>\n",
       "      <th>3D Out Run</th>\n",
       "      <th>3D Sonic the Hedgehog 2</th>\n",
       "      <th>3D Streets of Rage II</th>\n",
       "      <th>80 Days (2015)</th>\n",
       "      <th>ABZU</th>\n",
       "      <th>...</th>\n",
       "      <th>Zeus: Master of Olympus</th>\n",
       "      <th>Zombie Night Terror</th>\n",
       "      <th>Zone of the Enders: The 2nd Runner</th>\n",
       "      <th>de Blob</th>\n",
       "      <th>echochrome</th>\n",
       "      <th>escapeVektor: Chapter 1</th>\n",
       "      <th>flower</th>\n",
       "      <th>ilomilo</th>\n",
       "      <th>inFamous</th>\n",
       "      <th>inFamous 2</th>\n",
       "    </tr>\n",
       "    <tr>\n",
       "      <th>Username</th>\n",
       "      <th></th>\n",
       "      <th></th>\n",
       "      <th></th>\n",
       "      <th></th>\n",
       "      <th></th>\n",
       "      <th></th>\n",
       "      <th></th>\n",
       "      <th></th>\n",
       "      <th></th>\n",
       "      <th></th>\n",
       "      <th></th>\n",
       "      <th></th>\n",
       "      <th></th>\n",
       "      <th></th>\n",
       "      <th></th>\n",
       "      <th></th>\n",
       "      <th></th>\n",
       "      <th></th>\n",
       "      <th></th>\n",
       "      <th></th>\n",
       "      <th></th>\n",
       "    </tr>\n",
       "  </thead>\n",
       "  <tbody>\n",
       "    <tr>\n",
       "      <th>\"Harv'sNoBroofMine\"Smith</th>\n",
       "      <td>NaN</td>\n",
       "      <td>NaN</td>\n",
       "      <td>NaN</td>\n",
       "      <td>NaN</td>\n",
       "      <td>NaN</td>\n",
       "      <td>NaN</td>\n",
       "      <td>NaN</td>\n",
       "      <td>NaN</td>\n",
       "      <td>NaN</td>\n",
       "      <td>NaN</td>\n",
       "      <td>...</td>\n",
       "      <td>NaN</td>\n",
       "      <td>NaN</td>\n",
       "      <td>NaN</td>\n",
       "      <td>NaN</td>\n",
       "      <td>NaN</td>\n",
       "      <td>NaN</td>\n",
       "      <td>NaN</td>\n",
       "      <td>NaN</td>\n",
       "      <td>NaN</td>\n",
       "      <td>NaN</td>\n",
       "    </tr>\n",
       "    <tr>\n",
       "      <th>$ERIC$</th>\n",
       "      <td>NaN</td>\n",
       "      <td>NaN</td>\n",
       "      <td>NaN</td>\n",
       "      <td>NaN</td>\n",
       "      <td>NaN</td>\n",
       "      <td>NaN</td>\n",
       "      <td>NaN</td>\n",
       "      <td>NaN</td>\n",
       "      <td>NaN</td>\n",
       "      <td>NaN</td>\n",
       "      <td>...</td>\n",
       "      <td>NaN</td>\n",
       "      <td>NaN</td>\n",
       "      <td>NaN</td>\n",
       "      <td>NaN</td>\n",
       "      <td>NaN</td>\n",
       "      <td>NaN</td>\n",
       "      <td>NaN</td>\n",
       "      <td>NaN</td>\n",
       "      <td>NaN</td>\n",
       "      <td>NaN</td>\n",
       "    </tr>\n",
       "    <tr>\n",
       "      <th>$GMoney$GIrdham</th>\n",
       "      <td>NaN</td>\n",
       "      <td>NaN</td>\n",
       "      <td>NaN</td>\n",
       "      <td>NaN</td>\n",
       "      <td>NaN</td>\n",
       "      <td>NaN</td>\n",
       "      <td>NaN</td>\n",
       "      <td>NaN</td>\n",
       "      <td>NaN</td>\n",
       "      <td>NaN</td>\n",
       "      <td>...</td>\n",
       "      <td>NaN</td>\n",
       "      <td>NaN</td>\n",
       "      <td>NaN</td>\n",
       "      <td>NaN</td>\n",
       "      <td>NaN</td>\n",
       "      <td>NaN</td>\n",
       "      <td>NaN</td>\n",
       "      <td>NaN</td>\n",
       "      <td>NaN</td>\n",
       "      <td>NaN</td>\n",
       "    </tr>\n",
       "    <tr>\n",
       "      <th>$MOB$-DevilDoggSince96</th>\n",
       "      <td>NaN</td>\n",
       "      <td>NaN</td>\n",
       "      <td>NaN</td>\n",
       "      <td>NaN</td>\n",
       "      <td>NaN</td>\n",
       "      <td>NaN</td>\n",
       "      <td>NaN</td>\n",
       "      <td>NaN</td>\n",
       "      <td>NaN</td>\n",
       "      <td>NaN</td>\n",
       "      <td>...</td>\n",
       "      <td>NaN</td>\n",
       "      <td>NaN</td>\n",
       "      <td>NaN</td>\n",
       "      <td>NaN</td>\n",
       "      <td>NaN</td>\n",
       "      <td>NaN</td>\n",
       "      <td>NaN</td>\n",
       "      <td>NaN</td>\n",
       "      <td>NaN</td>\n",
       "      <td>NaN</td>\n",
       "    </tr>\n",
       "    <tr>\n",
       "      <th>'Airstrike'I</th>\n",
       "      <td>NaN</td>\n",
       "      <td>NaN</td>\n",
       "      <td>NaN</td>\n",
       "      <td>NaN</td>\n",
       "      <td>NaN</td>\n",
       "      <td>NaN</td>\n",
       "      <td>NaN</td>\n",
       "      <td>NaN</td>\n",
       "      <td>NaN</td>\n",
       "      <td>NaN</td>\n",
       "      <td>...</td>\n",
       "      <td>NaN</td>\n",
       "      <td>NaN</td>\n",
       "      <td>NaN</td>\n",
       "      <td>NaN</td>\n",
       "      <td>NaN</td>\n",
       "      <td>NaN</td>\n",
       "      <td>NaN</td>\n",
       "      <td>NaN</td>\n",
       "      <td>NaN</td>\n",
       "      <td>NaN</td>\n",
       "    </tr>\n",
       "  </tbody>\n",
       "</table>\n",
       "<p>5 rows × 2323 columns</p>\n",
       "</div>"
      ],
      "text/plain": [
       "                             Userscore                               \\\n",
       "Title                    'Splosion Man 007: The World is Not Enough   \n",
       "Username                                                              \n",
       "\"Harv'sNoBroofMine\"Smith           NaN                          NaN   \n",
       "$ERIC$                             NaN                          NaN   \n",
       "$GMoney$GIrdham                    NaN                          NaN   \n",
       "$MOB$-DevilDoggSince96             NaN                          NaN   \n",
       "'Airstrike'I                       NaN                          NaN   \n",
       "\n",
       "                                                                              \\\n",
       "Title                    2010 FIFA World Cup South Africa 3D After Burner II   \n",
       "Username                                                                       \n",
       "\"Harv'sNoBroofMine\"Smith                              NaN                NaN   \n",
       "$ERIC$                                                NaN                NaN   \n",
       "$GMoney$GIrdham                                       NaN                NaN   \n",
       "$MOB$-DevilDoggSince96                                NaN                NaN   \n",
       "'Airstrike'I                                          NaN                NaN   \n",
       "\n",
       "                                                                               \\\n",
       "Title                    3D Gunstar Heroes 3D Out Run 3D Sonic the Hedgehog 2   \n",
       "Username                                                                        \n",
       "\"Harv'sNoBroofMine\"Smith               NaN        NaN                     NaN   \n",
       "$ERIC$                                 NaN        NaN                     NaN   \n",
       "$GMoney$GIrdham                        NaN        NaN                     NaN   \n",
       "$MOB$-DevilDoggSince96                 NaN        NaN                     NaN   \n",
       "'Airstrike'I                           NaN        NaN                     NaN   \n",
       "\n",
       "                                                                    ...  \\\n",
       "Title                    3D Streets of Rage II 80 Days (2015) ABZU  ...   \n",
       "Username                                                            ...   \n",
       "\"Harv'sNoBroofMine\"Smith                   NaN            NaN  NaN  ...   \n",
       "$ERIC$                                     NaN            NaN  NaN  ...   \n",
       "$GMoney$GIrdham                            NaN            NaN  NaN  ...   \n",
       "$MOB$-DevilDoggSince96                     NaN            NaN  NaN  ...   \n",
       "'Airstrike'I                               NaN            NaN  NaN  ...   \n",
       "\n",
       "                                                                      \\\n",
       "Title                    Zeus: Master of Olympus Zombie Night Terror   \n",
       "Username                                                               \n",
       "\"Harv'sNoBroofMine\"Smith                     NaN                 NaN   \n",
       "$ERIC$                                       NaN                 NaN   \n",
       "$GMoney$GIrdham                              NaN                 NaN   \n",
       "$MOB$-DevilDoggSince96                       NaN                 NaN   \n",
       "'Airstrike'I                                 NaN                 NaN   \n",
       "\n",
       "                                                                     \\\n",
       "Title                    Zone of the Enders: The 2nd Runner de Blob   \n",
       "Username                                                              \n",
       "\"Harv'sNoBroofMine\"Smith                                NaN     NaN   \n",
       "$ERIC$                                                  NaN     NaN   \n",
       "$GMoney$GIrdham                                         NaN     NaN   \n",
       "$MOB$-DevilDoggSince96                                  NaN     NaN   \n",
       "'Airstrike'I                                            NaN     NaN   \n",
       "\n",
       "                                                                            \\\n",
       "Title                    echochrome escapeVektor: Chapter 1 flower ilomilo   \n",
       "Username                                                                     \n",
       "\"Harv'sNoBroofMine\"Smith        NaN                     NaN    NaN     NaN   \n",
       "$ERIC$                          NaN                     NaN    NaN     NaN   \n",
       "$GMoney$GIrdham                 NaN                     NaN    NaN     NaN   \n",
       "$MOB$-DevilDoggSince96          NaN                     NaN    NaN     NaN   \n",
       "'Airstrike'I                    NaN                     NaN    NaN     NaN   \n",
       "\n",
       "                                              \n",
       "Title                    inFamous inFamous 2  \n",
       "Username                                      \n",
       "\"Harv'sNoBroofMine\"Smith      NaN        NaN  \n",
       "$ERIC$                        NaN        NaN  \n",
       "$GMoney$GIrdham               NaN        NaN  \n",
       "$MOB$-DevilDoggSince96        NaN        NaN  \n",
       "'Airstrike'I                  NaN        NaN  \n",
       "\n",
       "[5 rows x 2323 columns]"
      ]
     },
     "execution_count": 58,
     "metadata": {},
     "output_type": "execute_result"
    }
   ],
   "source": [
    "user_rating_matrix = df.pivot_table(index=['Username'], columns=['Title'], values=['Userscore'], aggfunc='mean')\n",
    "user_rating_matrix.head()"
   ]
  },
  {
   "cell_type": "code",
   "execution_count": 59,
   "metadata": {},
   "outputs": [
    {
     "name": "stdout",
     "output_type": "stream",
     "text": [
      "<class 'pandas.core.frame.DataFrame'>\n",
      "Index: 117810 entries, \"Harv'sNoBroofMine\"Smith to ÜbermenschR\n",
      "Columns: 2323 entries, ('Userscore', \"'Splosion Man\") to ('Userscore', 'inFamous 2')\n",
      "dtypes: float64(2323)\n",
      "memory usage: 2.0+ GB\n"
     ]
    }
   ],
   "source": [
    "user_rating_matrix.info()"
   ]
  },
  {
   "cell_type": "markdown",
   "metadata": {},
   "source": [
    "# Getting the data ready for Surprise"
   ]
  },
  {
   "cell_type": "code",
   "execution_count": 62,
   "metadata": {},
   "outputs": [],
   "source": [
    "data = df1[['Username', 'Title', 'Userscore']]\n",
    "\n",
    "reader = Reader(line_format='user item rating', sep=',')\n",
    "data = Dataset.load_from_df(data, reader=reader)"
   ]
  },
  {
   "cell_type": "code",
   "execution_count": 63,
   "metadata": {},
   "outputs": [],
   "source": [
    "# train test split\n",
    "\n",
    "trainset, testset = train_test_split(data, test_size=.2, random_state = 2333)"
   ]
  },
  {
   "cell_type": "code",
   "execution_count": 64,
   "metadata": {},
   "outputs": [
    {
     "name": "stdout",
     "output_type": "stream",
     "text": [
      "Type trainset : <class 'surprise.trainset.Trainset'> \n",
      "\n",
      "Type testset : <class 'list'>\n"
     ]
    }
   ],
   "source": [
    "print('Type trainset :',type(trainset),'\\n')\n",
    "print('Type testset :',type(testset))"
   ]
  },
  {
   "cell_type": "code",
   "execution_count": 65,
   "metadata": {},
   "outputs": [
    {
     "name": "stdout",
     "output_type": "stream",
     "text": [
      "50165\n",
      "('Naessarne', 'Divinity: Original Sin II', 8.0)\n"
     ]
    }
   ],
   "source": [
    "print(len(testset))\n",
    "print(testset[0])"
   ]
  },
  {
   "cell_type": "code",
   "execution_count": 50,
   "metadata": {},
   "outputs": [
    {
     "name": "stdout",
     "output_type": "stream",
     "text": [
      "Number of users:  109730 \n",
      "\n",
      "Number of items:  2309 \n",
      "\n"
     ]
    }
   ],
   "source": [
    "print('Number of users: ', trainset.n_users, '\\n')\n",
    "print('Number of items: ', trainset.n_items, '\\n')"
   ]
  },
  {
   "cell_type": "markdown",
   "metadata": {},
   "source": [
    "KNN"
   ]
  },
  {
   "cell_type": "markdown",
   "metadata": {},
   "source": [
    "- baseline"
   ]
  },
  {
   "cell_type": "code",
   "execution_count": 66,
   "metadata": {},
   "outputs": [],
   "source": [
    "sim_cos = {'name':'cosine', 'user_based':False}"
   ]
  },
  {
   "cell_type": "code",
   "execution_count": 67,
   "metadata": {},
   "outputs": [
    {
     "name": "stdout",
     "output_type": "stream",
     "text": [
      "Computing the cosine similarity matrix...\n",
      "Done computing similarity matrix.\n"
     ]
    },
    {
     "data": {
      "text/plain": [
       "<surprise.prediction_algorithms.knns.KNNBasic at 0x1663954a280>"
      ]
     },
     "execution_count": 67,
     "metadata": {},
     "output_type": "execute_result"
    }
   ],
   "source": [
    "basic = knns.KNNBasic(sim_options=sim_cos)\n",
    "basic.fit(trainset)"
   ]
  },
  {
   "cell_type": "code",
   "execution_count": 68,
   "metadata": {},
   "outputs": [
    {
     "data": {
      "text/plain": [
       "array([[1., 0., 0., ..., 0., 1., 0.],\n",
       "       [0., 1., 0., ..., 0., 0., 0.],\n",
       "       [0., 0., 1., ..., 0., 0., 0.],\n",
       "       ...,\n",
       "       [0., 0., 0., ..., 1., 0., 0.],\n",
       "       [1., 0., 0., ..., 0., 1., 0.],\n",
       "       [0., 0., 0., ..., 0., 0., 1.]])"
      ]
     },
     "execution_count": 68,
     "metadata": {},
     "output_type": "execute_result"
    }
   ],
   "source": [
    "basic.sim"
   ]
  },
  {
   "cell_type": "code",
   "execution_count": 69,
   "metadata": {},
   "outputs": [],
   "source": [
    "predictions = basic.test(testset)"
   ]
  },
  {
   "cell_type": "code",
   "execution_count": 70,
   "metadata": {},
   "outputs": [
    {
     "name": "stdout",
     "output_type": "stream",
     "text": [
      "RMSE: 4.0359\n",
      "4.035938571338445\n"
     ]
    }
   ],
   "source": [
    "print(accuracy.rmse(predictions))"
   ]
  },
  {
   "cell_type": "markdown",
   "metadata": {},
   "source": [
    "# SVD"
   ]
  },
  {
   "cell_type": "markdown",
   "metadata": {},
   "source": [
    "- baseline"
   ]
  },
  {
   "cell_type": "code",
   "execution_count": 111,
   "metadata": {},
   "outputs": [
    {
     "name": "stdout",
     "output_type": "stream",
     "text": [
      "RMSE: 3.9951\n"
     ]
    },
    {
     "data": {
      "text/plain": [
       "3.995106898826457"
      ]
     },
     "execution_count": 111,
     "metadata": {},
     "output_type": "execute_result"
    }
   ],
   "source": [
    "svd = SVD()\n",
    "svd.fit(trainset)\n",
    "\n",
    "predictions = svd.test(testset)\n",
    "accuracy.rmse(predictions)"
   ]
  },
  {
   "cell_type": "markdown",
   "metadata": {},
   "source": [
    "- GridSearch"
   ]
  },
  {
   "cell_type": "code",
   "execution_count": 107,
   "metadata": {},
   "outputs": [
    {
     "name": "stdout",
     "output_type": "stream",
     "text": [
      "time spent 20.846306324005127\n"
     ]
    }
   ],
   "source": [
    "start = time.time()\n",
    "\n",
    "params = {'n_factors': [20, 50, 100], 'reg_all': [0.02, 0.05, 0.1]}\n",
    "g_s_svd = GridSearchCV(SVD, param_grid=params, n_jobs=-1, cv=5)\n",
    "g_s_svd.fit(data)\n",
    "\n",
    "end = time.time()\n",
    "print(f'time spent {end-start}')"
   ]
  },
  {
   "cell_type": "code",
   "execution_count": 108,
   "metadata": {},
   "outputs": [
    {
     "name": "stdout",
     "output_type": "stream",
     "text": [
      "{'rmse': 3.9880269156619725, 'mae': 3.7042668679363695}\n",
      "{'rmse': {'n_factors': 100, 'reg_all': 0.1}, 'mae': {'n_factors': 100, 'reg_all': 0.02}}\n"
     ]
    }
   ],
   "source": [
    "print(g_s_svd.best_score)\n",
    "print(g_s_svd.best_params)\n",
    "\n",
    "# slightly better"
   ]
  },
  {
   "cell_type": "markdown",
   "metadata": {},
   "source": [
    "# use sentiment analyzer to impute nan score"
   ]
  },
  {
   "cell_type": "code",
   "execution_count": 115,
   "metadata": {},
   "outputs": [
    {
     "data": {
      "text/html": [
       "<div>\n",
       "<style scoped>\n",
       "    .dataframe tbody tr th:only-of-type {\n",
       "        vertical-align: middle;\n",
       "    }\n",
       "\n",
       "    .dataframe tbody tr th {\n",
       "        vertical-align: top;\n",
       "    }\n",
       "\n",
       "    .dataframe thead th {\n",
       "        text-align: right;\n",
       "    }\n",
       "</style>\n",
       "<table border=\"1\" class=\"dataframe\">\n",
       "  <thead>\n",
       "    <tr style=\"text-align: right;\">\n",
       "      <th></th>\n",
       "      <th>Title</th>\n",
       "      <th>Userscore</th>\n",
       "      <th>Comment</th>\n",
       "      <th>lang</th>\n",
       "    </tr>\n",
       "  </thead>\n",
       "  <tbody>\n",
       "    <tr>\n",
       "      <th>0</th>\n",
       "      <td>Star Wars: Battlefront II</td>\n",
       "      <td>2.0</td>\n",
       "      <td>there nothing quite gun entire platoon clone d...</td>\n",
       "      <td>en</td>\n",
       "    </tr>\n",
       "    <tr>\n",
       "      <th>1</th>\n",
       "      <td>The Witcher 3: Wild Hunt</td>\n",
       "      <td>10.0</td>\n",
       "      <td>game absolutely gorgeous run steady gtx hairwo...</td>\n",
       "      <td>en</td>\n",
       "    </tr>\n",
       "    <tr>\n",
       "      <th>2</th>\n",
       "      <td>This War of Mine</td>\n",
       "      <td>10.0</td>\n",
       "      <td>really good game didnt expect first survival g...</td>\n",
       "      <td>en</td>\n",
       "    </tr>\n",
       "    <tr>\n",
       "      <th>3</th>\n",
       "      <td>Golden Sun</td>\n",
       "      <td>10.0</td>\n",
       "      <td>people eagerly anticipate initial release game...</td>\n",
       "      <td>en</td>\n",
       "    </tr>\n",
       "    <tr>\n",
       "      <th>4</th>\n",
       "      <td>Assassin's Creed IV: Black Flag</td>\n",
       "      <td>8.0</td>\n",
       "      <td>best assassin creed far open world fresh missi...</td>\n",
       "      <td>en</td>\n",
       "    </tr>\n",
       "    <tr>\n",
       "      <th>...</th>\n",
       "      <td>...</td>\n",
       "      <td>...</td>\n",
       "      <td>...</td>\n",
       "      <td>...</td>\n",
       "    </tr>\n",
       "    <tr>\n",
       "      <th>249026</th>\n",
       "      <td>Diablo III</td>\n",
       "      <td>1.0</td>\n",
       "      <td>sheer gall blizzard breathtaking folk america ...</td>\n",
       "      <td>en</td>\n",
       "    </tr>\n",
       "    <tr>\n",
       "      <th>249027</th>\n",
       "      <td>Grand Theft Auto V</td>\n",
       "      <td>10.0</td>\n",
       "      <td>best gta yet start right action keep go get wa...</td>\n",
       "      <td>en</td>\n",
       "    </tr>\n",
       "    <tr>\n",
       "      <th>249028</th>\n",
       "      <td>Gears of War 3</td>\n",
       "      <td>10.0</td>\n",
       "      <td>back gear announce trailer come nothing new re...</td>\n",
       "      <td>en</td>\n",
       "    </tr>\n",
       "    <tr>\n",
       "      <th>249029</th>\n",
       "      <td>The Last of Us: Left Behind</td>\n",
       "      <td>6.0</td>\n",
       "      <td>story actually quite impact well put together ...</td>\n",
       "      <td>en</td>\n",
       "    </tr>\n",
       "    <tr>\n",
       "      <th>249030</th>\n",
       "      <td>Hellblade: Senua's Sacrifice</td>\n",
       "      <td>10.0</td>\n",
       "      <td>amazing game true masterpiece art embed inside...</td>\n",
       "      <td>en</td>\n",
       "    </tr>\n",
       "  </tbody>\n",
       "</table>\n",
       "<p>249031 rows × 4 columns</p>\n",
       "</div>"
      ],
      "text/plain": [
       "                                  Title  Userscore  \\\n",
       "0             Star Wars: Battlefront II        2.0   \n",
       "1              The Witcher 3: Wild Hunt       10.0   \n",
       "2                      This War of Mine       10.0   \n",
       "3                            Golden Sun       10.0   \n",
       "4       Assassin's Creed IV: Black Flag        8.0   \n",
       "...                                 ...        ...   \n",
       "249026                       Diablo III        1.0   \n",
       "249027               Grand Theft Auto V       10.0   \n",
       "249028                   Gears of War 3       10.0   \n",
       "249029      The Last of Us: Left Behind        6.0   \n",
       "249030     Hellblade: Senua's Sacrifice       10.0   \n",
       "\n",
       "                                                  Comment lang  \n",
       "0       there nothing quite gun entire platoon clone d...   en  \n",
       "1       game absolutely gorgeous run steady gtx hairwo...   en  \n",
       "2       really good game didnt expect first survival g...   en  \n",
       "3       people eagerly anticipate initial release game...   en  \n",
       "4       best assassin creed far open world fresh missi...   en  \n",
       "...                                                   ...  ...  \n",
       "249026  sheer gall blizzard breathtaking folk america ...   en  \n",
       "249027  best gta yet start right action keep go get wa...   en  \n",
       "249028  back gear announce trailer come nothing new re...   en  \n",
       "249029  story actually quite impact well put together ...   en  \n",
       "249030  amazing game true masterpiece art embed inside...   en  \n",
       "\n",
       "[249031 rows x 4 columns]"
      ]
     },
     "execution_count": 115,
     "metadata": {},
     "output_type": "execute_result"
    }
   ],
   "source": [
    "dfdd = pd.read_csv('processed_df\\preprocessed_nlp_100p.csv')\n",
    "dfdd"
   ]
  },
  {
   "cell_type": "code",
   "execution_count": 116,
   "metadata": {},
   "outputs": [
    {
     "data": {
      "text/plain": [
       "array([ 2., 10.,  8.,  9.,  3.,  7.,  5.,  1.,  6.,  4.])"
      ]
     },
     "execution_count": 116,
     "metadata": {},
     "output_type": "execute_result"
    }
   ],
   "source": [
    "dfdd.Userscore.unique()"
   ]
  },
  {
   "cell_type": "code",
   "execution_count": null,
   "metadata": {},
   "outputs": [],
   "source": []
  }
 ],
 "metadata": {
  "kernelspec": {
   "display_name": "Python 3.8.5 ('base')",
   "language": "python",
   "name": "python3"
  },
  "language_info": {
   "codemirror_mode": {
    "name": "ipython",
    "version": 3
   },
   "file_extension": ".py",
   "mimetype": "text/x-python",
   "name": "python",
   "nbconvert_exporter": "python",
   "pygments_lexer": "ipython3",
   "version": "3.8.5"
  },
  "orig_nbformat": 4,
  "vscode": {
   "interpreter": {
    "hash": "2e3ee667f1a52aa4a25a6b443492d19f02f85a3b3b8723528867a29f37ef28dc"
   }
  }
 },
 "nbformat": 4,
 "nbformat_minor": 2
}
